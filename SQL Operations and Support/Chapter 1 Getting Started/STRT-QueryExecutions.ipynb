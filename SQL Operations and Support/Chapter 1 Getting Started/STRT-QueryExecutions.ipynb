{
    "metadata": {
        "kernelspec": {
            "name": "SQL",
            "display_name": "SQL",
            "language": "sql"
        },
        "language_info": {
            "name": "sql",
            "version": ""
        }
    },
    "nbformat_minor": 2,
    "nbformat": 4,
    "cells": [
        {
            "cell_type": "markdown",
            "source": [
                "<span style=\"display: block; text-align: center;\">![CH1-Logo-sql.png](./Media/CH1-Logo-sql.png)"
            ],
            "metadata": {
                "azdata_cell_guid": "b2464540-aba7-417f-89ae-3b89f142c90f"
            },
            "attachments": {}
        },
        {
            "cell_type": "markdown",
            "source": [
                "# Query Executions\n",
                "\n",
                "Just like in SQL Server Management Studio, the execution of statements, and Stored Procedures we are able to:\n",
                "\n",
                "- Troubleshoot performance issues with statements using XEvent Profilier (Command Palette - Profilier - New Profiler)\n",
                "- Result Set Random Copy to Excel Review Execution Plans\n",
                "    - Actual (Command Palette - Run Current query with actual plan)\n",
                "    - Estimated (Query Window - explain)\n",
                "- Change Result set output (Query Window)\n",
                "    - Save as CSV\n",
                "    - Save as Excel\n",
                "    - Save as JSON\n",
                "    - Save as XML\n",
                "    - Save as Chart\n",
                "\n",
                "1. Select View \\> Command Pallete an in the search window type: Profiler and select it \"Launch Profiler\".  Note Profiler in Azure Data Studio is an \"Extension\" and we I describe using extensions in Chapter 2\n",
                "2. d"
            ],
            "metadata": {
                "azdata_cell_guid": "92a81a61-a885-4270-abeb-084ade2ec174"
            },
            "attachments": {}
        },
        {
            "cell_type": "code",
            "source": [
                "SELECT CustomerID, Name, Location, Email \r\n",
                "FROM dbo.Customers\r\n",
                "WHERE Location != 'France'\r\n",
                "ORDER BY CustomerID DESC"
            ],
            "metadata": {
                "azdata_cell_guid": "bf53969f-b323-43e6-a446-00adc70d0a30",
                "tags": [
                    "hide_input"
                ]
            },
            "outputs": [
                {
                    "output_type": "display_data",
                    "data": {
                        "text/html": "(4 rows affected)"
                    },
                    "metadata": {}
                },
                {
                    "output_type": "display_data",
                    "data": {
                        "text/html": "Total execution time: 00:00:00.005"
                    },
                    "metadata": {}
                },
                {
                    "output_type": "execute_result",
                    "metadata": {},
                    "execution_count": 3,
                    "data": {
                        "application/vnd.dataresource+json": {
                            "schema": {
                                "fields": [
                                    {
                                        "name": "CustomerID"
                                    },
                                    {
                                        "name": "Name"
                                    },
                                    {
                                        "name": "Location"
                                    },
                                    {
                                        "name": "Email"
                                    }
                                ]
                            },
                            "data": [
                                {
                                    "0": "4",
                                    "1": "Janet",
                                    "2": "United States",
                                    "3": "janet1@adventure-works.com"
                                },
                                {
                                    "0": "3",
                                    "1": "Donna",
                                    "2": "Germany",
                                    "3": "donna0@adventure-works.com"
                                },
                                {
                                    "0": "2",
                                    "1": "Keith",
                                    "2": "India",
                                    "3": "keith0@adventure-works.com"
                                },
                                {
                                    "0": "1",
                                    "1": "Orlando",
                                    "2": "Australia",
                                    "3": ""
                                }
                            ]
                        },
                        "text/html": [
                            "<table>",
                            "<tr><th>CustomerID</th><th>Name</th><th>Location</th><th>Email</th></tr>",
                            "<tr><td>4</td><td>Janet</td><td>United States</td><td>janet1@adventure-works.com</td></tr>",
                            "<tr><td>3</td><td>Donna</td><td>Germany</td><td>donna0@adventure-works.com</td></tr>",
                            "<tr><td>2</td><td>Keith</td><td>India</td><td>keith0@adventure-works.com</td></tr>",
                            "<tr><td>1</td><td>Orlando</td><td>Australia</td><td></td></tr>",
                            "</table>"
                        ]
                    }
                }
            ],
            "execution_count": 3
        }
    ]
}