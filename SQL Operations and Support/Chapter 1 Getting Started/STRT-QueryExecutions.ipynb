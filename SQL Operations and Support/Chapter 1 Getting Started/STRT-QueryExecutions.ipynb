{
    "metadata": {
        "kernelspec": {
            "name": "SQL",
            "display_name": "SQL",
            "language": "sql"
        },
        "language_info": {
            "name": "sql",
            "version": ""
        }
    },
    "nbformat_minor": 2,
    "nbformat": 4,
    "cells": [
        {
            "cell_type": "markdown",
            "source": [
                "<span style=\"display: block; text-align: center;\">![CH1-Logo-sql.png](./Media/CH1-Logo-sql.png)</span>"
            ],
            "metadata": {
                "azdata_cell_guid": "b2464540-aba7-417f-89ae-3b89f142c90f"
            },
            "attachments": {}
        },
        {
            "cell_type": "markdown",
            "source": [
                "# Query Executions\n",
                "\n",
                "Just like in SQL Server Management Studio, the execution of statements, and Stored Procedures we are able to:\n",
                "\n",
                "- Troubleshoot performance issues with statements using XEvent Profilier (Command Palette - Profilier - New Profiler)\n",
                "- Result Set Random Copy to Excel Review Execution Plans\n",
                "    - Actual (Command Palette - Run Current query with actual plan)\n",
                "    - Estimated (Query Window - explain)\n",
                "- Change Result set output (Query Window)\n",
                "    - Save as CSV\n",
                "    - Save as Excel\n",
                "    - Save as JSON\n",
                "    - Save as XML\n",
                "    - Save as Chart\n",
                "\n",
                "In this section, we will view the performance of a query using the Azure Data Studio Query Execution Plan.  \n",
                "\n",
                "  \n",
                "## <span style=\"color:#cc5500\">Estimated Query Plan</span>\n",
                "\n",
                "  \n",
                "\n",
                "The Estimated Query Execution shows you a visual representation of what the query plan would look like 'if' you were to run it.  It is able to do so with out actually running it.  Now, if the query below looks a bit funny, it does as I have joined a very simple 4 record table to itself, so as to show a more interesting plan for instructional purposes.  \n",
                "\n",
                "1. Copy the code snippet below\n",
                "2. Click your Servers in the top left of Azure Data Studio and right-click on your test server that has the TutorialDB database created in the previous notebook, and click \"New Query\"\n",
                "Paste this snippet into the query\n",
                "3. Do not run the query, simply click the \"Explain\" button to see how ADS can predict how your query will perform\n",
                ""
            ],
            "metadata": {
                "azdata_cell_guid": "92a81a61-a885-4270-abeb-084ade2ec174"
            },
            "attachments": {}
        },
        {
            "cell_type": "code",
            "source": [
                "SELECT\r\n",
                "    C.[Name] as 'First Name',\r\n",
                "    E.Email as 'Personal Email'\r\n",
                "FROM dbo.Customers as C\r\n",
                "JOIN dbo.Customers as E\r\n",
                "on C.CustomerID = E.CustomerId"
            ],
            "metadata": {
                "azdata_cell_guid": "bf53969f-b323-43e6-a446-00adc70d0a30",
                "tags": []
            },
            "outputs": [],
            "execution_count": null
        },
        {
            "cell_type": "markdown",
            "source": [
                "4. After clicking the Explain button on the right\n",
                "\n",
                "<span style=\"display: block; text-align: left;\">![CH1-Explain.jpg](./Media/CH1-Explain.jpg)</span>\n",
                "\n",
                "5. You will see the estimated query Plan. Notice you can hover over the Operations to view more details\n",
                "\n",
                "<span style=\"display: block; text-align: left;\">![CH1-Plan.jpg](./Media/CH1-Plan.jpg)</span>\n",
                "\n",
                "6. In your New Query Window, click the \"Top Opeations\" tab and you can see that this is just an estimation as the Actural Rows column is displaying 0 results for each Operation Type\n",
                "\n",
                "<span style=\"display: block; text-align: left;\">![CH1-Operations.jpg](./Media/CH1-Operations.jpg)</span>\n",
                "\n",
                "7. As an added benefit you can click the Results Tab, then click the XML Showplan link to display the XML of  your Plan.  You can do a Cntrl-A , Cntrl C to copy the entire XML to your clip board, then paste it into notepad.  Save it with the .sqlplan extension and you can view this Query plan at a later date.\n",
                ""
            ],
            "metadata": {
                "azdata_cell_guid": "ff66d81a-5abf-4511-8218-3d7becad9a38"
            },
            "attachments": {}
        },
        {
            "cell_type": "markdown",
            "source": [
                "To learn more about Query Plans you an get started here: [Execution Plans - SQL Server | Microsoft Docs](https://docs.microsoft.com/en-us/sql/relational-databases/performance/execution-plans?view=sql-server-ver15)\n",
                "\n",
                "Brent Ozar has a lot of good youtube videos on the subject: [Brent Ozar Unlimited - YouTube](https://www.youtube.com/c/BrentOzarUnlimited/search?query=query%20tuning)"
            ],
            "metadata": {
                "azdata_cell_guid": "5b38ffa6-9268-4c5b-8f9d-c6a592b8d0c5"
            },
            "attachments": {}
        }
    ]
}