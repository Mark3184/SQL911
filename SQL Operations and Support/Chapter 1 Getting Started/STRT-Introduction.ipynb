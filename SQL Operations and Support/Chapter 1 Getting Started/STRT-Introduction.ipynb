{
    "metadata": {
        "kernelspec": {
            "name": "SQL",
            "display_name": "SQL",
            "language": "sql"
        },
        "language_info": {
            "name": "sql",
            "version": ""
        },
        "extensions": {
            "azuredatastudio": {
                "version": 1,
                "views": []
            }
        }
    },
    "nbformat_minor": 2,
    "nbformat": 4,
    "cells": [
        {
            "cell_type": "markdown",
            "source": [
                "<span style=\"display: block; text-align: center;\">![CH1-Azure.png](./Media/CH1-Azure.png)</span>\n",
                "<span style=\"display: block; text-align: center;\">![CH1-ADS.png](./Media/Ch1-ADS.png)</span>\n",
                "\n",
                "<span style=\"display: block; text-align: center;\">![CH1-Logo-sql.png](./Media/CH1-Logo-sql.png)\n",
                "\n",
                "\n",
                "# <span style=\"color:#007fff\"><br></span>\n",
                "\n",
                "> ## <span style=\"color:#007fff\"><b>Created for: ARMA 4200 Operations and Support teams</b></span>\n",
                "> \n",
                "> ### <span style=\"color:#007fff\"><b>Author: Kevin R. Warren, Principal Consultant Azure Cloud and AI, National Security Group, Microsoft Federal</b></span>\n",
                "\n",
                "<span style=\"font-size: 9pt;\">MICROSOFT MAKES NO WARRANTIES, EXPRESS OR IMPLIED, IN THIS DOCUMENT.</span> <span style=\"font-size: 9pt;\">Complying with all applicable copyright laws is the responsibility of the user.&nbsp; Without limiting the rights under copyright, no part of this document may be reproduced, stored in or introduced into a retrieval system, or transmitted in any form or by any means (electronic, mechanical, photocopying, recording, or otherwise), or for any purpose, without the express written permission of Microsoft Corporation.</span> <span style=\"font-size: 9pt;\">Microsoft may have patents, patent applications, trademarks, copyrights, or other intellectual property rights covering subject matter in this document.&nbsp; Except as expressly provided in any written license agreement from Microsoft, our provision of this document does not give you any license to these patents, trademarks, copyrights, or other intellectual property.</span> <span style=\"font-size: 9pt;\">The descriptions of other companies’ products in this document, if any, are provided only as a convenience to you.&nbsp; Any such references should not be considered an endorsement or support by Microsoft.&nbsp; Microsoft cannot guarantee their accuracy, and the products may change over time. Also, the descriptions are intended as brief highlights to aid understanding, rather than as thorough coverage. For authoritative descriptions of these products, please consult their respective manufacturers.</span> <span style=\"font-size: 9pt;\">© 2021 Microsoft Corporation. All rights reserved. Any use or distribution of these materials without express authorization of Microsoft Corp. is strictly prohibited.</span> <span style=\"font-size: 9pt;\">Microsoft and Windows are either registered trademarks or trademarks of Microsoft Corporation in the United States and/or other countries.</span> <span style=\"font-size: 9pt;\">The names of actual companies and products mentioned herein may be the trademarks of their respective owners.</span>"
            ],
            "metadata": {
                "azdata_cell_guid": "49cbbdae-6b1d-48b0-9135-a514453d1c2f"
            },
            "attachments": {}
        },
        {
            "cell_type": "markdown",
            "source": [
                "# <span style=\"color:#cc5500\">Introduction</span>\n",
                "\n",
                "The purpose of this notebook is to provide database administrators (DBAs) with a clear and concise guide to the tasks and settings necessary to keep SQL Server 2016+ instances running safely and efficiently. The scripts and schedules in this guide are intended to be a starting place for maintenance. Each organization and application is different, so changes in practice to the setting and schedules in this document are expected. Conventions used in the Operations and Support Jupyter notebook are:\n",
                "\n",
                "- <span style=\"color:#cc5500\">Orange</span> colored labels are Titles and Headings\n",
                "- <span style=\"color:#007fff\">Blue</span> colored hyper links are clickable and will take you to a webpage for references and learning\n",
                "- <span style=\"color:#00cc99\">Green</span> colored lables are action items where the reader performs a tasks Getting started with Azure Data Studio may be just a bit confusing when you use it for the first time.  This notebook will help you learn the basics so that you can get up and running quickly.  \n",
                "\n",
                "> ### <span style=\"color:#cc5500\">Topics covered in this Notebook</span>\n",
                "> \n",
                "> - **Getting Started with Azure Data Studio**\n",
                "> - **Running your first query in Azure Data Studio**\n",
                "> - **Azure Data Studio Learning Paths**\n",
                "\n",
                "### <span style=\"color:#cc5500\"><br></span>\n",
                "\n",
                "## <span style=\"color:#cc5500\">Getting Started with Azure Data Studio</span>\n",
                "\n",
                "To begin, this is a very helpful youtube video that provides an overview of Azure Data Studio (ADS): \n",
                "\n",
                "- Anna Hoffman and Warwick Rudd of Microsoft discuss  [The A to S of Azure Data Studio | Data Exposed: MVP Edition - YouTube](https://www.youtube.com/watch?v=F0bIBFuH93c)\n",
                "- This is a good article and a getting started video by Vicki Harp of Microsoft [Use Jupyter Notebooks in Azure Data Studio - Azure Data Studio | Microsoft Docs](https://docs.microsoft.com/en-us/sql/azure-data-studio/notebooks/notebooks-guidance?view=sql-server-ver15)\n",
                "- How to use Jupyter Notebooks in Azure Data Studio on Azure Friday with Vicky Harp and Scott Hanselman [How to use Jupyter Notebooks in Azure Data Studio | Azure Friday - YouTube](https://www.youtube.com/watch?v=pHuRj9ty9cI&list=RDCMUC0m-80FnNY2Qb7obvTL_2fA&start_radio=1&rv=pHuRj9ty9cI&t=36)\n",
                "- Build SQL Database Projects Easily in Azure Data Studio with Drew Skwiers-Koballa [Build SQL Database Projects Easily in Azure Data Studio | Data Exposed - YouTube](https://www.youtube.com/watch?v=I6T9OA9YBGg)\n",
                "- Azure Data Studio - The New Frontier with Warwick Rudd [Azure Data Studio - The New Frontier - Warwick Rudd - YouTube](https://www.youtube.com/watch?v=A5BhIMNKFok)\n",
                "\n",
                "## <span style=\"color:#cc5500\"><br></span>\n",
                "\n",
                "## <span style=\"color:#cc5500\">Running your first Query in Azure Data Studio</span>\n",
                "\n",
                "Quickstart: Use Azure Data Studio to connect and query SQL Server\n",
                "\n",
                "This quickstart shows how to use Azure Data Studio to connect to SQL Server, and then use Transact-SQL (T-SQL) statements to create the _TutorialDB_ used in Azure Data Studio tutorials.\n",
                "\n",
                "## [](https://docs.microsoft.com/en-us/sql/azure-data-studio/quickstart-sql-server?view=sql-server-ver15#prerequisites)Prerequisites\n",
                "\n",
                "To complete this quickstart, you need Azure Data Studio, and access to SQL Server.\n",
                "\n",
                "- [Install Azure Data Studio](https://docs.microsoft.com/en-us/sql/azure-data-studio/download-azure-data-studio?view=sql-server-ver15).\n",
                "\n",
                "If you don't have access to a SQL Server, select your platform from the following links (make sure you remember your SQL Login and Password!):\n",
                "\n",
                "- [Windows - Download SQL Server 2017 Developer Edition](https://www.microsoft.com/sql-server/sql-server-downloads)\n",
                "- [macOS - Download SQL Server 2017 on Docker](https://docs.microsoft.com/en-us/sql/linux/quickstart-install-connect-docker?view=sql-server-ver15)\n",
                "- [Linux - Download SQL Server 2017 Developer Edition](https://docs.microsoft.com/en-us/sql/linux/sql-server-linux-overview?view=sql-server-ver15#install) - You only need to follow the steps up to _Create and Query Data_.\n",
                "\n",
                "## <span style=\"color: rgb(0, 204, 153)\">Connect to a SQL Server.</span>\n",
                "\n",
                "1. Start Azure Data Studio\n",
                "2. The first time you run Azure Data Studio the Welcome page should open. If you don't see the Welcome page, select Help \\> Welcome. Select New Connection to open the Connection pane\n",
                "\n",
                "<span style=\"display: block; text-align: center;\">![CH1-WelcomeScreen.jpg](./Media/CH1-WelcomeScreen.jpg)\n",
                "\n",
                "3. This notebook displays SQL Login, but Windows Authentication is supported. It is recommended that you connect to a test server and not a production server. Fill in the fields as follows:\n",
                "\n",
                "- Server Name: Enter server name here. For example, localhost.\n",
                "- Authentication Type: SQL Login\n",
                "- User name: User name for the SQL Server\n",
                "- Password: Password for the SQL Server\n",
                "- Database Name:\n",
                "- Server Group:\n",
                "\n",
                "<span style=\"display: block; text-align: center;\">![CH1-ConnectSQL.jpg](./Media/CH1-ConnectSQL.jpg)\n",
                "\n",
                "\n",
                "## <span style=\"color: rgb(0, 204, 153)\">Create a Database</span>\n",
                "\n",
                "The following steps create a database named TutorialDB:\n",
                "\n",
                "1. Right-click on your server, localhost, and select New Query.\n",
                "2. If you are still connected to your SQL Instance, make sure your kernel has \"SQL\" selected in the drop-down and run the following code to create the tutorial database."
            ],
            "metadata": {
                "azdata_cell_guid": "dd29aeda-f0d5-43cd-9862-8d97400afb45"
            },
            "attachments": {}
        },
        {
            "cell_type": "code",
            "source": [
                "USE master\r\n",
                "GO\r\n",
                "IF NOT EXISTS (\r\n",
                " SELECT name\r\n",
                " FROM sys.databases\r\n",
                " WHERE name = N'TutorialDB'\r\n",
                ")\r\n",
                " CREATE DATABASE [TutorialDB];\r\n",
                "GO\r\n",
                "IF SERVERPROPERTY('ProductVersion') > '12'\r\n",
                " ALTER DATABASE [TutorialDB] SET QUERY_STORE=ON;\r\n",
                "GO"
            ],
            "metadata": {
                "azdata_cell_guid": "488ed783-d452-4746-8b87-ba27e31a0e27"
            },
            "outputs": [],
            "execution_count": null
        },
        {
            "cell_type": "markdown",
            "source": [
                "Click the your Server Connections in the top left and verify that you have created the TutorialDB database and that you see it in your database list\r\n",
                "\r\n",
                "3. Create a table in the TutorialDB"
            ],
            "metadata": {
                "azdata_cell_guid": "fbf5b190-0f79-4c5b-b42b-7d603abbb8bd"
            },
            "attachments": {}
        },
        {
            "cell_type": "code",
            "source": [
                "-- Create a new table called 'Customers' in schema 'dbo'\r\n",
                "-- Drop the table if it already exists\r\n",
                "USE TutorialDB\r\n",
                "GO\r\n",
                "IF OBJECT_ID('dbo.Customers', 'U') IS NOT NULL\r\n",
                " DROP TABLE dbo.Customers;\r\n",
                "GO\r\n",
                "-- Create the table in the specified schema\r\n",
                "CREATE TABLE dbo.Customers\r\n",
                "(\r\n",
                " CustomerId int NOT NULL PRIMARY KEY, -- primary key column\r\n",
                " Name nvarchar(50) NOT NULL,\r\n",
                " Location nvarchar(50) NOT NULL,\r\n",
                " Email nvarchar(50) NOT NULL\r\n",
                ");"
            ],
            "metadata": {
                "azdata_cell_guid": "a23b5c12-aac6-4627-b59a-27be6e4dca1d"
            },
            "outputs": [],
            "execution_count": null
        },
        {
            "cell_type": "markdown",
            "source": [
                "4. Insert some rows of data into the newly created dbo.Customers table in the TutorialDB database\r\n",
                ""
            ],
            "metadata": {
                "azdata_cell_guid": "c1a6c95b-d343-474c-b678-9c4e4366f436"
            }
        },
        {
            "cell_type": "code",
            "source": [
                "-- Insert rows into table 'Customers'\r\n",
                "USE TutorialDB\r\n",
                "GO\r\n",
                "INSERT INTO dbo.Customers\r\n",
                " ([CustomerId], [Name], [Location], [Email])\r\n",
                "VALUES\r\n",
                " ( 1, N'Orlando', N'Australia', N''),\r\n",
                " ( 2, N'Keith', N'India', N'keith0@adventure-works.com'),\r\n",
                " ( 3, N'Donna', N'Germany', N'donna0@adventure-works.com'),\r\n",
                " ( 4, N'Janet', N'United States', N'janet1@adventure-works.com')\r\n",
                "GO"
            ],
            "metadata": {
                "azdata_cell_guid": "099fb354-66d9-4f6d-b15e-4aaecdf4bb68"
            },
            "outputs": [],
            "execution_count": null
        },
        {
            "cell_type": "markdown",
            "source": [
                "5. We will now run a query to view the records you insterted into the dbo.Customers table"
            ],
            "metadata": {
                "azdata_cell_guid": "1134349f-02c2-49dc-96d9-668bf59ce0e4"
            }
        },
        {
            "cell_type": "code",
            "source": [
                "-- Select rows from table 'Customers'\r\n",
                "USE TutorialDB\r\n",
                "GO\r\n",
                "SELECT * FROM dbo.Customers;"
            ],
            "metadata": {
                "azdata_cell_guid": "c592af6e-0e14-4055-b6d7-b405db37fbba",
                "tags": []
            },
            "outputs": [],
            "execution_count": null
        },
        {
            "cell_type": "markdown",
            "source": [
                "### Consider saving this Database on your test server as it will be used in the next Getting Started Notebook Query Executions"
            ],
            "metadata": {
                "azdata_cell_guid": "11b23b80-266d-40d9-b39d-865491bb03c4"
            },
            "attachments": {}
        },
        {
            "cell_type": "markdown",
            "source": [
                "# Appendix\n",
                "\n",
                "**These six Pluralsight Courses go into more detail about how to run these queries and interpret the results**\n",
                "\n",
                "- [Azure SQL Database: Diagnosing Performance Issues with DMVs](https://bit.ly/2meDRCN)\n",
                "- [SQL Server 2017: Diagnosing Performance Issues with DMVs](https://bit.ly/2FqCeti)\n",
                "- [SQL Server 2017: Diagnosing Configuration Issues with DMVs](https://bit.ly/2MSUDUL)\n",
                "- [SQL Server 2014 DMV Diagnostic Queries – Part 1](https://bit.ly/2plxCer)\n",
                "- [SQL Server 2014 DMV Diagnostic Queries – Part 2](https://bit.ly/2IuJpzI)\n",
                "- [SQL Server 2014 DMV Diagnostic Queries – Part 3](https://bit.ly/2FIlCPb)\n",
                "- [Microsoft Azure Learn](https://bit.ly/2O0Hacc)"
            ],
            "metadata": {
                "azdata_cell_guid": "b0e2bf8f-701e-4307-a22e-ba5bae8dee3e"
            },
            "attachments": {}
        }
    ]
}