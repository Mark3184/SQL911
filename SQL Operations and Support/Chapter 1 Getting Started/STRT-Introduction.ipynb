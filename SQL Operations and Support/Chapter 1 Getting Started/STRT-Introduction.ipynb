{
    "metadata": {
        "kernelspec": {
            "name": "SQL",
            "display_name": "SQL",
            "language": "sql"
        },
        "language_info": {
            "name": "sql",
            "version": ""
        },
        "extensions": {
            "azuredatastudio": {
                "version": 1,
                "views": []
            }
        }
    },
    "nbformat_minor": 2,
    "nbformat": 4,
    "cells": [
        {
            "cell_type": "markdown",
            "source": [
                "<span style=\"display: block; text-align: center;\">![CH1-Azure.png](./Media/Ch1-Azure.png)</span>\n",
                "\n",
                "<span style=\"display: block; text-align: center;\">![CH1-Logo-sql.png](./Media/CH1-Logo-sql.png)</span>\n",
                "\n",
                "# <span style=\"color:#007fff\"><br></span>\n",
                "\n",
                ">## <span style=\"color:#007fff\">Created for: ARMA 4200 Operations and Support teams</span>\n",
                ">\n",
                ">### <span style=\"color:#007fff\">Author: Kevin R. Warren, Principal Consultant Azure Cloud and AI, National Security Group, Microsoft Federal</span>\n",
                "\n",
                "<span style=\"font-size: 9pt;\">MICROSOFT MAKES NO WARRANTIES, EXPRESS OR IMPLIED, IN THIS DOCUMENT.</span> <span style=\"font-size: 9pt;\">Complying with all applicable copyright laws is the responsibility of the user.&nbsp; Without limiting the rights under copyright, no part of this document may be reproduced, stored in or introduced into a retrieval system, or transmitted in any form or by any means (electronic, mechanical, photocopying, recording, or otherwise), or for any purpose, without the express written permission of Microsoft Corporation.</span> <span style=\"font-size: 9pt;\">Microsoft may have patents, patent applications, trademarks, copyrights, or other intellectual property rights covering subject matter in this document.&nbsp; Except as expressly provided in any written license agreement from Microsoft, our provision of this document does not give you any license to these patents, trademarks, copyrights, or other intellectual property.</span> <span style=\"font-size: 9pt;\">The descriptions of other companies’ products in this document, if any, are provided only as a convenience to you.&nbsp; Any such references should not be considered an endorsement or support by Microsoft.&nbsp; Microsoft cannot guarantee their accuracy, and the products may change over time. Also, the descriptions are intended as brief highlights to aid understanding, rather than as thorough coverage. For authoritative descriptions of these products, please consult their respective manufacturers.</span> <span style=\"font-size: 9pt;\">© 2021 Microsoft Corporation. All rights reserved. Any use or distribution of these materials without express authorization of Microsoft Corp. is strictly prohibited.</span> <span style=\"font-size: 9pt;\">Microsoft and Windows are either registered trademarks or trademarks of Microsoft Corporation in the United States and/or other countries.</span> <span style=\"font-size: 9pt;\">The names of actual companies and products mentioned herein may be the trademarks of their respective owners.</span>"
            ],
            "metadata": {
                "azdata_cell_guid": "49cbbdae-6b1d-48b0-9135-a514453d1c2f"
            },
            "attachments": {}
        },
        {
            "cell_type": "markdown",
            "source": [
                "# <span style=\"color:#cc5500\">Introduction</span>\n",
                "\n",
                "The purpose of this notebook is to provide database administrators (DBAs) with a clear and concise guide to the tasks and settings necessary to keep SQL Server 2016+ instances running safely and efficiently. The scripts and schedules in this guide are intended to be a starting place for maintenance. Each organization and application is different, so changes in practice to the setting and schedules in this document are expected. Conventions used in the Operations and Support Jupyter notebook are\n",
                "\n",
                "- <span style=\"color:#cc5500\">Orange</span> colored labels are Titles and Headings\n",
                "- <span style=\"color:#007fff\">Blue</span> colored hyper links are clickable and will take you to a webpage for references and learning\n",
                "- <span style=\"color:#00cc99\">Green</span> colored lables are action items where the reader performs a tasks Getting started with Azure Data Studio may be just a bit confusing when you use it for the first time.  This notebook will help you learn the basics so that you can get up and running quickly.  To begin, this is a very helpful youtube video that provides an overview of Azure Data Studio (ADS): [The A to S of Azure Data Studio | Data Exposed: MVP Edition - YouTube](https://www.youtube.com/watch?v=F0bIBFuH93c), and this article are good starting places [Use Jupyter Notebooks in Azure Data Studio - Azure Data Studio | Microsoft Docs](https://docs.microsoft.com/en-us/sql/azure-data-studio/notebooks/notebooks-guidance?view=sql-server-ver15) <span style=\"color:#00cc99\">At the top of your screen, in the menu bar above, select SQL as the Kernel, and Attach to: (select your SQL Instance)&nbsp; When Prompted, Authenticate to your Instance and in the Drop-down, select your target database.</span>\n",
                "\n",
                "> ### <span style=\"color:#cc5500\">Topics covered in this Notebook</span>\n",
                "> \n",
                "> - **Using Links and Images**\n",
                "> - **My Change**\n",
                "> - **My Next Change**\n",
                "> - **Adding Second Change**\n",
                "> - **Test again**\n",
                "\n",
                "### <span style=\"color:#cc5500\">Using Links and Images</span>\n",
                "\n",
                "Links can be to resournces inside or outside the notebook folder\n",
                "\n",
                "- External: [Bing](https://www.bing.com/) America's greatest search engine\n",
                "- Internal like to another notebook in the folder [Next Page](..\\..\\..\\..\\..\\ARMA%204200\\ARMA%204200\\ADS\\SQL%20Operations%20and%20Support\\Chapter%201%20Getting%20Started\\NextPage.ipynb)"
            ],
            "metadata": {
                "azdata_cell_guid": "dd29aeda-f0d5-43cd-9862-8d97400afb45"
            },
            "attachments": {}
        },
        {
            "cell_type": "markdown",
            "source": [
                "# Appendix\n",
                "\n",
                "**These six Pluralsight Courses go into more detail about how to run these queries and interpret the results**\n",
                "\n",
                "- [Azure SQL Database: Diagnosing Performance Issues with DMVs](https://bit.ly/2meDRCN)\n",
                "- [SQL Server 2017: Diagnosing Performance Issues with DMVs](https://bit.ly/2FqCeti)\n",
                "- [SQL Server 2017: Diagnosing Configuration Issues with DMVs](https://bit.ly/2MSUDUL)\n",
                "- [SQL Server 2014 DMV Diagnostic Queries – Part 1](https://bit.ly/2plxCer)\n",
                "- [SQL Server 2014 DMV Diagnostic Queries – Part 2](https://bit.ly/2IuJpzI)\n",
                "- [SQL Server 2014 DMV Diagnostic Queries – Part 3](https://bit.ly/2FIlCPb)\n",
                "\n",
                "[Microsoft Visual Studio Dev Essentials](https://bit.ly/2qjNRxi)\n",
                "\n",
                "[Microsoft Azure Learn](https://bit.ly/2O0Hacc)"
            ],
            "metadata": {
                "azdata_cell_guid": "b0e2bf8f-701e-4307-a22e-ba5bae8dee3e"
            },
            "attachments": {}
        }
    ]
}