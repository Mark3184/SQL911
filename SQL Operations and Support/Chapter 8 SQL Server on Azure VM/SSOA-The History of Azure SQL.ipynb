{
    "metadata": {
        "kernelspec": {
            "name": "SQL",
            "display_name": "SQL",
            "language": "sql"
        },
        "language_info": {
            "name": "sql",
            "version": ""
        }
    },
    "nbformat_minor": 2,
    "nbformat": 4,
    "cells": [
        {
            "cell_type": "markdown",
            "source": [
                "![CH8-ADS.png](.\\Media\\CH8-ADS.png)\r\n",
                "# <span style=\"color:#cc5500;\">The History of Azure SQL </span>"
            ],
            "metadata": {
                "azdata_cell_guid": "da0e5f5e-79ac-4377-b846-01d98e1f977e"
            },
            "attachments": {}
        },
        {
            "cell_type": "markdown",
            "source": [
                "I was hired by Microsoft in the fall of 2006 and had the opportunity to meet both Bill Gates and Steve Balmer.  Working at Microsoft has really changed since that time.  As you see here in this photo, Ray Ozzie joined Microsoft as a Chief Technology Architect for the company and Ray brought with him the amazing idea of taking our Enterprise products such as Windows and SQL Server and turning them in to cloud services that people could consume every day in the workplace.  Here in this photo you see Ray at the Professional Developers Conference in 2008 Announcing Windows Azure for the first time publically, and SQL Server was a part of that annoucement.   \n",
                "\n",
                "![CH8-RayOzzie.jpg](.\\Media\\CH8-RayOzzie.jpg)\n",
                "\n",
                "This is an amazing thing for microsoft back in the mid-2000's as we were getting credibility in the enterprise space to come out and think that cloud services could be these technologies vs just internet search with Bing or global acces to your personal mail with Hotmail.  \n",
                "\n",
                "Let's take a little deeper dive into the history of Azure SQL itself.  Azure SQL Really has come a long way since that announcement in 2008.  In fact, even before that announcement Windows Azure and SQL Azure had these Cloud Project Names.\n",
                "\n",
                "![CH8-Timeline.jpg](.\\Media\\CH8-Timeline.jpg)\n",
                "\n",
                "In 2006 CloudDB was the project name for Azure SQL and RedDog was the project name for Windows Azure.   If you look at this evolution along the way up until today's time frame, it wasn't just about all technology, sometimes it was a branding change.  For example in 2012 we took SQL Azure as a brand and called it Azure SQL Database which you still see today.  \n",
                "\n",
                "There were also other major product announcements and changes that significanly altered the landscape like Azure Virtual Machines in 2013 was a very big milestone, because before that, you didn't have the ability to have a complete Virtual Machine.  As we look at 2015, that was a huge landmark for Microsoft when we launched something called V12.  And that was a version of Azure SQL, which underneath the covers changed the architecture to provide a lot more resiliency and performance for our customers in the cloud.  Later on, you see the evolution continues.  In 2016 we do things called Elastic Pools, and then in 2019 we introduced Azure SQL Managed Instance, which was Project CloudLifter, because some of our customers were struggling to lift their databases and applications in the Cloud.  Before that time, the surface area of Azure SQL Database wasn't enough and here we provide an Instance of SQL Server called Managed Instance.  Then 2019 was another major milestone for Azure SQL with things like Hyperscale which provides amazing new performance capabilites and Azure SQL Database Serverless for auto-scaling and great for optimizing cost scenarios and Azure SQL Instance Pools which I plan to cover in a future Notebook.\n",
                "\n",
                "Looking back from 2006 when I first started at Microsoft from the very beginning of my Microsoft career all the way to today, we've changed the landscape and evolutioin of how we presented SQL in the cloud, but also the branding to reflect all the different options we are giving our customers.  As you can see, Azure SQL has this amazing legacy in history, and the following chapters and notebooks will demonstrate that great technology build on that foundation from so long ago\n",
                "\n",
                "## <span style=\"color:#cc5500;\">The Azure Ecosystem</span>\n",
                "\n",
                "Here, we will address a bit about what we call the Azure Ecosystem.  These are the parts of Azure that are completely independent of Azure SQL, but yet tightly integrated at the same time.\n",
                "\n",
                "![CH8-Ecosystem.jpg](.\\Media\\CH8-Ecosystem.jpg)\n",
                "\n",
                "- Azure Accounts and Azure Subscriptions:  In order to deploy SQL, you need to have an account and a subscription and these are things that allow you to control how often you can deploy Azure SQL, how much you pay for Azure SQL etc. \n",
                "- Azure Portal:  The Portal is a visual interface for our customers through a browser, a phone app or Windows App that you are going to interact and do various things wiith Azure Resources\n",
                "- Azure Marketplace:  The Azure Marketplace is where you can choose various products or services, and the place where you can see various Azure SQL Options that you can pick from the Marketplace\n",
                "- Azure API's and CLI's:  As programmers and developers, you want to interact with Azure Resources always with some API or command-line interface and Azure provides that though Azure CLI and PowerShell\n",
                "- Azure Resource Manager:  The Azure Resource Manager is a very imporant part of the Infrastructure of Azure and it is a powerfull resource that developers like you and me, like to use for Azure SQL to deploy things and manage within the entire Azure Infrastructure\n",
                "- Azure Monitor:  Azure has its' own monitoring system and Azure SQL 'snaps' in to that monitoring system to show you various things like metrics and even audit logs. \n",
                "- Azure Regions and Datacenters:  You deploy on-premises SQL Server in your datacenteters throughout the world or even in a certain country.  Microsoft has datacenters that you are going to deploy Azure SQL to as well.  We call these datacenters in locations called 'Regions', and you will see throughout the other chapters of this notebook were I will show you examples of how you pick a various Region to deploy something, or even in the case of availibility, show you where hyou can deplohy across various regions around the world.  \n",
                "- Azure SLZ, Compliance and Trust:  Lastly, our customers want to have confidence that Azure is an infrastructure that gives you the trust you need, the secuirty policies, the compliance you need, but also a Service Level Agreement.   Later on in the High Availability section, I will show you how Microsoft provides a very unique service level agreement to make sure that your Azure SQL Resources are up and running and available at all times, as much as possible at all time."
            ],
            "metadata": {
                "azdata_cell_guid": "8481e3aa-6da7-492c-8fb9-3d4419c7739f"
            },
            "attachments": {}
        },
        {
            "cell_type": "markdown",
            "source": [
                "## <span style=\"color:#cc5500;\">What is Azure SQL?</span>\n",
                "\n",
                "As we work through this chapter, it is important to understand what is Azure SQL, what does that actually mean?  \n",
                "\n",
                "Azure SQL is a term that we at Microsoft use to represent this family of SQL in the Cloud.  There are three main deployment options in our unified SQL portfolio all build on the SQL Server engine.\n",
                "\n",
                "1. SQL Server on Azure Vitural Machines\n",
                "1. Best for re-hosting, and apps requiring OS-Level access and control\n",
                "2. Automated manageability featurs and OS-level access\n",
                "3. We call this \"Infrastructure as a Service\" or IaaS\n",
                "4. This is nothing more than an instance of SQL Server that are running on Azure Virtual Machines\n",
                "5. Microsoft will manage the infrastructure and the host, and you are going to manage Operating System and the SQL Server\n",
                "3. Azure SQL Managed Instance\n",
                "1. Best for modernizing existing Apps\n",
                "2. Offers high compatibility with SQL Server and native vNET support\n",
                "3. We call this \"Platform as a Service\" or PaaS\n",
                "4. Refering to Azure SQL on Azure Virtual Machines, we abstract one more layer for you\n",
                "1. With Azure SQL Managed Instance Microsoft will Manate the Infrastructure and the Operating System and you will just be responsible for the SQL Instance\n",
                "\n",
                "5. Azure SQL Database\n",
                "1. Best for building new apps born in the cloud\n",
                "2. Pre-provisioned or Serverless Compute, and Hyperscale storage to meet your demanding workload requirements\n",
                "3. With Azure SQL Database we abstract even one more layer for you\n",
                "1. Azure will manage the infrastructure, the operating system and the SQL Server, and you simply manage the database\n",
                "5. Just like Azure SQL MI, We call Azure SQL Database as \"Platform as a Service\" or PaaS."
            ],
            "metadata": {
                "azdata_cell_guid": "59ec46dc-3c84-4cd4-bb87-50afbe0a4450"
            },
            "attachments": {}
        }
    ]
}