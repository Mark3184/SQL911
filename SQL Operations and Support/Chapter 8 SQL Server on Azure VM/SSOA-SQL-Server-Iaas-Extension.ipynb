{
    "metadata": {
        "kernelspec": {
            "name": "SQL",
            "display_name": "SQL",
            "language": "sql"
        },
        "language_info": {
            "name": "sql",
            "version": ""
        }
    },
    "nbformat_minor": 2,
    "nbformat": 4,
    "cells": [
        {
            "cell_type": "markdown",
            "source": [
                "![CH8-ADS.png](.\\Media\\CH8-ADS.png)\r\n",
                "# <span style=\"color:#cc5500;\">The SQL Server IaaS Agent Extension</span>"
            ],
            "metadata": {
                "azdata_cell_guid": "03e838c7-e698-41ea-8dfe-9c91fb9400be"
            },
            "attachments": {}
        },
        {
            "cell_type": "markdown",
            "source": [
                "The SQL Server IaaS Agent extension (SqlIaasExtension) runs on SQL Server on Windows Azure Virtual Machines (VMs) to automate management and administration tasks.  If you performed the exercise in the previous notebook \"SSOA-Deploy-Azure-SQL-VM-From-PowerShell\" you actually installed the SQL Server IaaS Agent Extension.  It was there very last like of code in the script.  Here's the snippet:\n",
                "\n",
                "<span style=\"color: rgb(96, 139, 78);\">#&nbsp;Add&nbsp;the&nbsp;SQL&nbsp;IaaS&nbsp;Extension,&nbsp;and&nbsp;choose&nbsp;the&nbsp;license&nbsp;type</span>\n",
                "\n",
                "<span style=\"color: #dcdcaa;\">New-AzSqlVM</span> <span style=\"color: #d4d4d4;\">-</span>ResourceGroupName <span style=\"color: #9cdcfe;\">$ResourceGroupName</span> <span style=\"color: #d4d4d4;\">-</span>Name <span style=\"color: #9cdcfe;\">$VMName</span> <span style=\"color: #d4d4d4;\">-</span>Location <span style=\"color: #9cdcfe;\">$Location</span> <span style=\"color: #d4d4d4;\">-</span>LicenseType PAYG\n",
                "\n",
                "## <span style=\"color:#cc5500;\">Overview</span>\n",
                "\n",
                "The SQL Server IaaS Agent extension allows for integration with the Azure portal, and depending on the management mode, unlocks a number of feature benefits for SQL Server on Azure VMs:\n",
                "\n",
                "- Feature benefits: The extension unlocks a number of automation feature benefits, such as portal management, license flexibility, automated backup, automated patching and more\n",
                "- Compliance: The extension offers a simplified method to fulfill the requirement of notifying Microsoft that the Azure Hybrid Benefit has been enabled as is specified in the product terms. This process negates needing to manage licensing registration forms for each resource.\n",
                "- Free: The extension in all three manageability modes is completely free. There is no additional cost associated with the extension, or with changing management modes.\n",
                "- Simplified license management: The extension simplifies SQL Server license management, and allows you to quickly identify SQL Server VMs with the Azure Hybrid Benefit enabled using the Azure portal, PowerShell or the Azure CLI:\n",
                "\n",
                "## <span style=\"color:#cc5500;\">Feature Benefits</span>\n",
                "\n",
                "The SQL Server IaaS Agent extension unlocks a number of feature benefits for managing your SQL Server VM. You can register your SQL Server VM in lightweight management mode, which unlocks a few of the benefits, or in full management mode, which unlocks all available benefits.\n",
                "\n",
                "The following table details these benefits:"
            ],
            "metadata": {
                "azdata_cell_guid": "1ee49ef7-3e61-45c4-a991-88ca83a38f73"
            },
            "attachments": {}
        }
    ]
}