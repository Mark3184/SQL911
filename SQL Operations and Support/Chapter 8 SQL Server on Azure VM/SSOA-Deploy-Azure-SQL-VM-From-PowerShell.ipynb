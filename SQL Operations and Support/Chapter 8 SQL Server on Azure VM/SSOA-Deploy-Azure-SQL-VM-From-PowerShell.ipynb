{
    "metadata": {
        "kernelspec": {
            "name": "powershell",
            "display_name": "PowerShell",
            "language": "powershell"
        },
        "language_info": {
            "name": "powershell",
            "codemirror_mode": "shell",
            "mimetype": "text/x-sh",
            "file_extension": ".ps1"
        }
    },
    "nbformat_minor": 2,
    "nbformat": 4,
    "cells": [
        {
            "cell_type": "markdown",
            "source": [
                "![CH8-ADS.png](.\\Media\\CH8-ADS.png)\r\n",
                "# <span style=\"color:#cc5500;\">Deploy Azure SQL VM from PowerShell </span>"
            ],
            "metadata": {
                "azdata_cell_guid": "4f03d16f-0be8-4b87-aec7-18b6949bb7e2"
            },
            "attachments": {}
        },
        {
            "cell_type": "markdown",
            "source": [
                "In this Notebook, we will eplore you you can deploy and Azure SQL VM from PowerShell.\n",
                "\n",
                "Why is this covered?  Most people when the deploy Azure Services for the first time, use the Azure Portal just like we did in the previous notebook.  The Portal is great for learning how SQL Server is installed to an Azure VM with the many menu-driven options and drop-down selections.  Using the Portal is likely the best option if you just need to get something deployed and won't have to do it more than once or twice.  However, when using the Portal, it is very easy to deploy your SQL Servers 'differently'.  For example, maybe the first time you deployed SQL, you chose a SQL Server 2016 Enterprise Edition with HDD disks on Windows Server 2016.  Then, you deploy a 2nd SQL Server, but you didn't realize that you chose a different version of SQL and you used Premium SSD disks.  Generally in an enterprise, you want all things to be consistent so that you can have good control of performance charasteristics.\n",
                "\n",
                "This is the beauty of IaaC (Infrastructure as Code).  You create repeatable scripts, so that you have a consistent deployments over and over again.\n",
                "\n",
                "Unlike the previous chapters in this notebook, you will not be using the SQL kernel in the code blocks.  Rather, in the cell blocks that follow make sure you have the PowerShell Kernel selected.\n",
                "\n",
                "Azure Data Studio, by default, is pre-set to connect to our Commercial Azure Data Centers.  However, there are Sovereign Cloud data centers as well like Azure US Government.  I have seen very few youtube videos and on-line articles that discuss this.  As such, I will demonstrate the nuances of getting Azure Data Studio connected to a US Government Data Center where I happen to have a subscription.  If you only have a subscription in Azure Commercial, this script will work, you will just need to make the appropriate adustments to the code below when I prompt you to.\n",
                "\n",
                "First go to the Settings Gear on the lower Left and select Settings \\> Extensions \\> Azure Account Configuration and make sure you have the desired \"Soverign\" Cloud checked if you have a subscription there.  If not, you can just use the default option.\n",
                "\n",
                "![CH8-AzureAccount.jpg](.\\Media\\CH8-AzureAccount.jpg)\n",
                ""
            ],
            "metadata": {
                "azdata_cell_guid": "2a83f352-178c-464a-ae41-38cf57ce8f8a"
            },
            "attachments": {}
        },
        {
            "cell_type": "code",
            "source": [
                "# Make Initial Connection.  Azure Data Studio connects to Azure Commercial data centers.\r\n",
                "# If connecting to Azure Gov, it must be specified in the -EnviornmentName, otherwise remove that and just use Connect-AzAccount\r\n",
                "# When you run this command, have your account ready and your password ready.  It will pop open a window for you to enter your credentials\r\n",
                "\r\n",
                "Connect-AzAccount -EnvironmentName AzureUSGovernment "
            ],
            "metadata": {
                "azdata_cell_guid": "fa80ee76-ca6a-4365-9dd9-408f5e1c0bb8",
                "language": "powershell",
                "tags": []
            },
            "outputs": [
                {
                    "name": "stdout",
                    "text": "WARNING: TenantId '8a09f2d7-8415-4296-92b2-80bb4666c5fc' contains more than one active subscription. First one will be \nselected for further use. To select another subscription, use Set-AzContext.\n",
                    "output_type": "stream"
                },
                {
                    "name": "stdout",
                    "text": "\n",
                    "output_type": "stream"
                },
                {
                    "name": "stdout",
                    "text": "Account                                    SubscriptionName      TenantId                             Environment      \n-------                                    ----------------      --------                             -----------      \nkewarren@mcsinternaltrials.onmicrosoft.com Kevin Warren-MCSTrial 8a09f2d7-8415-4296-92b2-80bb4666c5fc AzureUSGovernment\n\n\n",
                    "output_type": "stream"
                }
            ],
            "execution_count": 1
        },
        {
            "cell_type": "code",
            "source": [
                "# If you forget to set the scope (or context) of the Azure PowerSell Az commands to the correct Azure Subscription, then you may end up provisioning or deleting resources in the wrong Azure Subscription\r\n",
                "# From the results from the above command, enter the Subscription name below in this block.\r\n",
                "\r\n",
                "Set-AzContext -SubscriptionName \"US Gov FedCon\""
            ],
            "metadata": {
                "azdata_cell_guid": "12b78777-bdcb-4f00-aa1f-e9eb6f271807",
                "language": "powershell",
                "tags": []
            },
            "outputs": [
                {
                    "name": "stdout",
                    "text": ". {\n",
                    "output_type": "stream"
                },
                {
                    "name": "stdout",
                    "text": ">> # If you forget to set the scope (or context) of the Azure PowerSell Az commands to the correct Azure Subscription, then you may end up provisioning or deleting resources in the wrong Azure Subscription\n>> # From the results from the above command, enter the Subscription name below in this block.\n>> \n>> Set-AzContext -SubscriptionName \"US Gov FedCon\"\n>> }\n>> \n",
                    "output_type": "stream"
                },
                {
                    "name": "stdout",
                    "text": "\nName                                     Account             SubscriptionName    Environment         TenantId          \n----                                     -------             ----------------    -----------         --------          \nUS Gov FedCon (714fe24d-b28a-49e3-9ad... kewarren@mcsinte... US Gov FedCon       AzureUSGovernment   8a09f2d7-8415-4...\n",
                    "output_type": "stream"
                },
                {
                    "name": "stdout",
                    "text": "\n\n",
                    "output_type": "stream"
                }
            ],
            "execution_count": 2
        },
        {
            "cell_type": "code",
            "source": [
                "# Since I have multiple subscriptions, I need a list so that I can pick the one I want to use\r\n",
                "Get-AzSubscription"
            ],
            "metadata": {
                "azdata_cell_guid": "cd3bf3ce-7170-4ced-a516-62fd9fb0931e",
                "language": "powershell"
            },
            "outputs": [
                {
                    "name": "stdout",
                    "text": "\n",
                    "output_type": "stream"
                },
                {
                    "name": "stdout",
                    "text": "Name                  Id                                   TenantId                             State  \n----                  --                                   --------                             -----  \nKevin Warren-MCSTrial 7ee690f2-39eb-4244-baf2-697428b4650f 8a09f2d7-8415-4296-92b2-80bb4666c5fc Enabled\nUS Gov FedCon         714fe24d-b28a-49e3-9adf-a63a6ec1878d 8a09f2d7-8415-4296-92b2-80bb4666c5fc Enabled\n\n\n",
                    "output_type": "stream"
                }
            ],
            "execution_count": 3
        },
        {
            "cell_type": "code",
            "source": [
                "# Get a list of Azure Locations so you know which location to add to your globar variable\r\n",
                "\r\n",
                "Get-AzLocation"
            ],
            "metadata": {
                "azdata_cell_guid": "b6887a75-364c-4be2-aa05-b363de76b24e",
                "language": "powershell"
            },
            "outputs": [
                {
                    "name": "stdout",
                    "text": "\n\nLocation    : usgovvirginia\nDisplayName : USGov Virginia\nProviders   : {Microsoft.Network, Microsoft.Security, Microsoft.Compute, Microsoft.CognitiveServices...}\n\nLocation    : usgoviowa\nDisplayName : USGov Iowa\nProviders   : {Microsoft.Network, Microsoft.Security, Microsoft.Compute, Microsoft.Storage...}\n\nLocation    : usdodeast\nDisplayName : USDoD East\nProviders   : {Microsoft.Network, Microsoft.Compute, Microsoft.Media, Microsoft.Storage...}\n\nLocation    : usdodcentral\nDisplayName : USDoD Central\nProviders   : {Microsoft.Network, Microsoft.Compute, Microsoft.Media, Microsoft.EventGrid...}\n\nLocation    : usgovtexas\nDisplayName : USGov Texas\nProviders   : {Microsoft.Network, Microsoft.Security, Microsoft.Compute, Microsoft.Media...}\n\nLocation    : usgovarizona\nDisplayName : USGov Arizona\nProviders   : {Microsoft.Network, Microsoft.Security, Microsoft.Compute, Microsoft.CognitiveServices...}\n\n",
                    "output_type": "stream"
                },
                {
                    "name": "stdout",
                    "text": "\n\n",
                    "output_type": "stream"
                }
            ],
            "execution_count": 4
        },
        {
            "cell_type": "code",
            "source": [
                "## Set Global variables\r\n",
                "\r\n",
                "$Location = \"usgovvirginia\"\r\n",
                "$ResourceGroupName = \"rgazsqlvm\"\r\n",
                ""
            ],
            "metadata": {
                "azdata_cell_guid": "f2ba0e2a-776b-4448-8e01-24c048f2fa96",
                "language": "powershell"
            },
            "outputs": [
                {
                    "name": "stdout",
                    "text": "",
                    "output_type": "stream"
                }
            ],
            "execution_count": 6
        },
        {
            "cell_type": "code",
            "source": [
                "## Storage\r\n",
                "$StorageName = $ResourceGroupName + \"storage\"\r\n",
                "$StorageSku = \"Premium_LRS\""
            ],
            "metadata": {
                "azdata_cell_guid": "8147b900-87fc-49d2-9f10-0069f2d266fe",
                "language": "powershell",
                "tags": []
            },
            "outputs": [
                {
                    "name": "stdout",
                    "text": "",
                    "output_type": "stream"
                }
            ],
            "execution_count": 7
        },
        {
            "cell_type": "code",
            "source": [
                "## Network Properties \r\n",
                "\r\n",
                "$InterfaceName = $ResourceGroupName + \"ServerInterface\"\r\n",
                "$NsgName = $ResourceGroupName + \"nsg\"\r\n",
                "$VNetName = $ResourceGroupName + \"VNet\"\r\n",
                "$SubnetName = \"Default\"\r\n",
                "$VNetAddressPrefix = \"10.0.0.0/16\"\r\n",
                "$VNetSubnetAddressPrefix = \"10.0.0.0/24\"\r\n",
                "$TCPIPAllocationMethod = \"Dynamic\"\r\n",
                "$DomainName = $ResourceGroupName"
            ],
            "metadata": {
                "azdata_cell_guid": "4653eec0-1480-44db-82d7-7f99ecb7fd5b",
                "language": "powershell"
            },
            "outputs": [
                {
                    "name": "stdout",
                    "text": "",
                    "output_type": "stream"
                }
            ],
            "execution_count": 10
        },
        {
            "cell_type": "code",
            "source": [
                "##Compute\r\n",
                "\r\n",
                "$VMName = $ResourceGroupName + \"VM\"\r\n",
                "$ComputerName = $ResourceGroupName + \"Server\"\r\n",
                "$VMSize = \"Standard_DS1_V2\"\r\n",
                "$OSDiskName = $VMName + \"OSDisk\""
            ],
            "metadata": {
                "azdata_cell_guid": "8f220f13-a76c-4eea-b027-319640aaaee4",
                "language": "powershell"
            },
            "outputs": [
                {
                    "name": "stdout",
                    "text": "",
                    "output_type": "stream"
                }
            ],
            "execution_count": 11
        },
        {
            "cell_type": "code",
            "source": [
                "##Image\r\n",
                "\r\n",
                "$PublisherName = \"MicrosoftSQLServer\"\r\n",
                "$OfferName = \"SQL2017-WS2016\"\r\n",
                "$Sku = \"SQLDEV\"\r\n",
                "$Version = \"latest\"\r\n",
                ""
            ],
            "metadata": {
                "azdata_cell_guid": "0c35c153-de12-4fec-8fb7-7eb0998ae8f5",
                "language": "powershell"
            },
            "outputs": [
                {
                    "name": "stdout",
                    "text": "",
                    "output_type": "stream"
                }
            ],
            "execution_count": 12
        },
        {
            "cell_type": "code",
            "source": [
                "# Resource Group\r\n",
                "New-AzResourceGroup -Name $ResourceGroupName -Location $Location"
            ],
            "metadata": {
                "azdata_cell_guid": "86d8245e-6834-4a10-a040-dfe0d70516b9",
                "language": "powershell"
            },
            "outputs": [
                {
                    "name": "stdout",
                    "text": "\n\nResourceGroupName : rgazsqlvm\nLocation          : usgovvirginia\nProvisioningState : Succeeded\nTags              : \nResourceId        : /subscriptions/714fe24d-b28a-49e3-9adf-a63a6ec1878d/resourceGroups/rgazsqlvm\n\n",
                    "output_type": "stream"
                },
                {
                    "name": "stdout",
                    "text": "\n\n",
                    "output_type": "stream"
                }
            ],
            "execution_count": 13
        },
        {
            "cell_type": "code",
            "source": [
                "# Storage  This may take a few minutes to complete\r\n",
                "$StorageAccount = New-AzStorageAccount -ResourceGroupName $ResourceGroupName -Name $StorageName -SkuName $StorageSku -Kind \"Storage\" -Location $Location"
            ],
            "metadata": {
                "azdata_cell_guid": "7e90380c-a057-4666-b88a-d500c696f9f0",
                "language": "powershell",
                "tags": []
            },
            "outputs": [
                {
                    "name": "stdout",
                    "text": "",
                    "output_type": "stream"
                }
            ],
            "execution_count": 14
        },
        {
            "cell_type": "code",
            "source": [
                "# Network\r\n",
                "\r\n",
                "$SubnetConfig = New-AzVirtualNetworkSubnetConfig -Name $SubnetName -AddressPrefix $VNetSubnetAddressPrefix\r\n",
                "$VNet = New-AzVirtualNetwork -Name $VNetName -ResourceGroupName $ResourceGroupName -Location $Location -AddressPrefix $VNetAddressPrefix -Subnet $SubnetConfig\r\n",
                "$PublicIp = New-AzPublicIpAddress -Name $InterfaceName -ResourceGroupName $ResourceGroupName -Location $Location -AllocationMethod $TCPIPAllocationMethod -DomainNameLabel $DomainName\r\n",
                "$NsgRuleRDP = New-AzNetworkSecurityRuleConfig -Name \"RDPRule\" -Protocol Tcp -Direction Inbound -Priority 1000 -SourceAddressPrefix * -SourcePortRange * -DestinationAddressPrefix * -DestinationPortRange 3389 -Access Allow\r\n",
                "$NsgRuleSQL = New-AzNetworkSecurityRuleConfig -Name \"MSSQLRule\"  -Protocol Tcp -Direction Inbound -Priority 1001 -SourceAddressPrefix * -SourcePortRange * -DestinationAddressPrefix * -DestinationPortRange 1433 -Access Allow\r\n",
                "$Nsg = New-AzNetworkSecurityGroup -ResourceGroupName $ResourceGroupName -Location $Location -Name $NsgName -SecurityRules $NsgRuleRDP,$NsgRuleSQL\r\n",
                "$Interface = New-AzNetworkInterface -Name $InterfaceName -ResourceGroupName $ResourceGroupName -Location $Location -SubnetId $VNet.Subnets[0].Id -PublicIpAddressId $PublicIp.Id -NetworkSecurityGroupId $Nsg.Id"
            ],
            "metadata": {
                "azdata_cell_guid": "05af4992-1a48-40ff-8ac9-0e9d32c8fa19",
                "language": "powershell"
            },
            "outputs": [
                {
                    "name": "stdout",
                    "text": "WARNING: Upcoming breaking changes in the cmdlet 'New-AzVirtualNetworkSubnetConfig' :\nUpdate Property Name\nCmdlet invocation changes :\n    Old Way : -ResourceId\n    New Way : -NatGatewayId\nUpdate Property Name\nCmdlet invocation changes :\n    Old Way : -InputObject\n    New Way : -NatGateway\nNote : Go to https://aka.ms/azps-changewarnings for steps to suppress this breaking change warning, and other \ninformation on breaking changes in Azure PowerShell.\n",
                    "output_type": "stream"
                },
                {
                    "name": "stdout",
                    "text": "WARNING: Upcoming breaking changes in the cmdlet 'New-AzPublicIpAddress' :\nDefault behaviour of Zone will be changed\nCmdlet invocation changes :\n    Old Way : Sku = Standard means the Standard Public IP is zone-redundant.\n    New Way : Sku = Standard and Zone = {} means the Standard Public IP has no zones. If you want to create a \nzone-redundant Public IP address, please specify all the zones in the region. For example, Zone = ['1', '2', '3'].\nNote : Go to https://aka.ms/azps-changewarnings for steps to suppress this breaking change warning, and other \ninformation on breaking changes in Azure PowerShell.\n",
                    "output_type": "stream"
                },
                {
                    "name": "stdout",
                    "text": "",
                    "output_type": "stream"
                }
            ],
            "execution_count": 15
        },
        {
            "cell_type": "code",
            "source": [
                "# Compute.  This will prompt you to enter a username and password\r\n",
                "\r\n",
                "$VirtualMachine = New-AzVMConfig -VMName $VMName -VMSize $VMSize\r\n",
                "$Credential = Get-Credential -Message \"Type the name and password of the local administrator account.\"\r\n",
                "$VirtualMachine = Set-AzVMOperatingSystem -VM $VirtualMachine -Windows -ComputerName $ComputerName -Credential $Credential -ProvisionVMAgent -EnableAutoUpdate #-TimeZone = $TimeZone\r\n",
                "$VirtualMachine = Add-AzVMNetworkInterface -VM $VirtualMachine -Id $Interface.Id\r\n",
                "$OSDiskUri = $StorageAccount.PrimaryEndpoints.Blob.ToString() + \"vhds/\" + $OSDiskName + \".vhd\"\r\n",
                "$VirtualMachine = Set-AzVMOSDisk -VM $VirtualMachine -Name $OSDiskName -VhdUri $OSDiskUri -Caching ReadOnly -CreateOption FromImage"
            ],
            "metadata": {
                "azdata_cell_guid": "cd95de43-7a70-4a9d-9605-d4eb1ad4d682",
                "language": "powershell"
            },
            "outputs": [
                {
                    "name": "stdout",
                    "text": "",
                    "output_type": "stream"
                }
            ],
            "execution_count": 16
        },
        {
            "cell_type": "code",
            "source": [
                "# Image\r\n",
                "$VirtualMachine = Set-AzVMSourceImage -VM $VirtualMachine -PublisherName $PublisherName -Offer $OfferName -Skus $Sku -Version $Version"
            ],
            "metadata": {
                "azdata_cell_guid": "86d3b38a-bc5b-48e7-be94-2f41100f23fe",
                "language": "powershell"
            },
            "outputs": [
                {
                    "name": "stdout",
                    "text": "",
                    "output_type": "stream"
                }
            ],
            "execution_count": 17
        },
        {
            "cell_type": "code",
            "source": [
                "# Create the VM in Azure  Thows errors, comment on this.  Takes a few minutes to run\r\n",
                "New-AzVM -ResourceGroupName $ResourceGroupName -Location $Location -VM $VirtualMachine"
            ],
            "metadata": {
                "azdata_cell_guid": "ea6c9635-bc03-452e-a2e3-6b46fb6d694a",
                "language": "powershell"
            },
            "outputs": [
                {
                    "name": "stdout",
                    "text": "WARNING: Error occurred when creating storage account for boot diagnostics.  Keep creating a VM with disabling boot \ndiagnostics.  : Microsoft.Rest.ValidationException: 'Kind' cannot be null.\n   at Microsoft.Azure.PowerShell.Cmdlets.Compute.Helpers.Storage.Models.StorageAccountCreateParameters.Validate()\n   at \nMicrosoft.Azure.PowerShell.Cmdlets.Compute.Helpers.Storage.StorageAccountsOperations.<BeginCreateWithHttpMessagesAsync>\nd__11.MoveNext()\n--- End of stack trace from previous location where exception was thrown ---\n   at System.Runtime.ExceptionServices.ExceptionDispatchInfo.Throw()\n   at System.Runtime.CompilerServices.TaskAwaiter.HandleNonSuccessAndDebuggerNotification(Task task)\n   at \nMicrosoft.Azure.PowerShell.Cmdlets.Compute.Helpers.Storage.StorageAccountsOperations.<CreateWithHttpMessagesAsync>d__6.\nMoveNext()\n--- End of stack trace from previous location where exception was thrown ---\n   at System.Runtime.ExceptionServices.ExceptionDispatchInfo.Throw()\n   at System.Runtime.CompilerServices.TaskAwaiter.HandleNonSuccessAndDebuggerNotification(Task task)\n   at \nMicrosoft.Azure.PowerShell.Cmdlets.Compute.Helpers.Storage.StorageAccountsOperationsExtensions.<CreateAsync>d__3.MoveNe\nxt()\n--- End of stack trace from previous location where exception was thrown ---\n   at System.Runtime.ExceptionServices.ExceptionDispatchInfo.Throw()\n   at System.Runtime.CompilerServices.TaskAwaiter.HandleNonSuccessAndDebuggerNotification(Task task)\n   at \nMicrosoft.Azure.PowerShell.Cmdlets.Compute.Helpers.Storage.StorageAccountsOperationsExtensions.Create(IStorageAccountsO\nperations operations, String resourceGroupName, String accountName, StorageAccountCreateParameters parameters)\n   at Microsoft.Azure.Commands.Compute.NewAzureVMCommand.CreateStandardStorageAccount(StorageManagementClient client)\n",
                    "output_type": "stream"
                },
                {
                    "name": "stdout",
                    "text": "\n",
                    "output_type": "stream"
                },
                {
                    "name": "stdout",
                    "text": "RequestId IsSuccessStatusCode StatusCode ReasonPhrase\n--------- ------------------- ---------- ------------\n                         True         OK OK          \n\n\n",
                    "output_type": "stream"
                }
            ],
            "execution_count": 18
        },
        {
            "cell_type": "code",
            "source": [
                "# Add the SQL IaaS Extension, and choose the license type.  Takes a few minutes to run\r\n",
                "\r\n",
                "New-AzSqlVM -ResourceGroupName $ResourceGroupName -Name $VMName -Location $Location -LicenseType PAYG"
            ],
            "metadata": {
                "azdata_cell_guid": "77c2a28c-ad32-4194-ab54-4d05327ab047",
                "language": "powershell"
            },
            "outputs": [
                {
                    "name": "stdout",
                    "text": ". {\n>> # Add the SQL IaaS Extension, and choose the license type\n>> ",
                    "output_type": "stream"
                },
                {
                    "name": "stdout",
                    "text": "New-AzSqlVM -ResourceGroupName $ResourceGroupName -Name $VMName -Location $Location -LicenseType PAYG\n>> }\n>> \n",
                    "output_type": "stream"
                },
                {
                    "name": "stdout",
                    "text": "\n",
                    "output_type": "stream"
                },
                {
                    "name": "stdout",
                    "text": "Name        ResourceGroupName LicenseType Sku       Offer          SqlManagementType\n----        ----------------- ----------- ---       -----          -----------------\nrgazsqlvmVM rgazsqlvm         PAYG        Developer SQL2017-WS2016 LightWeight      \n\n\n",
                    "output_type": "stream"
                }
            ],
            "execution_count": 19
        }
    ]
}