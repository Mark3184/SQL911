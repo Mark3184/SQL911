{
    "metadata": {
        "kernelspec": {
            "name": "powershell",
            "display_name": "PowerShell",
            "language": "powershell"
        },
        "language_info": {
            "name": "powershell",
            "codemirror_mode": "shell",
            "mimetype": "text/x-sh",
            "file_extension": ".ps1"
        }
    },
    "nbformat_minor": 2,
    "nbformat": 4,
    "cells": [
        {
            "cell_type": "markdown",
            "source": [
                "![CH8-ADS.png](.\\Media\\CH8-ADS.png)\r\n",
                "# <span style=\"color:#cc5500;\">Deploy Azure SQL VM from PowerShell </span>"
            ],
            "metadata": {
                "azdata_cell_guid": "4f03d16f-0be8-4b87-aec7-18b6949bb7e2"
            },
            "attachments": {}
        },
        {
            "cell_type": "markdown",
            "source": [
                "In this Notebook, we will eplore you you can deploy and Azure SQL VM from PowerShell.\n",
                "\n",
                "Why is this covered?  Most people when the deploy Azure Services for the first time, use the Azure Portal just like we did in the previous notebook.  The Portal is great for learning how SQL Server is installed to an Azure VM with the many menu-driven options and drop-down selections.  Using the Portal is likely the best option if you just need to get something deployed and won't have to do it more than once or twice.  However, when using the Portal, it is very easy to deploy your SQL Servers 'differently'.  For example, maybe the first time you deployed SQL, you chose a SQL Server 2016 Enterprise Edition with HDD disks on Windows Server 2016.  Then, you deploy a 2nd SQL Server, but you didn't realize that you chose a different version of SQL and you used Premium SSD disks.  Generally in an enterprise, you want all things to be consistent so that you can have good control of performance charasteristics.\n",
                "\n",
                "This is the beauty of IaaC (Infrastructure as Code).  You create repeatable scripts, so that you have a consistent deployments over and over again.\n",
                "\n",
                "Unlike the previous chapters in this notebook, you will not be using the SQL kernel in the code blocks.  Rather, in the cell blocks that follow make sure you have the PowerShell Kernel selected.\n",
                "\n",
                "Azure Data Studio, by default, is pre-set to connect to our Commercial Azure Data Centers.  However, there are Sovereign Cloud data centers as well like Azure US Government.  I have seen very few youtube videos and on-line articles that discuss this.  As such, I will demonstrate the nuances of getting Azure Data Studio connected to a US Government Data Center where I happen to have a subscription.  If you only have a subscription in Azure Commercial, this script will work, you will just need to make the appropriate adustments to the code below when I prompt you to.\n",
                "\n",
                "First go to the Settings Gear on the lower Left and select Settings \\> Extensions \\> Azure Account Configuration and make sure you have the desired \"Soverign\" Cloud checked if you have a subscription there.  If not, you can just use the default option.\n",
                "\n",
                "![CH8-AzureAccount.jpg](.\\Media\\CH8-AzureAccount.jpg)\n",
                ""
            ],
            "metadata": {
                "azdata_cell_guid": "2a83f352-178c-464a-ae41-38cf57ce8f8a"
            },
            "attachments": {}
        },
        {
            "cell_type": "markdown",
            "source": [
                "### <span style=\"color:rgb(0, 204, 153);\">Run the Code block below</span>\n",
                "\n",
                "1. Each Code block below is meant to be run individualy, one at a time\n",
                "2. When you run the first block below, you will be prompted for your credentials\n",
                "3. Ensure you have the PowerShell Kernel selected\n",
                "4. View the results of the query by scrolling down to the results set"
            ],
            "metadata": {
                "azdata_cell_guid": "77db0f30-88c2-4758-a360-7724394919d7"
            },
            "attachments": {}
        },
        {
            "cell_type": "code",
            "source": [
                "# Make Initial Connection.  Azure Data Studio connects to Azure Commercial data centers.\r\n",
                "# If connecting to Azure Gov, it must be specified in the -EnviornmentName, like my sample below, otherwise remove that and just use Connect-AzAccount\r\n",
                "# When you run this command, have your account ready and your password ready.  It will pop open a window for you to enter your credentials\r\n",
                "\r\n",
                "Connect-AzAccount -EnvironmentName AzureUSGovernment"
            ],
            "metadata": {
                "azdata_cell_guid": "fa80ee76-ca6a-4365-9dd9-408f5e1c0bb8",
                "language": "powershell",
                "tags": []
            },
            "outputs": [],
            "execution_count": null
        },
        {
            "cell_type": "code",
            "source": [
                "# It just so happens that I have multiple subscriptions, I need to display a list of my subscriptions so that I can pick the one I want to use\r\n",
                "Get-AzSubscription"
            ],
            "metadata": {
                "azdata_cell_guid": "cd3bf3ce-7170-4ced-a516-62fd9fb0931e",
                "language": "powershell",
                "tags": []
            },
            "outputs": [],
            "execution_count": null
        },
        {
            "cell_type": "code",
            "source": [
                "# If you forget to set the scope (or context) of the Azure PowerSell Az commands to the correct Azure Subscription, then you may end up provisioning or deleting resources in the wrong Azure Subscription\r\n",
                "# From the results from the above command, enter the Subscription name below in this block.\r\n",
                "\r\n",
                "Set-AzContext -SubscriptionName \"US Gov FedCon\""
            ],
            "metadata": {
                "azdata_cell_guid": "12b78777-bdcb-4f00-aa1f-e9eb6f271807",
                "language": "powershell",
                "tags": []
            },
            "outputs": [],
            "execution_count": null
        },
        {
            "cell_type": "code",
            "source": [
                "# Get a list of Azure Locations so you know which location to add to your global variable\r\n",
                "\r\n",
                "Get-AzLocation"
            ],
            "metadata": {
                "azdata_cell_guid": "b6887a75-364c-4be2-aa05-b363de76b24e",
                "language": "powershell"
            },
            "outputs": [],
            "execution_count": null
        },
        {
            "cell_type": "code",
            "source": [
                "# Set Global variables.  I am going to choose one of my locations which is US Gov Virginia\r\n",
                "# Enter your choice for $Location, and choose a lower-case name for your Resource Group Name \r\n",
                "\r\n",
                "$Location = \"usgovvirginia\"\r\n",
                "$ResourceGroupName = \"rgazsqlvm\"\r\n",
                ""
            ],
            "metadata": {
                "azdata_cell_guid": "f2ba0e2a-776b-4448-8e01-24c048f2fa96",
                "language": "powershell"
            },
            "outputs": [],
            "execution_count": null
        },
        {
            "cell_type": "code",
            "source": [
                "# Storage.  I am using Premium LRS disks, but you can choose other types\r\n",
                "$StorageName = $ResourceGroupName + \"storage\"\r\n",
                "$StorageSku = \"Premium_LRS\""
            ],
            "metadata": {
                "azdata_cell_guid": "8147b900-87fc-49d2-9f10-0069f2d266fe",
                "language": "powershell",
                "tags": []
            },
            "outputs": [],
            "execution_count": null
        },
        {
            "cell_type": "code",
            "source": [
                "# Network Properties.  You can use your own IP Address space.  I'm keeping my simple for this example\r\n",
                "\r\n",
                "$InterfaceName = $ResourceGroupName + \"ServerInterface\"\r\n",
                "$NsgName = $ResourceGroupName + \"nsg\"\r\n",
                "$VNetName = $ResourceGroupName + \"VNet\"\r\n",
                "$SubnetName = \"Default\"\r\n",
                "$VNetAddressPrefix = \"10.0.0.0/16\"\r\n",
                "$VNetSubnetAddressPrefix = \"10.0.0.0/24\"\r\n",
                "$TCPIPAllocationMethod = \"Dynamic\"\r\n",
                "$DomainName = $ResourceGroupName"
            ],
            "metadata": {
                "azdata_cell_guid": "4653eec0-1480-44db-82d7-7f99ecb7fd5b",
                "language": "powershell"
            },
            "outputs": [],
            "execution_count": null
        },
        {
            "cell_type": "code",
            "source": [
                "# Compute.  I am choosing the Standard DS1 V2 VM.  Check which VM's are available in your Region as this size may not be available for you.  The VM's do tend to vary from \r\n",
                "# region to region.\r\n",
                "\r\n",
                "$VMName = $ResourceGroupName + \"VM\"\r\n",
                "$ComputerName = $ResourceGroupName + \"Server\"\r\n",
                "$VMSize = \"Standard_DS1_V2\"\r\n",
                "$OSDiskName = $VMName + \"OSDisk\""
            ],
            "metadata": {
                "azdata_cell_guid": "8f220f13-a76c-4eea-b027-319640aaaee4",
                "language": "powershell",
                "tags": []
            },
            "outputs": [],
            "execution_count": null
        },
        {
            "cell_type": "code",
            "source": [
                "# Get a list of the Gallery Images available in this region so that you can make the proper choice in the next code block.  \r\n",
                "Get-AzVMImageOffer -Location $Location -Publisher 'MicrosoftSQLServer'"
            ],
            "metadata": {
                "azdata_cell_guid": "639f871b-9090-45cd-be53-0eee5d695c96",
                "language": "powershell"
            },
            "outputs": [],
            "execution_count": null
        },
        {
            "cell_type": "code",
            "source": [
                "# Image.  I ma choosing a SQL Server Gallery image that is SQL Server 2017 on a Windows Server 2016 Image.  I choose the Developers Edition.\r\n",
                "#  We have many gallery images to choose from.\r\n",
                "\r\n",
                "$PublisherName = \"MicrosoftSQLServer\"\r\n",
                "$OfferName = \"SQL2017-WS2016\"\r\n",
                "$Sku = \"SQLDEV\"\r\n",
                "$Version = \"latest\"\r\n",
                ""
            ],
            "metadata": {
                "azdata_cell_guid": "0c35c153-de12-4fec-8fb7-7eb0998ae8f5",
                "language": "powershell",
                "tags": []
            },
            "outputs": [],
            "execution_count": null
        },
        {
            "cell_type": "code",
            "source": [
                "# Okay, here is where we run all the commands to create a SQL Server on Azure VM\r\n",
                "# This script will take a while to run\r\n",
                "# Watch for the prompt to enter a user account and password.  I choose User: sqladmin  Password: <enter-a-hardpasswordname>\r\n",
                "# Review the results at the bottom with the script completes\r\n",
                "# Log into the Azure Portal to see your resources and to connect to your SQL Server\r\n",
                "\r\n",
                "# Resource Group\r\n",
                "New-AzResourceGroup -Name $ResourceGroupName -Location $Location\r\n",
                "\r\n",
                "# Storage\r\n",
                "$StorageAccount = New-AzStorageAccount -ResourceGroupName $ResourceGroupName -Name $StorageName -SkuName $StorageSku -Kind \"Storage\" -Location $Location\r\n",
                "\r\n",
                "# Network\r\n",
                "$SubnetConfig = New-AzVirtualNetworkSubnetConfig -Name $SubnetName -AddressPrefix $VNetSubnetAddressPrefix\r\n",
                "$VNet = New-AzVirtualNetwork -Name $VNetName -ResourceGroupName $ResourceGroupName -Location $Location -AddressPrefix $VNetAddressPrefix -Subnet $SubnetConfig\r\n",
                "$PublicIp = New-AzPublicIpAddress -Name $InterfaceName -ResourceGroupName $ResourceGroupName -Location $Location -AllocationMethod $TCPIPAllocationMethod -DomainNameLabel $DomainName\r\n",
                "$NsgRuleRDP = New-AzNetworkSecurityRuleConfig -Name \"RDPRule\" -Protocol Tcp -Direction Inbound -Priority 1000 -SourceAddressPrefix * -SourcePortRange * -DestinationAddressPrefix * -DestinationPortRange 3389 -Access Allow\r\n",
                "$NsgRuleSQL = New-AzNetworkSecurityRuleConfig -Name \"MSSQLRule\"  -Protocol Tcp -Direction Inbound -Priority 1001 -SourceAddressPrefix * -SourcePortRange * -DestinationAddressPrefix * -DestinationPortRange 1433 -Access Allow\r\n",
                "$Nsg = New-AzNetworkSecurityGroup -ResourceGroupName $ResourceGroupName -Location $Location -Name $NsgName -SecurityRules $NsgRuleRDP,$NsgRuleSQL\r\n",
                "$Interface = New-AzNetworkInterface -Name $InterfaceName -ResourceGroupName $ResourceGroupName -Location $Location -SubnetId $VNet.Subnets[0].Id -PublicIpAddressId $PublicIp.Id -NetworkSecurityGroupId $Nsg.Id\r\n",
                "\r\n",
                "# Compute\r\n",
                "$VirtualMachine = New-AzVMConfig -VMName $VMName -VMSize $VMSize\r\n",
                "$Credential = Get-Credential -Message \"Type the name and password of the local administrator account.\"\r\n",
                "$VirtualMachine = Set-AzVMOperatingSystem -VM $VirtualMachine -Windows -ComputerName $ComputerName -Credential $Credential -ProvisionVMAgent -EnableAutoUpdate #-TimeZone = $TimeZone\r\n",
                "$VirtualMachine = Add-AzVMNetworkInterface -VM $VirtualMachine -Id $Interface.Id\r\n",
                "$OSDiskUri = $StorageAccount.PrimaryEndpoints.Blob.ToString() + \"vhds/\" + $OSDiskName + \".vhd\"\r\n",
                "$VirtualMachine = Set-AzVMOSDisk -VM $VirtualMachine -Name $OSDiskName -VhdUri $OSDiskUri -Caching ReadOnly -CreateOption FromImage\r\n",
                "\r\n",
                "# Image\r\n",
                "$VirtualMachine = Set-AzVMSourceImage -VM $VirtualMachine -PublisherName $PublisherName -Offer $OfferName -Skus $Sku -Version $Version\r\n",
                "\r\n",
                "# Create the VM in Azure\r\n",
                "New-AzVM -ResourceGroupName $ResourceGroupName -Location $Location -VM $VirtualMachine\r\n",
                "\r\n",
                "# Add the SQL IaaS Extension, and choose the license type\r\n",
                "New-AzSqlVM -ResourceGroupName $ResourceGroupName -Name $VMName -Location $Location -LicenseType PAYG"
            ],
            "metadata": {
                "azdata_cell_guid": "08e12912-6683-4de3-81cc-6fbbd90fc6fa",
                "language": "powershell"
            },
            "outputs": [],
            "execution_count": null
        }
    ]
}