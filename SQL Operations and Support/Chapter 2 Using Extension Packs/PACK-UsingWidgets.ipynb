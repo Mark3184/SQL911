{
    "metadata": {
        "kernelspec": {
            "name": "SQL",
            "display_name": "SQL",
            "language": "sql"
        },
        "language_info": {
            "name": "sql",
            "version": ""
        }
    },
    "nbformat_minor": 2,
    "nbformat": 4,
    "cells": [
        {
            "cell_type": "markdown",
            "source": [
                "![CH2-widgets.png](./Media/Ch2-widgets.png)\n",
                "![CH2-ADSpng](./Media/Ch2-ADS.png)\n",
                "\n",
                "\n",
                "# <span style=\"color:#cc5500\">Getting Started with Widgets in Azure Data Studio</span>\n",
                "\n",
                "This notebook demonstrates the process of adding one of the built-in Azure Data Studio sample widgets to the database dashboard to quickly view a database's five slowest queries. You also learn how to view the details of the slow queries and query plans using Azure Data Studio features. \n",
                "\n",
                "During this lesson, you learn how to:\n",
                "- Enable Query Store on a database\n",
                " -Add a pre-built insight widget to the database dashboard\n",
                "- View details about the database's slowest queries\n",
                "- View query execution plans for the slow queries\n",
                "\n",
                "Azure Data Studio includes several insight widgets out-of-the-box. This notebook shows how to add the query-data-store-db-insight widget, but the steps are basically the same for adding any widget.\n",
                "\n",
                "We will be using the TutorialDB Test Database created in the Query Executions Notebook.  But you can use any database you wish.\n",
                "\n",
                "## <span style=\"color:#cc5500\">Turn on the Query Store for your database</span>\n",
                "\n",
                "The widget in this example requires Query Store to be enabled.\n",
                "1. Right-click the TutorialDB database (in the SERVERS sidebar) and select New Query.\n",
                "2. Paste the following Transact-SQL (T-SQL) statement in the query editor, and click Run:\n",
                "\n",
                "\n",
                "\n",
                ""
            ],
            "metadata": {
                "azdata_cell_guid": "88b77feb-29ac-4cf6-86b0-259f582c8cd6"
            },
            "attachments": {}
        },
        {
            "cell_type": "code",
            "source": [
                "ALTER DATABASE TutorialDB SET QUERY_STORE = ON"
            ],
            "metadata": {
                "azdata_cell_guid": "038170a7-de64-43f6-8db6-c9e9d7405ee3"
            },
            "outputs": [],
            "execution_count": null
        },
        {
            "cell_type": "markdown",
            "source": [
                "To add the slow queries widget to your dashboard, edit the dashboard.database.widgets setting in your User Settings file.\n",
                "\n",
                "- Open User Settings by pressing Ctrl+Shift+P to open the Command Palette.\n",
                "- Type settings in the search box and select Preferences:\n",
                "- Scroll down to \"Open User Settings\"\n",
                "\n",
                "<span style=\"display: block; text-align: center;\">![CH2-preferences.jpg](./Media/Ch2-preferences.jpg)</span>\n",
                ""
            ],
            "metadata": {
                "azdata_cell_guid": "bf41f1c4-d00f-4479-908e-319fece3be4f"
            },
            "attachments": {}
        },
        {
            "cell_type": "markdown",
            "source": [
                "<span style=\"color: rgb(255, 255, 255); white-space: pre;\">[</span><span style=\"white-space: pre; color: rgb(206, 145, 120);\">Enable&nbsp;the&nbsp;five&nbsp;slowest&nbsp;queries&nbsp;sample&nbsp;widget&nbsp;-&nbsp;Azure&nbsp;Data&nbsp;Studio&nbsp;|&nbsp;Microsoft&nbsp;Docs</span><span style=\"color: rgb(255, 255, 255); white-space: pre;\">]</span><span style=\"color: rgb(255, 255, 255); white-space: pre;\">(</span><span style=\"color: rgb(255, 255, 255); white-space: pre; text-decoration-line: underline;\">https://docs.microsoft.com/en-us/sql/azure-data-studio/tutorial-qds-sql-server?view=sql-server-ver15</span><span style=\"color: rgb(255, 255, 255); white-space: pre;\">)</span>"
            ],
            "metadata": {
                "azdata_cell_guid": "750f4f52-a2b2-4ff0-aa84-e97ea082cad8"
            },
            "attachments": {}
        }
    ]
}