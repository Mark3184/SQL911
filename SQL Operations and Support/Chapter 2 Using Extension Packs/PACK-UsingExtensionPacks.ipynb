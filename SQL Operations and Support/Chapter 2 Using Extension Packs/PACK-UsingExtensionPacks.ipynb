{
    "metadata": {
        "kernelspec": {
            "name": "SQL",
            "display_name": "SQL",
            "language": "sql"
        },
        "language_info": {
            "name": "sql",
            "version": ""
        },
        "extensions": {
            "azuredatastudio": {
                "version": 1,
                "views": []
            }
        }
    },
    "nbformat_minor": 2,
    "nbformat": 4,
    "cells": [
        {
            "cell_type": "markdown",
            "source": [
                "This is my getting Started with Extension Packs notebook"
            ],
            "metadata": {
                "azdata_cell_guid": "a7f51ad7-fad8-4210-8525-dabc746cd592"
            },
            "attachments": {}
        }
    ]
}