{
    "metadata": {
        "kernelspec": {
            "name": "SQL",
            "display_name": "SQL",
            "language": "sql"
        },
        "language_info": {
            "name": "sql",
            "version": ""
        },
        "extensions": {
            "azuredatastudio": {
                "version": 1,
                "views": []
            }
        }
    },
    "nbformat_minor": 2,
    "nbformat": 4,
    "cells": [
        {
            "cell_type": "markdown",
            "source": [
                "![CH2-Extensions.jpg](./Media/Ch2-Extensions.jpg)\n",
                "\n",
                "# <span style=\"color:#cc5500\">Getting Started with Extension Packs in Azure Data Studio</span>\n",
                "\n",
                "Extensions in Azure Data Studio provide an easy way to add more functionality to the base Azure Data Studio installation.  Extensions are provided by the Azure Data Studio team (Microsoft), as well as the third-party community.\n",
                "\n",
                "## <span style=\"color:#cc5500\">Add Azure Data Studio extensions</span>\n",
                "  \n",
                "\n",
                "1. Access the available extensions by selecting the Extensions Icon, or by selecting Extensions in the View menu. You can use the View: Show Extensions command, available in the Command Palette (F1 or Ctrl+Shift+P).\n",
                "\n",
                "![CH2-icon.jpg](./Media/Ch2-icon.jpg)\n",
                "\n",
                "  2. Select an available extension to view the details of the selected extension\n",
                "  3. After revewing the details, click the install button if you wish to install it into Azure Data Studio\n",
                "\n",
                "![CH2-InstallExtension.jpg](./Media/Ch2-InstallExtension.jpg)\n",
                "\n",
                "## <span style=\"color:#cc5500\">Manually install an Extension from a VSIX</span>\n",
                "\n",
                "You can manually install an Azure Data Studio extension packaged in a .vsix file using the Install from VSIX command in the Extensions view command drop-down, or the Extensions: Install from VSIX command in the Command Palette and point to the extension's .vsix file.\n",
                "\n",
                "### <span style=\"color:#cc5500\">Access installed Azure Data Studio extensions</span>\n",
                "\n",
                "\n",
                "Each extension enhances your experience in Azure Data Studio in a different way. As a result, the entry point for extensions can vary. Refer to your installed extension's individual documentation for information on how its features can be accessed once it's installed.\n",
                "\n",
                "### <span style=\"color:#cc5500\">Extensions view filters</span>\n",
                "\n",
                "The Extensions view search box supports filters to help you find and manage extensions. The commands Show Installed Extensions and Show Recommended Extensions use filters such as @installed and @recommended in the search box.\n",
                "\n",
                "You can see a complete listing of all filters and sort commands by typing @ in the extensions search box and navigating through the suggestions:\n",
                "\n",
                "![CH2-filters.jpg](./Media/Ch2-filters.jpg)\n",
                "\n",
                "Here are the Extensions view filters:\n",
                "- @builtin - Show extensions that come with Azure Data Studio. Grouped by type (Programming Languages, Themes, etc.).\n",
                "- @disabled - Show disabled installed extensions.\n",
                "- @enabled - Show enabled installed extensions. Extensions can be individually enabled/disabled.\n",
                "- @installed - Show installed extensions.\n",
                "- @outdated - Show outdated installed extensions. A newer version is available on the Marketplace.\n",
                "- @recommended - Show recommended extensions. Grouped as Workspace specific or general use.\n",
                "- @category - Show extensions belonging to specified category. Below are a few of supported categories. For a complete list, type @category and follow the options in the suggestion list:\n",
                "- @category:themes\n",
                "- @category:formatters\n",
                "- @category:snippets These filters can be combined as well. For example, @installed - @category:themes displays all installed themes.\n",
                "\n",
                "If no filter is provided, the Extensions view displays currently installed and recommended extensions.\n",
                "\n",
                "### <span style=\"color:#cc5500\">Where are extensions installed?</span>\n",
                "\n",
                "Extensions are installed in a per user extensions folder. Depending on your platform, the location is in the following folder:\n",
                "- Windows %USERPROFILE%\\.azuredatastudio\\extensions\n",
                "- macOS ~/.azuredatastudio/extensions\n",
                "- Linux ~/.azuredatastudio/extensions\n",
                "\n",
                "\n",
                "Here's a list of currently available Azure Data Studio Extension on GitHub: [List of Extensions · microsoft/azuredatastudio Wiki (github.com)](https://github.com/Microsoft/azuredatastudio/wiki/List-of-Extensions)\n",
                "\n",
                "Here are some helpful youtube videos of using Azure Data Studio Extensions: [Extensions in Azure Data Studio - YouTube](https://www.youtube.com/results?search_query=Extensions+in+Azure+Data+Studio)"
            ],
            "metadata": {
                "azdata_cell_guid": "a7f51ad7-fad8-4210-8525-dabc746cd592"
            },
            "attachments": {}
        }
    ]
}