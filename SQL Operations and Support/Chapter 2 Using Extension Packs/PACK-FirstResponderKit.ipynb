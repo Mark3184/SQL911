{
    "metadata": {
        "kernelspec": {
            "name": "SQL",
            "display_name": "SQL",
            "language": "sql"
        },
        "language_info": {
            "name": "sql",
            "version": ""
        }
    },
    "nbformat_minor": 2,
    "nbformat": 4,
    "cells": [
        {
            "cell_type": "markdown",
            "source": [
                "![CH2-ADS.png](.\\Media\\CH2-ADS.png)\r\n",
                "\r\n",
                "# <span style=\"color:#cc5500;\">Using the First Responder Kit Extension</span>\r\n",
                "\r\n",
                ""
            ],
            "metadata": {
                "azdata_cell_guid": "17813ff7-8bef-478d-87da-58b5cd313604"
            }
        },
        {
            "cell_type": "markdown",
            "source": [
                "My amazing Microsoft colleague Drew Skwiers-Koballa created an Azure Data Studio based off of Global MVP Brent Ozar's First Responder kit.   If you are not familiar with Brent Ozar, you can easily find him on YouTube.  His work on the First Responder Kit is an incredible contribution to the SQL Server community and I am going to use this notebook to provide you with some guidance on how to use it in Azure Data Studio.\n",
                "\n",
                "Just like the two preceeding notebooks on \"Using Extention Packs\" and \"Using Widgets\", this will be a similar walk-thru of how to use this extension.  Likely after you have completed this notebook and the two preceeding one's, you will be able to take it from here when you install other Extension Packs from the Gallery.\n",
                "\n",
                "## <span style=\"color:#cc5500\">Add the Azure Data Studio extension for the First Responder Kit</span>\n",
                "\n",
                "1. Access the available extensions by selecting the Extensions Icon, or by selecting Extensions in the View menu. You can use the View: Show Extensions command, available in the Command Palette (F1 or Ctrl+Shift+P).\n",
                "\n",
                "![CH2-icon.jpg](.\\Media\\Ch2-icon.jpg)\n",
                "\n",
                "2. Browse for First Responder kit and click the Install button\n",
                "\n",
                "![CH2-FirstResponder.jpg](.\\Media\\Ch2-FirstResponder.jpg)"
            ],
            "metadata": {
                "azdata_cell_guid": "1c4dcc34-df4d-46b7-bb17-f25c35db397c"
            },
            "attachments": {}
        },
        {
            "cell_type": "markdown",
            "source": [
                "## <span style=\"color:#cc5500\">Use the First Responder Kit</span>\n",
                "\n",
                "After you have installed the Extension, the way to interact with the kit is through the Command Palette.  \n",
                "\n",
                "From your menu bar, select View \\> Command Palette\n",
                "\n",
                "Then Enter \"First\" in the Search bar\n",
                "\n",
                "I will select \"First Responder Kit: Import sp\\_BlitzFirst.  For this notebook I am going to import just the single sp\\_BlitzFirst.  You may want to test each one individually, or download the entire dump into one window by choosing \"First Responder Kit: Import sp\\_Blitz and all its friends\"  Since that one is very large, I am just going to stick wiith sp\\_BlitzFirst.\n",
                "\n",
                "Click on your choice\n",
                "\n",
                "![CH2-ViewPalette.jpg](.\\Media\\Ch2-ViewPalette.jpg)\n",
                "\n",
                "This will load the sp\\_BlitzFirst SQL Stored Procedure code into a new query window for you\n",
                "\n",
                "Notice that you need to set the Connection and Select the database. This stored procedure can be created and run against any database on your instance and it will work, but I like to keep my master database as clean as posible so I will use one of my user databases.\n",
                "\n",
                "![CH2-NewQuery.jpg](.\\Media\\Ch2-NewQuery.jpg)\n",
                "\n",
                "Once you have connected to your SQL instance and then selected the desired database, select \"Run\"\n",
                "\n",
                "  \n",
                "\n",
                "![CH2-Run.jpg](.\\Media\\Ch2-Run.jpg)\n",
                "\n",
                "  \n",
                "\n",
                "I run the dbo.sp\\_BlitzFirst stored proceedure against a user database and it compiles successfully.  But, I see in the output that I am missing 2 dependencies.  (sp\\_BlitzWho and sp\\_BlitzCache)\n",
                "\n",
                "  \n",
                "\n",
                "![CH2-MissingModules.jpg](.\\Media\\Ch2-MissingModules.jpg)\n",
                "\n",
                "So, repeat the steps above to install sp\\_BlitzWho and sp\\_BlitzCache\n",
                "\n",
                "Once those are installed you can re-connect to dbo.sp\\_BlitzFirst by searcing the Command Pallete again and re-establising your connection.\n",
                "\n",
                "It will not be necessary re-run the Create Script, but if you scroll all they way to the bottom, you will see use usage guidance\n",
                "\n",
                "<span style=\"color: #608b4e;\">/*&nbsp;How&nbsp;to&nbsp;run&nbsp;it:</span>\n",
                "\n",
                "<span style=\"color: #608b4e;\">EXEC&nbsp;dbo.sp_BlitzFirst</span>\n",
                "\n",
                "<span style=\"color: #608b4e;\">With&nbsp;extra&nbsp;diagnostic&nbsp;info:</span>\n",
                "\n",
                "<span style=\"color: #608b4e;\">EXEC&nbsp;dbo.sp_BlitzFirst&nbsp;@ExpertMode&nbsp;=&nbsp;1;</span>\n",
                "\n",
                "<span style=\"color: #608b4e;\">Saving&nbsp;output&nbsp;to&nbsp;tables:</span>\n",
                "\n",
                "<span style=\"color: #608b4e;\">EXEC&nbsp;sp_BlitzFirst</span>\n",
                "\n",
                " <span style=\"color: #608b4e;\">&nbsp;&nbsp;@OutputDatabaseName&nbsp;=&nbsp;'DBAtools'</span>\n",
                "\n",
                "<span style=\"color: #608b4e;\">,&nbsp;@OutputSchemaName&nbsp;=&nbsp;'dbo'</span>\n",
                "\n",
                "<span style=\"color: #608b4e;\">,&nbsp;@OutputTableName&nbsp;=&nbsp;'BlitzFirst'</span>\n",
                "\n",
                "<span style=\"color: #608b4e;\">,&nbsp;@OutputTableNameFileStats&nbsp;=&nbsp;'BlitzFirst_FileStats'</span>\n",
                "\n",
                "<span style=\"color: #608b4e;\">,&nbsp;@OutputTableNamePerfmonStats&nbsp;=&nbsp;'BlitzFirst_PerfmonStats'</span>\n",
                "\n",
                "<span style=\"color: #608b4e;\">,&nbsp;@OutputTableNameWaitStats&nbsp;=&nbsp;'BlitzFirst_WaitStats'</span>\n",
                "\n",
                "<span style=\"color: #608b4e;\">,&nbsp;@OutputTableNameBlitzCache&nbsp;=&nbsp;'BlitzCache'</span>\n",
                "\n",
                "<span style=\"color: #608b4e;\">,&nbsp;@OutputTableNameBlitzWho&nbsp;=&nbsp;'BlitzWho'</span>\n",
                "\n",
                "<span style=\"color: #608b4e;\">,&nbsp;@OutputType&nbsp;=&nbsp;'none'</span>\n",
                "\n",
                "<span style=\"color: #608b4e;\">*/</span>"
            ],
            "metadata": {
                "azdata_cell_guid": "015e20fe-b75a-4981-bf13-0f69e26a1075"
            },
            "attachments": {}
        },
        {
            "cell_type": "markdown",
            "source": [
                "The results give you some extremely helpful information on what might be slowing your SQL Server down.   Brent recommends that sp\\_BlitzFirst be the 'first' of his free stored procedures in this kit."
            ],
            "metadata": {
                "azdata_cell_guid": "d0157d43-02e0-403f-8a11-57a3d423190e"
            },
            "attachments": {}
        },
        {
            "cell_type": "code",
            "source": [
                "-- To test, just run sp_BlitzFirst with out any parameters\r\n",
                "EXEC dbo.sp_BlitzFirst"
            ],
            "metadata": {
                "azdata_cell_guid": "3208b67a-bf91-4d7d-91e4-410026cdebec"
            },
            "outputs": [],
            "execution_count": null
        },
        {
            "cell_type": "markdown",
            "source": [
                "I recommend that you watch this video by Brent on sp\\_BlitzFirst where he gives a description of what this stored proceedure does, and how to use it.\n",
                "\n",
                "[How to Use sp\\_BlitzFirst - YouTube](https://www.youtube.com/watch?v=pQcdbbmTqX4)\n",
                "\n",
                "Then, after you watch that video, consider testing some of the various options to see more thorough results."
            ],
            "metadata": {
                "azdata_cell_guid": "0d74266f-31be-4f9c-be3e-569ebf70232d"
            },
            "attachments": {}
        }
    ]
}