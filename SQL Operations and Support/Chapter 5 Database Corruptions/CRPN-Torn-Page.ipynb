{
    "metadata": {
        "kernelspec": {
            "name": "SQL",
            "display_name": "SQL",
            "language": "sql"
        },
        "language_info": {
            "name": "sql",
            "version": ""
        },
        "extensions": {
            "azuredatastudio": {
                "version": 1,
                "views": []
            }
        }
    },
    "nbformat_minor": 2,
    "nbformat": 4,
    "cells": [
        {
            "cell_type": "markdown",
            "source": [
                "![CH5-ADS.png](.\\Media\\CH5-ADS.png)\n",
                "\n",
                "# <span style=\"color:#cc5500;\">Torn Page Protection</span>\n",
                "\n",
                "SQL Server has mechanisms to automatically detect and alert you when it finds corruption during I/O operations.  In this notebook, we’ll cover:\n",
                "\n",
                "1. Torn-page detection\n",
                "2. Page checksums\n",
                "3. I/O errors\n",
                "4. Monitoring for I/O errors\n",
                "\n",
                "This notebook contains a description of what a torn page is, how it can occcur, followed by a step-by-step demo where we will create a test database, corrupt a page in the database, then show you how it is detected. \n",
                "\n",
                "## <span style=\"color:#cc5500;\">Page Protection Options</span>\n",
                "\n",
                "SQL Server allows pages to be “protected” on disk.  This allows fast detection of corruption when a page is read into memory.  This feature is set by using the ALTER DATABASE SET PAGE\\_VERIFY\\<option\\> statement.  There are three configurable options:\n",
                "\n",
                "- NONE (don’t do this…)\n",
                "- TORN\\_PAGE\\_DETECTION\n",
                "- CHECKSUM\n",
                "\n",
                "All page protection operations are performed by the buffer pool(also known as the buffer manager or buffer cache)\n",
                "\n",
                "## <span style=\"color:#cc5500;\">Torn Page Detection</span>\n",
                "\n",
                "An 8 KB data file page is really a 16 x 512-byte disk sector.  It is possible for a page to be partially written in the event of a power failure.  For example, in the event of a power failure, and the disk isn't backed by a better, during a write operation, all 16 blocks may not all be written to disk due to power loss.  Torn-page detection allows SQL Server to detect incomplete writes.  It takes two-bits from each disk sector, stores them in the page header (which is a 32-byte metadata structure in each data file page) and then writes an alternating bit pattern in each sector.  It writes 01 in the first, 10 in the second, 01 in the third, etc.  The bit pattern flips each time the page is written to disk.  On a subsequent read, if the pattern is disrupted, the page is torn.  This however, does not detect corruptions within a disk sector though.\n",
                "\n",
                "<span style=\"display:block;text-align:center;\"><img src=\"C:\\Users\\kewarren\\Documents\\Kevin\\MyDocuments\\ARMA 4200\\ADS\\Operations and Support\\images\\tornpage.jpg\" alt=\"title\"></span>\n",
                "\n",
                "## <span style=\"color:#cc5500;\">Page Checksums</span>\n",
                "\n",
                "SQL Server 2005 first introduced per-page checksums.  This setting is turned on by default for new databases from SQL Server 2005 onward..  It was then added to tempdb from SQL Server 2008 onward.  It is performed by the SQL Server Buffer Pool.  It is:\n",
                "\n",
                "- Calculated as a four-byte value and stored in the page header as the very last thing SQL Server does on a physical write\n",
                "- Recalculated and checked against the stored value as the very first thing SQL Server does on a physical read\n",
                "\n",
                "If you have an older database from SQL Server 2000 and upgraded it, upgraded databases must enabled manually.  Switching it on doesn’t do anything until pages are written.  There is no easy method to force all pages to get a page checksum.  Switching it on does not erase existing torn page detection.  There is negligible CPU overhead as it uses a very simple checksum algorithm.\n",
                "\n",
                "Page Checksums are Error detecting, not error correcting\n",
                "\n",
                "SQL Server evaluates the checksum when:\n",
                "\n",
                "- Page is read normally\n",
                "- Page is read during consistency checks\n",
                "- Page is read during BACKUP … WITH CHECKSUM\n",
                "- Page is read from within a checksum'd database backup\n",
                "\n",
                "## <span style=\"color:#cc5500;\">I/O Errors</span>\n",
                "\n",
                "Threre are generally three types of errors that SQL Server will throw when corruption is detected.  Again, Page Checksums are Error detecting, not error correcting.\n",
                "\n",
                "- 823: a hard I/O error -- SQL Server asks Windows to read something from disk and Windows comes back and says \"no\"\n",
                "- 824: a soft I/O error -- SQL Server asks Windows to read something from disk and Windows gives the data back, but SQL Server detects that there is problem\n",
                "- 825: a read-retry error -- Any I/O error detected by the buffer pool, is going to cause the read to retry, up to 4 times. If on the 5th attempt, it still can't do the read, it will throw an 823 or 824\n",
                "    - If there is a success on the 5th attempt it will write an 825 to the error log\n",
                "    - But an 825 is a Severity 10 Informational message only.  Unless you are looking through the error log, you may likely not see this.  We recommend creating a SQL Agent Alert for 825 errors.\n",
                "    - Treat 825's as an early warning against impending doom.  The I/O subsystem is returning incorrect data to SQL Server and this should be investigated as soon as possible\n",
                "\n",
                "823 and 824 are Severity 24 Errors and if encountered:\n",
                "\n",
                "- Connections to the databasewill be broken\n",
                "- The error will be logged in the msdb.dbo.suspect\\_pages table\n",
                "- Written to the SQL Server error log and the Windows Application event log\n",
                "\n",
                "[MSSQLSERVER error 823 - SQL Server | Microsoft Docs](https://docs.microsoft.com/en-us/sql/relational-databases/errors-events/mssqlserver-823-database-engine-error?view=sql-server-ver15)\n",
                "\n",
                "[MSSQLSERVER\\_824 - SQL Server | Microsoft Docs](https://docs.microsoft.com/en-us/sql/relational-databases/errors-events/mssqlserver-824-database-engine-error?view=sql-server-ver15)\n",
                "\n",
                "[MSSQLSERVER\\_825 - SQL Server | Microsoft Docs](https://docs.microsoft.com/en-us/sql/relational-databases/errors-events/mssqlserver-825-database-engine-error?view=sql-server-ver15)\n",
                "\n",
                "## <span style=\"color:#cc5500;\">Automatic Page Repair</span>\n",
                "\n",
                "Database mirroring and Always On Availability Groups allow some corruptions to be automatically repaired, where possible\n",
                "\n",
                "- It works for 824 “soft-I/O” errors, some 823 “hard-I/O” errors, 829 “in restore” errors\n",
                "- Errors are hit by queries reading the page or by consistency checks\n",
                "- Corrupt pages on the principal/mirror and primary/secondary replicas can be repaired\n",
                "- Which ever copy of the database, the primary or the secondary, has the corrupt page, it will ask the partner for their copy of the data page\n",
                "- Repairs are asynchronous, corrupt pages are unusable until fixed\n",
                "- Subsequent reads of the page will return an 829 “in restore” error until the page is repaired, but will not trigger another repair attempt\n",
                "\n",
                "NOTE: Only meant to be a band-aid to prevent downtime. It is NOT a substitute for having alerts for high-severity errors and taking action to rectify/prevent them.\n",
                "\n",
                "[Automatic page repair for availability groups & database mirroring - SQL Server Always On | Microsoft Docs](https://docs.microsoft.com/en-us/sql/sql-server/failover-clusters/automatic-page-repair-availability-groups-database-mirroring?view=sql-server-ver15)\n",
                "\n",
                "## <span style=\"color:#cc5500;\">Monitoring for I/O Errors</span>\n",
                "\n",
                "Manual monitoring is time-consuming, prone to being forgotten, and very difficult to do in large SQL Server enterprises.  We recommend that you us an automated monitoring process.\n",
                "\n",
                "- Create SQL Agent alerts\n",
                "- Use Microsoft SCOM\n",
                "- Us a 3rd-party monitoring tool\n",
                "\n",
                "Create alerts for:\n",
                "\n",
                "- Severity 19 errors and above - (Errors 19 through 24)\n",
                "- Error 825\n",
                "- Anything else you’re interested in\n",
                "\n",
                "Glenn Berry has a comprehensive blog post and detailed Transact-SQL script for creating SQL Agent alerts at [The Accidental DBA (Day 17 of 30): Configuring Alerts for High Severity Problems - Glenn Berry (sqlskills.com)](https://www.sqlskills.com/blogs/glenn/the-accidental-dba-day-17-of-30-configuring-alerts-for-high-severity-problems/)\n",
                "\n",
                "# <span style=\"color:#cc5500;\">Corruption Demo</span>\n",
                "\n",
                "## <span style=\"color:#da2433;\">DISCLAIMER: This Demo purposefully corrupts a test database!!&nbsp; The information in this section should not be used on a production SQL Server system. Any problem, corruption, damage, or loss you cause by using the information presented here is entirely your own responsibility. Use at your own risk.&nbsp; If DBCC WRITEPAGE is run against the master database, it can cause your SQL Server to shut down and not start again until master is repair.&nbsp; It is highly recommended that you perform this on a test system.</span>\n",
                "\n",
                "Use on a Test User Database on a Test Server, and not on a System database.\n",
                "\n",
                "This setup script uses the undocumented DBCC WRITEPAGE command against a test database to cause corruption and the undocumented DBCC IND command to find pages to corrupt.  These two DBCC's were created by the Microsoft Product Group in order to create DBCC CHECKDB that is used in the repair of a database.\n",
                "\n",
                "### <span style=\"color:rgb(0, 204, 153);\">Run the Code block below</span>\n",
                "\n",
                "1. Click the run icon below\n",
                "2. If ADS prompts you for a connection, enter the correct SQL Server and authentication account\n",
                "3. View the results of the query by scrolling down to the results set\n",
                "\n",
                "Create the test database"
            ],
            "metadata": {
                "azdata_cell_guid": "1bb67e45-61e9-4695-8ac2-161967b5373a"
            },
            "attachments": {}
        },
        {
            "cell_type": "code",
            "source": [
                "USE [master];\r\n",
                "GO\r\n",
                "--If exists, drop the Company database\r\n",
                "IF DATABASEPROPERTYEX (N'Company', N'Version') > 0\r\n",
                "BEGIN\r\n",
                "\tALTER DATABASE [Company] SET SINGLE_USER\r\n",
                "\t\tWITH ROLLBACK IMMEDIATE;\r\n",
                "\tDROP DATABASE [Company];\r\n",
                "END\r\n",
                "GO\r\n",
                "--Modify the file path for your environment and create the database\r\n",
                "CREATE DATABASE [Company] ON PRIMARY (\r\n",
                "    NAME = N'Company',\r\n",
                "    FILENAME = N'C:\\Program Files\\Microsoft SQL Server\\MSSQL14.VIPER\\MSSQL\\DATA\\Company.mdf')\r\n",
                "LOG ON (\r\n",
                "    NAME = N'Company_log',\r\n",
                "    FILENAME = N'C:\\Program Files\\Microsoft SQL Server\\MSSQL14.VIPER\\MSSQL\\DATA\\Company_log.ldf');\r\n",
                "GO"
            ],
            "metadata": {
                "azdata_cell_guid": "5c65d00e-2592-4c5a-87f3-f734a6a6f2f4",
                "tags": []
            },
            "outputs": [],
            "execution_count": null
        },
        {
            "cell_type": "markdown",
            "source": [
                "Insert 10 rows of data into the new test database named Company"
            ],
            "metadata": {
                "azdata_cell_guid": "75df9b5e-673b-448a-b79a-d9dd44a39c21"
            },
            "attachments": {}
        },
        {
            "cell_type": "code",
            "source": [
                "USE [Company];\r\n",
                "GO\r\n",
                "\r\n",
                "CREATE TABLE [RandomData] (\r\n",
                "\t[c1]  INT IDENTITY,\r\n",
                "\t[c2]  CHAR (8000) DEFAULT 'a');\r\n",
                "GO\r\n",
                "\r\n",
                "INSERT INTO [RandomData] DEFAULT VALUES;\r\n",
                "GO 10\r\n",
                "SELECT c1, c2\r\n",
                "FROM RandomData"
            ],
            "metadata": {
                "azdata_cell_guid": "76843f52-18ce-49fd-a0b2-77ec89613a4a",
                "tags": []
            },
            "outputs": [],
            "execution_count": null
        },
        {
            "cell_type": "markdown",
            "source": [
                "View what the Page Protection is set to.  (default setting)"
            ],
            "metadata": {
                "azdata_cell_guid": "17d1e0c0-09b0-4300-b6e9-2d301d5a2dfa"
            },
            "attachments": {}
        },
        {
            "cell_type": "code",
            "source": [
                "SELECT\r\n",
                "\t[page_verify_option],\r\n",
                "\t[page_verify_option_desc]\r\n",
                "FROM\r\n",
                "\tsys.databases\r\n",
                "WHERE\r\n",
                "\t[name] = N'Company';\r\n",
                "GO"
            ],
            "metadata": {
                "azdata_cell_guid": "caf6571b-b14e-4628-bf2b-d4003914b843"
            },
            "outputs": [],
            "execution_count": null
        },
        {
            "cell_type": "markdown",
            "source": [
                "Will now list the data pages for the Company database using the Microsoft Undocumented DBCC IND"
            ],
            "metadata": {
                "azdata_cell_guid": "6bda4a7d-b879-4764-a46b-9efb55185b65"
            },
            "attachments": {}
        },
        {
            "cell_type": "code",
            "source": [
                "DBCC IND (N'Company', N'RandomData', -1);\r\n",
                "GO"
            ],
            "metadata": {
                "azdata_cell_guid": "0f3baa8b-d583-4084-ab02-15d53d617ab7",
                "tags": []
            },
            "outputs": [],
            "execution_count": null
        },
        {
            "cell_type": "markdown",
            "source": [
                "You will now use the Microsoft Undocumented DBCC WRITEPAGE to corrupt one of the data pages you saw listed in the preceding query.\n",
                "\n",
                "WARNING!  Make sure you only use this command on your test database.\n",
                "\n",
                "dbcc WRITEPAGE ({'dbname' | dbid}, fileid, pageid, offset, length, data \\[, directORbufferpool\\])\n",
                "\n",
                "The parameters mean:\n",
                "\n",
                "- ‘dbname’ | dbid : self-explanatory\n",
                "- fileid : file ID containing the page to change\n",
                "- pageid : zero-based page number within that file\n",
                "- offset : zero-based offset in bytes from the start of the page\n",
                "- length : number of bytes to change, from 1 to 8\n",
                "- data : the new data to insert (in hex, in the form ‘0xAABBCC’ – example three-byte string)\n",
                "- directORbufferpool : whether to bypass the buffer pool or not (0/1)"
            ],
            "metadata": {
                "azdata_cell_guid": "7726714e-38ba-45ac-af2e-5e4f87a87f92"
            },
            "attachments": {}
        },
        {
            "cell_type": "code",
            "source": [
                "--We will now currupt a page.  You need to modify the  2nd and 3rd input parameters from B, B, to the fileid, and the pageid values returned to you in the above DBCC IND command in the previous cell.  \r\n",
                "--The remaining values you see of  0, 2, 0x0000, 1); leave as is.\r\n",
                "ALTER DATABASE [Company] SET SINGLE_USER;\r\n",
                "GO\r\n",
                "DBCC WRITEPAGE (N'Company', B, B, 0, 2, 0x0000, 1);\r\n",
                "GO\r\n",
                "ALTER DATABASE [Company] SET MULTI_USER;\r\n",
                "GO"
            ],
            "metadata": {
                "azdata_cell_guid": "12081b30-2b79-4d09-a83e-8c730e882231",
                "tags": []
            },
            "outputs": [],
            "execution_count": null
        },
        {
            "cell_type": "markdown",
            "source": [
                "Before we demo the results of the corruption, we will first clean the SQL Error log by giving it a cycle"
            ],
            "metadata": {
                "azdata_cell_guid": "727c7352-d4a2-49f8-a34d-f1b8a3e945a5"
            },
            "attachments": {}
        },
        {
            "cell_type": "code",
            "source": [
                "-- Clean the error log and suspect_pages\r\n",
                "DELETE FROM [msdb].[dbo].[suspect_pages];\r\n",
                "EXEC sp_cycle_errorlog;\r\n",
                "GO"
            ],
            "metadata": {
                "azdata_cell_guid": "ac893eed-7a31-4839-ba1d-e80c98c4e6f7",
                "tags": []
            },
            "outputs": [],
            "execution_count": null
        },
        {
            "cell_type": "markdown",
            "source": [
                "We will now trip the I/O Error"
            ],
            "metadata": {
                "azdata_cell_guid": "a3eac1ae-f43c-4dcc-83c4-b8e5619cba8c"
            },
            "attachments": {}
        },
        {
            "cell_type": "code",
            "source": [
                "-- Trip the I/O error\r\n",
                "USE Company\r\n",
                "GO\r\n",
                "SELECT\r\n",
                "\t*\r\n",
                "FROM\r\n",
                "\t[Company].[dbo].[RandomData];\r\n",
                "GO\r\n",
                ""
            ],
            "metadata": {
                "azdata_cell_guid": "e8fa0b04-d836-4771-8e17-31bd1a9a9410"
            },
            "outputs": [],
            "execution_count": null
        },
        {
            "cell_type": "markdown",
            "source": [
                "After running the select query, if it killed your connection to SQL Server, Reconnect this Notebook to your Test Server\n",
                "\n",
                "We will now read the SQL Server Error Log"
            ],
            "metadata": {
                "azdata_cell_guid": "4cbc71b7-1673-424d-be64-b9faa1266eac"
            },
            "attachments": {}
        },
        {
            "cell_type": "code",
            "source": [
                "EXEC xp_ReadErrorLog"
            ],
            "metadata": {
                "azdata_cell_guid": "3ad1dde7-f9bf-44c4-b7ea-4c19c9a2e053"
            },
            "outputs": [],
            "execution_count": null
        },
        {
            "cell_type": "markdown",
            "source": [
                "Open up your computers Event Viewer and read review the 824 Error\n",
                "\n",
                "Let's trigger the error one more time"
            ],
            "metadata": {
                "azdata_cell_guid": "e1110d15-6913-46d6-b088-a4d5301dd493"
            },
            "attachments": {}
        },
        {
            "cell_type": "code",
            "source": [
                "-- Trigger the error again\r\n",
                "SELECT\r\n",
                "\t*\r\n",
                "FROM\r\n",
                "\t[Company].[dbo].[RandomData];\r\n",
                "GO\r\n",
                ""
            ],
            "metadata": {
                "azdata_cell_guid": "0db1eb37-cf89-4244-894b-a72c9dbfff72"
            },
            "outputs": [],
            "execution_count": null
        },
        {
            "cell_type": "markdown",
            "source": [
                "Now, let's read the suspect\\_pages table in the msdb database"
            ],
            "metadata": {
                "azdata_cell_guid": "e154ab7c-c545-46d5-82ef-42753518cff5"
            },
            "attachments": {}
        },
        {
            "cell_type": "code",
            "source": [
                "SELECT\r\n",
                "\t*\r\n",
                "FROM\r\n",
                "\t[msdb].[dbo].[suspect_pages];\r\n",
                "GO"
            ],
            "metadata": {
                "azdata_cell_guid": "2b11a4fe-3b12-47bc-b712-ec8b556ac0b2",
                "tags": []
            },
            "outputs": [],
            "execution_count": null
        },
        {
            "cell_type": "markdown",
            "source": [
                "Now that the demo has concluded, let's drop the Company test database"
            ],
            "metadata": {
                "azdata_cell_guid": "c19f3dcd-d944-4f5c-b480-5ffcf2e25984"
            },
            "attachments": {}
        },
        {
            "cell_type": "code",
            "source": [
                "USE [master];\r\n",
                "GO\r\n",
                "\r\n",
                "IF DATABASEPROPERTYEX (N'Company', N'Version') > 0\r\n",
                "BEGIN\r\n",
                "\tALTER DATABASE [Company] SET SINGLE_USER\r\n",
                "\t\tWITH ROLLBACK IMMEDIATE;\r\n",
                "\tDROP DATABASE [Company];\r\n",
                "END\r\n",
                "GO"
            ],
            "metadata": {
                "azdata_cell_guid": "5f3e3fc2-9497-4cd6-8439-ebf1a5e4fb91"
            },
            "outputs": [],
            "execution_count": null
        }
    ]
}