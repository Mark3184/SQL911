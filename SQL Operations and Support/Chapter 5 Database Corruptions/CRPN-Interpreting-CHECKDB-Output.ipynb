{
    "metadata": {
        "kernelspec": {
            "name": "SQL",
            "display_name": "SQL",
            "language": "sql"
        },
        "language_info": {
            "name": "sql",
            "version": ""
        }
    },
    "nbformat_minor": 2,
    "nbformat": 4,
    "cells": [
        {
            "cell_type": "markdown",
            "source": [
                "![CH5-ADS.png](.\\Media\\CH5-ADS.png)\r\n",
                "# <span style=\"color:#cc5500;\">Interpreting DBCC CHECKDB Output</span>"
            ],
            "metadata": {
                "azdata_cell_guid": "adb27991-239b-4518-87e5-57d12f753391"
            }
        },
        {
            "cell_type": "markdown",
            "source": [
                "The first signs of Corruption\n",
                "\n",
                "- Users report connections being broken, possibly 823 or 824 errors\n",
                "- Backup jobs start failing\n",
                "    - Error 3043 –backup detected checksum errors\n",
                "- SQL Agent alerts start firing\n",
                "- Maintenance jobs start failing\n",
                "- Errors in the SQL Server error log\n",
                "\n",
                "All these are signs that you’ve got corruption somewhere\n",
                "\n",
                "Running DBCC CHECKDB  \n",
                "\n",
                "- Use the following command with only these options:\n",
                "-  DBCC CHECKDB (yourdb) WITH NO\\_INFOMSGS\n",
                "    - Add ALL\\_ERRORMSGSwhen using SQL Server 2008 RTM or before\n",
                "- It is a good idea to know in advance through your previous checks, to know how long it usually takes to run for a database\n",
                "    - Allows you to report to management how long before results are known when a disaster occurs\n",
                "    - Longer run time usually indicates some corruption has been found\n",
                "- Wait for the command to complete\n",
                "    - It’s the only way to know what corruptions you have\n",
                "    - Don’t jump the gun and assume you need to restore\n",
                "- Look through the output for anything significant\n",
                "\n",
                "## <span style=\"color:#cc5500;\">Where Does DBCC CHECKDB Output Go?</span>\n",
                "\n",
                "- As long as the command is not interrupted:\n",
                "    - Completion message is written to the SQL Server error log\n",
                "    - Completion message is written to the Windows Application event log\n",
                "- Regular output only goes to the connection running the command\n",
                "- If corruptions are found:\n",
                "    - Severity 16 messages are printed as part of the output but do not cause TRY/CATCH blocks to go into the CATCH block\n",
                "    - SSMS (SQL Server Management Studio) will report that the query failed, even though the command completed successfully\n",
                "    - SSMS will only report the first 1,000 error messages\n",
                "\n",
                "\n",
                "# <span style=\"color:#cc5500;\">Corruption Demo</span>\n",
                "\n",
                "## <span style=\"color:#da2433;\">DISCLAIMER: This Demo purposefully corrupts a test database!!&nbsp; The information in this section should not be used on a production SQL Server system. Any problem, corruption, damage, or loss you cause by using the information presented here is entirely your own responsibility. Use at your own risk.&nbsp; If DBCC WRITEPAGE is run against the master database, it can cause your SQL Server to shut down and not start again until master is repair.&nbsp; It is highly recommended that you perform this on a test system.</span>\n",
                "\n",
                "Use on a Test User Database on a Test Server, and not on a System database.\n",
                "\n",
                "This setup script uses the undocumented DBCC WRITEPAGE command against a test database to cause corruption and the undocumented DBCC IND command to find pages to corrupt.  These two DBCC's were created by the Microsoft Product Group in order to create DBCC CHECKDB that is used in the repair of a database.\n",
                "\n",
                "### <span style=\"color:rgb(0, 204, 153);\">Run the Code block below</span>\n",
                "\n",
                "1. Click the run icon below\n",
                "2. If ADS prompts you for a connection, enter the correct SQL Server and authentication account\n",
                "3. View the results of the query by scrolling down to the results set"
            ],
            "metadata": {
                "azdata_cell_guid": "2a3ce004-7453-4dc2-8a71-06e8d9801495"
            },
            "attachments": {}
        },
        {
            "cell_type": "code",
            "source": [
                "-- Cleanup from the previous notebook demo\r\n",
                "-- Create 2 test databases\r\n",
                "USE [master];\r\n",
                "GO\r\n",
                "\r\n",
                "IF DATABASEPROPERTYEX (N'Company', N'Version') > 0\r\n",
                "BEGIN\r\n",
                "\tALTER DATABASE [Company] SET SINGLE_USER\r\n",
                "\t\tWITH ROLLBACK IMMEDIATE;\r\n",
                "\tDROP DATABASE [Company];\r\n",
                "END\r\n",
                "GO\r\n",
                "\r\n",
                "-- Create a new database\r\n",
                "CREATE DATABASE [Company] ON PRIMARY (\r\n",
                "    NAME = N'Company',\r\n",
                "    FILENAME = N'C:\\Program Files\\Microsoft SQL Server\\MSSQL14.VIPER\\MSSQL\\DATA\\Company.mdf')  --modify path for your environment\r\n",
                "LOG ON (\r\n",
                "    NAME = N'Company_log',\r\n",
                "    FILENAME = N'C:\\Program Files\\Microsoft SQL Server\\MSSQL14.VIPER\\MSSQL\\DATA\\Company_log.ldf'); --modify path for your environment\r\n",
                "GO\r\n",
                "\r\n",
                "IF DATABASEPROPERTYEX (N'Company2', N'Version') > 0\r\n",
                "BEGIN\r\n",
                "\tALTER DATABASE [Company2] SET SINGLE_USER\r\n",
                "\t\tWITH ROLLBACK IMMEDIATE;\r\n",
                "\tDROP DATABASE [Company2];\r\n",
                "END\r\n",
                "GO\r\n",
                "\r\n",
                "-- Create a new database\r\n",
                "CREATE DATABASE [Company2] ON PRIMARY (\r\n",
                "    NAME = N'Company2',\r\n",
                "    FILENAME = N'C:\\Program Files\\Microsoft SQL Server\\MSSQL14.VIPER\\MSSQL\\DATA\\Company2.mdf')  --modify path for your environment\r\n",
                "LOG ON (\r\n",
                "    NAME = N'Company2_log',\r\n",
                "    FILENAME = N'C:\\Program Files\\Microsoft SQL Server\\MSSQL14.VIPER\\MSSQL\\DATA\\Company2_log.ldf'); --modify path for your environment\r\n",
                "GO"
            ],
            "metadata": {
                "azdata_cell_guid": "7d1463a9-71a4-4202-9427-51db3c982dcc",
                "tags": []
            },
            "outputs": [],
            "execution_count": null
        },
        {
            "cell_type": "code",
            "source": [
                "-- Create a table in each test database and add some records \r\n",
                "USE [Company];\r\n",
                "GO\r\n",
                "\r\n",
                "CREATE TABLE [RandomData] (\r\n",
                "\t[c1]  INT IDENTITY,\r\n",
                "\t[c2]  CHAR (8000) DEFAULT 'a');\r\n",
                "GO\r\n",
                "\r\n",
                "INSERT INTO [RandomData] DEFAULT VALUES;\r\n",
                "GO 10\r\n",
                "\r\n",
                "USE [Company2];\r\n",
                "GO\r\n",
                "\r\n",
                "CREATE TABLE [RandomData] (\r\n",
                "\t[c1]  INT IDENTITY,\r\n",
                "\t[c2]  CHAR (8000) DEFAULT 'a');\r\n",
                "GO\r\n",
                "\r\n",
                "INSERT INTO [RandomData] DEFAULT VALUES;\r\n",
                "GO 10"
            ],
            "metadata": {
                "azdata_cell_guid": "7b67dee6-a51d-44aa-8a21-b12be6dc9f55"
            },
            "outputs": [],
            "execution_count": null
        },
        {
            "cell_type": "code",
            "source": [
                "-- List the pages in the table in the Company2 database\r\n",
                "DBCC IND (N'Company2', N'RandomData', -1);\r\n",
                "GO\r\n",
                ""
            ],
            "metadata": {
                "azdata_cell_guid": "23949e7f-48d9-4172-8561-8d2e00435181"
            },
            "outputs": [],
            "execution_count": null
        },
        {
            "cell_type": "markdown",
            "source": [
                "Pick a data page to corrupt.\n",
                "\n",
                "Your query will return different values, but in my case, I'm going to choose  PageFID 1 and PagePID 364\n",
                "\n",
                "![CH5-Page-IND.jpg](.\\Media\\CH5-Page-IND.jpg)"
            ],
            "metadata": {
                "azdata_cell_guid": "0c1699b5-778b-4446-8d1f-e58ab8d961e1"
            },
            "attachments": {}
        },
        {
            "cell_type": "code",
            "source": [
                "-- Pick a page in Company2 to corrupt\r\n",
                "-- Just replace the two values for B, B  the remaining values in place   (N'Company2', B, B, 0, 2, 0x0000, 1);\r\n",
                "ALTER DATABASE [Company2] SET SINGLE_USER;\r\n",
                "GO\r\n",
                "DBCC WRITEPAGE (N'Company2', 1, 364, 0, 2, 0x0000, 1);\r\n",
                "GO\r\n",
                "ALTER DATABASE [Company2] SET MULTI_USER;\r\n",
                "GO\r\n",
                ""
            ],
            "metadata": {
                "azdata_cell_guid": "53205bd6-173d-436e-b0e1-e7e97f25a857"
            },
            "outputs": [],
            "execution_count": null
        },
        {
            "cell_type": "code",
            "source": [
                "-- Do some cleanup before the demo\r\n",
                "-- Clean the error log and suspect_pages\r\n",
                "DELETE FROM [msdb].[dbo].[suspect_pages];\r\n",
                "EXEC sp_cycle_errorlog;\r\n",
                "GO"
            ],
            "metadata": {
                "azdata_cell_guid": "c3714804-d483-4c56-93e1-4f7845c70435"
            },
            "outputs": [],
            "execution_count": null
        },
        {
            "cell_type": "markdown",
            "source": [
                "Now that we have picked a page to Corrupt, cleared out the msdb suspect\\_pages table, and cycled the error log, We are now ready for the demo\n",
                "\n",
                "### <span style=\"color:rgb(0, 204, 153);\">Run the Code block below</span>\n",
                "\n",
                "1. Click the run icon below\n",
                "2. If ADS prompts you for a connection, enter the correct SQL Server and authentication account\n",
                "3. View the results of the query by scrolling down to the results set"
            ],
            "metadata": {
                "azdata_cell_guid": "ee1561f7-3df7-4655-8e08-30e8a503c3f6"
            },
            "attachments": {}
        },
        {
            "cell_type": "code",
            "source": [
                "-- Run CHECKDB on the good database and view the results\r\n",
                "DBCC CHECKDB (N'Company') WITH NO_INFOMSGS;\r\n",
                "GO"
            ],
            "metadata": {
                "azdata_cell_guid": "d4ad406b-084a-438c-8efa-1d41fa98fd58",
                "tags": []
            },
            "outputs": [],
            "execution_count": null
        },
        {
            "cell_type": "code",
            "source": [
                "-- No check the Corrupt database and view the results of the two Level 16 errors and that the page you corrupted cannot be processed\r\n",
                "-- Review the two consistency errors.  It identifies the impacted table and then gives you a summary of the database\r\n",
                "-- Then it tells you, that if you want to fix this, repair_allow_data_loss is the minimum repair level\r\n",
                "DBCC CHECKDB (N'Company2') WITH NO_INFOMSGS;\r\n",
                "GO\r\n",
                "\r\n",
                "-- You can also review the SQL Error Log and in the Error Log, you can find the location of the text file created by the Stack Dump and review the contents of the dump file"
            ],
            "metadata": {
                "azdata_cell_guid": "b8d94ca5-69ba-4903-9cff-4002686d9eb4"
            },
            "outputs": [],
            "execution_count": null
        },
        {
            "cell_type": "markdown",
            "source": [
                "## <span style=\"color:#cc5500;\">Interpreting the Output</span>\n",
                "\n",
                "- There are over 100 errors that DBCC CHECKDB can output, some with over 200 message states\n",
                "    \n",
                "    - Effectively there are roughly a thousand different corruption conditions that can be reported\n",
                "- Figuring out what one corruption means isn’t too bad\n",
                "    \n",
                "    - We have some of them published and they can be found by searching Bing or Google for the Error Message\n",
                "- Figuring out multiple corruptions can become very hard and usually isn’t worth the time\n",
                "    \n",
                "- There are some tips and tricks you can use to determine the course of action to take and we will cover those in this notebook\n",
                "    \n",
                "- Did DBCC CHECKDB fail?\n",
                "    \n",
                "    - If it stops before completing successfully, something bad has happened that is preventing it from running correctly\n",
                "    - <span style=\"color:#cc5500;\">This means there is no choice but to restore from a backup or try exporting the data, as DBCC CHECKDB cannot be forced to run (and hence repair)</span>\n",
                "- Examples of fatal (to DBCC CHECKDB) errors:\n",
                "    \n",
                "    - 7984 –7988: corruption in critical system tables\n",
                "    - 8967: invalid states within DBCC CHECKDB itself\n",
                "    - 8930: corrupt metadata such that DBCC CHECKDB could not run\n",
                "- The SQL Server error log message will list an error state\n",
                "\n",
                "## <span style=\"color:#cc5500;\">Here's more to help you</span>\n",
                "\n",
                "- Are the corruptions only in nonclustered indexes?\n",
                "    \n",
                "    - <span style=\"background-color: rgba(127, 127, 127, 0.1);\">If recommended repair level is REPAIR_REBUILD, then yes</span>\n",
                "    - Otherwise, check all the index IDs in the errors and if they’re all greater than 1, then yes\n",
                "    - If yes, you don’t need to restore or run repair, as we’ll see in Module 8\n",
                "- Was there an un-repairable error found?\n",
                "    - Examples:\n",
                "        - 2570 error: invalid data for the column type (data purity error)\n",
                "        - 8992 error: CHECKCATALOG(metadata mismatch) error\n",
                "        - 8909, 8938, 8939 (page header corruption) errors where type is ‘PFS’\n",
                "        - None of these can be automatically repaired so your options are to restore or to attempt manual repairs\n",
                "\n",
                "- Everything else not mentioned I classify as “general corruptions”\n",
                "    - Your options are to restore or repair or export to a new database\n",
                "- The more corruptions there are, the harder it is to figure out what’s actually broken\n",
                "    - It also depends on what kind of page is corrupt\n",
                "- For example, for a data page in the leaf level of a clustered index:\n",
                "    - There may just be one error about one row on the page\n",
                "    - And there may also be a matching error about each nonclustered index\n",
                "    - And there may also be a matching error about each off-row LOB value in the row\n",
                "- There may be an error that the entire page cannot be processed\n",
                "    - And there will also be errors about broken links to other pages\n",
                "    - And there may also be errors about nonclustered indexes"
            ],
            "metadata": {
                "azdata_cell_guid": "cea17d25-45e6-4718-8a41-09e593f02081"
            },
            "attachments": {}
        },
        {
            "cell_type": "markdown",
            "source": [
                "# <span style=\"color:#cc5500;\">Fatal Corruption Demo: Database Killers</span>\n",
                "\n",
                "## <span style=\"color:#da2433;\">DISCLAIMER: This Demo purposefully corrupts a test database!!&nbsp; The information in this section should not be used on a production SQL Server system. Any problem, corruption, damage, or loss you cause by using the information presented here is entirely your own responsibility. Use at your own risk.&nbsp; If DBCC WRITEPAGE is run against the master database, it can cause your SQL Server to shut down and not start again until master is repair.&nbsp; It is highly recommended that you perform this on a test system.</span>\n",
                "\n",
                "Use on a Test User Database on a Test Server, and not on a System database.\n",
                "\n",
                "This setup script uses the undocumented DBCC WRITEPAGE command against a test database to cause corruption and the undocumented DBCC IND command to find pages to corrupt.  These two DBCC's were created by the Microsoft Product Group in order to create DBCC CHECKDB that is used in the repair of a database.\n",
                "\n",
                "### <span style=\"color:rgb(0, 204, 153);\">Run the Code block below</span>\n",
                "\n",
                "1. Click the run icon below\n",
                "2. If ADS prompts you for a connection, enter the correct SQL Server and authentication account\n",
                "3. View the results of the query by scrolling down to the results set"
            ],
            "metadata": {
                "azdata_cell_guid": "c382ac53-9b28-4d12-81fd-647a57246534"
            },
            "attachments": {}
        },
        {
            "cell_type": "code",
            "source": [
                "-- Setup script for Fatal Errors demo.\r\n",
                "\r\n",
                "-- Remove any old databases and then re-create them fresh\r\n",
                "USE [master];\r\n",
                "GO\r\n",
                "\r\n",
                "IF DATABASEPROPERTYEX (N'FatalCorruption1', N'Version') > 0\r\n",
                "BEGIN\r\n",
                "\tALTER DATABASE [FatalCorruption1] SET SINGLE_USER\r\n",
                "\t\tWITH ROLLBACK IMMEDIATE;\r\n",
                "\tDROP DATABASE [FatalCorruption1];\r\n",
                "END\r\n",
                "\r\n",
                "IF DATABASEPROPERTYEX (N'FatalCorruption2', N'Version') > 0\r\n",
                "BEGIN\r\n",
                "\tALTER DATABASE [FatalCorruption2] SET SINGLE_USER\r\n",
                "\t\tWITH ROLLBACK IMMEDIATE;\r\n",
                "\tDROP DATABASE [FatalCorruption2];\r\n",
                "END\r\n",
                "GO\r\n",
                "\r\n",
                "IF DATABASEPROPERTYEX (N'FatalCorruption3', N'Version') > 0\r\n",
                "BEGIN\r\n",
                "\tALTER DATABASE [FatalCorruption3] SET SINGLE_USER\r\n",
                "\t\tWITH ROLLBACK IMMEDIATE;\r\n",
                "\tDROP DATABASE [FatalCorruption3];\r\n",
                "END\r\n",
                "GO\r\n",
                "\r\n",
                "-- Create new databases\r\n",
                "CREATE DATABASE [FatalCorruption1] ON PRIMARY (\r\n",
                "    NAME = N'FatalCorruption1',\r\n",
                "    FILENAME = N'C:\\Program Files\\Microsoft SQL Server\\MSSQL14.VIPER\\MSSQL\\DATA\\FatalCorruption1.mdf')  -- Modify for your path\r\n",
                "LOG ON (\r\n",
                "    NAME = N'FatalCorruption1_log',\r\n",
                "    FILENAME = N'C:\\Program Files\\Microsoft SQL Server\\MSSQL14.VIPER\\MSSQL\\DATA\\FatalCorruption1_log.ldf');  -- Modify for your path\r\n",
                "\r\n",
                "CREATE DATABASE [FatalCorruption2] ON PRIMARY (\r\n",
                "    NAME = N'FatalCorruption2',\r\n",
                "    FILENAME = N'C:\\Program Files\\Microsoft SQL Server\\MSSQL14.VIPER\\MSSQL\\DATA\\FatalCorruption2.mdf')  -- Modify for your path\r\n",
                "LOG ON (\r\n",
                "    NAME = N'FatalCorruption2_log',\r\n",
                "    FILENAME = N'C:\\Program Files\\Microsoft SQL Server\\MSSQL14.VIPER\\MSSQL\\DATA\\FatalCorruption2_log.ldf');  -- Modify for your path\r\n",
                "\r\n",
                "CREATE DATABASE [FatalCorruption3] ON PRIMARY (\r\n",
                "    NAME = N'FatalCorruption3',\r\n",
                "    FILENAME = N'C:\\Program Files\\Microsoft SQL Server\\MSSQL14.VIPER\\MSSQL\\DATA\\FatalCorruption3.mdf')  -- Modify for your path\r\n",
                "LOG ON (\r\n",
                "    NAME = N'FatalCorruption3_log',\r\n",
                "    FILENAME = N'C:\\Program Files\\Microsoft SQL Server\\MSSQL14.VIPER\\MSSQL\\DATA\\FatalCorruption3_log.ldf');  -- Modify for your path\r\n",
                "GO\r\n",
                ""
            ],
            "metadata": {
                "azdata_cell_guid": "07cfd9c3-38bb-4340-a35a-554fa22c45eb"
            },
            "outputs": [],
            "execution_count": null
        },
        {
            "cell_type": "code",
            "source": [
                "-- Disable page protection to allow the demo to work\r\n",
                "ALTER DATABASE [FatalCorruption1] SET PAGE_VERIFY NONE;\r\n",
                "ALTER DATABASE [FatalCorruption2] SET PAGE_VERIFY NONE;\r\n",
                "ALTER DATABASE [FatalCorruption3] SET PAGE_VERIFY NONE;\r\n",
                "GO"
            ],
            "metadata": {
                "azdata_cell_guid": "ca8ac463-6780-4643-a578-2bacd524b1ad"
            },
            "outputs": [],
            "execution_count": null
        },
        {
            "cell_type": "code",
            "source": [
                "-- Prepare databases for using DBCC WRITEPAGE\r\n",
                "ALTER DATABASE [FatalCorruption1] SET SINGLE_USER;\r\n",
                "ALTER DATABASE [FatalCorruption2] SET SINGLE_USER;\r\n",
                "ALTER DATABASE [FatalCorruption3] SET SINGLE_USER;\r\n",
                "GO"
            ],
            "metadata": {
                "azdata_cell_guid": "9fa468f5-c40f-4b0c-94e1-2d0ecca4b6a8"
            },
            "outputs": [],
            "execution_count": null
        },
        {
            "cell_type": "markdown",
            "source": [
                "Warning!\n",
                "\n",
                "Below, we will corrupt all three test databases in such a way that the create Fatal Errors"
            ],
            "metadata": {
                "azdata_cell_guid": "f57f1767-9213-47a6-b5d6-40be4a6094f1"
            },
            "attachments": {}
        },
        {
            "cell_type": "code",
            "source": [
                "-- Corrupt this databases' fileheader page which is page zero of every file\r\n",
                "DBCC WRITEPAGE (N'FatalCorruption1', 1, 0, 0, 4, 0x00000000, 1);\r\n",
                "GO\r\n",
                "\r\n",
                "-- Corrupt this databases' boot page\r\n",
                "DBCC WRITEPAGE (N'FatalCorruption2', 1, 9, 0, 4, 0x00000000, 1);\r\n",
                "GO\r\n",
                "\r\n",
                "-- Corrupt this databases' some of the critical system table metadata\r\n",
                "DBCC WRITEPAGE (N'FatalCorruption3', 1, 20, 0, 4, 0x00000000, 1);\r\n",
                "GO\r\n",
                "DBCC WRITEPAGE (N'FatalCorruption3', 1, 17, 0, 4, 0x00000000, 1);\r\n",
                "GO\r\n",
                ""
            ],
            "metadata": {
                "azdata_cell_guid": "78efea8a-9426-469b-8c71-ae9b69e1b54c"
            },
            "outputs": [],
            "execution_count": null
        },
        {
            "cell_type": "code",
            "source": [
                "-- Return databases to usable state.  Because of the corruption we created (you'll see an error when running this).  Ignore the error\r\n",
                "ALTER DATABASE [FatalCorruption1] SET MULTI_USER;\r\n",
                "ALTER DATABASE [FatalCorruption2] SET MULTI_USER;\r\n",
                "ALTER DATABASE [FatalCorruption3] SET MULTI_USER;\r\n",
                "GO"
            ],
            "metadata": {
                "azdata_cell_guid": "15e38c44-de13-4c0f-8d45-a3f534f8eb74"
            },
            "outputs": [],
            "execution_count": null
        },
        {
            "cell_type": "code",
            "source": [
                "-- Clean the error log and suspect_pages\r\n",
                "DELETE FROM [msdb].[dbo].[suspect_pages];\r\n",
                "EXEC sp_cycle_errorlog;\r\n",
                "GO"
            ],
            "metadata": {
                "azdata_cell_guid": "60978a37-f333-4bd3-94c4-2faeaf9e1d34"
            },
            "outputs": [],
            "execution_count": null
        },
        {
            "cell_type": "markdown",
            "source": [
                "It is now time to run DBCC CHECKDB to see the results of the damage we created."
            ],
            "metadata": {
                "azdata_cell_guid": "85f227f5-6298-45f9-97a3-660d9d83f314"
            },
            "attachments": {}
        },
        {
            "cell_type": "code",
            "source": [
                "-- Corrupt fileheader page\r\n",
                "DBCC CHECKDB (N'FatalCorruption1') WITH NO_INFOMSGS;\r\n",
                "GO\r\n",
                "\r\n",
                "-- View the results of the Errors.  You see that this is a fatal error, CHECKDB can't complete.  That also means that you will not be able to run REPAIR \r\n",
                "-- This now limits your RECOVERY options to RESTORE from backup or try to export data out to a new database"
            ],
            "metadata": {
                "azdata_cell_guid": "4f8174ab-ce94-491c-ae57-09edeb4f1c61",
                "tags": []
            },
            "outputs": [],
            "execution_count": null
        },
        {
            "cell_type": "code",
            "source": [
                "-- Corrupt boot page\r\n",
                "DBCC CHECKDB (N'FatalCorruption2') WITH NO_INFOMSGS;\r\n",
                "GO\r\n",
                "\r\n",
                "-- View the results of the Errors.  You see that this is a fatal error, CHECKDB can't complete.  That also means that you will not be able to run REPAIR \r\n",
                "-- This now limits your RECOVERY options to RESTORE from backup or try to export data out to a new database"
            ],
            "metadata": {
                "azdata_cell_guid": "3d63dda3-28a7-4fad-9f46-78871e1839de",
                "tags": []
            },
            "outputs": [],
            "execution_count": null
        },
        {
            "cell_type": "code",
            "source": [
                "-- Corrupt metadata\r\n",
                "-- You may see different messages depending on which\r\n",
                "-- version of SQL Server you are using\r\n",
                "DBCC CHECKDB (N'FatalCorruption3') WITH NO_INFOMSGS;\r\n",
                "GO\r\n",
                "\r\n",
                "-- View the results of the Errors.  You see that this is a fatal error, CHECKDB can't complete.  That also means that you will not be able to run REPAIR \r\n",
                "-- This now limits your RECOVERY options to RESTORE from backup or try to export data out to a new database"
            ],
            "metadata": {
                "azdata_cell_guid": "26fa7c09-9864-4069-bdf0-52106b645ed9",
                "tags": []
            },
            "outputs": [],
            "execution_count": null
        },
        {
            "cell_type": "markdown",
            "source": [
                "## <span style=\"color:#cc5500;\">Restore vs. Repair</span>\n",
                "\n",
                "Although many people say that repair is a last resort, it could be that restoring from a backup would take much longer than a repai.  If downtime is more important than data loss, repair may be better  There is always the option to try exporting data from the damaged database.\n",
                "\n",
                "Multiple decision points that can short-circuit the decision process\n",
                "\n",
                "- Do you still have a database?\n",
                "    - No –you must restore from a backup\n",
                "- Do you have working backups?\n",
                "    - No –you must use repair, or restore a damaged backup (advanced), or export data to a new database\n",
                "- Is the transaction log damaged?\n",
                "    - Yes –you must restore, or run emergency mode repair (advanced), or export data to a new database\n",
                "- Did DBCC CHECKDB fail?\n",
                "    - Yes –you must restore or export, as you cannot run repair\n",
                "- Is it just nonclustered indexes that are damaged?\n",
                "    - Yes –neither restore or repair, manually rebuild them (Module 8)\n",
                "- Are there any un-repairable errors?\n",
                "    - Yes –you must restore or export, or potentially manually repair them\n",
                "    - Some manual repairs are trivial, but most are (usually very) advanced\n",
                "- If you’re still able to make a repair vs. restore choice:\n",
                "    - Consider your down time and data loss Service Level Agreements\n",
                "    - Use whichever option you can which allows you to limit down time and data loss while still staying within the SLAs\n",
                "\n",
                "## <span style=\"color:#cc5500;\">Exporting data to a new database</span>\n",
                "\n",
                "- If repair or restore are not possible, you must export as much data as possible into a new database\n",
                "    - Steps to take:\n",
                "        - Create the new database with the same tables and indexes\n",
                "        - And stored procedures, functions, etc.\n",
                "        - SELECT as much data as possible from all tables into the new database\n",
                "\n",
                "Corruptions may complicate this and call for advanced methods"
            ],
            "metadata": {
                "azdata_cell_guid": "3b027dde-557c-48e0-ae99-c62ce5a7a2ec"
            },
            "attachments": {}
        }
    ]
}