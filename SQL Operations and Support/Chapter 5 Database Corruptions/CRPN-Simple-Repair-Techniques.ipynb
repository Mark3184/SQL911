{
    "metadata": {
        "kernelspec": {
            "name": "SQL",
            "display_name": "SQL",
            "language": "sql"
        },
        "language_info": {
            "name": "sql",
            "version": ""
        }
    },
    "nbformat_minor": 2,
    "nbformat": 4,
    "cells": [
        {
            "cell_type": "markdown",
            "source": [
                "![CH5-ADS.png](.\\Media\\CH5-ADS.png)\r\n",
                "# <span style=\"color:#cc5500;\">Simple Repair Techniques</span>"
            ],
            "metadata": {
                "azdata_cell_guid": "b57190bc-0916-45ae-9868-e5fcef0bebea"
            }
        },
        {
            "cell_type": "markdown",
            "source": [
                "The purpose of Repair, is to make the database structurally consistent and to do to this as fast and safely as possible.  Usually you’ll use repair because you do not have the backups necessary to restore your database with no data loss.  Be careful using repair or manually fixing corruptions as it may involve data loss and I recommend that you practice using repair or manually fixing corruptions before doing it for real in production.  \n",
                "\n",
                "In this Notebook we’ll cover:\n",
                "\n",
                "1. How repair works\n",
                "2. Repair options\n",
                "3. Manually fixing some corruptions\n",
                "\n",
                "- REPAIR\\_ALLOW\\_DATA\\_LOSS | REPAIR\\_FAST | REPAIR\\_REBUILD\n",
                "    - Specifies that DBCC CHECKDB repair the found errors. Use the REPAIR options only as a last resort. The specified database must be in single-user mode to use one of the following repair options.\n",
                "- REPAIR\\_ALLOW\\_DATA\\_LOSS\n",
                "    - Tries to repair all reported errors. These repairs can cause some data loss.\n",
                "    - The REPAIR\\_ALLOW\\_DATA\\_LOSS option is a supported feature but it may not always be the best option for bringing a database to a physically consistent state. If successful, the REPAIR\\_ALLOW\\_DATA\\_LOSS option may result in some data loss. In fact, it may result in more data lost than if a user were to restore the database from the last known good backup.\n",
                "- REPAIR\\_FAST\n",
                "    - Maintains syntax for backward compatibility only. No repair actions are performed.\n",
                "- REPAIR\\_REBUILD\n",
                "    - Performs repairs that have no possibility of data loss. This can include quick repairs, such as repairing missing rows in nonclustered indexes, and more time-consuming repairs, such as rebuilding an index.\n",
                "    - This argument does not repair errors involving FILESTREAM data.\n",
                "\n",
                "Microsoft always recommends a user restore from the last known good backup as the primary method to recover from errors reported by DBCC CHECKDB. The REPAIR\\_ALLOW\\_DATA\\_LOSS option is not an alternative for restoring from a known good backup. It is an emergency \"last resort\" option recommended for use only if restoring from a backup is not possible.\n",
                "\n",
                "Certain errors, that can only be repaired using the REPAIR\\_ALLOW\\_DATA\\_LOSS option, may involve deallocating a row, page, or series of pages to clear the errors. Any deallocated data is no longer accessible or recoverable for the user, and the exact contents of the deallocated data cannot be determined. Therefore, referential integrity may not be accurate after any rows or pages are deallocated because foreign key constraints are not checked or maintained as part of this repair operation. The user must inspect the referential integrity of their database (using DBCC CHECKCONSTRAINTS) after using the REPAIR\\_ALLOW\\_DATA\\_LOSS option.\n",
                "\n",
                "Before performing the repair, create physical copies of the files that belong to this database. This includes the primary data file (.mdf), any secondary data files (.ndf), all transaction log files (.ldf), and other containers that form the database including full text catalogs, file stream folders, memory optimized data, etc.\n",
                "\n",
                "Before performing the repair, consider changing the state of the database to EMERGENCY mode and trying to extract as much information possible from the critical tables and save that data.\n",
                "\n",
                "## <span style=\"color:#cc5500;\">How does Repair work?</span>\n",
                "\n",
                "- What is the purpose of repair?\n",
                "    - The purpose of repair is NOT to try and save all of your data.  Make the database structurally consistent so that the Storage Engine can process the database without running into other corruptions\n",
                "    - Tries to be as fast as possible which is why most of the repairs in the REPAIR\\_ALLOW\\_DATA\\_LOSS option are 'delete what is broken and fix up all of the links'\n",
                "- How does it know what to repair?\n",
                "    - Each stage of running CHECKDB it makes a list of corruptions it has found, and it processes those corruptions.\n",
                "- How does it process those corruptions and how does it choose what to repair first?\n",
                "    - It decides that based upon what corruptions there are\n",
                "    - Every corruption has a ranking of how intrusive of a repair it will be.  It processes the most intrusive errors first, because many times, when the most intrusive error is processed, it results in being able to cross some of the more minor issues off the list\n",
                "- Did it repair everything?\n",
                "    - Check the output.  At the bottom of the output it will display the count of errors: found x number of errors and fixed y number of errors.  If the two numbers match, then it thinks it fixed everything\n",
                "    - Be careful –some corruptions could be masked by others\n",
                "- Why do we have to put the database in Single User Mode.  Why aren’t repairs done while online?\n",
                "    - It is hard enough to get them right while offline, that it is simply too difficult if the database were online, to keep up with and track all of the changes that occurs on an online database\n",
                "\n",
                "## <span style=\"color:#cc5500;\">Be aware of REPAIR_ALLOW_DATA_LOSS</span>\n",
                "\n",
                "- It was very deliberately named\n",
                "- It usually fixes structural inconsistencies by de-allocating\n",
                "    - This is the fastest and most provably correct way\n",
                "- It doesn’t take into account:\n",
                "    - Foreign-key constraints\n",
                "    - Inherent business logic and data relationships\n",
                "    - Replication\n",
                "- Before running repair, protect yourself\n",
                "    - Take a backup and quiescereplication topologies involved\n",
                "- After running repair, check the data\n",
                "    - Run DBCC CHECKDB again to make sure all corruptions were repaired\n",
                "    - Run DBCC CHECKCONSTRAINTS if necessary\n",
                "    - Reinitialize any replication topologies involved\n",
                "\n",
                "## <span style=\"color:#cc5500;\">Examples of Repairs</span>\n",
                "\n",
                "- What does repair do to fix:\n",
                "    - A missing nonclustered index row\n",
                "        - There is special code in DBCC that will just insert the missing record and not modify the entire table\n",
                "    - A corrupt data record.  It depends on the level of corruption found\n",
                "        - Maybe it deletes just the record, or maybe it delete the whole page\n",
                "    - An extent allocated to multiple objects, for example, what if the corruption impacts pages in more than one table?\n",
                "        - Performs deeper examination of the pages in the extent and if it can't do the repair, it will delete the extent and then deallocate the associated pages\n",
                "- Remember there are some un-repairable errors\n",
                "    - System table clustered index data pages\n",
                "    - PFS pages\n",
                "    - Data purity errors\n",
                "\n",
                "## <span style=\"color:#cc5500;\">Misconceptions around Repair</span>\n",
                "\n",
                "- Repair will not cause data loss (it depends)\n",
                "- Repair should be run as the default (no)\n",
                "- You can run repair without running DBCC CHECKDB (no)\n",
                "- As soon as you’ve run repair, continue as normal (no)\n",
                "- Repair can always fix everything (no)\n",
                "- Repair is safe on system databases (no)\n",
                "- You can run repairs online (no)\n",
                "- REPAIR\\_REBUILD will fix everything (no)\n",
                "- Repair fixes up constraints (no)\n",
                "- Repairs are propagated to replication subscribers (no)"
            ],
            "metadata": {
                "azdata_cell_guid": "e175712f-0db4-4be1-863b-5095a3f401ae"
            },
            "attachments": {}
        },
        {
            "cell_type": "markdown",
            "source": [
                "# <span style=\"color:#cc5500;\">Repair Demo</span>\n",
                "\n",
                "## <span style=\"color:#da2433;\">DISCLAIMER: This Demo purposefully corrupts a test database!!&nbsp; The information in this section should not be used on a production SQL Server system. Any problem, corruption, damage, or loss you cause by using the information presented here is entirely your own responsibility. Use at your own risk.&nbsp; If DBCC WRITEPAGE is run against the master database, it can cause your SQL Server to shut down and not start again until master is repair.&nbsp; It is highly recommended that you perform this on a test system.</span>\n",
                "\n",
                "Use on a Test User Database on a Test Server, and not on a System database.\n",
                "\n",
                "This setup script uses the undocumented DBCC WRITEPAGE command against a test database to cause corruption and the undocumented DBCC IND command to find pages to corrupt.  These two DBCC's were created by the Microsoft Product Group in order to create DBCC CHECKDB that is used in the repair of a database.\n",
                "\n",
                "### <span style=\"color:rgb(0, 204, 153);\">Run the Code block below</span>\n",
                "\n",
                "1. Click the run icon below\n",
                "2. If ADS prompts you for a connection, enter the correct SQL Server and authentication account\n",
                "3. View the results of the query by scrolling down to the results set\n",
                "\n",
                "Create the test databases"
            ],
            "metadata": {
                "azdata_cell_guid": "02d8e600-27a3-41c1-b09d-9b40fc186ac0"
            },
            "attachments": {}
        },
        {
            "cell_type": "code",
            "source": [
                "-- If they exist, drop the 3 test databases for this demo\r\n",
                "USE [master];\r\n",
                "GO\r\n",
                "\r\n",
                "IF DATABASEPROPERTYEX (N'Company', N'Version') > 0\r\n",
                "BEGIN\r\n",
                "\tALTER DATABASE [Company] SET SINGLE_USER\r\n",
                "\t\tWITH ROLLBACK IMMEDIATE;\r\n",
                "\tDROP DATABASE [Company];\r\n",
                "END\r\n",
                "GO\r\n",
                "\r\n",
                "IF DATABASEPROPERTYEX (N'Company2', N'Version') > 0\r\n",
                "BEGIN\r\n",
                "\tALTER DATABASE [Company] SET SINGLE_USER\r\n",
                "\t\tWITH ROLLBACK IMMEDIATE;\r\n",
                "\tDROP DATABASE [Company2];\r\n",
                "END\r\n",
                "GO\r\n",
                "\r\n",
                "IF DATABASEPROPERTYEX (N'Company3', N'Version') > 0\r\n",
                "BEGIN\r\n",
                "\tALTER DATABASE [Company] SET SINGLE_USER\r\n",
                "\t\tWITH ROLLBACK IMMEDIATE;\r\n",
                "\tDROP DATABASE [Company3];\r\n",
                "END\r\n",
                "GO"
            ],
            "metadata": {
                "azdata_cell_guid": "31bae15b-8096-4c42-af56-ca839ab9aff7"
            },
            "outputs": [],
            "execution_count": null
        },
        {
            "cell_type": "code",
            "source": [
                "-- Create the first test database\r\n",
                "USE master\r\n",
                "GO\r\n",
                "CREATE DATABASE [Company] ON PRIMARY (\r\n",
                "    NAME = N'Company',\r\n",
                "    FILENAME = N'C:\\Program Files\\Microsoft SQL Server\\MSSQL14.VIPER\\MSSQL\\DATA\\Company.mdf')  -- Modify path for your environment\r\n",
                "LOG ON (\r\n",
                "    NAME = N'Company_log',\r\n",
                "    FILENAME = N'C:\\Program Files\\Microsoft SQL Server\\MSSQL14.VIPER\\MSSQL\\DATA\\Company_log.ldf');  -- Modify path for your environment\r\n",
                "GO\r\n",
                "\r\n",
                "-- Create a table and insert some records\r\n",
                "USE [Company];\r\n",
                "GO\r\n",
                "\r\n",
                "CREATE TABLE [RandomData] (\r\n",
                "\t[c1]  INT IDENTITY,\r\n",
                "\t[c2]  CHAR (8000) DEFAULT 'a');\r\n",
                "GO\r\n",
                "\r\n",
                "INSERT INTO [RandomData] DEFAULT VALUES;\r\n",
                "GO 10\r\n",
                "\r\n",
                "-- List the pages in the table\r\n",
                "DBCC IND (N'Company', N'RandomData', -1);\r\n",
                "GO"
            ],
            "metadata": {
                "azdata_cell_guid": "49bd4bce-19d4-4a81-a173-0d842895ed56",
                "tags": [
                    "hide_input"
                ]
            },
            "outputs": [],
            "execution_count": null
        },
        {
            "cell_type": "markdown",
            "source": [
                "We will now corrupt an IAM page (PageType 10) of the Company database.  From the DBCC IND query above, I see that my PageType 10 is PagePID is 332.  So we will pick 332.  (Your PagePID may have a different value)."
            ],
            "metadata": {
                "azdata_cell_guid": "f9539aec-f35c-4a5e-b4b6-fe13df7708e8"
            },
            "attachments": {}
        },
        {
            "cell_type": "code",
            "source": [
                "-- Pick a page to corrupt with type 10.  Just replace the two values for B, B below\r\n",
                "ALTER DATABASE [Company] SET SINGLE_USER;\r\n",
                "GO\r\n",
                "DBCC WRITEPAGE (N'Company', 1, 332, 0, 2, 0x0000, 1);\r\n",
                "GO\r\n",
                "ALTER DATABASE [Company] SET MULTI_USER;\r\n",
                "GO\r\n",
                ""
            ],
            "metadata": {
                "azdata_cell_guid": "07fa7c45-8d2b-42e4-9227-394463b0944f"
            },
            "outputs": [],
            "execution_count": null
        },
        {
            "cell_type": "code",
            "source": [
                "-- We will now create the 2nd test database \r\n",
                "USE master\r\n",
                "GO\r\n",
                "CREATE DATABASE [Company2] ON PRIMARY (\r\n",
                "    NAME = N'Company2',\r\n",
                "    FILENAME = N'C:\\Program Files\\Microsoft SQL Server\\MSSQL14.VIPER\\MSSQL\\DATA\\Company2.mdf')  -- Modify path for your environment\r\n",
                "LOG ON (\r\n",
                "    NAME = N'Company2_log',\r\n",
                "    FILENAME = N'C:\\Program Files\\Microsoft SQL Server\\MSSQL14.VIPER\\MSSQL\\DATA\\Company2_log.ldf');  -- Modify path for your environment\r\n",
                "GO\r\n",
                "\r\n",
                "USE [Company2];\r\n",
                "GO\r\n",
                "\r\n",
                "CREATE TABLE [RandomData] (\r\n",
                "\t[c1]  INT IDENTITY,\r\n",
                "\t[c2]  CHAR (8000) DEFAULT 'a');\r\n",
                "GO\r\n",
                "\r\n",
                "INSERT INTO [RandomData] DEFAULT VALUES;\r\n",
                "GO 10\r\n",
                "--  This time we will create a Clustered index on the table\r\n",
                "CREATE CLUSTERED INDEX [RandomData_Clustered]\r\n",
                "ON [RandomData] ([c1]);\r\n",
                "GO\r\n",
                "\r\n",
                "-- List the pages in the table\r\n",
                "DBCC IND (N'Company2', N'RandomData', -1);\r\n",
                "GO"
            ],
            "metadata": {
                "azdata_cell_guid": "c7d32f2e-1e38-49d2-a5b1-ae40271946bf"
            },
            "outputs": [],
            "execution_count": null
        },
        {
            "cell_type": "markdown",
            "source": [
                "We will now corrupt an Clustered Index page (PageType 2) of the Company2 database.  From the DBCC IND query above, I see that my PageType 2 is PageFID 1, PagePID is 408.  So we will pick 407.  (Your PagePID may have a different value)."
            ],
            "metadata": {
                "azdata_cell_guid": "a06d2f25-a30c-4935-8f27-239900bd0616"
            },
            "attachments": {}
        },
        {
            "cell_type": "code",
            "source": [
                "-- We will now corrupt a page in the Clustered Index of Company2 by using the PageType 2 value.  Modify this by inserting your valuse for B, B\r\n",
                "ALTER DATABASE [Company2] SET SINGLE_USER;\r\n",
                "GO\r\n",
                "DBCC WRITEPAGE (N'Company2', B, B, 0, 2, 0x0000, 1);\r\n",
                "GO\r\n",
                "ALTER DATABASE [Company2] SET MULTI_USER;\r\n",
                "GO"
            ],
            "metadata": {
                "azdata_cell_guid": "30e62ed5-b2e9-4311-bfac-d0ca8b570e21"
            },
            "outputs": [],
            "execution_count": null
        },
        {
            "cell_type": "code",
            "source": [
                "-- We will now create our Company3 database and we will corrupt an off-row LOB\r\n",
                "USE master\r\n",
                "GO\r\n",
                "CREATE DATABASE [Company3] ON PRIMARY (\r\n",
                "    NAME = N'Company3',\r\n",
                "    FILENAME = N'C:\\Program Files\\Microsoft SQL Server\\MSSQL14.VIPER\\MSSQL\\DATA\\Company3.mdf')  -- Modify path for your environment\r\n",
                "LOG ON (\r\n",
                "    NAME = N'Company3_log',\r\n",
                "    FILENAME = N'C:\\Program Files\\Microsoft SQL Server\\MSSQL14.VIPER\\MSSQL\\DATA\\Company3_log.ldf');  -- Modify path for your environment\r\n",
                "GO\r\n",
                "\r\n",
                "USE [Company3];\r\n",
                "GO\r\n",
                "CREATE TABLE [RandomData] (\r\n",
                "\t[c1]  INT IDENTITY,\r\n",
                "\t[c2]  VARCHAR (5000) DEFAULT REPLICATE ('a', 5000),\r\n",
                "\t[c3]  VARCHAR (5000) DEFAULT REPLICATE ('a', 5000));\r\n",
                "GO\r\n",
                "-- Do an insert that pushes the data to Off-Row LOB storage.\r\n",
                "INSERT INTO [RandomData] DEFAULT VALUES;\r\n",
                "GO 10\r\n",
                "\r\n",
                "-- List the pages in the table\r\n",
                "DBCC IND (N'Company3', N'RandomData', -1);\r\n",
                "GO\r\n",
                ""
            ],
            "metadata": {
                "azdata_cell_guid": "5f06c8f6-90f2-46c8-af03-489e387e0986"
            },
            "outputs": [],
            "execution_count": null
        },
        {
            "cell_type": "markdown",
            "source": [
                "We will now corrupt an IAM page (PageType 3) of the Company3 database.  From the DBCC IND query above, I see that one of my PageType 3 pages is PagePID is 352.  So we will pick 352.  (Your PagePID may have a different value)."
            ],
            "metadata": {
                "azdata_cell_guid": "a425985f-4fb4-46e0-877d-45bd0ed61d12"
            },
            "attachments": {}
        },
        {
            "cell_type": "code",
            "source": [
                "-- Pick a page to corrupt with type 3.  Modify your values for B, B\r\n",
                "ALTER DATABASE [Company3] SET SINGLE_USER;\r\n",
                "GO\r\n",
                "DBCC WRITEPAGE (N'Company3', B, B, 0, 2, 0x0000, 1);\r\n",
                "GO\r\n",
                "ALTER DATABASE [Company3] SET MULTI_USER;\r\n",
                "GO\r\n",
                "\r\n",
                "-- Clean the error log and suspect_pages to complete the setup portion for our demo coming next.\r\n",
                "DELETE FROM [msdb].[dbo].[suspect_pages];\r\n",
                "EXEC sp_cycle_errorlog;\r\n",
                "GO"
            ],
            "metadata": {
                "azdata_cell_guid": "0dacefe7-98ac-43ba-8c92-316bb217a194",
                "tags": []
            },
            "outputs": [],
            "execution_count": null
        },
        {
            "cell_type": "markdown",
            "source": [
                "# <span style=\"color:#cc5500;\">Lets' start making some repairs</span>\n",
                "\n",
                ""
            ],
            "metadata": {
                "azdata_cell_guid": "a4938a31-c833-43d0-8eca-83af8a213edf"
            },
            "attachments": {}
        },
        {
            "cell_type": "code",
            "source": [
                "-- Run DBCC CHECKDB against the Company\r\n",
                "-- The results will show you that you have a broken IAM page\r\n",
                "-- the results will show you that repair_allow_data_loss is the minimum repair level for the types of errors found.\r\n",
                "DBCC CHECKDB (N'Company') WITH NO_INFOMSGS;\r\n",
                "GO\r\n",
                ""
            ],
            "metadata": {
                "azdata_cell_guid": "58926cbe-8237-4ce2-8f22-a251fcad3c6d",
                "tags": []
            },
            "outputs": [],
            "execution_count": null
        },
        {
            "cell_type": "code",
            "source": [
                "--Run Repair\r\n",
                "-- Take the database into SINGLE_USER mode\r\n",
                "ALTER DATABASE [Company] SET SINGLE_USER;\r\n",
                "GO\r\n",
                "\r\n",
                "-- Run repair\r\n",
                "-- The results should display that the corruption has been repaired.  It fixes the IAM pages, and reallocates them.  It recreates the bloken and missing IAM page.\r\n",
                "DBCC CHECKDB (N'Company', REPAIR_ALLOW_DATA_LOSS)\r\n",
                "WITH NO_INFOMSGS;\r\n",
                "GO"
            ],
            "metadata": {
                "azdata_cell_guid": "abb2af3a-f72d-433d-85e3-55001e41a2dc"
            },
            "outputs": [],
            "execution_count": null
        },
        {
            "cell_type": "code",
            "source": [
                "-- A good practice after running repair, is to do another CHECKDB\r\n",
                "-- Check all corruptions were fixed\r\n",
                "DBCC CHECKDB (N'Company') WITH NO_INFOMSGS;\r\n",
                "GO"
            ],
            "metadata": {
                "azdata_cell_guid": "0b5d90d4-55eb-4a92-a582-5996491e8c41",
                "tags": []
            },
            "outputs": [],
            "execution_count": null
        },
        {
            "cell_type": "code",
            "source": [
                "-- The results should come back clean and we will now make the database available again\r\n",
                "-- Make the database MULTI_USER again\r\n",
                "ALTER DATABASE [Company] SET MULTI_USER;\r\n",
                "GO"
            ],
            "metadata": {
                "azdata_cell_guid": "629ec85a-9764-4904-be6a-1ac6c1ea4409"
            },
            "outputs": [],
            "execution_count": null
        },
        {
            "cell_type": "markdown",
            "source": [
                "Let's now see if we can repair the broken Clustered Index in Company2"
            ],
            "metadata": {
                "azdata_cell_guid": "fbe4db45-b963-4041-a594-8ecd29f6d1b8"
            },
            "attachments": {}
        },
        {
            "cell_type": "code",
            "source": [
                "-- Run CHECKDB on Company2\r\n",
                "-- It should show that all of your linkages in the B tree are broken now that a page in the Clustered Index was corrupted.\r\n",
                "-- It should show that repair_allow_data_loss is the minimum repair level for the errors found by DBCC CHECKDB (Company2).\r\n",
                "DBCC CHECKDB (N'Company2') WITH NO_INFOMSGS;\r\n",
                "GO\r\n",
                ""
            ],
            "metadata": {
                "azdata_cell_guid": "af3d2a8d-9bf8-4307-b3f7-92f6ed4b9268"
            },
            "outputs": [],
            "execution_count": null
        },
        {
            "cell_type": "code",
            "source": [
                "-- Let's run repair on Company2\r\n",
                "-- Take the database into SINGLE_USER mode\r\n",
                "ALTER DATABASE [Company2] SET SINGLE_USER;\r\n",
                "GO\r\n",
                "\r\n",
                "-- Run repair\r\n",
                "-- It should display that it will be able to deallocate the broken Index page, and then successfully rebuilt the index.  It should show that all of the broken parent/child page links are repaired.\r\n",
                "DBCC CHECKDB (N'Company2', REPAIR_ALLOW_DATA_LOSS)\r\n",
                "WITH NO_INFOMSGS;\r\n",
                "GO"
            ],
            "metadata": {
                "azdata_cell_guid": "7ee0802a-5a7d-4f62-98ab-bfdc62901eec"
            },
            "outputs": [],
            "execution_count": null
        },
        {
            "cell_type": "code",
            "source": [
                "-- Check all corruptions were fixed\r\n",
                "-- A good practice after running repair, is to do another CHECKDB\r\n",
                "DBCC CHECKDB (N'Company2') WITH NO_INFOMSGS;\r\n",
                "GO"
            ],
            "metadata": {
                "azdata_cell_guid": "c748516c-d85b-4511-89fa-cf4cfc9bdbda"
            },
            "outputs": [],
            "execution_count": null
        },
        {
            "cell_type": "code",
            "source": [
                "-- Make the database MULTI_USER again\r\n",
                "ALTER DATABASE [Company2] SET MULTI_USER;\r\n",
                "GO\r\n",
                ""
            ],
            "metadata": {
                "azdata_cell_guid": "1dd38c55-a181-47ac-b093-341e5362ebfa"
            },
            "outputs": [],
            "execution_count": null
        },
        {
            "cell_type": "markdown",
            "source": [
                "Let's now see if we can repair the broken off-row data in LOB storage"
            ],
            "metadata": {
                "azdata_cell_guid": "0806dc79-9b9e-4446-99b9-4d3ae59ad57f"
            },
            "attachments": {}
        },
        {
            "cell_type": "code",
            "source": [
                "-- Company3 CHECKDB\r\n",
                "-- The results should display that a text page cannot be processed\r\n",
                "-- It should also tell you that there is some off-row data that it can't get to.\r\n",
                "DBCC CHECKDB (N'Company3') WITH NO_INFOMSGS;\r\n",
                "GO"
            ],
            "metadata": {
                "azdata_cell_guid": "577dc9dd-e6e5-45f8-8dc8-daffee9f6e08"
            },
            "outputs": [],
            "execution_count": null
        },
        {
            "cell_type": "code",
            "source": [
                "-- Let's try and repair this\r\n",
                "-- Take the database into SINGLE_USER mode\r\n",
                "ALTER DATABASE [Company3] SET SINGLE_USER;\r\n",
                "GO\r\n",
                "\r\n",
                "-- Run repair\r\n",
                "-- It should display that an in-row data record is deleted and that the database corruption is repaired and consistent.\r\n",
                "DBCC CHECKDB (N'Company3', REPAIR_ALLOW_DATA_LOSS)\r\n",
                "WITH NO_INFOMSGS;\r\n",
                "GO"
            ],
            "metadata": {
                "azdata_cell_guid": "7c270aa6-80ac-4373-b89f-e4bc258bffbc"
            },
            "outputs": [],
            "execution_count": null
        },
        {
            "cell_type": "code",
            "source": [
                "-- Check all corruptions were fixed\r\n",
                "DBCC CHECKDB (N'Company3') WITH NO_INFOMSGS;\r\n",
                "GO\r\n",
                ""
            ],
            "metadata": {
                "azdata_cell_guid": "067daf2b-4ae4-49a9-ab05-c1f16796b277"
            },
            "outputs": [],
            "execution_count": null
        },
        {
            "cell_type": "code",
            "source": [
                "-- But, did we lose any data?\r\n",
                "\r\n",
                "SELECT COUNT (*) FROM [Company3].[dbo].[RandomData];"
            ],
            "metadata": {
                "azdata_cell_guid": "7087529a-c7e9-4e7d-9f27-ffea796ba447"
            },
            "outputs": [],
            "execution_count": null
        },
        {
            "cell_type": "code",
            "source": [
                "-- Yes, you can now see that using repair_allow_data_loss can result in true data loss.  You made the repair and the database is now healthy, but you are missing 1 of the 10 rows that were originally inserted\r\n",
                "\r\n",
                "-- Make the database MULTI_USER again\r\n",
                "ALTER DATABASE [Company3] SET MULTI_USER;\r\n",
                "GO"
            ],
            "metadata": {
                "azdata_cell_guid": "678120c6-022b-4acf-97db-e1cbe885aa2b"
            },
            "outputs": [],
            "execution_count": null
        },
        {
            "cell_type": "markdown",
            "source": [
                "## <span style=\"color:#cc5500;\">Manually Fixing Nonclustered Indexes</span>\n",
                "\n",
                "- It doesn’t make sense to put the database offline and run DBCC CHECKDB or DBCC CHECKTABLE with REPAIR\\_REBUILD to fix corrupt nonclustered indexes\n",
                "- All it will do is essentially disable and rebuild the index, so why not do it yourself, while keeping the database Online?\n",
                "- You cannot just rebuild the index\n",
                "    - Online rebuild, reads the old index to build the new index\n",
                "    - Offline rebuild, does that from SQL Server 2008 onward \n",
                "- Steps to use, inside a transaction:\n",
                "    - ALTER INDEX name ON tablename DISABLE\n",
                "    - ALTER INDEX name ON tablename REBUILD\n",
                "- Using a transaction is necessary to prevent any index-enforced constraints from being violated while the index is disabled.  If you disble or drop the index, outside the 'bounds' of a Transaction, If someone inserts a record, the theoretically could insert a record that violates your defined constraint.\n",
                "\n",
                "## <span style=\"color:#cc5500;\">Demo: Fixing a broken NCL index with out taking the database offline using Repair</span>"
            ],
            "metadata": {
                "azdata_cell_guid": "ed2c8d2a-8dd8-4bbc-9c53-cdd6c7d084c7"
            },
            "attachments": {}
        },
        {
            "cell_type": "markdown",
            "source": [
                "\r\n",
                "\r\n",
                "Prerequisite:  Download the Sample Database named SalesDB from this link: https://www.sqlskills.com/resources/conferences/salesdb2014.zip \r\n",
                "\r\n",
                "### <span style=\"color:rgb(0, 204, 153);\">Run the Code block below</span>\r\n",
                "\r\n",
                "1. Click the run icon below\r\n",
                "2. If ADS prompts you for a connection, enter the correct SQL Server and authentication account\r\n",
                "3. View the results of the query by scrolling down to the results set"
            ],
            "metadata": {
                "azdata_cell_guid": "e697d238-1402-4839-95ea-bb331901c94b"
            }
        },
        {
            "cell_type": "code",
            "source": [
                "-- Setup script for DBCC CHECK Options demo.\r\n",
                "\r\n",
                "-- Download the SalesDB Sample Database from the link above\r\n",
                "-- and unzip into one of your drives\r\n",
                "\r\n",
                "-- Restore as follows:\r\n",
                "USE [master];\r\n",
                "GO\r\n",
                "\r\n",
                "IF DATABASEPROPERTYEX (N'SalesDB', N'Version') > 0\r\n",
                "BEGIN\r\n",
                "\tALTER DATABASE [SalesDB] SET SINGLE_USER\r\n",
                "\t\tWITH ROLLBACK IMMEDIATE;\r\n",
                "\tDROP DATABASE [SalesDB];\r\n",
                "END\r\n",
                "GO\r\n",
                "\r\n",
                "RESTORE DATABASE [SalesDB]\r\n",
                "FROM DISK = N'C:\\Temp\\SalesDB2014.bak'  --modify path for your environment\r\n",
                "WITH\r\n",
                "    MOVE N'SalesDBData' TO N'C:\\Program Files\\Microsoft SQL Server\\MSSQL14.VIPER\\MSSQL\\DATA\\SalesDB.mdf',  --modify path for your environment\r\n",
                "\tMOVE N'SalesDBLog' TO N'C:\\Program Files\\Microsoft SQL Server\\MSSQL14.VIPER\\MSSQL\\DATA\\SalesDB_log.ldf';  --modify path for your environment\r\n",
                "GO"
            ],
            "metadata": {
                "azdata_cell_guid": "e824755f-c977-4e97-b212-547d1e018231"
            },
            "outputs": [],
            "execution_count": null
        },
        {
            "cell_type": "code",
            "source": [
                "-- Create the index we're going to break\r\n",
                "USE [SalesDB];\r\n",
                "GO\r\n",
                "CREATE NONCLUSTERED INDEX [CustomerName]\r\n",
                "ON [Customers] ([LastName]);\r\n",
                "\r\n",
                "-- What's the index ID?\r\n",
                "SELECT\r\n",
                "\t[index_id]\r\n",
                "FROM\r\n",
                "\tsys.indexes\r\n",
                "WHERE\r\n",
                "\t[name] = N'CustomerName'\r\n",
                "\tAND [object_id] = OBJECT_ID (N'Customers');\r\n",
                "GO\r\n",
                ""
            ],
            "metadata": {
                "azdata_cell_guid": "3e225689-3eab-4a22-9015-99333972913a"
            },
            "outputs": [],
            "execution_count": null
        },
        {
            "cell_type": "code",
            "source": [
                "-- Pass in the value of your NCL Index of 2 into DBCC IND\r\n",
                "-- List the pages in the index\r\n",
                "DBCC IND (N'SalesDB', N'Customers', 2);\r\n",
                "GO"
            ],
            "metadata": {
                "azdata_cell_guid": "c608d48a-663e-4adf-95db-db09025d8a30"
            },
            "outputs": [],
            "execution_count": null
        },
        {
            "cell_type": "markdown",
            "source": [
                "The query should show the ID of your new NCL Index is 2"
            ],
            "metadata": {
                "azdata_cell_guid": "f857e96b-eb81-46ac-a6ef-adf1cb77e2f3"
            },
            "attachments": {}
        },
        {
            "cell_type": "code",
            "source": [
                "-- Corrupt some records\r\n",
                "--Again, DBCC WRITEPAGE is an undocumented procedure so I am not able to comment further about the query below, but it will corrupt the NonClustered index in the SalesDB Test database\r\n",
                "--If you are not using SQL Server 2019 the 2nd value below 24696 may be an invalid number and you need to pick one that will be slightly different\r\n",
                "ALTER DATABASE [SalesDB] SET SINGLE_USER;\r\n",
                "GO\r\n",
                "DBCC WRITEPAGE (N'SalesDB', 1, 24696, 134, 1, 0x64);\r\n",
                "DBCC WRITEPAGE (N'SalesDB', 1, 24696, 196, 1, 0x70);\r\n",
                "DBCC WRITEPAGE (N'SalesDB', 1, 24696, 2396, 1, 0x74);\r\n",
                "DBCC WRITEPAGE (N'SalesDB', 1, 24696, 2698, 1, 0x74);\r\n",
                "DBCC WRITEPAGE (N'SalesDB', 1, 24696, 2748, 1, 0x70);\r\n",
                "GO\r\n",
                "ALTER DATABASE [SalesDB] SET MULTI_USER;\r\n",
                "GO\r\n",
                "\r\n",
                "-- Clean the error log and suspect_pages\r\n",
                "DELETE FROM [msdb].[dbo].[suspect_pages];\r\n",
                "EXEC sp_cycle_errorlog;\r\n",
                "GO"
            ],
            "metadata": {
                "azdata_cell_guid": "d7722e18-0dbc-4daf-87af-e536aebd85b3"
            },
            "outputs": [],
            "execution_count": null
        },
        {
            "cell_type": "code",
            "source": [
                "-- Run a CHECKDB\r\n",
                "-- It should display\r\n",
                "-- It should display repair_rebuild is the minimum repair level for the errors found by DBCC CHECKDB (SalesDB).\r\n",
                "DBCC CHECKDB (N'SalesDB') WITH NO_INFOMSGS;\r\n",
                "GO\r\n",
                ""
            ],
            "metadata": {
                "azdata_cell_guid": "29a31c94-9350-4f63-a687-b69197131cd3"
            },
            "outputs": [],
            "execution_count": null
        },
        {
            "cell_type": "code",
            "source": [
                "-- Is it just non-clustered indexes that are impacted?\r\n",
                "-- We've only corrupted a few pages.  Imagine how difficult it would be if you had hundreds of errors\r\n",
                "-- Scan through all the errors looking for index IDs\r\n",
                "-- Maybe use WITH TABLERESULTS?\r\n",
                "DBCC CHECKDB (N'SalesDB') WITH NO_INFOMSGS, TABLERESULTS;\r\n",
                "GO"
            ],
            "metadata": {
                "azdata_cell_guid": "cdeca19c-a483-48f4-ac3a-2debaa76ec1e",
                "tags": []
            },
            "outputs": [],
            "execution_count": null
        },
        {
            "cell_type": "markdown",
            "source": [
                "This gives you a very nice readable output using TABLERESULTS and you will see that the IndexID column is displaying that all of the errors were error related to a NonClustered Index."
            ],
            "metadata": {
                "azdata_cell_guid": "20e80bc2-24af-41b8-bb2e-fd2b075812f0"
            },
            "attachments": {}
        },
        {
            "cell_type": "code",
            "source": [
                "-- If you wanted to fix them with DBCC CHECKDB, it\r\n",
                "-- may do single row repairs or rebuild the index,\r\n",
                "-- depending on the error\r\n",
                "DBCC CHECKDB (N'SalesDB', REPAIR_REBUILD) WITH NO_INFOMSGS;\r\n",
                "GO\r\n",
                ""
            ],
            "metadata": {
                "azdata_cell_guid": "11e04a10-10b5-4981-8cf8-78ecfda17b70"
            },
            "outputs": [],
            "execution_count": null
        },
        {
            "cell_type": "markdown",
            "source": [
                "As you see, it is not going to let us run this, because the database needs to be in SINGLE User Mode to run repair.  We don't want to put the database into SINGLE user mode just to rebuild an index, so this is not the option we want."
            ],
            "metadata": {
                "azdata_cell_guid": "7a39d3c5-847f-4c36-860b-5faf0e01adc1"
            },
            "attachments": {}
        },
        {
            "cell_type": "code",
            "source": [
                "-- You need to be in SINGLE_USER mode! Just to fix non-clustered indexes with CHECKDB\r\n",
                "-- That doesn't make sense. Just rebuild them manually and keep the database online. \r\n",
                "-- Try an online rebuild...\r\n",
                "USE [SalesDB];\r\n",
                "GO\r\n",
                "EXEC sp_HelpIndex N'Customers';\r\n",
                "GO\r\n",
                "\r\n",
                "ALTER INDEX [CustomerName] ON [Customers] REBUILD\r\n",
                "WITH (ONLINE = ON);\r\n",
                "GO"
            ],
            "metadata": {
                "azdata_cell_guid": "1349bc09-0a46-46b0-9552-b4cc3d62f825",
                "tags": []
            },
            "outputs": [],
            "execution_count": null
        },
        {
            "cell_type": "code",
            "source": [
                "-- And check again, to see if that worked.\r\n",
                "DBCC CHECKDB (N'SalesDB') WITH NO_INFOMSGS;\r\n",
                "GO"
            ],
            "metadata": {
                "azdata_cell_guid": "be416bec-80d3-436d-b3e7-ce15da246e32",
                "tags": []
            },
            "outputs": [],
            "execution_count": null
        },
        {
            "cell_type": "markdown",
            "source": [
                "That didn't work.  Why?  A REBUILD with ONLINE reads the old index.  So that is not going to work.  The missing rows and the broken rows are still going to then be in the new index.\n",
                "\n",
                "  \n",
                "\n",
                "So, what if we try an OFFLINE REBUILD?"
            ],
            "metadata": {
                "azdata_cell_guid": "391818f6-53b1-4cd1-b6b1-22dc142ed4ab"
            },
            "attachments": {}
        },
        {
            "cell_type": "code",
            "source": [
                "ALTER INDEX [CustomerName] ON [Customers] REBUILD;\r\n",
                "GO\r\n",
                "\r\n",
                "DBCC CHECKDB (N'SalesDB') WITH NO_INFOMSGS;\r\n",
                "GO"
            ],
            "metadata": {
                "azdata_cell_guid": "ccc50e7a-d83c-44d5-95bf-a7c44b392a3b"
            },
            "outputs": [],
            "execution_count": null
        },
        {
            "cell_type": "markdown",
            "source": [
                "That didn't work.  Why?  An OFFLINE REBUILD reads the old index as well.  So that is not going to work.  The missing rows and the broken rows are still going to then be in the new index."
            ],
            "metadata": {
                "azdata_cell_guid": "6104492d-2e94-4e80-ab99-acf000a94e68"
            },
            "attachments": {}
        },
        {
            "cell_type": "code",
            "source": [
                "-- But on 2008 onward you should disable and rebuild the index (or use repair to do it).\r\n",
                "USE [SalesDB];\r\n",
                "GO\r\n",
                "\r\n",
                "-- Do it inside a transaction to prevent problems by forcing locks to be held which should prevent constraint violations\r\n",
                "BEGIN TRAN;\r\n",
                "GO\r\n",
                "ALTER INDEX [CustomerName] ON [Customers] DISABLE;\r\n",
                "ALTER INDEX [CustomerName] ON [Customers] REBUILD;\r\n",
                "GO\r\n",
                "COMMIT TRAN;\r\n",
                "GO\r\n",
                ""
            ],
            "metadata": {
                "azdata_cell_guid": "bb306888-646f-403b-a622-fdfb21f9efe4"
            },
            "outputs": [],
            "execution_count": null
        },
        {
            "cell_type": "code",
            "source": [
                "-- Final check and we found that using a Transaction to disable, then rebuild worked, while keeping the database in multi-user mode\r\n",
                "DBCC CHECKDB (N'SalesDB') WITH NO_INFOMSGS;\r\n",
                "GO"
            ],
            "metadata": {
                "azdata_cell_guid": "0e104f86-f8e3-4f16-b376-c21b7a8c617b"
            },
            "outputs": [],
            "execution_count": null
        },
        {
            "cell_type": "markdown",
            "source": [
                "## <span style=\"color:#cc5500;\">If you are forced to use Repair</span>\n",
                "\n",
                "- That implies that your backup strategy does not allow you to meet your downtime and data loss Service Level Agreements\n",
                "- Update your backup strategy!\n",
                "    - Figure out what restores you need to be able to perform\n",
                "    - Change the backup strategy to perform the backups that will allow those restores to take place\n",
                "    - Implement regular backup validation\n",
                "- Also make sure that:\n",
                "    - You check any constraints that may be affected based on which tables were repaired\n",
                "    - You check to see what data was lost\n",
                "    - You reinitialize any affected replication topologies\n",
                "    - Perform root-cause analysis"
            ],
            "metadata": {
                "azdata_cell_guid": "6adc1e93-7370-464b-acfc-0d2192d76dc9"
            },
            "attachments": {}
        }
    ]
}