{
    "metadata": {
        "kernelspec": {
            "name": "SQL",
            "display_name": "SQL",
            "language": "sql"
        },
        "language_info": {
            "name": "sql",
            "version": ""
        }
    },
    "nbformat_minor": 2,
    "nbformat": 4,
    "cells": [
        {
            "cell_type": "markdown",
            "source": [
                "![CH5-ADS.png](.\\Media\\CH5-ADS.png)\r\n",
                "# <span style=\"color:#cc5500;\">DBCC CHECKDB Internals and Performance</span>"
            ],
            "metadata": {
                "azdata_cell_guid": "8e09fb2e-f468-4374-bd57-43a248a8443b"
            }
        },
        {
            "cell_type": "markdown",
            "source": [
                "In order for you to gain a more advanced knowledge of working with and correcting SQL Server corruptions, also involves knowing a bit more about how DBCC CHECKDB works and how to enhance its performance.  If you jumped right to this notebook and you have not already mastered the basics of handling corruption, it is recommended that you go through the previous notebooks in this chapter first.\n",
                "\n",
                "This notebook will cover:\n",
                "\n",
                "- Various internals of DBCC CHECKDB\n",
                "- Trace flags to aid DBCC CHECKDB performance\n",
                "- Parallelism and memory settings for DBCC CHECKDB\n",
                "\n",
                "## <span style=\"color:#cc5500;\">What exactly does DBCC CHECKDB do?</span>\n",
                "\n",
                "- The first thing it does is perform Primitive checks of critical system tables\n",
                "    - The 3 critical system Storage Engine metadata tables it checkes are sys.allocation\\_units, sys.sysrowsets and sys.sysrscols\n",
                "    - Makes sure that the leaf-level clustered index pages of these 3 metadata tables can be read into memory and looks for any improper loops in the linkage\n",
                "- Allocation checks.  This is the equivalent of DBCC CHECKALLOC\n",
                "    - Validates the GAM, SGAM, PFS and IAM Pages bit settings are correct and that no two pages have an identical bit set\n",
                "- Logical checks of critical system tables\n",
                "- Logical checks of all other tables in the database\n",
                "- Metadata checks.  This is the Equivalent to DBCC CHECKCATALOG\n",
                "- Service Broker data validation\n",
                "- Indexed view, XML index, spatial index checks\n",
                "    - Only when the WITH EXTENDED\\_LOGICAL\\_CHECKS option is used, from SQL Server 2008 onward\n",
                "- If a repair option is specified, repairs are done at each stage if necessary and possible\n",
                "- Uses the Query Processor extensively\n",
                "\n",
                "Fact Processing\n",
                "\n",
                "- DBCC CHECKDB reads all allocated pages in the database in a very efficient manner\n",
                "- It reads the pages in allocation order, driving its own readahead, and generates “facts” about what it has seen, which is O(n\\*log(n))\n",
                "    - E.g. facts about pages, b-tree linkages, off-row text linkages\n",
                "    - Driven by an internal structure called the MultiObjectScanner\n",
                "- Each fact has a multi-part key\n",
                "    - Including object ID, index ID, allocation unit ID, page ID\n",
                "- Facts are passed to the Query Processor for efficient sorting and hashing, then passed back to DBCC for aggregation\n",
                "    - Aggregation means that facts cancel each other out\n",
                "    - When extra or missing facts are detected, that’s a corruption\n",
                "      \n",
                "        \n",
                "        ![CH5-FactProcessing.jpg](.\\Media\\CH5-FactProcessing.jpg)\n",
                "        ![CH5-FactProcessing2.jpg](.\\Media\\CH5-FactProcessing2.jpg)\n",
                "        \n",
                "\n",
                "Batch Processing\n",
                "\n",
                "- The fact-storage worktable usually requires more memory than is available so it spills into tempdb\n",
                "- The batch size is limited to prevent excessive tempdbspace usage\n",
                "    - A batch’s “size” is the number of tables and associated indexes\n",
                "- The minimum batch size is a single table and its nonclustered indexes as everything about a table must be checked at the same time\n",
                "- Tables are added to the batch until one of the following occurs:\n",
                "    - The total number of indexes in the batch becomes more than 512\n",
                "    - The estimate for all necessary facts for the batch becomes more than 32 MB\n",
                "    - If a repair option is specified, the batch size is always limited to a single table\n",
                "- Read and write performance of tempdb can greatly affect the run time\n",
                "\n",
                "Parallelism\n",
                "\n",
                "- DBCC CHECKDB will run in parallel on Enterprise Edition\n",
                "    \n",
                "    - Also applies to DBCC CHECKTABLE and DBCC CHECKFILEGROUP\n",
                "    - DBCC CHECKALLOCand DBCC CHECKCATALOG are always single-threaded\n",
                "- Each batch executes the DBCC CHECKDB internal “query” and the Query Processor decides how far to parallelize\n",
                "    \n",
                "    - Up to the limit imposed by the sp\\_configure MAXDOP setting or the Resource Governor workload group MAX\\_DOP setting\n",
                "    - There is no option to set DBCC CHECKDB’s degree of parallelism\n",
                "- Each thread is given a page to generate facts for, and then calls into the MultiObjectScanner to get the next page to process\n",
                "    \n",
                "- Threads then participate in fact aggregation once all pages have been read and processed for facts\n",
                "    \n",
                "- Parallelism can be disabled using documented trace flag 2528\n",
                "    \n",
                "    - Greatly increases run time, but greatly decreases the resources required\n",
                "    \n",
                "    ![CH5-Parallelism.jpg](.\\Media\\CH5-Parallelism.jpg)"
            ],
            "metadata": {
                "azdata_cell_guid": "4b85aee2-5d18-4293-83a5-7dd03d5f4cfb"
            },
            "attachments": {}
        },
        {
            "cell_type": "markdown",
            "source": [
                "cc"
            ],
            "metadata": {
                "azdata_cell_guid": "50549c03-6f9a-4c97-a3f7-3c60ef6ef8f5"
            }
        }
    ]
}