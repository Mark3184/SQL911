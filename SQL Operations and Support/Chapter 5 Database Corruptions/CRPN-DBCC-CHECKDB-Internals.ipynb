{
    "metadata": {
        "kernelspec": {
            "name": "SQL",
            "display_name": "SQL",
            "language": "sql"
        },
        "language_info": {
            "name": "sql",
            "version": ""
        }
    },
    "nbformat_minor": 2,
    "nbformat": 4,
    "cells": [
        {
            "cell_type": "markdown",
            "source": [
                "![CH5-ADS.png](.\\Media\\CH5-ADS.png)\r\n",
                "# <span style=\"color:#cc5500;\">DBCC CHECKDB Internals and Performance</span>"
            ],
            "metadata": {
                "azdata_cell_guid": "8e09fb2e-f468-4374-bd57-43a248a8443b"
            }
        },
        {
            "cell_type": "markdown",
            "source": [
                "In order for you to gain a more advanced knowledge of working with and correcting SQL Server corruptions, also involves knowing a bit more about how DBCC CHECKDB works and how to enhance its performance.  If you jumped right to this notebook and you have not already mastered the basics of handling corruption, it is recommended that you go through the previous notebooks in this chapter first.\n",
                "\n",
                "This notebook will cover:\n",
                "\n",
                "- Various internals of DBCC CHECKDB\n",
                "- Trace flags to aid DBCC CHECKDB performance\n",
                "- Parallelism and memory settings for DBCC CHECKDB\n",
                "\n",
                "## <span style=\"color:#cc5500;\">What exactly does DBCC CHECKDB do?</span>\n",
                "\n",
                "- The first thing it does is perform Primitive checks of critical system tables\n",
                "    - The 3 critical system Storage Engine metadata tables it checkes are sys.allocation\\_units, sys.sysrowsets and sys.sysrscols\n",
                "    - Makes sure that the leaf-level clustered index pages of these 3 metadata tables can be read into memory and looks for any improper loops in the linkage\n",
                "- Allocation checks.  This is the equivalent of DBCC CHECKALLOC\n",
                "    - Validates the GAM, SGAM, PFS and IAM Pages bit settings are correct and that no two pages have an identical bit set\n",
                "- Logical checks of critical system tables\n",
                "- Logical checks of all other tables in the database\n",
                "- Metadata checks.  This is the Equivalent to DBCC CHECKCATALOG\n",
                "- Service Broker data validation\n",
                "- Indexed view, XML index, spatial index checks\n",
                "    - Only when the WITH EXTENDED\\_LOGICAL\\_CHECKS option is used, from SQL Server 2008 onward\n",
                "- If a repair option is specified, repairs are done at each stage if necessary and possible\n",
                "- Uses the Query Processor extensively\n",
                "\n",
                "Fact Processing\n",
                "\n",
                "- DBCC CHECKDB reads all allocated pages in the database in a very efficient manner\n",
                "- It reads the pages in allocation order, driving its own readahead, and generates “facts” about what it has seen, which is O(n\\*log(n))\n",
                "    - E.g. facts about pages, b-tree linkages, off-row text linkages\n",
                "    - Driven by an internal structure called the MultiObjectScanner\n",
                "- Each fact has a multi-part key\n",
                "    - Including object ID, index ID, allocation unit ID, page ID\n",
                "- Facts are passed to the Query Processor for efficient sorting and hashing, then passed back to DBCC for aggregation\n",
                "    - Aggregation means that facts cancel each other out\n",
                "    - When extra or missing facts are detected, that’s a corruption\n",
                "      \n",
                "        \n",
                "        ![CH5-FactProcessing.jpg](.\\Media\\CH5-FactProcessing.jpg)\n",
                "        ![CH5-FactProcessing2.jpg](.\\Media\\CH5-FactProcessing2.jpg)\n",
                "        \n",
                "\n",
                "Batch Processing\n",
                "\n",
                "- The fact-storage worktable usually requires more memory than is available so it spills into tempdb\n",
                "- The batch size is limited to prevent excessive tempdbspace usage\n",
                "    - A batch’s “size” is the number of tables and associated indexes\n",
                "- The minimum batch size is a single table and its nonclustered indexes as everything about a table must be checked at the same time\n",
                "- Tables are added to the batch until one of the following occurs:\n",
                "    - The total number of indexes in the batch becomes more than 512\n",
                "    - The estimate for all necessary facts for the batch becomes more than 32 MB\n",
                "    - If a repair option is specified, the batch size is always limited to a single table\n",
                "- Read and write performance of tempdb can greatly affect the run time\n",
                "\n",
                "Parallelism\n",
                "\n",
                "- DBCC CHECKDB will run in parallel on Enterprise Edition\n",
                "    \n",
                "    - Also applies to DBCC CHECKTABLE and DBCC CHECKFILEGROUP\n",
                "    - DBCC CHECKALLOCand DBCC CHECKCATALOG are always single-threaded\n",
                "- Each batch executes the DBCC CHECKDB internal “query” and the Query Processor decides how far to parallelize\n",
                "    \n",
                "    - Up to the limit imposed by the sp\\_configure MAXDOP setting or the Resource Governor workload group MAX\\_DOP setting\n",
                "    - There is no option to set DBCC CHECKDB’s degree of parallelism\n",
                "- Each thread is given a page to generate facts for, and then calls into the MultiObjectScanner to get the next page to process\n",
                "    \n",
                "- Threads then participate in fact aggregation once all pages have been read and processed for facts\n",
                "    \n",
                "- Parallelism can be disabled using documented trace flag 2528\n",
                "    \n",
                "    - Greatly increases run time, but greatly decreases the resources required\n",
                "    \n",
                "    ![CH5-Parallelism.jpg](.\\Media\\CH5-Parallelism.jpg)"
            ],
            "metadata": {
                "azdata_cell_guid": "4b85aee2-5d18-4293-83a5-7dd03d5f4cfb"
            },
            "attachments": {}
        },
        {
            "cell_type": "markdown",
            "source": [
                "## <span style=\"color:#cc5500;\">Making DBCC CHECKDB go Faster</span>\n",
                "\n",
                "- Work has been done to improve the performance of DBCC CHECKDB by:\n",
                "    - Allowing it to check all tables as a single batch\n",
                "    - Slightly changing the I/O pattern it generates\n",
                "    - Reducing contention on the DBCC\\_MULTIOBJECT\\_SCANNER latch\n",
                "- KB article describing these is at [KB2634571 - Improvements for the DBCC CHECKDB command may result in faster performance when you use the PHYSICAL\\_ONLY option (microsoft.com)](https://support.microsoft.com/en-us/topic/kb2634571-improvements-for-the-dbcc-checkdb-command-may-result-in-faster-performance-when-you-use-the-physical-only-option-e49ca6f4-8a5a-7a09-40d3-266ca513177f)\n",
                "- Ported to SQL Server 2008 R2 and later\n",
                "    - Uses documented trace flags 2549 and 2562\n",
                "    - Check the above KB article to see which trace flags are required in which versions\n",
                "    - Be aware these changes may push the I/O subsystem much harder, and you may not see any changes at all\n",
                "- Consider reducing DOP to lower run time when using the option WITH PHYSICAL\\_ONLY\n",
                "- On systems with high numbers of physical cores (32+), consider reducing DOP to 4 or 8 to lower run time even without using PHYSICAL\\_ONLY\n",
                "\n",
                "- Consider reducing the memory available to DBCC CHECKDB\n",
                "- The Query Processor by default will grant DBCC CHECKDB a very large query execution memory grant, potentially causing buffer pool shrinkage\n",
                "    - Requested grant is many terabytes because of unknown cardinality\n",
                "    - On a system with 100 GB of memory, grant may be as high as 10 GB\n",
                "- Performance testing by Jonathan Kehayias has shown that limiting the amount of memory for DBCC CHECKDB to 1 GB can lead to 5-10% performance increase, and very limited buffer pool pressure\n",
                "- Use Resource Governor to do this\n",
                "- Jonathan’s blog post at [DBCC CHECKDB Execution Memory Grants - Not Quite What You Expect - Jonathan Kehayias (sqlskills.com)](https://www.sqlskills.com/blogs/jonathan/dbcc-checkdb-execution-memory-grants-not-quite-what-you-expect/)\n",
                "\n",
                "- Indexes on computed columns drastically slow down DBCC CHECKDB\n",
                "    - Also applies to DBCC CHECKTABLEand DBCC CHECKFILEGROUP\n",
                "- Any time a table has an index on a computed column, all threads bottleneck on the DBCC\\_OBJECT\\_METADATAlatch\n",
                "    - This controls access to an Expression Evaluator construct in the Query Processor that evaluates computed column expressions\n",
                "    - The latch can only be acquired in EX mode, hence the bottleneck\n",
                "- This can lead to 20x performance decrease\n",
                "- Solution is to disable such indexes while DBCC CHECKDB is running"
            ],
            "metadata": {
                "azdata_cell_guid": "50549c03-6f9a-4c97-a3f7-3c60ef6ef8f5"
            },
            "attachments": {}
        }
    ]
}