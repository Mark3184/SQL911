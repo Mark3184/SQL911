{
    "metadata": {
        "kernelspec": {
            "name": "SQL",
            "display_name": "SQL",
            "language": "sql"
        },
        "language_info": {
            "name": "sql",
            "version": ""
        }
    },
    "nbformat_minor": 2,
    "nbformat": 4,
    "cells": [
        {
            "cell_type": "markdown",
            "source": [
                "![CH5-ADS.png](.\\Media\\CH5-ADS.png)\r\n",
                "\r\n",
                "# <span style=\"color:#cc5500;\">Consistency Checks</span>"
            ],
            "metadata": {
                "azdata_cell_guid": "232c8bbd-1790-4a1b-9fae-96c419e5e1ac"
            }
        },
        {
            "cell_type": "markdown",
            "source": [
                "- \"Consistency\" means that something is as it is supposed to be\n",
                "    - E.g. if data page X, in the leaf level of a clustered index points to data page Y as being the next page in the index, thn page Y should exist, should be part of the index, and should have the correct key values on it\n",
                "- \"Consistency checking\" in the context of SQL Server means running a process that validates the consistency\n",
                "    - Usually this means running DBCC CHECKDB which will be covered in a seperate notebook\n",
                "\n",
                "## <span style=\"color:#cc5500;\">Which Databases Should Be Checked?</span>\n",
                "\n",
                "- All databases should be consistency checked, Including read-only databases\n",
                "- Include system databases\n",
                "    - master, as it contains information about databases, users, logins\n",
                "    - Corruptions in it can cause an instance to fail to start\n",
                "    - mssqlsystemresourceis checked automatically when master is checked\n",
                "    - msdb, as it contains SQL Agent jobs, schedules, backup history, and more\n",
                "    - model, as its content is copied to create new databases\n",
                "    - tempdb, as corruptions in it can cause an instance to shut down\n",
                "    - Note that if you use the Maintenance Plan Wizard to create a job to check integrity, tempdbis excluded so you need to manually create an agent job to do this\n",
                "    - distribution, to avoid replication problems\n",
                "\n",
                "## <span style=\"color:#cc5500;\">How to run Consistency Checks</span>\n",
                "\n",
                "Three options for running consistency checks:\n",
                "\n",
                "- Manually\n",
                "- Automated script, using SQL Agent\n",
                "- Automated using a SQL Server Maintenance Plan\n",
                "\n",
                "It is highly recommend that you take advantage of the free, widely used, and easy-to-use set of maintenance scripts available from Ola Hallengren at [http://ola.hallengren.com/](http://ola.hallengren.com/)\n",
                "\n",
                "## <span style=\"color:#cc5500;\">How Often Should Consistency Checks be Run?</span>\n",
                "\n",
                "It all depends on a combination of:\n",
                "\n",
                "- Stability of I/O subsystem\n",
                "- Backup strategy\n",
                "- Acceptable downtime if corruption occurs\n",
                "- Acceptable data loss if corruption occurs\n",
                "- Time window available to take the extra I/O and CPU load\n",
                "- What kind of system it is (e.g. production, test, backup)\n",
                "\n",
                "I always like to recommend at least once a week\n",
                "\n",
                "Some people advocate consistency checking a mirror database or an availability group secondary replica as a way of consistency checking the principal database or primary replica\n",
                "\n",
                "### <span style=\"color:#e32636;\">That view is not valid.&nbsp; Why?</span>\n",
                "\n",
                "- The various servers are stored on different I/O subsystems and corruptions do not propagate between servers\n",
                "    - E.g. ensuring that a mirror database has no corruption does not imply anything about the state of the principal database\n",
                "- Consistency checking should ideally be performed on all copies of a database\n",
                "    - Especially true for availability groups if a secondary replica is being used to offload full backups from the primary replica\n",
                "\n",
                "## <span style=\"color:#cc5500;\">Backup Checksums</span>\n",
                "\n",
                "- Use BACKUP WITH CHECKSUM when performing a backup\n",
                "    - It validates all page checksums in the database as the pages are read\n",
                "    - It calculates a checksum over the entire backup stream and records it in the backup header\n",
                "    - Has negligible performance impact\n",
                "    - Gives you peace of mind that no I/O errors are present in the database\n",
                "    - I recommend you always do this\n",
                "- Allows the integrity of the backup to be checked using RESTORE VERIFYONLY… WITH CHECKSUM\n",
                "    - Gives you peace of mind that no I/O errors are present in the backup\n",
                "    - Backups are susceptible to I/O subsystem corruption just like data files\n",
                "- Allows page checksums to be checked during restore operations.  The restore will fail if it comes across a bad checksum"
            ],
            "metadata": {
                "azdata_cell_guid": "ca4bcb3d-4449-4b50-962f-08cba431f8a8"
            },
            "attachments": {}
        },
        {
            "cell_type": "markdown",
            "source": [
                "# <span style=\"color:#cc5500;\">Bad Checksum Demo</span>\r\n",
                "\r\n",
                "## <span style=\"color:#da2433;\">DISCLAIMER: This Demo purposefully corrupts a test database!!&nbsp; The information in this section should not be used on a production SQL Server system. Any problem, corruption, damage, or loss you cause by using the information presented here is entirely your own responsibility. Use at your own risk.&nbsp; If DBCC WRITEPAGE is run against the master database, it can cause your SQL Server to shut down and not start again until master is repair.&nbsp; It is highly recommended that you perform this on a test system.</span>\r\n",
                "\r\n",
                "Use on a Test User Database on a Test Server, and not on a System database.\r\n",
                "\r\n",
                "This setup script uses the undocumented DBCC WRITEPAGE command against a test database to cause corruption and the undocumented DBCC IND command to find pages to corrupt.  These two DBCC's were created by the Microsoft Product Group in order to create DBCC CHECKDB that is used in the repair of a database.\r\n",
                "\r\n",
                "### <span style=\"color:rgb(0, 204, 153);\">Run the Code block below</span>\r\n",
                "\r\n",
                "1. Click the run icon below\r\n",
                "2. If ADS prompts you for a connection, enter the correct SQL Server and authentication account\r\n",
                "3. View the results of the query by scrolling down to the results set"
            ],
            "metadata": {
                "azdata_cell_guid": "0b9056e7-db3b-476e-893e-dc46f30d3b5e"
            },
            "attachments": {}
        },
        {
            "cell_type": "code",
            "source": [
                "-- Setup script for Backup Checksums demo.\r\n",
                "\r\n",
                "-- This setup script uses the undocumented DBCC WRITEPAGE command to cause corruption and the undocumented DBCC IND command to find pages to corrupt. \r\n",
                "-- Drop and then Create the 2 test databases\r\n",
                "USE [master];\r\n",
                "GO\r\n",
                "\r\n",
                "IF DATABASEPROPERTYEX (N'Company', N'Version') > 0\r\n",
                "BEGIN\r\n",
                "\tALTER DATABASE [Company] SET SINGLE_USER\r\n",
                "\t\tWITH ROLLBACK IMMEDIATE;\r\n",
                "\tDROP DATABASE [Company];\r\n",
                "END\r\n",
                "GO\r\n",
                "\r\n",
                "IF DATABASEPROPERTYEX (N'Company2', N'Version') > 0\r\n",
                "BEGIN\r\n",
                "\tALTER DATABASE [Company2] SET SINGLE_USER\r\n",
                "\t\tWITH ROLLBACK IMMEDIATE;\r\n",
                "\tDROP DATABASE [Company2];\r\n",
                "END\r\n",
                "GO\r\n",
                "\r\n",
                "--Modify the file path for your environment and create the database\r\n",
                "CREATE DATABASE [Company] ON PRIMARY (\r\n",
                "    NAME = N'Company',\r\n",
                "    FILENAME = N'C:\\Program Files\\Microsoft SQL Server\\MSSQL14.VIPER\\MSSQL\\DATA\\Company.mdf')\r\n",
                "LOG ON (\r\n",
                "    NAME = N'Company_log',\r\n",
                "    FILENAME = N'C:\\Program Files\\Microsoft SQL Server\\MSSQL14.VIPER\\MSSQL\\DATA\\Company_log.ldf');\r\n",
                "GO\r\n",
                "\r\n",
                "CREATE DATABASE [Company2] ON PRIMARY (\r\n",
                "    NAME = N'Company2',\r\n",
                "    FILENAME = N'C:\\Program Files\\Microsoft SQL Server\\MSSQL14.VIPER\\MSSQL\\DATA\\Company2.mdf')\r\n",
                "LOG ON (\r\n",
                "    NAME = N'Company2_log',\r\n",
                "    FILENAME = N'C:\\Program Files\\Microsoft SQL Server\\MSSQL14.VIPER\\MSSQL\\DATA\\Company2_log.ldf');\r\n",
                "GO"
            ],
            "metadata": {
                "azdata_cell_guid": "c94293fc-a3d8-49ea-9630-5d70c7b783a8"
            },
            "outputs": [],
            "execution_count": null
        },
        {
            "cell_type": "code",
            "source": [
                "-- Create a table in each database and insert data\r\n",
                "USE [Company];\r\n",
                "GO\r\n",
                "\r\n",
                "CREATE TABLE [RandomData] (\r\n",
                "\t[c1]  INT IDENTITY,\r\n",
                "\t[c2]  CHAR (8000) DEFAULT 'a');\r\n",
                "GO\r\n",
                "\r\n",
                "INSERT INTO [RandomData] DEFAULT VALUES;\r\n",
                "GO 10\r\n",
                "\r\n",
                "USE [Company2];\r\n",
                "GO\r\n",
                "\r\n",
                "CREATE TABLE [RandomData] (\r\n",
                "\t[c1]  INT IDENTITY,\r\n",
                "\t[c2]  CHAR (8000) DEFAULT 'a');\r\n",
                "GO\r\n",
                "\r\n",
                "INSERT INTO [RandomData] DEFAULT VALUES;\r\n",
                "GO 10\r\n",
                ""
            ],
            "metadata": {
                "azdata_cell_guid": "0d50fb2e-232e-404e-923c-2da50c63fe1a"
            },
            "outputs": [],
            "execution_count": null
        },
        {
            "cell_type": "code",
            "source": [
                "-- List the pages in the table\r\n",
                "DBCC IND (N'Company2', N'RandomData', -1);\r\n",
                "GO\r\n",
                "\r\n",
                ""
            ],
            "metadata": {
                "azdata_cell_guid": "7b0f8171-48c5-4599-af5a-3770f5da0f5e"
            },
            "outputs": [],
            "execution_count": null
        },
        {
            "cell_type": "markdown",
            "source": [
                "Pick a data page to corrupt.\n",
                "\n",
                "Your query will return different values, but in my case, I'm going to choose  PageFID 1 and PagePID 363\n",
                "\n",
                "![CH5-Page-IND.jpg](.\\Media\\CH5-Page-IND.jpg)"
            ],
            "metadata": {
                "azdata_cell_guid": "b366456b-563c-47ef-b5b6-b1522da6346a"
            },
            "attachments": {}
        },
        {
            "cell_type": "code",
            "source": [
                "-- Pick a page in Company2 to corrupt\r\n",
                "-- Just replace the two values for B, B  the remaining values in place   (N'Company2', B, B, 0, 2, 0x0000, 1);\r\n",
                "ALTER DATABASE [Company2] SET SINGLE_USER;\r\n",
                "GO\r\n",
                "DBCC WRITEPAGE (N'Company2', B, B, 0, 2, 0x0000, 1);\r\n",
                "GO\r\n",
                "ALTER DATABASE [Company2] SET MULTI_USER;\r\n",
                "GO\r\n",
                ""
            ],
            "metadata": {
                "azdata_cell_guid": "f6b0fd91-9768-413f-b6ac-07607e2952f5",
                "tags": []
            },
            "outputs": [],
            "execution_count": null
        },
        {
            "cell_type": "code",
            "source": [
                "-- Do some cleanup before the demo\r\n",
                "-- Clean the error log and suspect_pages\r\n",
                "DELETE FROM [msdb].[dbo].[suspect_pages];\r\n",
                "EXEC sp_cycle_errorlog;\r\n",
                "GO"
            ],
            "metadata": {
                "azdata_cell_guid": "ee68ab16-d7fc-468d-a17f-7c269c8d3db1"
            },
            "outputs": [],
            "execution_count": null
        },
        {
            "cell_type": "markdown",
            "source": [
                "Now that we have picked a page to Corrupt, cleared out the msdb suspect\\_pages table, and cycled the error log, We are now ready for the Bad Checksum demo\r\n",
                "\r\n",
                "### <span style=\"color:rgb(0, 204, 153);\">Run the Code block below</span>\r\n",
                "\r\n",
                "1. Click the run icon below\r\n",
                "2. If ADS prompts you for a connection, enter the correct SQL Server and authentication account\r\n",
                "3. View the results of the query by scrolling down to the results set\r\n",
                ""
            ],
            "metadata": {
                "azdata_cell_guid": "8876ed0b-66df-4c0e-98b8-a43bcb294076"
            },
            "attachments": {}
        },
        {
            "cell_type": "code",
            "source": [
                "-- Back up both databases\r\n",
                "BACKUP DATABASE [Company]\r\n",
                "TO DISK = N'C:\\Temp\\Backups\\Company.bak'  --Modify this path for your environment\r\n",
                "WITH INIT;\r\n",
                "GO\r\n",
                "\r\n",
                "BACKUP DATABASE [Company2]\r\n",
                "TO DISK = N'C:\\Temp\\Backups\\Company2.bak'  --Modify this path for your environment\r\n",
                "WITH INIT;\r\n",
                "GO"
            ],
            "metadata": {
                "azdata_cell_guid": "ca612538-b9f4-47ac-b51d-c4bc6c90891e",
                "tags": []
            },
            "outputs": [],
            "execution_count": null
        },
        {
            "cell_type": "markdown",
            "source": [
                "Notice that nothing unusual happened.  SQL is reporting a normal backup, but since you corrupted a page in Company2, you know that your backup, just backed up a corrupted page to the backup file.\n",
                "\n",
                "Now, we will perform a BACKUP WITH CHECKSUM"
            ],
            "metadata": {
                "azdata_cell_guid": "37342dae-b1c8-49dd-99db-3f2974c4bf36"
            },
            "attachments": {}
        },
        {
            "cell_type": "code",
            "source": [
                "-- Now use WITH CHECKSUM\r\n",
                "BACKUP DATABASE [Company]\r\n",
                "TO DISK = N'C:\\Temp\\Backups\\Company_CHECKSUM.bak' --Modify this path for your environment\r\n",
                "WITH INIT, CHECKSUM;\r\n",
                "GO\r\n",
                "\r\n",
                "BACKUP DATABASE [Company2]\r\n",
                "TO DISK = N'C:\\Temp\\Backups\\Company2_CHECKSUM.bak' --Modify this path for your environment\r\n",
                "WITH INIT, CHECKSUM;\r\n",
                "GO"
            ],
            "metadata": {
                "azdata_cell_guid": "952324ea-b529-4311-906d-553be674e519"
            },
            "outputs": [],
            "execution_count": null
        },
        {
            "cell_type": "markdown",
            "source": [
                "Notice that the backup process terminated during the backup of Company2 since it detected an error on a data page.  Using CHECKSUM allows you to detect issues.  This is 'good', you want your backups to fail, if an error is detected.  If you have a need, you can force the backup to occur using CONTINUE but this will be covered in further detail a more advanced notebook later."
            ],
            "metadata": {
                "azdata_cell_guid": "f59a2c02-1f30-48e9-a900-cee2a242996a"
            },
            "attachments": {}
        },
        {
            "cell_type": "code",
            "source": [
                "-- CONTINUE_AFTER_ERROR can be used to force the backup.\r\n",
                "BACKUP DATABASE [Company2]\r\n",
                "TO DISK = N'C:\\Temp\\Backups\\Company2_CHECKSUM.bak'\r\n",
                "WITH INIT, CHECKSUM, CONTINUE_AFTER_ERROR;\r\n",
                "GO"
            ],
            "metadata": {
                "azdata_cell_guid": "adf52ecd-261d-4393-81e7-850f8b7a2e5e",
                "tags": []
            },
            "outputs": [],
            "execution_count": null
        },
        {
            "cell_type": "markdown",
            "source": [
                "You will see that the backup did occur, but that is backed up a damaged database.  If you look at your SQL Error Log you will see the message:\n",
                "\n",
                "_BACKUP 'Company2' detected an error on page (1:363) in file 'C:\\\\Program Files\\\\Microsoft SQL Server\\\\MSSQL14.VIPER\\\\MSSQL\\\\DATA\\\\Company2.mdf'._"
            ],
            "metadata": {
                "azdata_cell_guid": "3294463f-b72e-4134-8def-72914ed38242"
            },
            "attachments": {}
        },
        {
            "cell_type": "code",
            "source": [
                "-- Look in the backup header\r\n",
                "RESTORE HEADERONLY\r\n",
                "FROM DISK = N'C:\\Temp\\Backups\\Company2_CHECKSUM.bak';\r\n",
                "GO"
            ],
            "metadata": {
                "azdata_cell_guid": "954f683c-ce88-4162-8149-93bd2b543cab",
                "tags": []
            },
            "outputs": [],
            "execution_count": null
        },
        {
            "cell_type": "markdown",
            "source": [
                "If you review the result of the HEADERONLY query, you will see that the IsDamaged field is set to 1"
            ],
            "metadata": {
                "azdata_cell_guid": "83cd9b3c-a10c-415d-a335-710dff7ee1e0"
            },
            "attachments": {}
        },
        {
            "cell_type": "code",
            "source": [
                "RESTORE VERIFYONLY\r\n",
                "FROM DISK = N'C:\\Temp\\Backups\\Company2_CHECKSUM.bak'\r\n",
                "WITH CHECKSUM;\r\n",
                "GO"
            ],
            "metadata": {
                "azdata_cell_guid": "c8839a5d-4083-41ba-9fec-b13ee91c51dd"
            },
            "outputs": [],
            "execution_count": null
        },
        {
            "cell_type": "markdown",
            "source": [
                "The results of the VERIFYONLY query show: <span style=\"font-size: 12px;\"><i>The backup set was written with damaged data by a BACKUP WITH CONTINUE_AFTER_ERROR</i></span>\n",
                "\n",
                "<span style=\"font-size: 12px;\">You can force a Database Restore using Continue.&nbsp; Here is a sample and more will be covered on this in an advanced notebook later.&nbsp; Looks the the results of this last query and you will see that the Database Restore Completed and that damage was encountered resulting in potential inconsistencies.</span>"
            ],
            "metadata": {
                "azdata_cell_guid": "ee3e6532-ba90-476d-8f71-d601cf63ece7"
            },
            "attachments": {}
        },
        {
            "cell_type": "code",
            "source": [
                "-- CONTINUE_AFTER_ERROR can be used to force the restore.\r\n",
                "-- Discussed more in an Advanced Corruption Recovery Notebook\r\n",
                "RESTORE DATABASE [Company2_Copy]\r\n",
                "FROM DISK = N'C:\\Temp\\Backups\\Company2_CHECKSUM.bak'\r\n",
                "WITH\r\n",
                "    MOVE N'Company2' TO N'C:\\Program Files\\Microsoft SQL Server\\MSSQL14.VIPER\\MSSQL\\DATA\\Company2_Copy.mdf',\r\n",
                "\tMOVE N'Company2_log' TO N'C:\\Program Files\\Microsoft SQL Server\\MSSQL14.VIPER\\MSSQL\\DATA\\Company2_Copy_log.ldf',\r\n",
                "\tREPLACE, CONTINUE_AFTER_ERROR;\r\n",
                "GO\r\n",
                ""
            ],
            "metadata": {
                "azdata_cell_guid": "e9ba8af5-4644-45d7-91ff-27122360c519"
            },
            "outputs": [],
            "execution_count": null
        },
        {
            "cell_type": "markdown",
            "source": [
                "## <span style=\"color:#cc5500;\">A few final thoughts</span>\n",
                "\n",
                "Backup Checksums vs. Consistency Checks\n",
                "\n",
                "- Some people advocate using backup checksums as a replacement for consistency checks\n",
                "\n",
                "### <span style=\"color:#e32636;\">That view is not valid.&nbsp; Why?</span>\n",
                "\n",
                "- Although backup checksums will find problems caused by the I/O subsystem, what if the page was corrupt before it was written to disk?\n",
                "- For example:\n",
                "    - Page in memory gets corrupted by bad memory chip\n",
                "    - Page is then written to disk by the buffer pool\n",
                "    - The page will have a valid page checksum, but the contents are corrupt\n",
                "- <u>**ONLY**</u> consistency checks using DBCC can detect this"
            ],
            "metadata": {
                "azdata_cell_guid": "be7390d7-3ad1-4e72-9232-3fd47d790784"
            },
            "attachments": {}
        }
    ]
}