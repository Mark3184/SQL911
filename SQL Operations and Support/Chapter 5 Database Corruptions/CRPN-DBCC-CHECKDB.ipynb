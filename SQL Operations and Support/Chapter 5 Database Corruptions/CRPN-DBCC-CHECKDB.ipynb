{
    "metadata": {
        "kernelspec": {
            "name": "SQL",
            "display_name": "SQL",
            "language": "sql"
        },
        "language_info": {
            "name": "sql",
            "version": ""
        }
    },
    "nbformat_minor": 2,
    "nbformat": 4,
    "cells": [
        {
            "cell_type": "markdown",
            "source": [
                "![CH5-ADS.png](.\\Media\\CH5-ADS.png)\r\n",
                "\r\n",
                "# <span style=\"color:#cc5500;\">DBCC CHECKDB</span>"
            ],
            "metadata": {
                "azdata_cell_guid": "6dc77db8-2e4f-40c0-a124-05a61148fa27"
            }
        },
        {
            "cell_type": "markdown",
            "source": [
                "DBCC CHECKDB checks the logical and physical integrity of all of the objects in a specified database.  [DBCC CHECKDB (Transact-SQL) - SQL Server | Microsoft Docs](https://docs.microsoft.com/en-us/sql/t-sql/database-console-commands/dbcc-checkdb-transact-sql?view=sql-server-ver15)\n",
                "\n",
                "- This is the main consistency checking command\n",
                "- It runs all of the consistency checks against a single database (covered in sections below)\n",
                "- Very simple to execute:\n",
                "    - DBCC CHECKDB (N‘database’)\n",
                "    - Or you can change context to the desired database and just do DBCC CHECKDB\n",
                "- It is the only way to read all allocated pages in the database\n",
                "    - It forces all of the page checksums to be checked\n",
                "- It is possible to change some of the behavior using a variety of options\n",
                "- It is very resource intensive with CPU, memory, and I/O\n",
                "\n",
                "It will use multiple threads on the Enterprise Edition of SQL Server\n",
                "\n",
                "- Parallelism can be disabled using documented trace flag 2528.  This means that CHECKDB will use less resources with parallelism disabled, but the trade-off is that it will take longer go run\n",
                "\n",
                "## <span style=\"color:#cc5500;\">Other DBCC CHECK Commands</span>\n",
                "\n",
                "Think of these as sub-commands of DBCC CHECKDB.  They can be run independently of CHECKDB.  The CHECKALLOC, CHECKTABLE, CHECKCATALOG, and CHECKFILEGROUP functionality is covered by DBCC CHECKDB.  It runs this commnands as a part of its process. \n",
                "\n",
                "- DBCC CHECKALLOC\n",
                "    - Checks consistency of allocation structures in a database (GAM pages, SGAM pages, PFS pages, and IM Pages all of with are structures/bitmaps that keep track of which pages and extensts are allocated, and which tables and indexes are allocated as well)\n",
                "        - After first checking the consistency of critical system tables\n",
                "    - Examples:\n",
                "        - Ensure allocation structures in the database are valid\n",
                "        - Ensure no two tables have the same data file pages allocated\n",
                "- DBCC CHECKTABLE\n",
                "    - Checks consistency of a table and its indexes\n",
                "    - Examples:\n",
                "        - Ensure each data file page in the table and its indexes can be read and has a valid structure\n",
                "        - Ensure each nonclustered index row has a matching table row\n",
                "        - Ensure order of keys in indexes are correct\n",
                "        - Ensure that any FILESTREAM data is correctly linked to the table\n",
                "- DBCC CHECKCATALOG\n",
                "    - Check relationships between system catalogs\n",
                "        - E.g. column metadata must exist for all columns listed in a table’s metadata, and vice-versa\n",
                "\n",
                "The following three Check Commands are seperate Check Commands not run by DBCC CHECKDB\n",
                "\n",
                "- DBCC CHECKFILEGROUP\n",
                "    - Perform consistency checks for a filegroup\n",
                "    - Runs allocation checks for the database, then logical consistency checks for table and index partitions in the specified filegroup\n",
                "    - Simimilar to CHECKDB, but scaled down to just a specified filegroup\n",
                "- DBCC CHECKIDENT\n",
                "    - Checks and can reset the identity value for a table\n",
                "- DBCC CHECKCONSTRAINTS\n",
                "    - Checks FOREIGN KEY and CHECK constraints for validity\n",
                "    - Generally, you would want to run this command after a Repair operation.  Covered in a later notebook\n",
                "\n",
                "## <span style=\"color:#cc5500;\">What exactly does DBCC CHECK do?</span>\n",
                "\n",
                "- Primitive checks of critical system tables\n",
                "    - If any problems are found, the only option is to restore from backups or try to extract data manually\n",
                "- Allocation checks\n",
                "- Logical checks of critical system tables\n",
                "- Logical checks of all other tables\n",
                "- Metadata checks\n",
                "- Service Broker data validation\n",
                "- Indexed view, XML index, spatial index checks\n",
                "    - Only when the WITH EXTENDED\\_LOGICAL\\_CHECKSoption is used, from SQL Server 2008 onward\n",
                "- If a repair option is specified, repairs are done at each stage if necessary and possible\n",
                "- Another way to think of it is that DBCC CHECKDB does:\n",
                "    - Primitive system table checks, If that passes...then\n",
                "    - DBCC CHECKALLOC, If that passes...then\n",
                "    - DBCC CHECKTABLE of system tables, If that passes...then\n",
                "    - DBCC CHECKTABLE of user tables, If that passes...then\n",
                "    - DBCC CHECKCATALOG, If that passes...then\n",
                "    - Service Broker checks and other optional checks\n",
                "- Because Identity values and Constraint values are relational concepts and not Storage Engine concepts, CHECKDB does not do:\n",
                "    - DBCC CHECKIDENT\n",
                "    - DBCC CHECKCONSTRAINTS"
            ],
            "metadata": {
                "azdata_cell_guid": "9ca10a49-d24b-4fb0-9f6e-15fc51aa8a33"
            },
            "attachments": {}
        },
        {
            "cell_type": "markdown",
            "source": [
                "## <span style=\"color:#cc5500;\">Demo: Viewing Last Known Good DBCC CHECKDB</span>\n",
                "\n",
                "This Demo will show you, through the use of an Undocumented DBCC Command called DBCC DBINFO on how to view the Last-Known-Good DBCC CHECKDB\n",
                "\n",
                "### <span style=\"color:rgb(0, 204, 153);\">Run the Code block below</span>\n",
                "\n",
                "1. Click the run icon below\n",
                "2. If ADS prompts you for a connection, enter the correct SQL Server and authentication account\n",
                "3. View the results of the query by scrolling down to the results set"
            ],
            "metadata": {
                "azdata_cell_guid": "4e48f236-29e3-498e-9bbd-45f7d0be3f35"
            },
            "attachments": {}
        },
        {
            "cell_type": "code",
            "source": [
                "-- Demo script for Viewing Last-Known-Good Time demo.\r\n",
                "\r\n",
                "-- Cleanup from the previous notebook demo\r\n",
                "USE [master];\r\n",
                "GO\r\n",
                "\r\n",
                "IF DATABASEPROPERTYEX (N'Company', N'Version') > 0\r\n",
                "BEGIN\r\n",
                "\tALTER DATABASE [Company] SET SINGLE_USER\r\n",
                "\t\tWITH ROLLBACK IMMEDIATE;\r\n",
                "\tDROP DATABASE [Company];\r\n",
                "END\r\n",
                "GO\r\n",
                "\r\n",
                "-- Create a new database\r\n",
                "CREATE DATABASE [Company] ON PRIMARY (\r\n",
                "    NAME = N'Company',\r\n",
                "    FILENAME = N'C:\\Program Files\\Microsoft SQL Server\\MSSQL14.VIPER\\MSSQL\\DATA\\Company.mdf')  --modify path for your environment\r\n",
                "LOG ON (\r\n",
                "    NAME = N'Company_log',\r\n",
                "    FILENAME = N'C:\\Program Files\\Microsoft SQL Server\\MSSQL14.VIPER\\MSSQL\\DATA\\Company_log.ldf'); --modify path for your environment\r\n",
                "GO\r\n",
                ""
            ],
            "metadata": {
                "azdata_cell_guid": "7896ef4a-5b52-4265-b020-6a1915481346",
                "tags": []
            },
            "outputs": [],
            "execution_count": null
        },
        {
            "cell_type": "code",
            "source": [
                "-- Now you can Run DBCC CHECKDB on it\r\n",
                "DBCC CHECKDB (N'Company') WITH NO_INFOMSGS;\r\n",
                "GO\r\n",
                ""
            ],
            "metadata": {
                "azdata_cell_guid": "661b3923-7477-494d-a1cc-14c674afa500"
            },
            "outputs": [],
            "execution_count": null
        },
        {
            "cell_type": "code",
            "source": [
                "-- View the last-known-good time.  You turn on Trace 3604 and then it will output the contents of the boot page\r\n",
                "--Scroll through the results to see the value dbi_dbccLastKnownGood = <your date>\r\n",
                "DBCC TRACEON (3604);\r\n",
                "DBCC DBINFO (N'Company');\r\n",
                "GO\r\n",
                ""
            ],
            "metadata": {
                "azdata_cell_guid": "81c776e9-9962-4a3c-8267-989b3bbdda64"
            },
            "outputs": [],
            "execution_count": null
        },
        {
            "cell_type": "code",
            "source": [
                "-- This is not recommended for Production, but for demonstration purposes only\r\n",
                "-- Another option is to clear the error log and the explicitly set your datababase offlline, and then online\r\n",
                "EXEC sp_cycle_errorlog;\r\n",
                "GO\r\n",
                "\r\n",
                "ALTER DATABASE [Company] SET OFFLINE;\r\n",
                "ALTER DATABASE [Company] SET ONLINE;\r\n",
                "\r\n",
                "-- Look in the errorlog and you will see the last-know-good CHECKDB if there was one performed before"
            ],
            "metadata": {
                "azdata_cell_guid": "a8d09211-8d2d-488e-9131-24d797c8c210"
            },
            "outputs": [],
            "execution_count": null
        },
        {
            "cell_type": "markdown",
            "source": [
                "## <span style=\"color:#cc5500;\">DBCC CHECKDB Options</span>\n",
                "\n",
                "- NO\\_INFOMSGS\n",
                "    - Skip printing informational messages\n",
                "    - Recommended to always use\n",
                "- ALL\\_ERRORMSGS\n",
                "    - Print all error messages\n",
                "    - Not required from SQL Server 2008 SP1 onward\n",
                "- NOINDEX\n",
                "    - Skip checking nonclustered indexes\n",
                "    - Not recommended\n",
                "- DATA\\_PURITY\n",
                "    - Perform column data validation\n",
                "    - Default for all databases created on SQL Server 2005 or higher\n",
                "- ESTIMATEONLY\n",
                "    - Estimate how much tempdb space is required\n",
                "- TABLOCK\n",
                "    - Use locks instead of a database snapshot\n",
                "    - Not permitted on the master database\n",
                "    - Default for tempdb, where it causes allocation checks to be skipped\n",
                "- EXTENDED\\_LOGICAL\\_CHECKS\n",
                "    - Perform extra validation of some data structures\n",
                "    - Indexed views, XML indexes, spatial indexes\n",
                "- PHYSICAL\\_ONLY\n",
                "    - Skips the majority of logical consistency checks\n",
                "    - Reduces the time necessary for completion\n",
                "    - Reduces CPU and memory resources necessary"
            ],
            "metadata": {
                "azdata_cell_guid": "3b9edebe-ccce-4627-ace9-ecf3b5c7c156"
            },
            "attachments": {}
        },
        {
            "cell_type": "markdown",
            "source": [
                "## <span style=\"color:#cc5500;\">Demo the DBCC CHECKDB Options</span>\n",
                "\n",
                "Prerequisite:  Download the Sample Database named SalesDB from this link: https://www.sqlskills.com/resources/conferences/salesdb2014.zip \n",
                "\n",
                "### <span style=\"color:rgb(0, 204, 153);\">Run the Code block below</span>\n",
                "\n",
                "1. Click the run icon below\n",
                "2. If ADS prompts you for a connection, enter the correct SQL Server and authentication account\n",
                "3. View the results of the query by scrolling down to the results set"
            ],
            "metadata": {
                "azdata_cell_guid": "59b6db4a-46ff-4253-9fae-5575b0372380"
            },
            "attachments": {}
        },
        {
            "cell_type": "code",
            "source": [
                "-- Setup script for DBCC CHECK Options demo.\r\n",
                "\r\n",
                "-- Download the SalesDB Sample Database from the link above\r\n",
                "-- and unzip into one of your drives\r\n",
                "\r\n",
                "-- Restore as follows:\r\n",
                "USE [master];\r\n",
                "GO\r\n",
                "\r\n",
                "IF DATABASEPROPERTYEX (N'SalesDB', N'Version') > 0\r\n",
                "BEGIN\r\n",
                "\tALTER DATABASE [SalesDB] SET SINGLE_USER\r\n",
                "\t\tWITH ROLLBACK IMMEDIATE;\r\n",
                "\tDROP DATABASE [SalesDB];\r\n",
                "END\r\n",
                "GO\r\n",
                "\r\n",
                "RESTORE DATABASE [SalesDB]\r\n",
                "FROM DISK = N'C:\\Temp\\SalesDB2014.bak'  --modify path for your environment\r\n",
                "WITH\r\n",
                "    MOVE N'SalesDBData' TO N'C:\\Program Files\\Microsoft SQL Server\\MSSQL14.VIPER\\MSSQL\\DATA\\SalesDB.mdf',  --modify path for your environment\r\n",
                "\tMOVE N'SalesDBLog' TO N'C:\\Program Files\\Microsoft SQL Server\\MSSQL14.VIPER\\MSSQL\\DATA\\SalesDB_log.ldf';  --modify path for your environment\r\n",
                "GO\r\n",
                ""
            ],
            "metadata": {
                "azdata_cell_guid": "30c90fa2-796d-464e-b43a-ffa80a6cf6ee"
            },
            "outputs": [],
            "execution_count": null
        },
        {
            "cell_type": "code",
            "source": [
                "-- Cleanup from previous notebook\r\n",
                "USE [master];\r\n",
                "GO\r\n",
                "\r\n",
                "IF DATABASEPROPERTYEX (N'Company', N'Version') > 0\r\n",
                "BEGIN\r\n",
                "\tALTER DATABASE [Company] SET SINGLE_USER\r\n",
                "\t\tWITH ROLLBACK IMMEDIATE;\r\n",
                "\tDROP DATABASE [Company];\r\n",
                "END\r\n",
                "GO\r\n",
                "\r\n",
                "-- Create a new database\r\n",
                "CREATE DATABASE [Company] ON PRIMARY (\r\n",
                "    NAME = N'Company',\r\n",
                "    FILENAME = N'C:\\Program Files\\Microsoft SQL Server\\MSSQL14.VIPER\\MSSQL\\DATA\\Company.mdf')  --modify path for your environment\r\n",
                "LOG ON (\r\n",
                "    NAME = N'Company_log',\r\n",
                "    FILENAME = N'C:\\Program Files\\Microsoft SQL Server\\MSSQL14.VIPER\\MSSQL\\DATA\\Company_log.ldf'); --modify path for your environment\r\n",
                "GO"
            ],
            "metadata": {
                "azdata_cell_guid": "24dcb10a-cc15-4715-992b-61a53507f419"
            },
            "outputs": [],
            "execution_count": null
        },
        {
            "cell_type": "code",
            "source": [
                "-- Run DBCC CHECKDB on it with no options\r\n",
                "-- More will be covered on this in a more advanced notebook, but notice all of the output\r\n",
                "DBCC CHECKDB (N'Company');\r\n",
                "GO"
            ],
            "metadata": {
                "azdata_cell_guid": "7b3773f7-dd81-446e-938d-cbefc98602f1"
            },
            "outputs": [],
            "execution_count": null
        },
        {
            "cell_type": "code",
            "source": [
                "-- Remove all the informational output and just let me know if there are any corruptions\r\n",
                "DBCC CHECKDB (N'Company') WITH NO_INFOMSGS;\r\n",
                "GO"
            ],
            "metadata": {
                "azdata_cell_guid": "596f380c-8dba-432b-984e-07f1670165e8"
            },
            "outputs": [],
            "execution_count": null
        },
        {
            "cell_type": "code",
            "source": [
                "-- Estimate of tempdb space that will be used by CHECKDB\r\n",
                "DBCC CHECKDB (N'Company') WITH ESTIMATEONLY;\r\n",
                "GO"
            ],
            "metadata": {
                "azdata_cell_guid": "84732abe-7327-4d10-9cf1-806b7acc33cf",
                "tags": []
            },
            "outputs": [],
            "execution_count": null
        },
        {
            "cell_type": "code",
            "source": [
                "-- Now, let's run this against the SaleDB\r\n",
                "\r\n",
                "-- WARNING!  It is not recommended that you run DBCC DROPCLEANBUFFERS on a production system.  \r\n",
                "-- This DBCC Drop clean buffer operation removes all the buffers from the buffer cache which contain the data already moved to the disk. In other words, \r\n",
                "-- this operation flushes out all the clean pages (which were dirty before CHECKPOINT executed) out of the memory.\r\n",
                "-- Make note of the time and resources used\r\n",
                "\r\n",
                "DBCC DROPCLEANBUFFERS;\r\n",
                "GO\r\n",
                "SET STATISTICS TIME ON;\r\n",
                "GO\r\n",
                "DBCC CHECKDB (N'SalesDB') WITH NO_INFOMSGS;\r\n",
                "GO\r\n",
                "SET STATISTICS TIME OFF;\r\n",
                "GO"
            ],
            "metadata": {
                "azdata_cell_guid": "87de4337-64da-4cc6-b3f0-cf007b867de1"
            },
            "outputs": [],
            "execution_count": null
        },
        {
            "cell_type": "code",
            "source": [
                "-- Do Physical Only\r\n",
                "-- Note that it takes less time and fewer resources for this limited check\r\n",
                "DBCC DROPCLEANBUFFERS;\r\n",
                "GO\r\n",
                "SET STATISTICS TIME ON;\r\n",
                "GO\r\n",
                "DBCC CHECKDB (N'SalesDB') WITH NO_INFOMSGS, PHYSICAL_ONLY;\r\n",
                "GO\r\n",
                "SET STATISTICS TIME OFF;\r\n",
                "GO"
            ],
            "metadata": {
                "azdata_cell_guid": "5fc99800-92da-4f86-848e-b4e096f1e4b6"
            },
            "outputs": [],
            "execution_count": null
        },
        {
            "cell_type": "markdown",
            "source": [
                "## <span style=\"color:#cc5500;\">How long will it take to run DBCC CHECKDB?</span>\n",
                "\n",
                "The answer to that depends on many factors:\n",
                "\n",
                "- Size of the database.  The more allocated pages there are, the longer it takes\n",
                "- Concurrent I/O load on the server\n",
                "- Concurrent CPU activity on the server\n",
                "- Concurrent update activity on the database\n",
                "    - As mentioned above, DBCC CHECKDB makes use of snapshots.  If there are a lot of database updates occuring, the snapshot has to keep up with those updates.\n",
                "- Throughput capabilities of the I/O subsystem\n",
                "- Number of CPUs on the server\n",
                "- Speed of the disks where tempdb is placed\n",
                "    - tempdb is used to store intermediate data that CHECKDB uses\n",
                "- Complexity of the database schema\n",
                "- Which options were specified when you ran CHECKDB\n",
                "- Number and type of corruptions that exist\n",
                "\n",
                "## <span style=\"color:#cc5500;\">Breaking up Consistency Checks over Time</span>\n",
                "\n",
                "I you have a large database and DBCC CHECKDB simply take too long to run, you can break your consistency checks into chunks that will take less time.\n",
                "\n",
                "- Several options for doing the equivalent of DBCC CHECKDB if it’s not possible to restore to another server and run DBCC CHECKDB there\n",
                "    - E.g. no other system to use or the database is too large\n",
                "- Option 1:\n",
                "    - Use DBCC CHECKFILEGROUP to perform per-filegroup checks of all filegroups over a number of days, plus DBCC CHECKCATALOG\n",
                "    - This is another benefit of using multiple filegroups when your database size becomes very large (e.g. more than 100 GB)\n",
                "- Option 2:\n",
                "    - Use DBCC CHECKTABLE to perform consistency checks of all tables over a number of days, plus DBCC CHECKALLOCand DBCC CHECKCATALOG\n",
                "    - Can be based on time, table size, or some other factor"
            ],
            "metadata": {
                "azdata_cell_guid": "761c3853-a48d-421c-ab10-4d290792b9c3"
            },
            "attachments": {}
        }
    ]
}