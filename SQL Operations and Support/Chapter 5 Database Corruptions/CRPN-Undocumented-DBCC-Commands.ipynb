{
    "metadata": {
        "kernelspec": {
            "name": "SQL",
            "display_name": "SQL",
            "language": "sql"
        },
        "language_info": {
            "name": "sql",
            "version": ""
        }
    },
    "nbformat_minor": 2,
    "nbformat": 4,
    "cells": [
        {
            "cell_type": "markdown",
            "source": [
                "![CH5-ADS.png](.\\Media\\CH5-ADS.png)\r\n",
                "# <span style=\"color:#cc5500;\">Useful Undocumented DBCC Commands</span>"
            ],
            "metadata": {
                "azdata_cell_guid": "5f3b7390-8a8e-4d19-b0ca-4d2b6c675006"
            }
        },
        {
            "cell_type": "markdown",
            "source": [
                "A note on using the following Undocumented DBCC Commands"
            ],
            "metadata": {
                "azdata_cell_guid": "819988bf-f5b6-4dc8-9ffe-655a3ddf511c"
            },
            "attachments": {}
        }
    ]
}