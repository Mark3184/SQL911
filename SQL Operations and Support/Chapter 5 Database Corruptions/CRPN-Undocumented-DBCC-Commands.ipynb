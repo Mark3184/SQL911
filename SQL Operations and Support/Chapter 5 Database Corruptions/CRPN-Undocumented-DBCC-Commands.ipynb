{
    "metadata": {
        "kernelspec": {
            "name": "SQL",
            "display_name": "SQL",
            "language": "sql"
        },
        "language_info": {
            "name": "sql",
            "version": ""
        }
    },
    "nbformat_minor": 2,
    "nbformat": 4,
    "cells": [
        {
            "cell_type": "markdown",
            "source": [
                "![CH5-ADS.png](.\\Media\\CH5-ADS.png)\r\n",
                "# <span style=\"color:#cc5500;\">Useful Undocumented DBCC Commands</span>"
            ],
            "metadata": {
                "azdata_cell_guid": "5f3b7390-8a8e-4d19-b0ca-4d2b6c675006"
            }
        },
        {
            "cell_type": "markdown",
            "source": [
                "Microsoft uses Undocumented Commands for internal testing and enhancing the quality of our products.  We generally don't blog about them because they can introduce risk to your production environment.  I am providing informations and demo's to help you practice and master your skills in responding to corruptions.  I strongly caution you to do your practice on a test/dev server and not in production.\n",
                "\n",
                "## <span style=\"color:#cc5500;\">DBCC IND</span>\n",
                "\n",
                "- DBCC IND dumps a tabular list of all pages of all page types that are allocated to a table and all of its' indexes\n",
                "    - dbccind( { 'dbname' | dbid}, { 'objname' | objid}, { nonclustered indid| 1 | 0 | -1 | -2 } \\[, partition\\_number\\] )\n",
                "- Third parameter options:\n",
                "    - Nonclustered index ID –just that nonclustered index\n",
                "    - 0 – just the heap or clustered index\n",
                "    - 1 – just the clustered index\n",
                "    - \\-1 – the heap or clustered index and all nonclustered indexes\n",
                "    - \\-2 – IAM pages from the heap or clustered index and all nonclustered indexes\n",
                "- Works in all versions of SQL Server"
            ],
            "metadata": {
                "azdata_cell_guid": "819988bf-f5b6-4dc8-9ffe-655a3ddf511c"
            },
            "attachments": {}
        },
        {
            "cell_type": "markdown",
            "source": [
                "## <span style=\"color:#cc5500;\">DBCC PAGE</span>\n",
                "\n",
                "- DBCC PAGE dumps an individual data page\n",
                "    - dbcc page ( {'dbname' | dbid}, filenum, pagenum\\[, printopt={0|1|2|3} \\])\n",
                "    - Use WITH TABLERESULTS to get tabular output\n",
                "- Requires trace flag 3604 to be enabled to get results\n",
                "- Four parts to the output:\n",
                "    - The BUF structure from the buffer pool\n",
                "    - The page header\n",
                "    - The allocation status of the page and the extent it is part of\n",
                "    - Dump of the page contents\n",
                "- Printopt options:\n",
                "    - 0 – everything except the page contents\n",
                "    - 1 – hex dump of records on the page\n",
                "    - 2 – hex dump of the whole page\n",
                "    - 3 – hex dump and interpretation of records on the page"
            ],
            "metadata": {
                "azdata_cell_guid": "3d3b113d-b7e7-4434-a573-d2b339e8c125"
            },
            "attachments": {}
        },
        {
            "cell_type": "markdown",
            "source": [
                "## <span style=\"color:#cc5500;\">DBCC IND and DBCC PAGE Demo</span>\r\n",
                "\r\n",
                "### <span style=\"color:rgb(0, 204, 153);\">Run the Code block below</span>\r\n",
                "\r\n",
                "1. Click the run icon below\r\n",
                "2. If ADS prompts you for a connection, enter the correct SQL Server and authentication account\r\n",
                "3. View the results of the query by scrolling down to the results set"
            ],
            "metadata": {
                "azdata_cell_guid": "4b139182-9800-4b1b-b6e6-561102bbf5d3"
            }
        },
        {
            "cell_type": "code",
            "source": [
                "-- Create a test database for this demo\r\n",
                "USE [master];\r\n",
                "GO\r\n",
                "\r\n",
                "IF DATABASEPROPERTYEX (N'Company', N'Version') > 0\r\n",
                "BEGIN\r\n",
                "\tALTER DATABASE [Company] SET SINGLE_USER\r\n",
                "\t\tWITH ROLLBACK IMMEDIATE;\r\n",
                "\tDROP DATABASE [Company];\r\n",
                "END\r\n",
                "GO\r\n",
                "\r\n",
                "-- Create the database\r\n",
                "CREATE DATABASE [Company] ON PRIMARY (\r\n",
                "    NAME = N'Company',\r\n",
                "    FILENAME = N'C:\\Program Files\\Microsoft SQL Server\\MSSQL14.VIPER\\MSSQL\\DATA\\Company.mdf')  -- Modify path for your environment\r\n",
                "LOG ON (\r\n",
                "    NAME = N'Company_log',\r\n",
                "    FILENAME = N'C:\\Program Files\\Microsoft SQL Server\\MSSQL14.VIPER\\MSSQL\\DATA\\Company_log.ldf');  -- Modify path for your environment\r\n",
                "GO"
            ],
            "metadata": {
                "azdata_cell_guid": "6c2bd316-4ac6-4d36-aa2d-61433487753e"
            },
            "outputs": [],
            "execution_count": null
        },
        {
            "cell_type": "code",
            "source": [
                "-- Create a table and some indexes so that we have data structures to look at\r\n",
                "USE Company\r\n",
                "GO\r\n",
                "CREATE TABLE [RandomData] (\r\n",
                "\t[c1]  INT IDENTITY,\r\n",
                "\t[c2]  DATETIME2,\r\n",
                "\t[c3]  VARCHAR (5000) DEFAULT REPLICATE ('a', 5000),\r\n",
                "\t[c4]  VARCHAR (5000) DEFAULT REPLICATE ('b', 5000),\r\n",
                "\t[c5]  VARCHAR (MAX)  DEFAULT REPLICATE ('c', 5000));\r\n",
                "GO\r\n",
                "\r\n",
                "INSERT INTO [RandomData] DEFAULT VALUES;\r\n",
                "GO 10\r\n",
                "\r\n",
                "CREATE CLUSTERED INDEX [RandomData_CL_c1]\r\n",
                "ON [RandomData] ([c1]);\r\n",
                "\r\n",
                "CREATE NONCLUSTERED INDEX [RandomData_NCL_c2]\r\n",
                "ON [RandomData] ([c2]);\r\n",
                "GO"
            ],
            "metadata": {
                "azdata_cell_guid": "d98449e1-846a-4afb-98a1-d5a21b82945c"
            },
            "outputs": [],
            "execution_count": null
        },
        {
            "cell_type": "code",
            "source": [
                "-- DBCC IND dump styles\r\n",
                "-- Notice the allocation unit types and page linkages\r\n",
                "\r\n",
                "-- dump style 0 = just the heap or clustered index\r\n",
                "DBCC IND (N'Company', N'RandomData', 0);\r\n",
                "GO\r\n",
                "-- dump style 1 = just the clustered index\r\n",
                "DBCC IND (N'Company', N'RandomData', 1);\r\n",
                "GO\r\n",
                "-- dump style 2 = the pages just for index id 2\r\n",
                "DBCC IND (N'Company', N'RandomData', 2);\r\n",
                "GO\r\n",
                "-- dump style -1 = the heap or clustered index and all non clustered indexes.  All pages for all objects.\r\n",
                "DBCC IND (N'Company', N'RandomData', -1);\r\n",
                "GO\r\n",
                "-- dump style -2 IAM pages from the heap or clustered indexes\r\n",
                "DBCC IND (N'Company', N'RandomData', -2);\r\n",
                "GO"
            ],
            "metadata": {
                "azdata_cell_guid": "0209e379-68fe-4510-bffc-9818606396db",
                "tags": []
            },
            "outputs": [],
            "execution_count": null
        },
        {
            "cell_type": "code",
            "source": [
                "-- To use DBCC PAGE we need to turn on trace flag 3604.  Without it, DBCC PAGE cannot output results to your connection.\r\n",
                "DBCC TRACEON (3604);\r\n",
                "GO\r\n",
                "-- Run DBCC IND to pick a random data page.  You are looking for  page  type 1\r\n",
                "DBCC IND (N'Company', N'RandomData', 1);\r\n",
                "GO"
            ],
            "metadata": {
                "azdata_cell_guid": "51610b55-c3d1-42e9-a125-d2a7ee701c36",
                "tags": []
            },
            "outputs": [],
            "execution_count": null
        },
        {
            "cell_type": "markdown",
            "source": [
                "![CH5-DBCC-IND.jpg](.\\Media\\CH5-DBCC-IND.jpg) \n",
                "\n",
                "We want page type 1 for in-row data and I am going to pick a random page in the pic above, and I will use PagePFID 456 for my DBCC PAGE commands below"
            ],
            "metadata": {
                "azdata_cell_guid": "7b123046-c173-4074-af8b-1f7ee0de2cdf"
            },
            "attachments": {}
        },
        {
            "cell_type": "code",
            "source": [
                "-- Replace the XX with your value\r\n",
                "-- print option 0 = everything but the page contents\r\n",
                "DBCC TRACEON (3604) \r\n",
                "GO\r\n",
                "DBCC PAGE (N'Company', 1, xx, 0);\r\n",
                ""
            ],
            "metadata": {
                "azdata_cell_guid": "aef676f4-d9cd-4fc4-aed1-8b94406b9057",
                "tags": []
            },
            "outputs": [],
            "execution_count": null
        },
        {
            "cell_type": "code",
            "source": [
                "-- Replace the XX with your value\r\n",
                "-- print option 1 = hex dump of records on the page\r\n",
                "DBCC TRACEON (3604) \r\n",
                "GO\r\n",
                "DBCC PAGE (N'Company', 1, xx, 1);"
            ],
            "metadata": {
                "azdata_cell_guid": "407a78bc-280d-4540-aa87-1713f8bff138"
            },
            "outputs": [],
            "execution_count": null
        },
        {
            "cell_type": "markdown",
            "source": [
                "Feel free to practice with different dump style and different page types.  Dump style 3 is the most comprehensive"
            ],
            "metadata": {
                "azdata_cell_guid": "5af420b0-ab7e-41a0-a992-563e12688b58"
            },
            "attachments": {}
        }
    ]
}