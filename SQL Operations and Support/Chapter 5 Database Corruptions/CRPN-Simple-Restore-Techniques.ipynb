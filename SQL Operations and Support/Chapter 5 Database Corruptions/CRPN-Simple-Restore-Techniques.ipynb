{
    "metadata": {
        "kernelspec": {
            "name": "SQL",
            "display_name": "SQL",
            "language": "sql"
        },
        "language_info": {
            "name": "sql",
            "version": ""
        }
    },
    "nbformat_minor": 2,
    "nbformat": 4,
    "cells": [
        {
            "cell_type": "markdown",
            "source": [
                "![CH5-ADS.png](.\\Media\\CH5-ADS.png)\r\n",
                "# <span style=\"color:#cc5500;\">Simple Restore Techniques</span>"
            ],
            "metadata": {
                "azdata_cell_guid": "a65db69e-d5f6-48fc-b088-5169a0786483"
            }
        },
        {
            "cell_type": "markdown",
            "source": [
                "The BACKUP Database command backs up a complete SQL Server database to create a database backup, or one or more files or filegroups of the database to create a file backup (BACKUP DATABASE).  Also, under the full recovery model or bulk-logged recovery model, backs up the transaction log of the database to create a log backup (BACKUP LOG).\n",
                "\n",
                "## <span style=\"color:#cc5500;\">Recovering a Corrupt database from Backups</span>\n",
                "\n",
                "While Restoring a corrupt database from a know-good backup set is the best way to avoid data loss, it’s not necessarily the best way to avoid downtime.  It depends what kind of backups are available.  For example, with a backup strategy of full backup every Sunday and half-hourly transaction log backups:\n",
                "\n",
                "- If recovery is necessary towards the end of the week, lots of log backups will need to be restored, which will take a long time and some handy TSQL scripts\n",
                "- It is likely better to have daily full or differential backups to allow faster restore\n",
                "\n",
                "Remember:  Backups have to exist to be useful.  Backups have to be valid to avoid data loss\n",
                "\n",
                "How often do you validate your backups?  It is recommended that you perform a full test restore on another server at least once a week.\n",
                "\n",
                "## <span style=\"color:#cc5500;\">Backup Types</span>\n",
                "\n",
                "The BACKUP Database statements are here: [BACKUP (Transact-SQL) - SQL Server | Microsoft Docs](https://docs.microsoft.com/en-us/sql/t-sql/statements/backup-transact-sql?view=sql-server-ver15)  There are more advanced nuances to the types listed below, but the basics will be covered in this notebook.\n",
                "\n",
                "- Full database backup\n",
                "    - The starting point for any restore sequence is usually the most recent full database backup\n",
                "    - This provides a single point in time to restore to, or the basis for further restore operations\n",
                "- Transaction log backup\n",
                "    - Commonly known as just a “log backup”\n",
                "    - The set of transaction log records generated since the last log backup completed, using the full or bulk\\_loggedrecovery models\n",
                "    - Must be used to roll forward a database to the desired point in time\n",
                "- Differential database backup\n",
                "    - The set of data file pages that have changed since the most recent full database backup preceding this backup\n",
                "    - A differential backup is the net effect of all transaction log backups between the most recent full backup and this differential backup\n",
                "    - Where possible, the restore sequence will start with restoring a full backup and then restore the most recent differential backup, before finishing with transaction log backups\n",
                "    - This makes the restore sequence shorter and faster\n",
                "- There are also full file, full filegroup, differential file , and differential filegroup backups\n",
                "    - Their use is more advanced and we will not consider them here\n",
                "    - If they exist in your environment, it is imperative that you practice restore sequences with them\n",
                "\n",
                "## <span style=\"color:#cc5500;\">How to Restore</span>\n",
                "\n",
                "In an emergency, always go to you operations guide, DR handbook, or run book.  Do you have one?  If not, this should be a high priority.\n",
                "\n",
                "- The Operations guide should define:\n",
                "    - Location of backups\n",
                "    - How to put together the restore sequence, depending on what is damaged\n",
                "    - Commands or scripts to use\n",
                "    - Amount of time expected per step during restore process\n",
                "- There may be a 3rd-party backup/restore tool that you must use.  If so, it is important to master those skills\n",
                "    - In this Notebook, we are just covering SQL Server native backups\n",
                "- Make sure to use the correct RESTORE options\n",
                "    - Covered in this notebook\n",
                "\n",
                "## <span style=\"color:#cc5500;\">Continuity of the Log Backup Chain</span>\n",
                "\n",
                "The log backup chain is an unbroken sequence of transaction log backups covering the time between the most recent full backup, and the point in time to which a restore is required (typically the current time, but not always).  If the transaction log backup chain is not complete (meaning one or more log backups are damaged or missing in your sequence of transaction log backups) then complete recovery is not possible unless the “gap” can be bridged with a differential backup.  [Transaction Log Backups (SQL Server) - SQL Server | Microsoft Docs](https://docs.microsoft.com/en-us/sql/relational-databases/backup-restore/transaction-log-backups-sql-server?view=sql-server-ver15)\n",
                "\n",
                "- Consider creating copies of all backups, with some stored off-site\n",
                "- What breaks the log chain?\n",
                "    - Deleting or missing or damaging one of your transaction log backups\n",
                "    - Clearing the transaction log manually\n",
                "        - Using the WITH TRUNCATE\\_ONLY or WITH NO\\_LOG options on BACKUP LOG with versions prior to SQL Server 2008\n",
                "    - Changing the database to the simple recovery model\n",
                "    - Reverting from a database snapshot or rebuilding the transaction log\n",
                "\n",
                "Here's a helpful wiki: [Various Causes of Log Chains Breaking Issue in SQL Server - TechNet Articles - United States (English) - TechNet Wiki (microsoft.com)](https://social.technet.microsoft.com/wiki/contents/articles/25439.various-causes-of-log-chains-breaking-issue-in-sql-server.aspx)\n",
                "\n",
                "## <span style=\"color:#cc5500;\">Restore Options</span>\n",
                "\n",
                "This command enables you to perform the following restore scenarios:  [RESTORE (Transact-SQL) - SQL Server | Microsoft Docs](https://docs.microsoft.com/en-us/sql/t-sql/statements/restore-statements-transact-sql?view=sql-server-ver15)\n",
                "\n",
                "- Restore an entire database from a full database backup (a complete restore).\n",
                "- Restore part of a database (a partial restore).\n",
                "- Restore specific files or filegroups to a database (a file restore).\n",
                "- Restore specific pages to a database (a page restore).\n",
                "- Restore a transaction log onto a database (a transaction log restore).\n",
                "- Revert a database to the point in time captured by a database snapshot.\n",
                "\n",
                "Just like stated above regarding BACKUP, there are also some advanced nuances to RESTORE and the basics will be covered in this Notebook.\n",
                "\n",
                "- WITH RECOVERY is the default\n",
                "    - Does not allow further restore options as database is fully recovered\n",
                "    - Frustrating for some, if they forget to specify NORECOVERY, then their database will recover, and then you will have to start over again\n",
                "- Use WITH NORECOVERY for safety and make it your default for all restore operations in the restore sequence\n",
                "    - Postpones fully recovering the database\n",
                "    - Then use RESTORE DATABASE dbname WITH RECOVERY to complete the restore sequence\n",
                "    - If you make a mistake, you must restart the restore sequence\n",
                "- WITH STANDBY is the same as WITH NORECOVERY but creates a recovered, read-only database for you to look in\n",
                "    - Creates an UNDO file to save info from transactions that are pending at the end of the restore\n",
                "\n",
                "## <span style=\"color:#cc5500;\">Restore a database to a specific point in time</span>\n",
                "\n",
                "What if you know when the corruption occured and you want to restore your database to a point in time?\n",
                "\n",
                "- Common examples:\n",
                "    - Restore a database to the time just before a user or application error occurred (e.g. dropping a table)\n",
                "    - Restore a database to the point before a known corruption-causing event occurred\n",
                "- Start with most recent full backup and proceed with smallest set of backups to the desired point\n",
                "- Best practice is to use WITH STOPAT on all operations in the restore sequence\n",
                "    - Date and time specific, or\n",
                "    - Transaction name (i.e. marked transaction)\n",
                "    - Note: All work after the stop point is lost"
            ],
            "metadata": {
                "azdata_cell_guid": "d9249ac1-8702-4d7b-ac70-e1ddfb19ed01"
            },
            "attachments": {}
        },
        {
            "cell_type": "markdown",
            "source": [
                "## <span style=\"color:#cc5500;\">Demo:  Point in Time Recovery</span>\r\n",
                "\r\n",
                "### <span style=\"color:rgb(0, 204, 153);\">Run the Code block below</span>\r\n",
                "\r\n",
                "1. Click the run icon below\r\n",
                "2. If ADS prompts you for a connection, enter the correct SQL Server and authentication account\r\n",
                "3. View the results of the query by scrolling down to the results set"
            ],
            "metadata": {
                "azdata_cell_guid": "e4beadcb-4d02-482c-ba67-79809de076fc"
            }
        },
        {
            "cell_type": "code",
            "source": [
                "-- Create a test database for this demo\r\n",
                "USE [master];\r\n",
                "GO\r\n",
                "\r\n",
                "IF DATABASEPROPERTYEX (N'Company', N'Version') > 0\r\n",
                "BEGIN\r\n",
                "\tALTER DATABASE [Company] SET SINGLE_USER\r\n",
                "\t\tWITH ROLLBACK IMMEDIATE;\r\n",
                "\tDROP DATABASE [Company];\r\n",
                "END\r\n",
                "GO\r\n",
                "\r\n",
                "-- Create the database\r\n",
                "CREATE DATABASE [Company] ON PRIMARY (\r\n",
                "    NAME = N'Company',\r\n",
                "    FILENAME = N'C:\\Program Files\\Microsoft SQL Server\\MSSQL14.VIPER\\MSSQL\\DATA\\Company.mdf')  -- Modify path for your environment\r\n",
                "LOG ON (\r\n",
                "    NAME = N'Company_log',\r\n",
                "    FILENAME = N'C:\\Program Files\\Microsoft SQL Server\\MSSQL14.VIPER\\MSSQL\\DATA\\Company_log.ldf');  -- Modify path for your environment\r\n",
                "GO\r\n",
                ""
            ],
            "metadata": {
                "azdata_cell_guid": "f4618bc0-2096-4ef4-83c2-785c9f7c24c5"
            },
            "outputs": [],
            "execution_count": null
        },
        {
            "cell_type": "code",
            "source": [
                "-- Here we create a table, load 1 random record and then take a backup\r\n",
                "\r\n",
                "USE [Company];\r\n",
                "GO\r\n",
                "\r\n",
                "-- Create a table\r\n",
                "CREATE TABLE [RandomData] (\r\n",
                "\t[c1] INT IDENTITY,\r\n",
                "\t[c2] VARCHAR (100));\r\n",
                "GO\r\n",
                "\r\n",
                "INSERT INTO [RandomData] VALUES\r\n",
                "\t('Initial data: transaction 1');\r\n",
                "GO\r\n",
                "\r\n",
                "-- And take a full backup\r\n",
                "BACKUP DATABASE [Company]\r\n",
                "TO DISK = N'C:\\Temp\\Backups\\Company_Full.bak'  -- Modify path for your environment\r\n",
                "WITH INIT;\r\n",
                "GO\r\n",
                ""
            ],
            "metadata": {
                "azdata_cell_guid": "f02f36e2-6eb1-4f68-99fd-23c5f5908b54"
            },
            "outputs": [],
            "execution_count": null
        },
        {
            "cell_type": "code",
            "source": [
                "-- Here we create two seperate insert operations and our first log backup\r\n",
                "INSERT INTO [RandomData] VALUES\r\n",
                "\t('Transaction 2');\r\n",
                "INSERT INTO [RandomData] VALUES\r\n",
                "\t('Transaction 3');\r\n",
                "GO\r\n",
                "\r\n",
                "BACKUP LOG [Company]\r\n",
                "TO DISK = N'C:\\Temp\\Backups\\Company_Log1.bak'  -- Modify path for your environment\r\n",
                "WITH INIT;\r\n",
                "GO"
            ],
            "metadata": {
                "azdata_cell_guid": "d02f9449-2e50-44b9-a6d7-8165d6747db7",
                "tags": []
            },
            "outputs": [],
            "execution_count": null
        },
        {
            "cell_type": "code",
            "source": [
                "-- And two more records\r\n",
                "INSERT INTO [RandomData] VALUES\r\n",
                "\t('Transaction 4');\r\n",
                "INSERT INTO [RandomData] VALUES\r\n",
                "\t('Transaction 5');\r\n",
                "GO"
            ],
            "metadata": {
                "azdata_cell_guid": "c343e6cb-ccc6-4940-943f-02ef56bc8130"
            },
            "outputs": [],
            "execution_count": null
        },
        {
            "cell_type": "code",
            "source": [
                "-- Now, we need create a notional point in time to rocover to.  Run this GETDATE and paste the results into notepad\r\n",
                "SELECT GETDATE ();\r\n",
                "GO"
            ],
            "metadata": {
                "azdata_cell_guid": "6a13d1bb-ee70-446f-af27-9f6b8fe0785f"
            },
            "outputs": [],
            "execution_count": null
        },
        {
            "cell_type": "code",
            "source": [
                "-- And two more updates and then take another log backup\r\n",
                "INSERT INTO [RandomData] VALUES\r\n",
                "\t('Transaction 6');\r\n",
                "INSERT INTO [RandomData] VALUES\r\n",
                "\t('Transaction 7');\r\n",
                "GO\r\n",
                "\r\n",
                "-- And take another backup\r\n",
                "BACKUP LOG [Company]\r\n",
                "TO DISK = N'C:\\Temp\\Backups\\Company_Log2.bak' -- Modify path for your environment\r\n",
                "WITH INIT;\r\n",
                "GO"
            ],
            "metadata": {
                "azdata_cell_guid": "8b90f460-11a4-4815-b078-3eac7ff952fb",
                "tags": []
            },
            "outputs": [],
            "execution_count": null
        },
        {
            "cell_type": "markdown",
            "source": [
                "Now we are going to simulate a disaster, by deleting the database.  You'd be amazed at how many times customers have called Microsoft for help after accidentially deleting a database."
            ],
            "metadata": {
                "azdata_cell_guid": "b8ed66a5-601e-4311-a398-251c1f444ed4"
            },
            "attachments": {}
        },
        {
            "cell_type": "code",
            "source": [
                "-- Simulate corruption that destroys the database\r\n",
                "USE [master];\r\n",
                "GO\r\n",
                "\r\n",
                "DROP DATABASE [Company];\r\n",
                "GO\r\n",
                ""
            ],
            "metadata": {
                "azdata_cell_guid": "259628c9-2019-4663-a36b-0f88066c3eb6"
            },
            "outputs": [],
            "execution_count": null
        },
        {
            "cell_type": "markdown",
            "source": [
                "The database is now gone.  But, the good news is we have backups, and will now demonstrate a point in time recovery."
            ],
            "metadata": {
                "azdata_cell_guid": "279915f1-cae1-4fb8-abd9-ae05903d81e7"
            },
            "attachments": {}
        },
        {
            "cell_type": "code",
            "source": [
                "-- We have three backups - so restore them\r\n",
                "-- Restore the full backup and the logs\r\n",
                "RESTORE DATABASE [Company]\r\n",
                "FROM DISK = N'C:\\Temp\\Backups\\Company_Full.bak'  -- Modify path for your environment\r\n",
                "WITH REPLACE;\r\n",
                "GO\r\n",
                "\r\n",
                "-- And the log backups\r\n",
                "RESTORE LOG [Company]\r\n",
                "FROM DISK = N'C:\\Temp\\Backups\\Company_Log1.bak'  -- Modify path for your environment\r\n",
                "\r\n",
                "RESTORE LOG [Company]\r\n",
                "FROM DISK = N'C:\\Temp\\Backups\\Company_Log2.bak'  -- Modify path for your environment\r\n",
                "GO"
            ],
            "metadata": {
                "azdata_cell_guid": "eac6d82a-8353-4077-bcbd-cd6e4bb75fe4",
                "tags": []
            },
            "outputs": [],
            "execution_count": null
        },
        {
            "cell_type": "markdown",
            "source": [
                "Why did the transaction log restore fail?  Remember from the notes above, WITH RECOVERY is the default behavior if not specified.  So, the RESTORE DATABASE operation went in to Recovery, then we tried to restore a log to a recovered database.  That is not allowed.  So we have to start over again and use NO RECOVERY."
            ],
            "metadata": {
                "azdata_cell_guid": "d23cc1af-7aff-460c-9fe1-e62bfed23bc5"
            },
            "attachments": {}
        },
        {
            "cell_type": "code",
            "source": [
                "-- We need to start again... restore the database, then both logs, the select from the table to see if we are good and have all 7 records.\r\n",
                "RESTORE DATABASE [Company]\r\n",
                "FROM DISK = N'C:\\Temp\\Backups\\Company_Full.bak'  -- Modify path for your environment\r\n",
                "WITH REPLACE, NORECOVERY;\r\n",
                "GO\r\n",
                "\r\n",
                "-- And the log backups\r\n",
                "RESTORE LOG [Company]\r\n",
                "FROM DISK = N'C:\\Temp\\Backups\\Company_Log1.bak'  -- Modify path for your environment\r\n",
                "WITH NORECOVERY;\r\n",
                "\r\n",
                "RESTORE LOG [Company]\r\n",
                "FROM DISK = N'C:\\Temp\\Backups\\Company_Log2.bak'  -- Modify path for your environment\r\n",
                "WITH NORECOVERY;\r\n",
                "GO\r\n",
                "\r\n",
                "-- And then finalize recovery\r\n",
                "RESTORE DATABASE [Company] WITH RECOVERY;\r\n",
                "GO\r\n",
                "\r\n",
                "SELECT * FROM [Company].[dbo].[RandomData];\r\n",
                "GO"
            ],
            "metadata": {
                "azdata_cell_guid": "10b95220-f9ec-4d05-8bef-0b536e45e78c"
            },
            "outputs": [],
            "execution_count": null
        },
        {
            "cell_type": "markdown",
            "source": [
                "What if we woul like to examine our data bewtween restored.\n",
                "\n",
                "We will do this by means of STANDBY"
            ],
            "metadata": {
                "azdata_cell_guid": "874d9884-db98-4fe8-b933-78bd21bd8b35"
            },
            "attachments": {}
        },
        {
            "cell_type": "code",
            "source": [
                "-- What if we want to examine things between restores?\r\n",
                "-- Here we will use standy by and see if the databases is accessible in standby mode\r\n",
                "RESTORE DATABASE [Company]\r\n",
                "FROM DISK = N'C:\\Temp\\Backups\\Company_Full.bak'  -- Modify path for your environment\r\n",
                "WITH REPLACE, STANDBY = N'C:\\Temp\\Backups\\standbyfile.dat';  -- Modify path for your environment\r\n",
                "GO\r\n",
                "\r\n",
                "-- We can see what's in there...\r\n",
                "SELECT * FROM [Company].[dbo].[RandomData];\r\n",
                "GO\r\n",
                ""
            ],
            "metadata": {
                "azdata_cell_guid": "5961a77f-16de-4d6a-93c2-3759d3eb9c06"
            },
            "outputs": [],
            "execution_count": null
        },
        {
            "cell_type": "markdown",
            "source": [
                "Yes, you can select data from that table and if you look at SSMS, you will see that database is in standby / read only\n",
                "\n",
                "  ![CH5-Standby.jpg](.\\Media\\CH5-Standby.jpg)\n",
                "\n",
                "Now, can you update a database in Standby and; insert a new record?"
            ],
            "metadata": {
                "azdata_cell_guid": "48324270-f21f-4bd5-8b9c-bb53b2f0ca98"
            },
            "attachments": {}
        },
        {
            "cell_type": "code",
            "source": [
                "-- Can we update anything?\r\n",
                "INSERT INTO [Company].[dbo].[RandomData] VALUES\r\n",
                "\t('Transaction 8');\r\n",
                "GO"
            ],
            "metadata": {
                "azdata_cell_guid": "a5902072-1ce2-4788-94a6-07deba189bc3"
            },
            "outputs": [],
            "execution_count": null
        },
        {
            "cell_type": "markdown",
            "source": [
                "No, you can not update a database in Standby\n",
                "\n",
                "![](attachment:image.png)\n",
                "\n",
                "What if we want to RESTORE to a specific time?  We will now restore this database to the point in time (from when you did the GETDATE() above).  Hopefully you still have that saved in notepad."
            ],
            "metadata": {
                "azdata_cell_guid": "65fe7fde-5398-4543-b61c-ae13c0a4a6b7"
            },
            "attachments": {
                "image.png": {
                    "image/png": "[encoded data removed]"
                }
            }
        },
        {
            "cell_type": "code",
            "source": [
                "-- What if we want to stop at a specific point?  We will restore from full, restore from log 1, and create a standby file, then restore to our point in time\r\n",
                "RESTORE DATABASE [Company]\r\n",
                "FROM DISK = N'C:\\Temp\\Backups\\Company_Full.bak'  -- Modify path for your environment\r\n",
                "WITH REPLACE, NORECOVERY\r\n",
                "GO\r\n",
                "\r\n",
                "RESTORE LOG [Company]\r\n",
                "FROM DISK = N'C:\\Temp\\Backups\\Company_Log1.bak'  -- Modify path for your environment\r\n",
                "WITH STANDBY = N'C:\\Temp\\Backups\\standbyfile.dat', -- Modify path for your environment\r\n",
                "STOPAT = '2022-01-13 12:38:28.510'\r\n",
                "GO\r\n",
                "\r\n",
                "-- Are we there yet?\r\n",
                "SELECT * FROM [Company].[dbo].[RandomData];\r\n",
                "GO"
            ],
            "metadata": {
                "azdata_cell_guid": "97a7ed18-1031-4819-8763-7ae6cd6c62cb"
            },
            "outputs": [],
            "execution_count": null
        },
        {
            "cell_type": "markdown",
            "source": [
                "No were are not there yet.  This message is telling us that the STOPAT time we entered is not in log backup 1.....but is in a later log backup\n",
                "\n",
                "  ![CH5-STOPAT-Miss.jpg](.\\Media\\CH5-STOPAT-Miss.jpg)\n",
                "\n",
                "Our STOPAT time is located in the next log backup.  So let's do that now.  Remember, we are in standby again, so we can just apply log backup 2 with out having to start from the beginning.  We will keep it in Standby"
            ],
            "metadata": {
                "azdata_cell_guid": "e4068a29-e017-4f97-a96a-d26dcc1342b3"
            },
            "attachments": {}
        },
        {
            "cell_type": "code",
            "source": [
                "RESTORE LOG [Company]\r\n",
                "FROM DISK = N'C:\\Temp\\Backups\\Company_Log2.bak'  -- Modify path for your environment\r\n",
                "WITH STANDBY = N'C:\\Temp\\Backups\\standbyfile.dat', -- Modify path for your environment\r\n",
                "STOPAT = '2022-01-13 12:38:28.510';\r\n",
                "GO\r\n",
                "\r\n",
                "-- Is this the right point?\r\n",
                "SELECT * FROM [Company].[dbo].[RandomData];\r\n",
                "GO"
            ],
            "metadata": {
                "azdata_cell_guid": "60fbb9a1-932e-4953-b136-e915af81bd79"
            },
            "outputs": [],
            "execution_count": null
        },
        {
            "cell_type": "code",
            "source": [
                "-- Okay, time to finalize recovery.  Select our data.\r\n",
                "RESTORE DATABASE [Company] WITH RECOVERY;\r\n",
                "GO\r\n",
                "SELECT * FROM [Company].[dbo].[RandomData];\r\n",
                "GO\r\n",
                "\r\n",
                "-- Best Practice.  We will also want to take another full backup so we don't need to go through all that again.  We spent a lot of time getting our database to the exact\r\n",
                "-- point in time, just prior to the corruption, and we dont want to have to repeat this again from the beginning.\r\n",
                "BACKUP DATABASE [Company]\r\n",
                "TO DISK = N'C:\\Temp\\Backups\\Company_NewFull.bak'  --Modify path for your environment\r\n",
                "WITH INIT;\r\n",
                "GO\r\n",
                ""
            ],
            "metadata": {
                "azdata_cell_guid": "6906198a-1edb-4e50-a7c2-b8e84ae7d70f"
            },
            "outputs": [],
            "execution_count": null
        },
        {
            "cell_type": "markdown",
            "source": [
                "## <span style=\"color:#cc5500;\">Tail of the Log Backups</span>\n",
                "\n",
                "After a disaster, where it is necessary to restore from backups, the final portion of the transaction log must first be backed up to allow restoration with zero data loss,  A tail-log backup captures any log records that have not yet been backed up (the tail of the log) to prevent work loss and to keep the log chain intact.  Before you can recover a SQL Server database to its latest point in time, you must back up the tail of its transaction log. The tail-log backup will be the last backup of interest in the recovery plan for the database.  Not all restore scenarios require a tail-log backup. You do not need a tail-log backup if the recovery point is contained in an earlier log backup.\n",
                "\n",
                "We recommend that you take a tail-log backup in the following scenarios:\n",
                "\n",
                "- If the database is <span style=\"color:#e32636;\">online</span> and you plan to perform a restore operation on the database, begin by backing up the tail of the log. To avoid an error for an online database, you must use the ... WITH NORECOVERY option of the BACKUP Transact-SQL statement.\n",
                "- If a database is <span style=\"color:#e32636;\">offline</span> and fails to start and you need to restore the database, first back up the tail of the log. Because no transactions can occur at this time, using the WITH NORECOVERY is optional.\n",
                "- If a database is <span style=\"color:#e32636;\">damaged</span>, try to take a tail-log backup by using the WITH CONTINUE\\_AFTER\\_ERROR option of the BACKUP statement.\n",
                "- On a <span style=\"color:#e32636;\">damaged</span> database backing up the tail of the log can succeed only if the log files are undamaged, the database is in a state that supports tail-log backups, and the database does not contain any bulk-logged changes. If a tail-log backup cannot be created, any transactions committed after the latest log backup are lost."
            ],
            "metadata": {
                "azdata_cell_guid": "0691fb7b-3165-40ff-b47d-93ea869241c5"
            },
            "attachments": {}
        },
        {
            "cell_type": "markdown",
            "source": [
                "## <span style=\"color:#cc5500;\">Demo:  Tail of the log backup</span>\r\n",
                "\r\n",
                "### <span style=\"color:rgb(0, 204, 153);\">Run the Code block below</span>\r\n",
                "\r\n",
                "1. Click the run icon below\r\n",
                "2. If ADS prompts you for a connection, enter the correct SQL Server and authentication account\r\n",
                "3. View the results of the query by scrolling down to the results set"
            ],
            "metadata": {
                "azdata_cell_guid": "a6cf58d8-b863-410f-b6b2-a6425366b973"
            }
        },
        {
            "cell_type": "code",
            "source": [
                "-- Create a test database for this demo\r\n",
                "USE [master];\r\n",
                "GO\r\n",
                "\r\n",
                "IF DATABASEPROPERTYEX (N'Company', N'Version') > 0\r\n",
                "BEGIN\r\n",
                "\tALTER DATABASE [Company] SET SINGLE_USER\r\n",
                "\t\tWITH ROLLBACK IMMEDIATE;\r\n",
                "\tDROP DATABASE [Company];\r\n",
                "END\r\n",
                "GO\r\n",
                "\r\n",
                "-- Create the database\r\n",
                "CREATE DATABASE [Company] ON PRIMARY (\r\n",
                "    NAME = N'Company',\r\n",
                "    FILENAME = N'C:\\Program Files\\Microsoft SQL Server\\MSSQL14.VIPER\\MSSQL\\DATA\\Company.mdf')  -- Modify path for your environment\r\n",
                "LOG ON (\r\n",
                "    NAME = N'Company_log',\r\n",
                "    FILENAME = N'C:\\Program Files\\Microsoft SQL Server\\MSSQL14.VIPER\\MSSQL\\DATA\\Company_log.ldf');  -- Modify path for your environment\r\n",
                "GO\r\n",
                ""
            ],
            "metadata": {
                "azdata_cell_guid": "0998c189-7d0e-41e7-a7a5-922c4b5985cd"
            },
            "outputs": [],
            "execution_count": null
        },
        {
            "cell_type": "code",
            "source": [
                "-- Here we create a table, load 1 random record and then take a backup\r\n",
                "\r\n",
                "USE [Company];\r\n",
                "GO\r\n",
                "\r\n",
                "-- Create a table\r\n",
                "CREATE TABLE [RandomData] (\r\n",
                "\t[c1] INT IDENTITY,\r\n",
                "\t[c2] VARCHAR (100));\r\n",
                "GO\r\n",
                "\r\n",
                "INSERT INTO [RandomData] VALUES\r\n",
                "\t('Initial data: transaction 1');\r\n",
                "GO\r\n",
                "\r\n",
                "-- And take a full backup\r\n",
                "BACKUP DATABASE [Company]\r\n",
                "TO DISK = N'C:\\Temp\\Backups\\Company_Full.bak'  -- Modify path for your environment\r\n",
                "WITH INIT;\r\n",
                "GO"
            ],
            "metadata": {
                "azdata_cell_guid": "4a65abe9-1f80-490e-908e-de1e0124877c"
            },
            "outputs": [],
            "execution_count": null
        },
        {
            "cell_type": "code",
            "source": [
                "-- Here we create two seperate insert operations and our first log backup\r\n",
                "INSERT INTO [RandomData] VALUES\r\n",
                "\t('Transaction 2');\r\n",
                "INSERT INTO [RandomData] VALUES\r\n",
                "\t('Transaction 3');\r\n",
                "GO\r\n",
                "\r\n",
                "BACKUP LOG [Company]\r\n",
                "TO DISK = N'C:\\Temp\\Backups\\Company_Log1.bak'  -- Modify path for your environment\r\n",
                "WITH INIT;\r\n",
                "GO"
            ],
            "metadata": {
                "azdata_cell_guid": "b6ff289e-d2d6-4bd7-94b5-18cfccbe592b",
                "tags": []
            },
            "outputs": [],
            "execution_count": null
        },
        {
            "cell_type": "code",
            "source": [
                "-- And two more records\r\n",
                "INSERT INTO [RandomData] VALUES\r\n",
                "\t('Transaction 4');\r\n",
                "INSERT INTO [RandomData] VALUES\r\n",
                "\t('Transaction 5');\r\n",
                "GO"
            ],
            "metadata": {
                "azdata_cell_guid": "dee29325-8628-41c0-9559-4adde1584e58"
            },
            "outputs": [],
            "execution_count": null
        },
        {
            "cell_type": "code",
            "source": [
                "-- Here we Simulate a crash\r\n",
                "ALTER DATABASE [Company] SET OFFLINE;\r\n",
                "GO\r\n",
                ""
            ],
            "metadata": {
                "azdata_cell_guid": "e57c1f1e-95ba-4f2a-a18f-a621ff3be419"
            },
            "outputs": [],
            "execution_count": null
        },
        {
            "cell_type": "markdown",
            "source": [
                "Now that the database is offline.  \n",
                "\n",
                "![CH5-Offline.jpg](.\\Media\\CH5-Offline.jpg)\n",
                "\n",
                "Navigate to the location of your database files.  In my case it is:\n",
                "\n",
                "<span style=\"white-space: pre; color: rgb(206, 145, 120);\">C:\\Program&nbsp;Files\\Microsoft&nbsp;SQL&nbsp;Server\\MSSQL14.VIPER\\MSSQL\\DATA</span>\n",
                "\n",
                "Delete the .mdf file for the test Company Database\n",
                "\n",
                "![CH5-Delete-MDF.jpg](.\\Media\\CH5-Delete-MDF.jpg)"
            ],
            "metadata": {
                "azdata_cell_guid": "c23126ce-2062-4499-968d-d25c17de6412"
            },
            "attachments": {}
        },
        {
            "cell_type": "code",
            "source": [
                "-- Try to bring the database online\r\n",
                "ALTER DATABASE [Company] SET ONLINE;\r\n",
                "GO"
            ],
            "metadata": {
                "azdata_cell_guid": "115f8bca-cd1f-4abd-9c1c-9f963826650b",
                "tags": []
            },
            "outputs": [],
            "execution_count": null
        },
        {
            "cell_type": "markdown",
            "source": [
                "You can't bring it online because your database is missing its' data file\r\n",
                "\r\n",
                "![CH5-Recovery-Pending.jpg](.\\Media\\CH5-Recovery-Pending.jpg)"
            ],
            "metadata": {
                "azdata_cell_guid": "eaf79ae1-841f-4693-992a-c7bd7b7c581e"
            },
            "attachments": {}
        },
        {
            "cell_type": "code",
            "source": [
                "-- The backups we have don't have the most recent transactions, so if we restore the backups we'll lose those transactions.  Remember we added records 4 and 5 after the log backup.\r\n",
                "-- We will restore a \"COPY\" of the Company Database so we use a different name, as the Company database (original is still visible but crashed in SSMS)\r\n",
                "\r\n",
                "-- Let's see...\r\n",
                "RESTORE DATABASE [Company_Copy]\r\n",
                "FROM DISK = N'C:\\Temp\\Backups\\Company_Full.bak'   -- Modify path for your environment\r\n",
                "WITH\r\n",
                "    MOVE N'Company' TO N'C:\\Program Files\\Microsoft SQL Server\\MSSQL14.VIPER\\MSSQL\\DATA\\Company_Copy.mdf',  -- Modify path for your environment\r\n",
                "\tMOVE N'Company_log' TO N'C:\\Program Files\\Microsoft SQL Server\\MSSQL14.VIPER\\MSSQL\\DATA\\Company_Copy_log.ldf', -- Modify path for your environment\r\n",
                "\tREPLACE, NORECOVERY;\r\n",
                "GO\r\n",
                "\r\n",
                "RESTORE LOG [Company_Copy]\r\n",
                "FROM DISK = N'C:\\Temp\\Backups\\Company_Log1.bak' -- Modify path for your environment\r\n",
                "WITH NORECOVERY;\r\n",
                "GO\r\n",
                "\r\n",
                "RESTORE DATABASE [Company_Copy] WITH RECOVERY;\r\n",
                "GO\r\n",
                "\r\n",
                "-- What data do we have?\r\n",
                "SELECT * FROM [Company_Copy].[dbo].[RandomData];\r\n",
                "GO\r\n",
                ""
            ],
            "metadata": {
                "azdata_cell_guid": "8a6e4675-c23d-488b-ac06-524ad0f0fa3b"
            },
            "outputs": [],
            "execution_count": null
        },
        {
            "cell_type": "markdown",
            "source": [
                "We are missing records # 5 and 6.  They are still in the active transaction log file.  True the data file was deleted, but we still have the original log file in-tact.\n",
                "\n",
                "Let's see if we can do a standard transaction log backup of the original Company database to grab the tail.\n",
                "\n",
                "Can we do it?"
            ],
            "metadata": {
                "azdata_cell_guid": "994a4fa3-6acb-40c8-b5aa-05e93d2a85a1"
            },
            "attachments": {}
        },
        {
            "cell_type": "code",
            "source": [
                "-- Take a log backup?  We'll call it _Log_Tail.bak\r\n",
                "BACKUP LOG [Company]\r\n",
                "TO DISK = N'C:\\Temp\\Backups\\Company_Log_Tail.bak' -- Modify path for your environment\r\n",
                "WITH INIT;\r\n",
                "GO"
            ],
            "metadata": {
                "azdata_cell_guid": "e294250a-7ca0-407f-9bd8-8023d2478e7a"
            },
            "outputs": [],
            "execution_count": null
        },
        {
            "cell_type": "markdown",
            "source": [
                "No we can't.  It throws an error.  It has an inaccessible data file.  We deleted it.\n",
                "\n",
                "What do we do now?  We use a more advanced option called NO\\_TRUNCATE.\n",
                "\n",
                "Avoid using NO\\_TRUNCATE, <span style=\"color:#e32636;\">except when the database is damaged.</span> Ours is damaged.  After the restore, set the database back to multi-user mode."
            ],
            "metadata": {
                "azdata_cell_guid": "863462a9-93b5-4251-a028-e623d0c991e5"
            },
            "attachments": {}
        },
        {
            "cell_type": "code",
            "source": [
                "-- Let's do our tail of the log backup with the special syntax!\r\n",
                "BACKUP LOG [Company]\r\n",
                "TO DISK = N'C:\\Temp\\Backups\\Company_Log_Tail.bak' -- Modify path for your environment\r\n",
                "WITH INIT, NO_TRUNCATE;\r\n",
                "GO"
            ],
            "metadata": {
                "azdata_cell_guid": "2842cd7f-a43f-45cc-9a50-eb6002cffe45"
            },
            "outputs": [],
            "execution_count": null
        },
        {
            "cell_type": "code",
            "source": [
                "-- Now let's wrap this up, get our data from a restore\r\n",
                "RESTORE DATABASE [Company_Copy]\r\n",
                "FROM DISK = N'C:\\Temp\\Backups\\Company_Full.bak'   -- Modify path for your environment\r\n",
                "WITH\r\n",
                "    MOVE N'Company' TO N'C:\\Program Files\\Microsoft SQL Server\\MSSQL14.VIPER\\MSSQL\\DATA\\Company_Copy.mdf',  -- Modify path for your environment\r\n",
                "\tMOVE N'Company_log' TO N'C:\\Program Files\\Microsoft SQL Server\\MSSQL14.VIPER\\MSSQL\\DATA\\Company_Copy_log.ldf', -- Modify path for your environment\r\n",
                "\tREPLACE, NORECOVERY;\r\n",
                "GO\r\n",
                "\r\n",
                "RESTORE LOG [Company_Copy]\r\n",
                "FROM DISK = N'C:\\Temp\\Backups\\Company_Log1.bak'  -- Modify path for your environment\r\n",
                "WITH NORECOVERY;\r\n",
                "GO\r\n",
                "\r\n",
                "RESTORE LOG [Company_Copy]\r\n",
                "FROM DISK = N'C:\\Temp\\Backups\\Company_Log_Tail.bak' -- Let's get that tail.  Modify path for your environment\r\n",
                "WITH NORECOVERY;\r\n",
                "GO\r\n",
                "\r\n",
                "RESTORE DATABASE [Company_Copy] WITH RECOVERY;\r\n",
                "GO\r\n",
                "\r\n",
                "-- Is everything there?  Yes!\r\n",
                "SELECT * FROM [Company_Copy].[dbo].[RandomData];\r\n",
                "GO\r\n",
                ""
            ],
            "metadata": {
                "azdata_cell_guid": "b1e118cd-a59a-4faf-b105-196aee8aa870"
            },
            "outputs": [],
            "execution_count": null
        },
        {
            "cell_type": "markdown",
            "source": [
                "So we just completed a zero-data-loss recovery from a damaged database!\n",
                "\n",
                "## <span style=\"color:#cc5500;\">Recovering with Full, Differential, and Log Backups</span>\n",
                "\n",
                "![CH5-Backup-Sequence.jpg](.\\Media\\CH5-Backup-Sequence.jpg)\n",
                "\n",
                "![CH5-Diff-3.jpg](.\\Media\\CH5-Diff-3.jpg)"
            ],
            "metadata": {
                "azdata_cell_guid": "1f4e726a-3d85-42c9-91b3-4c242c3c257e"
            },
            "attachments": {}
        }
    ]
}