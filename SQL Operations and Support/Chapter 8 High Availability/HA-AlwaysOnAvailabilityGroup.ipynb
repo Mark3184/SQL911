{
 "cells": [
  {
   "cell_type": "markdown",
   "metadata": {},
   "source": [
    "##Retrieve AlwaysOn Availability Group topology"
   ]
  },
  {
   "cell_type": "markdown",
   "metadata": {},
   "source": [
    "##Retrieve information regarding a specific Availability Group"
   ]
  },
  {
   "cell_type": "markdown",
   "metadata": {},
   "source": [
    "##Retrieve Availability Group Listener information"
   ]
  },
  {
   "cell_type": "code",
   "execution_count": null,
   "metadata": {},
   "outputs": [],
   "source": [
    "SELECT\n",
    "\tG.[name] AS AvailabilityGroupName,\n",
    "\tL.dns_name AS ListenerName,\n",
    "\tL.[port] AS ListenerPort,\n",
    "\tI.ip_address AS IPaddress,\n",
    "\tI.ip_subnet_mask AS SubnetMask,\n",
    "\tI.network_subnet_ip AS NetworkSubnet,\n",
    "\tI.state_desc AS ListenerState\n",
    "FROM\n",
    "\tsys.availability_group_listeners L\n",
    "\t\tJOIN sys.availability_group_listener_ip_addresses I\n",
    "\t\t\tON L.listener_id = I.listener_id\n",
    "\t\tJOIN sys.availability_groups G\n",
    "\t\t\tON L.group_id = G.group_id\n",
    "ORDER BY\n",
    "\tG.[name]"
   ]
  },
  {
   "cell_type": "markdown",
   "metadata": {},
   "source": [
    "##Retrieve Availability Group redo queue\n",
    "\n",
    "What is this?\n",
    "The redo queue is the number of log blocks waiting to be applied or re-played on secondary replicas.  The larger the redo queue, the farther behind a secondary replica is.  Ideally the redo queue is as close to zero as possible."
   ]
  },
  {
   "cell_type": "code",
   "execution_count": null,
   "metadata": {},
   "outputs": [],
   "source": [
    "                DECLARE @RedoQueueAlert BIGINT\n",
    "\t\t\t\tDECLARE @RecoverySecondsAlert smallint\n",
    "\t\t\t\tSET @RedoQueueAlert = 102400 --in KB\n",
    "\t\t\t\tSET @RecoverySecondsAlert = 60\n",
    "\t\t\t\tSELECT \n",
    "\t\t\t\t\tCAST(DB_NAME(database_id)as VARCHAR(40)) [DBname],\n",
    "\t\t\t\t\tConvert(VARCHAR(20),last_commit_time,22) [LastCommitTime]\n",
    "\t\t\t\t\t,CAST(CAST(((DATEDIFF(s,last_commit_time,GetDate()))/3600) as varchar) + ' hour(s), '\n",
    "\t\t\t\t\t+ CAST((DATEDIFF(s,last_commit_time,GetDate())%3600)/60 as varchar) + ' min, '\n",
    "\t\t\t\t\t+ CAST((DATEDIFF(s,last_commit_time,GetDate())%60) as varchar) + ' sec' as VARCHAR(30)) [TimeBehindPrimary]\n",
    "\t\t\t\t\t,CAST((redo_queue_size/redo_rate/60.0) as decimal(10,2)) [EstimatedRecoveryMinutes]\n",
    "\t\t\t\t\t,(redo_queue_size/redo_rate) [EstimatedRecoverySeconds]\n",
    "\t\t\t\t\t\t,redo_queue_size AS RedoQueueSize\n",
    "\t\t\t\t\t\t,CASE\n",
    "\t\t\t\t\t\t\tWHEN redo_queue_size > @RedoQueueAlert THEN 'CRITICAL'\n",
    "\t\t\t\t\t\t\tWHEN redo_queue_size < @RedoQueueAlert AND redo_queue_size > 1024 THEN 'WARNING'\n",
    "\t\t\t\t\t\t\tWHEN redo_queue_size < @RedoQueueAlert AND redo_queue_size < 1024 THEN 'GOOD'\n",
    "\t\t\t\t\t\t\tWHEN redo_queue_size = 0 THEN 'GOOD'\n",
    "\t\t\t\t\t\tEND AS [RedoQueueState]\n",
    "\t\t\t\tFROM\n",
    "\t\t\t\t\tsys.dm_hadr_database_replica_states\n",
    "\t\t\t\tWHERE\n",
    "\t\t\t\t\tlast_redone_time is not null;"
   ]
  }
 ],
 "metadata": {
  "language_info": {
   "name": "python"
  },
  "orig_nbformat": 4
 },
 "nbformat": 4,
 "nbformat_minor": 2
}
