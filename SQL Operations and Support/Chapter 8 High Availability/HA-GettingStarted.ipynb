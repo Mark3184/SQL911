{
 "cells": [
  {
   "cell_type": "markdown",
   "metadata": {},
   "source": [
    "What is High-Availability\n"
   ]
  },
  {
   "cell_type": "markdown",
   "metadata": {},
   "source": [
    "##High-availability options for SQL Server\n",
    "\n",
    "There are two primary methods for making SQL Server highly available.  Always On Failover Cluster Instances (FCIs) have been around for more than 20 years and generally rely on shared storage that can move back and forth between nodes of clusters.  Always On Availability Groups were introduced with SQL Server 2012 and are a \"shared nothing\" approach to high availability for SQL Server.  The sections below will provide additional detail on each implementation."
   ]
  },
  {
   "cell_type": "markdown",
   "metadata": {},
   "source": []
  }
 ],
 "metadata": {
  "interpreter": {
   "hash": "6d650f4c128ab47e74c3fdc66b56e4df6e164799172dbd7bb590ba6a4c1c2ebf"
  },
  "kernelspec": {
   "display_name": "Python 3.10.0 64-bit",
   "language": "python",
   "name": "python3"
  },
  "language_info": {
   "name": "python",
   "version": "3.10.0"
  },
  "orig_nbformat": 4
 },
 "nbformat": 4,
 "nbformat_minor": 2
}
