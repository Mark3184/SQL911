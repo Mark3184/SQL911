{
    "metadata": {
        "kernelspec": {
            "name": "SQL",
            "display_name": "SQL",
            "language": "sql"
        },
        "language_info": {
            "name": "sql",
            "version": ""
        },
        "extensions": {
            "azuredatastudio": {
                "version": 1,
                "views": []
            }
        }
    },
    "nbformat_minor": 2,
    "nbformat": 4,
    "cells": [
        {
            "cell_type": "markdown",
            "source": [
                "![CH4-ADS.png](.\\Media\\CH4-ADS.png)\n",
                "\n",
                "## Get information about any AG cluster this instance is a part of (AG Cluster)\n",
                "\n",
                ">You can skip this query if you know you don't have a clustered instance.\n",
                "> \n",
                ">\n",
                "### <span style=\"color:rgb(0, 204, 153);\">Run the Code block below</span>\n",
                "\n",
                "1. Click the run icon below\n",
                "2. If ADS prompts you for a connection, enter the correct SQL Server and authentication account\n",
                "3. View the results of the query by scrolling down to the results set"
            ],
            "metadata": {
                "azdata_cell_guid": "a0bc7f61-b22e-46e8-9177-8bd3753fa994"
            },
            "attachments": {}
        },
        {
            "cell_type": "code",
            "source": [
                "-- Get information about any AG cluster this instance is a part of (Query 15) (AG Cluster)\r\n",
                "SELECT cluster_name, quorum_type_desc, quorum_state_desc\r\n",
                "FROM sys.dm_hadr_cluster WITH (NOLOCK) OPTION (RECOMPILE);"
            ],
            "metadata": {
                "azdata_cell_guid": "c1b8f4be-760a-4e96-b4b2-abf5adc57a74"
            },
            "outputs": [],
            "execution_count": null
        },
        {
            "cell_type": "markdown",
            "source": [
                "## Good overview of AG health and status (AG Status)\n",
                "\n",
                "> You can skip this query if you know you don't have a clustered instance.\n",
                "\n",
                "### <span style=\"color:rgb(0, 204, 153);\">Run the Code block below</span>\n",
                "\n",
                "1. Click the run icon below\n",
                "2. If ADS prompts you for a connection, enter the correct SQL Server and authentication account\n",
                "3. View the results of the query by scrolling down to the results set"
            ],
            "metadata": {
                "azdata_cell_guid": "1df3288a-5ace-4030-87f5-1004442eaeef"
            },
            "attachments": {}
        },
        {
            "cell_type": "code",
            "source": [
                "-- Good overview of AG health and status (Query 16) (AG Status)\r\n",
                "SELECT ag.name AS [AG Name], ar.replica_server_name, ar.availability_mode_desc, adc.[database_name], \r\n",
                "       drs.is_local, drs.is_primary_replica, drs.synchronization_state_desc, drs.is_commit_participant, \r\n",
                "\t   drs.synchronization_health_desc, drs.recovery_lsn, drs.truncation_lsn, drs.last_sent_lsn, \r\n",
                "\t   drs.last_sent_time, drs.last_received_lsn, drs.last_received_time, drs.last_hardened_lsn, \r\n",
                "\t   drs.last_hardened_time, drs.last_redone_lsn, drs.last_redone_time, drs.log_send_queue_size, \r\n",
                "\t   drs.log_send_rate, drs.redo_queue_size, drs.redo_rate, drs.filestream_send_rate, \r\n",
                "\t   drs.end_of_log_lsn, drs.last_commit_lsn, drs.last_commit_time, drs.database_state_desc \r\n",
                "FROM sys.dm_hadr_database_replica_states AS drs WITH (NOLOCK)\r\n",
                "INNER JOIN sys.availability_databases_cluster AS adc WITH (NOLOCK)\r\n",
                "ON drs.group_id = adc.group_id \r\n",
                "AND drs.group_database_id = adc.group_database_id\r\n",
                "INNER JOIN sys.availability_groups AS ag WITH (NOLOCK)\r\n",
                "ON ag.group_id = drs.group_id\r\n",
                "INNER JOIN sys.availability_replicas AS ar WITH (NOLOCK)\r\n",
                "ON drs.group_id = ar.group_id \r\n",
                "AND drs.replica_id = ar.replica_id\r\n",
                "ORDER BY ag.name, ar.replica_server_name, adc.[database_name] OPTION (RECOMPILE);"
            ],
            "metadata": {
                "azdata_cell_guid": "3bb7be3e-1bdd-4e98-8ed4-a76c9baffd5a"
            },
            "outputs": [],
            "execution_count": null
        },
        {
            "cell_type": "markdown",
            "source": [
                "## Resource Governor Resource Pool information (RG Resource Pools)\r\n",
                "\r\n",
                "### <span style=\"color:rgb(0, 204, 153);\">Run the Code block below</span>\r\n",
                "\r\n",
                "1. Click the run icon below\r\n",
                "2. If ADS prompts you for a connection, enter the correct SQL Server and authentication account\r\n",
                "3. View the results of the query by scrolling down to the results set"
            ],
            "metadata": {
                "azdata_cell_guid": "91cbcdfe-7dc5-4398-a9ab-42d140ad07fd"
            },
            "attachments": {}
        },
        {
            "cell_type": "code",
            "source": [
                "-- Resource Governor Resource Pool information (Query 30) (RG Resource Pools)\r\n",
                "SELECT pool_id, [Name], statistics_start_time,\r\n",
                "       min_memory_percent, max_memory_percent,  \r\n",
                "       max_memory_kb/1024 AS [max_memory_mb],  \r\n",
                "       used_memory_kb/1024 AS [used_memory_mb],   \r\n",
                "       target_memory_kb/1024 AS [target_memory_mb],\r\n",
                "\t   min_iops_per_volume, max_iops_per_volume\r\n",
                "FROM sys.dm_resource_governor_resource_pools WITH (NOLOCK)\r\n",
                "OPTION (RECOMPILE);"
            ],
            "metadata": {
                "azdata_cell_guid": "bfb4fde1-2a0e-4a1d-bb89-100313ff270b"
            },
            "outputs": [],
            "execution_count": null
        },
        {
            "cell_type": "markdown",
            "source": [
                "[sys.dm\\_resource\\_governor\\_resource\\_pools (Transact-SQL)](https://bit.ly/2MVU0Vy)"
            ],
            "metadata": {
                "azdata_cell_guid": "24d0d52c-65ca-47f6-b930-12aad91f7fee"
            },
            "attachments": {}
        },
        {
            "cell_type": "markdown",
            "source": [
                "## Recovery model, log reuse wait description, log file size, log usage size (Database Properties)\r\n",
                "\r\n",
                "### <span style=\"color:rgb(0, 204, 153);\">Run the Code block below</span>\r\n",
                "\r\n",
                "1. Click the run icon below\r\n",
                "2. If ADS prompts you for a connection, enter the correct SQL Server and authentication account\r\n",
                "3. View the results of the query by scrolling down to the results set"
            ],
            "metadata": {
                "azdata_cell_guid": "5bf5a4cd-1eaf-4368-bee0-b60441fecae2"
            },
            "attachments": {}
        },
        {
            "cell_type": "code",
            "source": [
                "-- Recovery model, log reuse wait description, log file size, log usage size  (Query 31) (Database Properties)\r\n",
                "-- and compatibility level for all databases on instance\r\n",
                "SELECT db.[name] AS [Database Name], SUSER_SNAME(db.owner_sid) AS [Database Owner], db.recovery_model_desc AS [Recovery Model], \r\n",
                "db.state_desc, db.containment_desc, db.log_reuse_wait_desc AS [Log Reuse Wait Description], \r\n",
                "CONVERT(DECIMAL(18,2), ls.cntr_value/1024.0) AS [Log Size (MB)], CONVERT(DECIMAL(18,2), lu.cntr_value/1024.0) AS [Log Used (MB)],\r\n",
                "CAST(CAST(lu.cntr_value AS FLOAT) / CAST(ls.cntr_value AS FLOAT)AS DECIMAL(18,2)) * 100 AS [Log Used %], \r\n",
                "db.[compatibility_level] AS [DB Compatibility Level], \r\n",
                "db.is_mixed_page_allocation_on, db.page_verify_option_desc AS [Page Verify Option], \r\n",
                "db.is_auto_create_stats_on, db.is_auto_update_stats_on, db.is_auto_update_stats_async_on, db.is_parameterization_forced, \r\n",
                "db.snapshot_isolation_state_desc, db.is_read_committed_snapshot_on, db.is_auto_close_on, db.is_auto_shrink_on, \r\n",
                "db.target_recovery_time_in_seconds, db.is_cdc_enabled, db.is_published, db.is_distributor,\r\n",
                "db.group_database_id, db.replica_id,db.is_memory_optimized_elevate_to_snapshot_on, \r\n",
                "db.delayed_durability_desc, db.is_auto_create_stats_incremental_on,\r\n",
                "db.is_query_store_on, db.is_sync_with_backup, db.is_temporal_history_retention_enabled,\r\n",
                "db.is_supplemental_logging_enabled, db.is_remote_data_archive_enabled,\r\n",
                "db.is_encrypted, de.encryption_state, de.percent_complete, de.key_algorithm, de.key_length, db.resource_pool_id,\r\n",
                "db.is_tempdb_spill_to_remote_store, db.is_result_set_caching_on, db.is_accelerated_database_recovery_on, is_stale_page_detection_on\r\n",
                "FROM sys.databases AS db WITH (NOLOCK)\r\n",
                "INNER JOIN sys.dm_os_performance_counters AS lu WITH (NOLOCK)\r\n",
                "ON db.name = lu.instance_name\r\n",
                "INNER JOIN sys.dm_os_performance_counters AS ls WITH (NOLOCK)\r\n",
                "ON db.name = ls.instance_name\r\n",
                "LEFT OUTER JOIN sys.dm_database_encryption_keys AS de WITH (NOLOCK)\r\n",
                "ON db.database_id = de.database_id\r\n",
                "WHERE lu.counter_name LIKE N'Log File(s) Used Size (KB)%' \r\n",
                "AND ls.counter_name LIKE N'Log File(s) Size (KB)%'\r\n",
                "AND ls.cntr_value > 0 \r\n",
                "ORDER BY db.[name] OPTION (RECOMPILE);"
            ],
            "metadata": {
                "azdata_cell_guid": "a176a186-c2bb-47bd-a56d-4945c2780e73"
            },
            "outputs": [],
            "execution_count": null
        },
        {
            "cell_type": "markdown",
            "source": [
                "Things to look at:\n",
                "\n",
                "- How many databases are on the instance?\n",
                "- What recovery models are they using?\n",
                "- What is the log reuse wait description?\n",
                "- How full are the transaction logs?\n",
                "- What compatibility level are the databases on?\n",
                "- What is the Page Verify Option? (should be CHECKSUM)\n",
                "- Is Auto Update Statistics Asynchronously enabled?\n",
                "- What is target\\_recovery\\_time\\_in\\_seconds?\n",
                "- Is Delayed Durability enabled?\n",
                "- Make sure auto\\_shrink and auto\\_close are not enabled!\n",
                "\n",
                "is\\_mixed\\_page\\_allocation\\_on is a new property for SQL Server 2016. Equivalent to TF 1118 for a user database\n",
                "\n",
                "[SQL Server 2016: Changes in default behavior for autogrow and allocations for tempdb and user databases](https://bit.ly/2evRZSR)\n",
                "\n",
                "A non-zero value for target\\_recovery\\_time\\_in\\_seconds means that indirect checkpoint is enabled If the setting has a zero value it indicates that automatic checkpoint is enabled\n",
                "\n",
                "[Changes in SQL Server 2016 Checkpoint Behavior](https://bit.ly/2pdggk3)"
            ],
            "metadata": {
                "azdata_cell_guid": "ff12a8a2-3034-4f22-a547-4584c8c8912b"
            },
            "attachments": {}
        }
    ]
}