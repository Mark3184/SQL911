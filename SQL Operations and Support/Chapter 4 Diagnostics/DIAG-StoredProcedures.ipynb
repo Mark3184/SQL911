{
    "metadata": {
        "kernelspec": {
            "name": "SQL",
            "display_name": "SQL",
            "language": "sql"
        },
        "language_info": {
            "name": "sql",
            "version": ""
        },
        "extensions": {
            "azuredatastudio": {
                "version": 1,
                "views": []
            }
        }
    },
    "nbformat_minor": 2,
    "nbformat": 4,
    "cells": [
        {
            "cell_type": "markdown",
            "source": [
                "![CH4-ADS.png](.\\Media\\CH4-ADS.png)\r\n",
                "\r\n",
                "## Find single-use, ad-hoc and prepared queries that are bloating the plan cache (Ad hoc Queries)\r\n",
                "\r\n",
                "### <span style=\"color:rgb(0, 204, 153);\">Run the Code block below</span>\r\n",
                "\r\n",
                "1. Click the run icon below\r\n",
                "2. If ADS prompts you for a connection, enter the correct SQL Server and authentication account\r\n",
                "3. View the results of the query by scrolling down to the results set"
            ],
            "metadata": {
                "azdata_cell_guid": "dfdd6711-6930-4d81-b20f-d7f4d299040b"
            },
            "attachments": {}
        },
        {
            "cell_type": "code",
            "source": [
                "-- Find single-use, ad-hoc and prepared queries that are bloating the plan cache (Ad hoc Queries)\r\n",
                "SELECT TOP(50) DB_NAME(t.[dbid]) AS [Database Name], t.[text] AS [Query Text], \r\n",
                "cp.objtype AS [Object Type], cp.cacheobjtype AS [Cache Object Type],  \r\n",
                "cp.size_in_bytes/1024 AS [Plan Size in KB]\r\n",
                "FROM sys.dm_exec_cached_plans AS cp WITH (NOLOCK)\r\n",
                "CROSS APPLY sys.dm_exec_sql_text(plan_handle) AS t\r\n",
                "WHERE cp.cacheobjtype = N'Compiled Plan' \r\n",
                "AND cp.objtype IN (N'Adhoc', N'Prepared') \r\n",
                "AND cp.usecounts = 1\r\n",
                "ORDER BY cp.size_in_bytes DESC, DB_NAME(t.[dbid]) OPTION (RECOMPILE);"
            ],
            "metadata": {
                "azdata_cell_guid": "57ac6166-a36f-4694-b42e-7c17a3468bd4"
            },
            "outputs": [],
            "execution_count": null
        },
        {
            "cell_type": "markdown",
            "source": [
                "Gives you the text, type and size of single-use ad-hoc and prepared queries that waste space in the plan cache\n",
                "\n",
                "- Enabling 'optimize for ad hoc workloads' for the instance can help (SQL Server 2008 and above only)\n",
                "- Running DBCC FREESYSTEMCACHE ('SQL Plans') periodically may be required to better control this\n",
                "- Enabling forced parameterization for the database can help, but test first!\n",
                "\n",
                "[Plan cache, adhoc workloads and clearing the single-use plan cache bloat](https://bit.ly/2EfYOkl)"
            ],
            "metadata": {
                "azdata_cell_guid": "84f774e2-e173-4818-a84e-a86cfd7529be"
            },
            "attachments": {}
        },
        {
            "cell_type": "markdown",
            "source": [
                "## Top Cached SPs By Execution Count (SP Execution Counts)\r\n",
                "\r\n",
                "### <span style=\"color:rgb(0, 204, 153);\">Run the Code block below</span>\r\n",
                "\r\n",
                "1. Click the run icon below\r\n",
                "2. If ADS prompts you for a connection, enter the correct SQL Server and authentication account\r\n",
                "3. View the results of the query by scrolling down to the results set"
            ],
            "metadata": {
                "azdata_cell_guid": "43b96caa-57e4-4b78-a229-49bca824e2ab"
            },
            "attachments": {}
        },
        {
            "cell_type": "code",
            "source": [
                "-- Top Cached SPs By Execution Count (Query 57) (SP Execution Counts)\r\n",
                "SELECT TOP(100) p.name AS [SP Name], qs.execution_count AS [Execution Count],\r\n",
                "ISNULL(qs.execution_count/DATEDIFF(Minute, qs.cached_time, GETDATE()), 0) AS [Calls/Minute],\r\n",
                "qs.total_elapsed_time/qs.execution_count AS [Avg Elapsed Time],\r\n",
                "qs.total_worker_time/qs.execution_count AS [Avg Worker Time],    \r\n",
                "qs.total_logical_reads/qs.execution_count AS [Avg Logical Reads],\r\n",
                "CASE WHEN CONVERT(nvarchar(max), qp.query_plan) COLLATE Latin1_General_BIN2 LIKE N'%<MissingIndexes>%' THEN 1 ELSE 0 END AS [Has Missing Index],\r\n",
                "FORMAT(qs.last_execution_time, 'yyyy-MM-dd HH:mm:ss', 'en-US') AS [Last Execution Time], \r\n",
                "FORMAT(qs.cached_time, 'yyyy-MM-dd HH:mm:ss', 'en-US') AS [Plan Cached Time]\r\n",
                "-- ,qp.query_plan AS [Query Plan] -- Uncomment if you want the Query Plan\r\n",
                "FROM sys.procedures AS p WITH (NOLOCK)\r\n",
                "INNER JOIN sys.dm_exec_procedure_stats AS qs WITH (NOLOCK)\r\n",
                "ON p.[object_id] = qs.[object_id]\r\n",
                "CROSS APPLY sys.dm_exec_query_plan(qs.plan_handle) AS qp\r\n",
                "WHERE qs.database_id = DB_ID()\r\n",
                "AND DATEDIFF(Minute, qs.cached_time, GETDATE()) > 0\r\n",
                "ORDER BY qs.execution_count DESC OPTION (RECOMPILE);"
            ],
            "metadata": {
                "azdata_cell_guid": "df7696fe-3a61-4ce9-bd91-8c73567c61bf"
            },
            "outputs": [],
            "execution_count": null
        },
        {
            "cell_type": "markdown",
            "source": [
                "Tells you which cached stored procedures are called the most often\n",
                "\n",
                "- This helps you characterize and baseline your workload\n",
                "- It also helps you find possible caching opportunities"
            ],
            "metadata": {
                "azdata_cell_guid": "8c0df383-8091-46e0-bd3b-15126d78fb14"
            },
            "attachments": {}
        },
        {
            "cell_type": "markdown",
            "source": [
                "## Top Cached SPs By Avg Elapsed Time (SP Avg Elapsed Time)\r\n",
                "\r\n",
                "### <span style=\"color:rgb(0, 204, 153);\">Run the Code block below</span>\r\n",
                "\r\n",
                "1. Click the run icon below\r\n",
                "2. If ADS prompts you for a connection, enter the correct SQL Server and authentication account\r\n",
                "3. View the results of the query by scrolling down to the results set"
            ],
            "metadata": {
                "azdata_cell_guid": "e7057bc7-54b9-47b0-8fa8-319c873cbd09"
            },
            "attachments": {}
        },
        {
            "cell_type": "code",
            "source": [
                "-- Top Cached SPs By Avg Elapsed Time (SP Avg Elapsed Time)\r\n",
                "SELECT TOP(25) p.name AS [SP Name], qs.min_elapsed_time, qs.total_elapsed_time/qs.execution_count AS [avg_elapsed_time], \r\n",
                "qs.max_elapsed_time, qs.last_elapsed_time, qs.total_elapsed_time, qs.execution_count, \r\n",
                "ISNULL(qs.execution_count/DATEDIFF(Minute, qs.cached_time, GETDATE()), 0) AS [Calls/Minute], \r\n",
                "qs.total_worker_time/qs.execution_count AS [AvgWorkerTime], \r\n",
                "qs.total_worker_time AS [TotalWorkerTime],\r\n",
                "CASE WHEN CONVERT(nvarchar(max), qp.query_plan) COLLATE Latin1_General_BIN2 LIKE N'%<MissingIndexes>%' THEN 1 ELSE 0 END AS [Has Missing Index],\r\n",
                "FORMAT(qs.last_execution_time, 'yyyy-MM-dd HH:mm:ss', 'en-US') AS [Last Execution Time], \r\n",
                "FORMAT(qs.cached_time, 'yyyy-MM-dd HH:mm:ss', 'en-US') AS [Plan Cached Time]\r\n",
                "-- ,qp.query_plan AS [Query Plan] -- Uncomment if you want the Query Plan\r\n",
                "FROM sys.procedures AS p WITH (NOLOCK)\r\n",
                "INNER JOIN sys.dm_exec_procedure_stats AS qs WITH (NOLOCK)\r\n",
                "ON p.[object_id] = qs.[object_id]\r\n",
                "CROSS APPLY sys.dm_exec_query_plan(qs.plan_handle) AS qp\r\n",
                "WHERE qs.database_id = DB_ID()\r\n",
                "AND DATEDIFF(Minute, qs.cached_time, GETDATE()) > 0\r\n",
                "ORDER BY avg_elapsed_time DESC OPTION (RECOMPILE);"
            ],
            "metadata": {
                "azdata_cell_guid": "89cd9e85-4fa7-44a4-bb40-dbb67b51b4bb"
            },
            "outputs": [],
            "execution_count": null
        },
        {
            "cell_type": "markdown",
            "source": [
                "This helps you find high average elapsed time cached stored procedures that may be easy to optimize with standard query tuning techniques"
            ],
            "metadata": {
                "azdata_cell_guid": "35db2226-6fdc-4bc3-9335-e34de8c0fb8a"
            },
            "attachments": {}
        },
        {
            "cell_type": "markdown",
            "source": [
                "## Top Cached SPs By Total Worker time. Worker time relates to CPU cost (SP Worker Time)\r\n",
                "\r\n",
                "### <span style=\"color:rgb(0, 204, 153);\">Run the Code block below</span>\r\n",
                "\r\n",
                "1. Click the run icon below\r\n",
                "2. If ADS prompts you for a connection, enter the correct SQL Server and authentication account\r\n",
                "3. View the results of the query by scrolling down to the results set"
            ],
            "metadata": {
                "azdata_cell_guid": "f8a4edcd-f96e-4822-89e5-32c6295318cf"
            },
            "attachments": {}
        },
        {
            "cell_type": "code",
            "source": [
                "-- Top Cached SPs By Total Worker time. Worker time relates to CPU cost (SP Worker Time)\r\n",
                "SELECT TOP(25) p.name AS [SP Name], qs.total_worker_time AS [TotalWorkerTime], \r\n",
                "qs.total_worker_time/qs.execution_count AS [AvgWorkerTime], qs.execution_count, \r\n",
                "ISNULL(qs.execution_count/DATEDIFF(Minute, qs.cached_time, GETDATE()), 0) AS [Calls/Minute],\r\n",
                "qs.total_elapsed_time, qs.total_elapsed_time/qs.execution_count AS [avg_elapsed_time],\r\n",
                "CASE WHEN CONVERT(nvarchar(max), qp.query_plan) COLLATE Latin1_General_BIN2 LIKE N'%<MissingIndexes>%' THEN 1 ELSE 0 END AS [Has Missing Index],\r\n",
                "FORMAT(qs.last_execution_time, 'yyyy-MM-dd HH:mm:ss', 'en-US') AS [Last Execution Time], \r\n",
                "FORMAT(qs.cached_time, 'yyyy-MM-dd HH:mm:ss', 'en-US') AS [Plan Cached Time]\r\n",
                "-- ,qp.query_plan AS [Query Plan] -- Uncomment if you want the Query Plan\r\n",
                "FROM sys.procedures AS p WITH (NOLOCK)\r\n",
                "INNER JOIN sys.dm_exec_procedure_stats AS qs WITH (NOLOCK)\r\n",
                "ON p.[object_id] = qs.[object_id]\r\n",
                "CROSS APPLY sys.dm_exec_query_plan(qs.plan_handle) AS qp\r\n",
                "WHERE qs.database_id = DB_ID()\r\n",
                "AND DATEDIFF(Minute, qs.cached_time, GETDATE()) > 0\r\n",
                "ORDER BY qs.total_worker_time DESC OPTION (RECOMPILE);"
            ],
            "metadata": {
                "azdata_cell_guid": "d593aecd-bbe0-4cce-878e-c73e2315e803"
            },
            "outputs": [],
            "execution_count": null
        },
        {
            "cell_type": "markdown",
            "source": [
                "This helps you find the most expensive cached stored procedures from a CPU perspective\n",
                "\n",
                "- You should look at this if you see signs of CPU pressure"
            ],
            "metadata": {
                "azdata_cell_guid": "f274dff9-6a07-4545-bdd0-d0ad553dda82"
            },
            "attachments": {}
        },
        {
            "cell_type": "markdown",
            "source": [
                "## Top Cached SPs By Total Logical Reads. Logical reads relate to memory pressure (SP Logical Reads)\r\n",
                "\r\n",
                "### <span style=\"color:rgb(0, 204, 153);\">Run the Code block below</span>\r\n",
                "\r\n",
                "1. Click the run icon below\r\n",
                "2. If ADS prompts you for a connection, enter the correct SQL Server and authentication account\r\n",
                "3. View the results of the query by scrolling down to the results set"
            ],
            "metadata": {
                "azdata_cell_guid": "14be6d35-2c72-40ea-b710-ff68cdf746de"
            },
            "attachments": {}
        },
        {
            "cell_type": "code",
            "source": [
                "-- Top Cached SPs By Total Logical Reads. Logical reads relate to memory pressure (SP Logical Reads)\r\n",
                "SELECT TOP(25) p.name AS [SP Name], qs.total_logical_reads AS [TotalLogicalReads], \r\n",
                "qs.total_logical_reads/qs.execution_count AS [AvgLogicalReads],qs.execution_count, \r\n",
                "ISNULL(qs.execution_count/DATEDIFF(Minute, qs.cached_time, GETDATE()), 0) AS [Calls/Minute], \r\n",
                "qs.total_elapsed_time, qs.total_elapsed_time/qs.execution_count AS [avg_elapsed_time],\r\n",
                "CASE WHEN CONVERT(nvarchar(max), qp.query_plan) COLLATE Latin1_General_BIN2 LIKE N'%<MissingIndexes>%' THEN 1 ELSE 0 END AS [Has Missing Index],\r\n",
                "FORMAT(qs.last_execution_time, 'yyyy-MM-dd HH:mm:ss', 'en-US') AS [Last Execution Time], \r\n",
                "FORMAT(qs.cached_time, 'yyyy-MM-dd HH:mm:ss', 'en-US') AS [Plan Cached Time]\r\n",
                "-- ,qp.query_plan AS [Query Plan] -- Uncomment if you want the Query Plan\r\n",
                "FROM sys.procedures AS p WITH (NOLOCK)\r\n",
                "INNER JOIN sys.dm_exec_procedure_stats AS qs WITH (NOLOCK)\r\n",
                "ON p.[object_id] = qs.[object_id]\r\n",
                "CROSS APPLY sys.dm_exec_query_plan(qs.plan_handle) AS qp\r\n",
                "WHERE qs.database_id = DB_ID()\r\n",
                "AND DATEDIFF(Minute, qs.cached_time, GETDATE()) > 0\r\n",
                "ORDER BY qs.total_logical_reads DESC OPTION (RECOMPILE);"
            ],
            "metadata": {
                "azdata_cell_guid": "6248a3dd-fb8c-403c-a773-81aa3c05293e"
            },
            "outputs": [],
            "execution_count": null
        },
        {
            "cell_type": "markdown",
            "source": [
                "This helps you find the most expensive cached stored procedures from a memory perspective\n",
                "\n",
                "- You should look at this if you see signs of memory pressure"
            ],
            "metadata": {
                "azdata_cell_guid": "0e50c438-78c8-4d82-9c43-99cb6cecde05"
            },
            "attachments": {}
        },
        {
            "cell_type": "markdown",
            "source": [
                "## Top Cached SPs By Total Physical Reads. Physical reads relate to disk read I/O pressure (SP Physical Reads)\r\n",
                "\r\n",
                "### <span style=\"color:rgb(0, 204, 153);\">Run the Code block below</span>\r\n",
                "\r\n",
                "1. Click the run icon below\r\n",
                "2. If ADS prompts you for a connection, enter the correct SQL Server and authentication account\r\n",
                "3. View the results of the query by scrolling down to the results set"
            ],
            "metadata": {
                "azdata_cell_guid": "79f18baa-7790-4ad9-8c91-8077be6a14b1"
            },
            "attachments": {}
        },
        {
            "cell_type": "code",
            "source": [
                "-- Top Cached SPs By Total Physical Reads. Physical reads relate to disk read I/O pressure (SP Physical Reads)\r\n",
                "SELECT TOP(25) p.name AS [SP Name],qs.total_physical_reads AS [TotalPhysicalReads], \r\n",
                "qs.total_physical_reads/qs.execution_count AS [AvgPhysicalReads], qs.execution_count, \r\n",
                "qs.total_logical_reads,qs.total_elapsed_time, qs.total_elapsed_time/qs.execution_count AS [avg_elapsed_time],\r\n",
                "CASE WHEN CONVERT(nvarchar(max), qp.query_plan) COLLATE Latin1_General_BIN2 LIKE N'%<MissingIndexes>%' THEN 1 ELSE 0 END AS [Has Missing Index],\r\n",
                "FORMAT(qs.last_execution_time, 'yyyy-MM-dd HH:mm:ss', 'en-US') AS [Last Execution Time], \r\n",
                "FORMAT(qs.cached_time, 'yyyy-MM-dd HH:mm:ss', 'en-US') AS [Plan Cached Time]\r\n",
                "-- ,qp.query_plan AS [Query Plan] -- Uncomment if you want the Query Plan \r\n",
                "FROM sys.procedures AS p WITH (NOLOCK)\r\n",
                "INNER JOIN sys.dm_exec_procedure_stats AS qs WITH (NOLOCK)\r\n",
                "ON p.[object_id] = qs.[object_id]\r\n",
                "CROSS APPLY sys.dm_exec_query_plan(qs.plan_handle) AS qp\r\n",
                "WHERE qs.database_id = DB_ID()\r\n",
                "AND qs.total_physical_reads > 0\r\n",
                "ORDER BY qs.total_physical_reads DESC, qs.total_logical_reads DESC OPTION (RECOMPILE);"
            ],
            "metadata": {
                "azdata_cell_guid": "a96025e7-2fd5-4b7d-84da-9144286364d3"
            },
            "outputs": [],
            "execution_count": null
        },
        {
            "cell_type": "markdown",
            "source": [
                "This helps you find the most expensive cached stored procedures from a read I/O perspective\n",
                "\n",
                "- You should look at this if you see signs of I/O pressure or of memory pressure"
            ],
            "metadata": {
                "azdata_cell_guid": "a9a4ae39-6b7e-4df0-9331-8a39ea53f804"
            },
            "attachments": {}
        },
        {
            "cell_type": "markdown",
            "source": [
                "## Top Cached SPs By Total Logical Writes (SP Logical Writes)\r\n",
                "\r\n",
                "### <span style=\"color:rgb(0, 204, 153);\">Run the Code block below</span>\r\n",
                "\r\n",
                "1. Click the run icon below\r\n",
                "2. If ADS prompts you for a connection, enter the correct SQL Server and authentication account\r\n",
                "3. View the results of the query by scrolling down to the results set"
            ],
            "metadata": {
                "azdata_cell_guid": "457388d3-eabf-4b9c-ba80-bfe3658ac9b1"
            },
            "attachments": {}
        },
        {
            "cell_type": "code",
            "source": [
                "-- Top Cached SPs By Total Logical Writes (SP Logical Writes)\r\n",
                "-- Logical writes relate to both memory and disk I/O pressure \r\n",
                "SELECT TOP(25) p.name AS [SP Name], qs.total_logical_writes AS [TotalLogicalWrites], \r\n",
                "qs.total_logical_writes/qs.execution_count AS [AvgLogicalWrites], qs.execution_count,\r\n",
                "ISNULL(qs.execution_count/DATEDIFF(Minute, qs.cached_time, GETDATE()), 0) AS [Calls/Minute],\r\n",
                "qs.total_elapsed_time, qs.total_elapsed_time/qs.execution_count AS [avg_elapsed_time],\r\n",
                "CASE WHEN CONVERT(nvarchar(max), qp.query_plan) COLLATE Latin1_General_BIN2 LIKE N'%<MissingIndexes>%' THEN 1 ELSE 0 END AS [Has Missing Index], \r\n",
                "FORMAT(qs.last_execution_time, 'yyyy-MM-dd HH:mm:ss', 'en-US') AS [Last Execution Time], \r\n",
                "FORMAT(qs.cached_time, 'yyyy-MM-dd HH:mm:ss', 'en-US') AS [Plan Cached Time]\r\n",
                "-- ,qp.query_plan AS [Query Plan] -- Uncomment if you want the Query Plan \r\n",
                "FROM sys.procedures AS p WITH (NOLOCK)\r\n",
                "INNER JOIN sys.dm_exec_procedure_stats AS qs WITH (NOLOCK)\r\n",
                "ON p.[object_id] = qs.[object_id]\r\n",
                "CROSS APPLY sys.dm_exec_query_plan(qs.plan_handle) AS qp\r\n",
                "WHERE qs.database_id = DB_ID()\r\n",
                "AND qs.total_logical_writes > 0\r\n",
                "AND DATEDIFF(Minute, qs.cached_time, GETDATE()) > 0\r\n",
                "ORDER BY qs.total_logical_writes DESC OPTION (RECOMPILE);"
            ],
            "metadata": {
                "azdata_cell_guid": "aa4904c4-6b43-48d2-a008-54fc692e0cf5"
            },
            "outputs": [],
            "execution_count": null
        },
        {
            "cell_type": "markdown",
            "source": [
                "This helps you find the most expensive cached stored procedures from a write I/O perspective\n",
                "\n",
                "- You should look at this if you see signs of I/O pressure or of memory pressure"
            ],
            "metadata": {
                "azdata_cell_guid": "81cadd14-1313-4306-95af-32470640ac21"
            },
            "attachments": {}
        },
        {
            "cell_type": "markdown",
            "source": [
                "## Lists the top statements by average input/output usage for the current database (Top IO Statements)\r\n",
                "\r\n",
                "### <span style=\"color:rgb(0, 204, 153);\">Run the Code block below</span>\r\n",
                "\r\n",
                "1. Click the run icon below\r\n",
                "2. If ADS prompts you for a connection, enter the correct SQL Server and authentication account\r\n",
                "3. View the results of the query by scrolling down to the results set"
            ],
            "metadata": {
                "azdata_cell_guid": "4028f22c-5e57-4f3c-b2f3-8f9536cbaaa0"
            },
            "attachments": {}
        },
        {
            "cell_type": "code",
            "source": [
                "-- Lists the top statements by average input/output usage for the current database (Top IO Statements)\r\n",
                "SELECT TOP(50) OBJECT_NAME(qt.objectid, dbid) AS [SP Name],\r\n",
                "(qs.total_logical_reads + qs.total_logical_writes) /qs.execution_count AS [Avg IO], qs.execution_count AS [Execution Count],\r\n",
                "SUBSTRING(qt.[text],qs.statement_start_offset/2, \r\n",
                "\t(CASE \r\n",
                "\t\tWHEN qs.statement_end_offset = -1 \r\n",
                "\t THEN LEN(CONVERT(nvarchar(max), qt.[text])) * 2 \r\n",
                "\t\tELSE qs.statement_end_offset \r\n",
                "\t END - qs.statement_start_offset)/2) AS [Query Text]\t\r\n",
                "FROM sys.dm_exec_query_stats AS qs WITH (NOLOCK)\r\n",
                "CROSS APPLY sys.dm_exec_sql_text(qs.sql_handle) AS qt\r\n",
                "WHERE qt.[dbid] = DB_ID()\r\n",
                "ORDER BY [Avg IO] DESC OPTION (RECOMPILE);"
            ],
            "metadata": {
                "azdata_cell_guid": "024f4a7f-a043-4c25-adb2-5925b576c47b"
            },
            "outputs": [],
            "execution_count": null
        },
        {
            "cell_type": "markdown",
            "source": [
                "Helps you find the most expensive statements for I/O by SP"
            ],
            "metadata": {
                "azdata_cell_guid": "89b9da99-c4f5-432b-8ed7-22662e9c5b19"
            },
            "attachments": {}
        }
    ]
}