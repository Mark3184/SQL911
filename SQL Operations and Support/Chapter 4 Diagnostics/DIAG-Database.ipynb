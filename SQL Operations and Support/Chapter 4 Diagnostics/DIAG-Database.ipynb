{
    "metadata": {
        "kernelspec": {
            "name": "SQL",
            "display_name": "SQL",
            "language": "sql"
        },
        "language_info": {
            "name": "sql",
            "version": ""
        },
        "extensions": {
            "azuredatastudio": {
                "version": 1,
                "views": []
            }
        }
    },
    "nbformat_minor": 2,
    "nbformat": 4,
    "cells": [
        {
            "cell_type": "markdown",
            "source": [
                "![CH4-ADS.png](.\\Media\\CH4-ADS.png)\n",
                "\n",
                "## This section contains multiple code blocks pertaining to identifying and diagnosing conditions with databases\n",
                "\n",
                "## Retrieve database backup status\n",
                "\n",
                "This query provides a list of databases on this SQL Instance and returns information about their backup history.\n",
                "\n",
                "### <span style=\"color:rgb(0, 204, 153);\">Run the Code block below</span>\n",
                "\n",
                "1. Click the run icon below\n",
                "2. If ADS prompts you for a connection, enter the correct SQL Server and authentication account\n",
                "3. View the results of the query by scrolling down to the results set"
            ],
            "metadata": {
                "azdata_cell_guid": "e45620e4-a774-4024-b730-d777e68600a3"
            },
            "attachments": {}
        },
        {
            "cell_type": "code",
            "source": [
                "       -- Retrieve database backup status\r\n",
                "       SET NOCOUNT ON\r\n",
                "       IF OBJECT_ID('tempdb.dbo.#LastBackupStatus__') IS NOT NULL\r\n",
                "        DROP TABLE #LastBackupStatus__\r\n",
                "        --\r\n",
                "        CREATE TABLE #LastBackupStatus__ (\r\n",
                "        DBname nvarchar(256),\r\n",
                "        RecoveryModel nvarchar(40),\r\n",
                "        IsAgDB nvarchar(40),\r\n",
                "        IsPreferredReplica nvarchar(40),\r\n",
                "        LastFullBackup datetime,\r\n",
                "        LastDiffBackup datetime,\r\n",
                "        LastLogBackup datetime,\r\n",
                "        DaysSinceLastFull smallint,\r\n",
                "        DaysSinceLastDiff smallint,\r\n",
                "        MinutesSinceLastLog INT,\r\n",
                "        BackupStatus nvarchar(40),\r\n",
                "        StatusDescription nvarchar(128))\r\n",
                "        --\r\n",
                "        INSERT INTO #LastBackupStatus__ (DBname,RecoveryModel,IsAgDB,IsPreferredReplica,LastFullBackup,LastDiffBackup,LastLogBackup,DaysSinceLastFull,DaysSinceLastDiff,MinutesSinceLastLog,BackupStatus,StatusDescription)\r\n",
                "    SELECT  db.name AS [DBname]\r\n",
                "          , db.recovery_model_desc AS [RecoveryModel]\r\n",
                "          , CASE WHEN agdb.database_id IS NOT NULL THEN 'AG Database'\r\n",
                "                 ELSE 'Not AG Database'\r\n",
                "            END [IsAgDb]\r\n",
                "          , CASE WHEN sys.fn_hadr_backup_is_preferred_replica(db.name) = 1\r\n",
                "                 THEN 'YES'\r\n",
                "                 ELSE 'NO'\r\n",
                "            END [IsPreferredReplica]\r\n",
                "          , t.LastFullBackup\r\n",
                "          , t.LastDiffBackup\r\n",
                "          , t.LastLogBackup\r\n",
                "          , t.DaysSinceLastFull\r\n",
                "          , t.DaysSinceLastDiff\r\n",
                "          , t.MinutesSinceLastLog\r\n",
                "          , NULL AS [BackupStatus]\r\n",
                "          , NULL AS [StatusDescription]\r\n",
                "    FROM    sys.databases db\r\n",
                "            LEFT OUTER JOIN ( SELECT    p.database_name\r\n",
                "                                      , MAX(p.[D]) [LastFullBackup]\r\n",
                "                                      , MAX(p.[I]) [LastDiffBackup]\r\n",
                "                                      , MAX(p.[L]) [LastLogBackup]\r\n",
                "                                      , DATEDIFF(DAY, MAX(p.[D]), GETDATE()) [DaysSinceLastFull]\r\n",
                "                                      , DATEDIFF(DAY, MAX(p.[I]), GETDATE()) [DaysSinceLastDiff]\r\n",
                "                                      , DATEDIFF(MINUTE, MAX(p.[L]), GETDATE()) [MinutesSinceLastLog]\r\n",
                "    \r\n",
                "                              FROM      msdb.dbo.backupset bs PIVOT ( MAX(bs.backup_finish_date) FOR [type] IN ( [D], [L], [I] ) )  AS p\r\n",
                "                              GROUP BY  p.database_name\r\n",
                "                            ) t ON db.name = t.database_name\r\n",
                "            LEFT OUTER JOIN sys.dm_hadr_database_replica_states agdb ON agdb.database_id = db.database_id\r\n",
                "                                                                  AND agdb.is_local = 1\r\n",
                "            WHERE DB.database_id <> 2\r\n",
                "    ------ Return data ------\r\n",
                "            SELECT\r\n",
                "            DBname,\r\n",
                "            RecoveryModel,\r\n",
                "            IsAgDB,\r\n",
                "            IsPreferredReplica,\r\n",
                "            LastFullBackup,\r\n",
                "            LastDiffBackup,\r\n",
                "            LastLogBackup,\r\n",
                "            DaysSinceLastFull,\r\n",
                "            DaysSinceLastDiff,\r\n",
                "            MinutesSinceLastLog,\r\n",
                "              CASE\r\n",
                "              /* These conditions below will cause a CRITICAL status */\r\n",
                "              WHEN [LastFullBackup] IS NULL THEN 'CRITICAL'\t\t\t\t\t\t\t\t\t\t\t\t\t\t\t\t\t\t\t\t\t                                                                                                    -- if last_full_backup is null then critical\r\n",
                "              WHEN [LastFullBackup] < DATEADD(DD,-1,CURRENT_TIMESTAMP) AND [LastDiffBackup] IS NULL AND IsAgDB = 'Not AG Database' AND IsPreferredReplica = 'YES' THEN 'CRITICAL'\t\t\t\t\t\t\t\t\t\t\t                    -- if last_full_backup is more than 2 days old and last_differential_backup is null then critical\r\n",
                "              WHEN [LastFullBackup] < DATEADD(DD,-7,CURRENT_TIMESTAMP) AND [LastDiffBackup] < DATEADD(DD,-2,CURRENT_TIMESTAMP) AND IsAgDB = 'Not AG Database' AND IsPreferredReplica = 'YES' THEN 'CRITICAL'\t\t\t\t                    -- if last_full_backup is more than 7 days old and last_differential_backup more than 2 days old then critical\r\n",
                "              --WHEN RecoveryModel <> 'SIMPLE' AND DBname <> 'model' AND [LastLogBackup] IS NULL THEN 'CRITICAL'\t\t\t\t\t\t\t                                                                                                    -- if recovery_model_desc is SIMPLE and last_tlog_backup is null then critical\r\n",
                "              WHEN RecoveryModel <> 'SIMPLE' AND DBname <> 'model' AND [LastLogBackup] < DATEADD(HH,-6,CURRENT_TIMESTAMP) AND IsAgDB = 'Not AG Database' AND IsPreferredReplica = 'YES' THEN 'CRITICAL'\t                                        -- if last_tlog_backup is more than 6 hours old then critical\r\n",
                "              --/* These conditions below will cause a WARNING status */\r\n",
                "              --WHEN [LastFullBackup] < DATEADD(DD,-1,CURRENT_TIMESTAMP) AND [LastDiffBackup] < DATEADD(DD,-1,CURRENT_TIMESTAMP) AND IsAgDB = 'AG Database' AND IsPreferredReplica = 'NO' THEN 'WARNING'\t\t\t\t                        -- if last_full_backup is more than 1 day old and last_differential_backup is greater than 1 days old then warning\r\n",
                "              WHEN RecoveryModel <> 'SIMPLE' AND DBname <> 'model' AND [LastLogBackup] < DATEADD(HH,-3,CURRENT_TIMESTAMP) AND isAgDB = 'AG Database' AND isPreferredReplica = 'YES' THEN 'WARNING'\t                                                                                                    -- if last_tlog_backup is more than 3 hours old then warning\r\n",
                "              /* Everything else will return a GOOD status */\r\n",
                "              ELSE 'GOOD'\r\n",
                "            END AS BackupStatus,\r\n",
                "              CASE\r\n",
                "              /* These conditions below will cause a CRITICAL status */\r\n",
                "              WHEN [LastFullBackup] IS NULL AND IsAgDB = 'Not AG Database' AND IsPreferredReplica = 'YES' THEN 'No FULL backups'\t\t\t\t\t\t\t\t\t\t\t\t\t\t\t\t\t\t\t\t\t\t\t\t\t            -- if last_full_backup is null then critical\r\n",
                "              WHEN [LastFullBackup] < DATEADD(DD,-1,CURRENT_TIMESTAMP) AND [LastDiffBackup] IS NULL AND IsAgDB = 'Not AG Database' AND IsPreferredReplica = 'YES' THEN 'FULL backup > 1 day; no DIFF backups'\t\t\t\t\t\t\t\t\t-- if last_full_backup is more than 2 days old and last_differential_backup is null then critical\r\n",
                "              WHEN [LastFullBackup] < DATEADD(DD,-7,CURRENT_TIMESTAMP) AND [LastDiffBackup] < DATEADD(DD,-2,CURRENT_TIMESTAMP) AND IsAgDB = 'Not AG Database' AND IsPreferredReplica = 'YES' THEN 'FULL backup > 7 day; DIFF backup > 2 days'\t-- if last_full_backup is more than 7 days old and last_differential_backup more than 2 days old then critical\r\n",
                "              WHEN RecoveryModel <> 'SIMPLE' AND DBname <> 'model' AND [LastLogBackup] IS NULL THEN 'No LOG backups'\t\t\t\t\t\t\t\t\t\t\t                                                                                -- if recovery_model_desc is SIMPLE and last_tlog_backup is null then critical\r\n",
                "              WHEN RecoveryModel <> 'SIMPLE' AND DBname <> 'model' AND [LastLogBackup] < DATEADD(HH,-6,CURRENT_TIMESTAMP) AND IsAgDB = 'Not AG Database' AND IsPreferredReplica = 'YES' THEN 'LOG backup > 6 hours'\t\t\t                    -- if last_tlog_backup is more than 6 hours old then critical\r\n",
                "              --/* These conditions below will cause a WARNING status */\r\n",
                "              WHEN [LastFullBackup] < DATEADD(DD,-1,CURRENT_TIMESTAMP) AND [LastDiffBackup] < DATEADD(DD,-1,CURRENT_TIMESTAMP) AND IsAgDB = 'Not AG Database' AND IsPreferredReplica = 'YES' THEN 'FULL backup > 7 day; DIFF backup > 1 day'\t-- if last_full_backup is more than 1 day old and last_differential_backup is greater than 1 days old then warning\r\n",
                "              WHEN RecoveryModel <> 'SIMPLE' AND DBname <> 'model' AND [LastLogBackup] < DATEADD(HH,-3,CURRENT_TIMESTAMP) AND IsAgDB = 'Not AG Database' AND IsPreferredReplica = 'YES' THEN 'LOG backup > 3 hours'\t\t\t                    -- if last_tlog_backup is more than 3 hours old then warning\r\n",
                "              /* Everything else will return a GOOD status */\r\n",
                "              ELSE 'No issues'\r\n",
                "            END AS StatusDescription\r\n",
                "            FROM\r\n",
                "                #LastBackupStatus__\r\n",
                "        --\r\n",
                "        -- Cleanup\r\n",
                "        --\r\n",
                "            IF OBJECT_ID('tempdb.dbo.#LastBackupStatus__') IS NOT NULL\r\n",
                "                DROP TABLE #LastBackupStatus__"
            ],
            "metadata": {
                "azdata_cell_guid": "776369b9-40d0-47c6-9588-46a837a62e97"
            },
            "outputs": [],
            "execution_count": null
        },
        {
            "cell_type": "markdown",
            "source": [
                "## Last backup information by database\n",
                "\n",
                "This also provides a list of databases and their backup status, but this is more of an abreviated check then the query above.\n",
                "\n",
                "### <span style=\"color: rgb(0, 204, 153)\">Run the Code block below</span>\n",
                "\n",
                "1. Click the run icon below\n",
                "2. If ADS prompts you for a connection, enter the correct SQL Server and authentication account\n",
                "3. View the results of the query by scrolling down to the results set"
            ],
            "metadata": {
                "azdata_cell_guid": "7c13f2e6-7359-4ba2-98ca-02aac11cfb04"
            },
            "attachments": {}
        },
        {
            "cell_type": "code",
            "source": [
                "-- Last backup information by database (Last Backup By Database)\r\n",
                "SELECT ISNULL(d.[name], bs.[database_name]) AS [Database], d.recovery_model_desc AS [Recovery Model], \r\n",
                "       d.log_reuse_wait_desc AS [Log Reuse Wait Desc],\r\n",
                "    MAX(CASE WHEN [type] = 'D' THEN bs.backup_finish_date ELSE NULL END) AS [Last Full Backup],\r\n",
                "    MAX(CASE WHEN [type] = 'I' THEN bs.backup_finish_date ELSE NULL END) AS [Last Differential Backup],\r\n",
                "    MAX(CASE WHEN [type] = 'L' THEN bs.backup_finish_date ELSE NULL END) AS [Last Log Backup]\r\n",
                "FROM sys.databases AS d WITH (NOLOCK)\r\n",
                "LEFT OUTER JOIN msdb.dbo.backupset AS bs WITH (NOLOCK)\r\n",
                "ON bs.[database_name] = d.[name] \r\n",
                "AND bs.backup_finish_date > GETDATE()- 30\r\n",
                "WHERE d.name <> N'tempdb'\r\n",
                "GROUP BY ISNULL(d.[name], bs.[database_name]), d.recovery_model_desc, d.log_reuse_wait_desc, d.[name] \r\n",
                "ORDER BY d.recovery_model_desc, d.[name] OPTION (RECOMPILE);"
            ],
            "metadata": {
                "azdata_cell_guid": "0f91191f-9f8e-4e69-96ac-f6dd1ec5ea80"
            },
            "outputs": [],
            "execution_count": null
        },
        {
            "cell_type": "markdown",
            "source": [
                "## Check the Suspect Pages table\n",
                "\n",
                "The msdb.dbo.suspect\\_pages table contains one row per page that has failed with a minor 823 error or an 824 error. Pages are listed in this table because they are suspected of being bad, but they might actually be fine. When a suspect page is repaired, its status is updated in the event\\_type column.  \n",
                "\n",
                "### <span style=\"color: rgb(0, 204, 153)\">Run the Code block below</span>\n",
                "\n",
                "1. Click the run icon below\n",
                "2. If ADS prompts you for a connection, enter the correct SQL Server and authentication account\n",
                "3. View the results of the query by scrolling down to the results set"
            ],
            "metadata": {
                "azdata_cell_guid": "304f4eb1-00ac-450e-aaeb-c0f8103fc017"
            },
            "attachments": {}
        },
        {
            "cell_type": "code",
            "source": [
                "-- Look at Suspect Pages table (Suspect Pages)\r\n",
                "SELECT DB_NAME(database_id) AS [Database Name], [file_id], page_id, \r\n",
                "       event_type, error_count, last_update_date \r\n",
                "FROM msdb.dbo.suspect_pages WITH (NOLOCK)\r\n",
                "ORDER BY database_id OPTION (RECOMPILE);"
            ],
            "metadata": {
                "azdata_cell_guid": "f23e5c8e-8a0c-4088-b8d1-3e5b3be7d5d4"
            },
            "outputs": [],
            "execution_count": null
        },
        {
            "cell_type": "markdown",
            "source": [
                "**event\\_type value descriptions**\n",
                "\n",
                "- 1 = 823 error caused by an operating system CRC error or 824 error other than a bad checksum or a torn page (for example, a bad page ID)\n",
                "- 2 = Bad checksum\n",
                "- 3 = Torn page\n",
                "- 4 = Restored (The page was restored after it was marked bad)\n",
                "- 5 = Repaired (DBCC repaired the page)\n",
                "- 7 = Deallocated by DBCC\n",
                "\n",
                "Ideally, this query returns no results. The table is limited to 1000 rows. If you do get results here, you should do further investigation to determine the root cause\n",
                "\n",
                "Read this article to lear more about hoe the database engine updates this table. [Manage the suspect\\_pages Table](https://bit.ly/2Fvr1c9)"
            ],
            "metadata": {
                "azdata_cell_guid": "20fe2640-adc6-4660-a87b-1cbdc49cb2f9"
            },
            "attachments": {}
        },
        {
            "cell_type": "markdown",
            "source": [
                "## Retrieve the number of data files in TempDB database\n",
                "\n",
                "### <span style=\"color: rgb(0, 204, 153)\">Run the Code block below</span>\n",
                "\n",
                "1. Click the run icon below\n",
                "2. If ADS prompts you for a connection, enter the correct SQL Server and authentication account\n",
                "3. View the results of the query by scrolling down to the results set"
            ],
            "metadata": {
                "azdata_cell_guid": "d5aafe4b-0973-47e1-bf97-de67cea8c0e5"
            },
            "attachments": {}
        },
        {
            "cell_type": "code",
            "source": [
                "EXEC sys.xp_readerrorlog 0, 1, N'The tempdb database has';\r\n",
                ""
            ],
            "metadata": {
                "azdata_cell_guid": "3c308981-3952-4ce2-bb09-b133509dae90"
            },
            "outputs": [],
            "execution_count": null
        },
        {
            "cell_type": "markdown",
            "source": [
                "Returns the number of data files in the tempdb database\n",
                "\n",
                "- 4-8 data files that are all the same size is a good starting point\n",
                "- This query will return no results if your error log has been recycled since the instance was last started"
            ],
            "metadata": {
                "azdata_cell_guid": "0cdc85be-a241-47c4-8a6a-6ef58160a198"
            },
            "attachments": {}
        },
        {
            "cell_type": "markdown",
            "source": [
                "## File names and paths for all user and system databases on instance (Database Filenames and Paths)\n",
                "\n",
                "### <span style=\"color: rgb(0, 204, 153)\">Run the Code block below</span>\n",
                "\n",
                "1. Click the run icon below\n",
                "2. If ADS prompts you for a connection, enter the correct SQL Server and authentication account\n",
                "3. View the results of the query by scrolling down to the results set"
            ],
            "metadata": {
                "azdata_cell_guid": "07753e24-8fec-4363-be6b-84df74961311"
            },
            "attachments": {}
        },
        {
            "cell_type": "code",
            "source": [
                "-- File names and paths for all user and system databases on instance (Database Filenames and Paths)\r\n",
                "SELECT DB_NAME([database_id]) AS [Database Name], \r\n",
                "       [file_id], [name], physical_name, [type_desc], state_desc,\r\n",
                "\t   is_percent_growth, growth, \r\n",
                "\t   CONVERT(bigint, growth/128.0) AS [Growth in MB], \r\n",
                "       CONVERT(bigint, size/128.0) AS [Total Size in MB], max_size\r\n",
                "FROM sys.master_files WITH (NOLOCK)\r\n",
                "ORDER BY DB_NAME([database_id]), [file_id] OPTION (RECOMPILE);"
            ],
            "metadata": {
                "azdata_cell_guid": "f456074b-444f-4533-971c-87b949c5fdc6"
            },
            "outputs": [],
            "execution_count": null
        },
        {
            "cell_type": "markdown",
            "source": [
                "Things to look at:\n",
                "\n",
                "- Are data files and log files on different drives?\n",
                "- Is everything on the C: drive?\n",
                "- Is tempdb on dedicated drives?\n",
                "- Is there only one tempdb data file?\n",
                "- Are all of the tempdb data files the same size?\n",
                "- Are there multiple data files for user databases?\n",
                "- Is percent growth enabled for any files (which is bad)?"
            ],
            "metadata": {
                "azdata_cell_guid": "da092c3f-14a6-4d56-a830-c9fed4948ca2"
            },
            "attachments": {}
        },
        {
            "cell_type": "markdown",
            "source": [
                "## Drive information for all fixed drives visible to the operating system (Fixed Drives)\n",
                "\n",
                "### <span style=\"color: rgb(0, 204, 153)\">Run the Code block below</span>\n",
                "\n",
                "1. Click the run icon below\n",
                "2. If ADS prompts you for a connection, enter the correct SQL Server and authentication account\n",
                "3. View the results of the query by scrolling down to the results set"
            ],
            "metadata": {
                "azdata_cell_guid": "38c571a2-ef11-42db-9995-eb53dd1fabeb"
            },
            "attachments": {}
        },
        {
            "cell_type": "code",
            "source": [
                "-- Drive information for all fixed drives visible to the operating system (Fixed Drives)\r\n",
                "SELECT fixed_drive_path, drive_type_desc, \r\n",
                "CONVERT(DECIMAL(18,2), free_space_in_bytes/1073741824.0) AS [Available Space (GB)]\r\n",
                "FROM sys.dm_os_enumerate_fixed_drives WITH (NOLOCK) OPTION (RECOMPILE);"
            ],
            "metadata": {
                "azdata_cell_guid": "4f2b8d47-5aac-4819-be50-575697e435b6",
                "tags": []
            },
            "outputs": [],
            "execution_count": null
        },
        {
            "cell_type": "markdown",
            "source": [
                "This shows all of your fixed drives, not just LUNs with SQL Server database files"
            ],
            "metadata": {
                "azdata_cell_guid": "b33a9964-3362-4d5a-b9fd-fba12aa87383"
            },
            "attachments": {}
        },
        {
            "cell_type": "markdown",
            "source": [
                "## Volume info for all LUNS that have database files on the current instance (Volume Info)\n",
                "\n",
                "### <span style=\"color: rgb(0, 204, 153)\">Run the Code block below</span>\n",
                "\n",
                "1. Click the run icon below\n",
                "2. If ADS prompts you for a connection, enter the correct SQL Server and authentication account\n",
                "3. View the results of the query by scrolling down to the results set"
            ],
            "metadata": {
                "azdata_cell_guid": "82b4904c-97a9-4edd-90c2-64b354e4dbfe"
            },
            "attachments": {}
        },
        {
            "cell_type": "code",
            "source": [
                "-- Volume info for all LUNS that have database files on the current instance (Volume Info)\r\n",
                "SELECT DISTINCT vs.volume_mount_point, vs.file_system_type, vs.logical_volume_name, \r\n",
                "CONVERT(DECIMAL(18,2), vs.total_bytes/1073741824.0) AS [Total Size (GB)],\r\n",
                "CONVERT(DECIMAL(18,2), vs.available_bytes/1073741824.0) AS [Available Size (GB)],  \r\n",
                "CONVERT(DECIMAL(18,2), vs.available_bytes * 1. / vs.total_bytes * 100.) AS [Space Free %],\r\n",
                "vs.supports_compression, vs.is_compressed, \r\n",
                "vs.supports_sparse_files, vs.supports_alternate_streams\r\n",
                "FROM sys.master_files AS f WITH (NOLOCK)\r\n",
                "CROSS APPLY sys.dm_os_volume_stats(f.database_id, f.[file_id]) AS vs \r\n",
                "ORDER BY vs.volume_mount_point OPTION (RECOMPILE);"
            ],
            "metadata": {
                "azdata_cell_guid": "81e81a81-2437-4346-80fd-621eb8a831b1"
            },
            "outputs": [],
            "execution_count": null
        },
        {
            "cell_type": "markdown",
            "source": [
                "Shows you the total and free space on the LUNs where you have database files\n",
                "\n",
                "- Being low on free space can negatively affect performance\n",
                "\n",
                "[sys.dm\\_os\\_volume\\_stats (Transact-SQL)](https://bit.ly/2oBPNNr)"
            ],
            "metadata": {
                "azdata_cell_guid": "542fab32-092e-4090-be20-3992b355b155"
            },
            "attachments": {}
        },
        {
            "cell_type": "markdown",
            "source": [
                "## Drive level latency information (Drive Level Latency)\n",
                "\n",
                "### <span style=\"color: rgb(0, 204, 153)\">Run the Code block below</span>\n",
                "\n",
                "1. Click the run icon below\n",
                "2. If ADS prompts you for a connection, enter the correct SQL Server and authentication account\n",
                "3. View the results of the query by scrolling down to the results set"
            ],
            "metadata": {
                "azdata_cell_guid": "d889fa3d-ab9c-4f2c-93bc-0692c0017d6d"
            },
            "attachments": {}
        },
        {
            "cell_type": "code",
            "source": [
                "-- Drive level latency information (Drive Level Latency)\r\n",
                "SELECT tab.[Drive], tab.volume_mount_point AS [Volume Mount Point], \r\n",
                "\tCASE \r\n",
                "\t\tWHEN num_of_reads = 0 THEN 0 \r\n",
                "\t\tELSE (io_stall_read_ms/num_of_reads) \r\n",
                "\tEND AS [Read Latency],\r\n",
                "\tCASE \r\n",
                "\t\tWHEN num_of_writes = 0 THEN 0 \r\n",
                "\t\tELSE (io_stall_write_ms/num_of_writes) \r\n",
                "\tEND AS [Write Latency],\r\n",
                "\tCASE \r\n",
                "\t\tWHEN (num_of_reads = 0 AND num_of_writes = 0) THEN 0 \r\n",
                "\t\tELSE (io_stall/(num_of_reads + num_of_writes)) \r\n",
                "\tEND AS [Overall Latency],\r\n",
                "\tCASE \r\n",
                "\t\tWHEN num_of_reads = 0 THEN 0 \r\n",
                "\t\tELSE (num_of_bytes_read/num_of_reads) \r\n",
                "\tEND AS [Avg Bytes/Read],\r\n",
                "\tCASE \r\n",
                "\t\tWHEN num_of_writes = 0 THEN 0 \r\n",
                "\t\tELSE (num_of_bytes_written/num_of_writes) \r\n",
                "\tEND AS [Avg Bytes/Write],\r\n",
                "\tCASE \r\n",
                "\t\tWHEN (num_of_reads = 0 AND num_of_writes = 0) THEN 0 \r\n",
                "\t\tELSE ((num_of_bytes_read + num_of_bytes_written)/(num_of_reads + num_of_writes)) \r\n",
                "\tEND AS [Avg Bytes/Transfer]\r\n",
                "FROM (SELECT LEFT(UPPER(mf.physical_name), 2) AS Drive, SUM(num_of_reads) AS num_of_reads,\r\n",
                "\t         SUM(io_stall_read_ms) AS io_stall_read_ms, SUM(num_of_writes) AS num_of_writes,\r\n",
                "\t         SUM(io_stall_write_ms) AS io_stall_write_ms, SUM(num_of_bytes_read) AS num_of_bytes_read,\r\n",
                "\t         SUM(num_of_bytes_written) AS num_of_bytes_written, SUM(io_stall) AS io_stall, vs.volume_mount_point \r\n",
                "      FROM sys.dm_io_virtual_file_stats(NULL, NULL) AS vfs\r\n",
                "      INNER JOIN sys.master_files AS mf WITH (NOLOCK)\r\n",
                "      ON vfs.database_id = mf.database_id AND vfs.file_id = mf.file_id\r\n",
                "\t  CROSS APPLY sys.dm_os_volume_stats(mf.database_id, mf.[file_id]) AS vs \r\n",
                "      GROUP BY LEFT(UPPER(mf.physical_name), 2), vs.volume_mount_point) AS tab\r\n",
                "ORDER BY [Overall Latency] OPTION (RECOMPILE);"
            ],
            "metadata": {
                "azdata_cell_guid": "94975c7f-ed9b-4f85-9ab6-3bdc99886b95"
            },
            "outputs": [],
            "execution_count": null
        },
        {
            "cell_type": "markdown",
            "source": [
                "Shows you the drive-level latency for reads and writes, in milliseconds\n",
                "\n",
                "- Latency above 30-40ms is usually a problem\n",
                "- These latency numbers include all file activity against all SQL Server database files on each drive since SQL Server was last started"
            ],
            "metadata": {
                "azdata_cell_guid": "03e95134-4718-4656-b26d-cf5b9b39f861"
            },
            "attachments": {}
        },
        {
            "cell_type": "markdown",
            "source": [
                "## Calculates average latency per read, per write, and per total input/output for each database file (IO Latency by File)\n",
                "\n",
                "### <span style=\"color: rgb(0, 204, 153)\">Run the Code block below</span>\n",
                "\n",
                "1. Click the run icon below\n",
                "2. If ADS prompts you for a connection, enter the correct SQL Server and authentication account\n",
                "3. View the results of the query by scrolling down to the results set"
            ],
            "metadata": {
                "azdata_cell_guid": "b2f47e9f-74b1-4ca8-b3aa-7618774d88b2"
            },
            "attachments": {}
        },
        {
            "cell_type": "code",
            "source": [
                "-- Calculates average latency per read, per write, and per total input/output for each database file (IO Latency by File)\r\n",
                "SELECT DB_NAME(fs.database_id) AS [Database Name], CAST(fs.io_stall_read_ms/(1.0 + fs.num_of_reads) AS NUMERIC(10,1)) AS [avg_read_latency_ms],\r\n",
                "CAST(fs.io_stall_write_ms/(1.0 + fs.num_of_writes) AS NUMERIC(10,1)) AS [avg_write_latency_ms],\r\n",
                "CAST((fs.io_stall_read_ms + fs.io_stall_write_ms)/(1.0 + fs.num_of_reads + fs.num_of_writes) AS NUMERIC(10,1)) AS [avg_io_latency_ms],\r\n",
                "CONVERT(DECIMAL(18,2), mf.size/128.0) AS [File Size (MB)], mf.physical_name, mf.type_desc, fs.io_stall_read_ms, fs.num_of_reads, \r\n",
                "fs.io_stall_write_ms, fs.num_of_writes, fs.io_stall_read_ms + fs.io_stall_write_ms AS [io_stalls], fs.num_of_reads + fs.num_of_writes AS [total_io],\r\n",
                "io_stall_queued_read_ms AS [Resource Governor Total Read IO Latency (ms)], io_stall_queued_write_ms AS [Resource Governor Total Write IO Latency (ms)] \r\n",
                "FROM sys.dm_io_virtual_file_stats(null,null) AS fs\r\n",
                "INNER JOIN sys.master_files AS mf WITH (NOLOCK)\r\n",
                "ON fs.database_id = mf.database_id\r\n",
                "AND fs.[file_id] = mf.[file_id]\r\n",
                "ORDER BY avg_io_latency_ms DESC OPTION (RECOMPILE);"
            ],
            "metadata": {
                "azdata_cell_guid": "f23dcf08-103c-49b7-91f3-f3e8e63d49d8"
            },
            "outputs": [],
            "execution_count": null
        },
        {
            "cell_type": "markdown",
            "source": [
                "Helps determine which database files on the entire instance have the most I/O bottlenecks\n",
                "\n",
                "- This can help you decide whether certain LUNs are overloaded\n",
                "- Or whether you might want to move some files to a different location or perhaps improve your I/O performance\n",
                "- These latency numbers include all file activity against each SQL Server database file since SQL Server was last started"
            ],
            "metadata": {
                "azdata_cell_guid": "3721b737-7dba-479c-9a04-fa6364e9790c"
            },
            "attachments": {}
        },
        {
            "cell_type": "markdown",
            "source": [
                "## Look for I/O requests taking longer than 15 seconds in the six most recent SQL Server Error Logs (IO Warnings)\n",
                "\n",
                "### <span style=\"color: rgb(0, 204, 153)\">Run the Code block below</span>\n",
                "\n",
                "1. Click the run icon below\n",
                "2. If ADS prompts you for a connection, enter the correct SQL Server and authentication account\n",
                "3. View the results of the query by scrolling down to the results set"
            ],
            "metadata": {
                "azdata_cell_guid": "8ef9d082-92da-4b86-92c1-c20a53e533b0"
            },
            "attachments": {}
        },
        {
            "cell_type": "code",
            "source": [
                "-- Look for I/O requests taking longer than 15 seconds in the six most recent SQL Server Error Logs (IO Warnings)\r\n",
                "CREATE TABLE #IOWarningResults(LogDate datetime, ProcessInfo sysname, LogText nvarchar(1000));\r\n",
                "\r\n",
                "\tINSERT INTO #IOWarningResults \r\n",
                "\tEXEC xp_readerrorlog 0, 1, N'taking longer than 15 seconds';\r\n",
                "\r\n",
                "\tINSERT INTO #IOWarningResults \r\n",
                "\tEXEC xp_readerrorlog 1, 1, N'taking longer than 15 seconds';\r\n",
                "\r\n",
                "\tINSERT INTO #IOWarningResults \r\n",
                "\tEXEC xp_readerrorlog 2, 1, N'taking longer than 15 seconds';\r\n",
                "\r\n",
                "\tINSERT INTO #IOWarningResults \r\n",
                "\tEXEC xp_readerrorlog 3, 1, N'taking longer than 15 seconds';\r\n",
                "\r\n",
                "\tINSERT INTO #IOWarningResults \r\n",
                "\tEXEC xp_readerrorlog 4, 1, N'taking longer than 15 seconds';\r\n",
                "\r\n",
                "\tINSERT INTO #IOWarningResults \r\n",
                "\tEXEC xp_readerrorlog 5, 1, N'taking longer than 15 seconds';\r\n",
                "\r\n",
                "SELECT LogDate, ProcessInfo, LogText\r\n",
                "FROM #IOWarningResults\r\n",
                "ORDER BY LogDate DESC;\r\n",
                "\r\n",
                "DROP TABLE #IOWarningResults;"
            ],
            "metadata": {
                "azdata_cell_guid": "bfc86e1a-a6b8-44e1-a55f-660b87d4fee8"
            },
            "outputs": [],
            "execution_count": null
        },
        {
            "cell_type": "markdown",
            "source": [
                "Finding 15 second I/O warnings in the SQL Server Error Log is useful evidence of poor I/O performance (which might have many different causes) Look to see if you see any patterns in the results (same files, same drives, same time of day, etc.)\n",
                "\n",
                "[Diagnostics in SQL Server help detect stalled and stuck I/O operations](https://bit.ly/2qtaw73)"
            ],
            "metadata": {
                "azdata_cell_guid": "3d2427ee-af78-45e2-bae3-588fa1f51b49"
            },
            "attachments": {}
        },
        {
            "cell_type": "markdown",
            "source": [
                "## Get VLF Counts for all databases on the instance (VLF Counts)\n",
                "\n",
                "### <span style=\"color: rgb(0, 204, 153)\">Run the Code block below</span>\n",
                "\n",
                "1. Click the run icon below\n",
                "2. If ADS prompts you for a connection, enter the correct SQL Server and authentication account\n",
                "3. View the results of the query by scrolling down to the results set"
            ],
            "metadata": {
                "azdata_cell_guid": "197d4c34-7f58-4e01-be70-6ef4ceee8cb2"
            },
            "attachments": {}
        },
        {
            "cell_type": "code",
            "source": [
                "-- Get VLF Counts for all databases on the instance (VLF Counts)\r\n",
                "SELECT [name] AS [Database Name], [VLF Count]\r\n",
                "FROM sys.databases AS db WITH (NOLOCK)\r\n",
                "CROSS APPLY (SELECT file_id, COUNT(*) AS [VLF Count]\r\n",
                "\t\t     FROM sys.dm_db_log_info(db.database_id)\r\n",
                "\t\t\t GROUP BY file_id) AS li\r\n",
                "ORDER BY [VLF Count] DESC OPTION (RECOMPILE);"
            ],
            "metadata": {
                "azdata_cell_guid": "2cf067ed-a987-4041-b1bb-3262557fae23"
            },
            "outputs": [],
            "execution_count": null
        },
        {
            "cell_type": "markdown",
            "source": [
                "High VLF counts can affect write performance to the log file, and they can make full database restores and crash recovery take much longer. Try to keep your VLF counts under 200 in most cases (depending on log file size)\n",
                "\n",
                "[Important change to VLF creation algorithm in SQL Server 2014](https://bit.ly/2Hsjbg4)\n",
                "\n",
                "[SQL Server Transaction Log Architecture and Management Guide](https://bit.ly/2JjmQRZ)"
            ],
            "metadata": {
                "azdata_cell_guid": "954ae844-a9b9-4933-9e87-6961e0ff84f8"
            },
            "attachments": {}
        },
        {
            "cell_type": "markdown",
            "source": [
                "## Get CPU utilization by database (CPU Usage by Database)\n",
                "\n",
                "### <span style=\"color: rgb(0, 204, 153)\">Run the Code block below</span>\n",
                "\n",
                "1. Click the run icon below\n",
                "2. If ADS prompts you for a connection, enter the correct SQL Server and authentication account\n",
                "3. View the results of the query by scrolling down to the results set"
            ],
            "metadata": {
                "azdata_cell_guid": "2f8bffd2-bc8d-4000-8f55-fda6424419e2"
            },
            "attachments": {}
        },
        {
            "cell_type": "code",
            "source": [
                "-- Get CPU utilization by database (CPU Usage by Database)\r\n",
                "WITH DB_CPU_Stats\r\n",
                "AS\r\n",
                "(SELECT pa.DatabaseID, DB_Name(pa.DatabaseID) AS [Database Name], SUM(qs.total_worker_time/1000) AS [CPU_Time_Ms]\r\n",
                " FROM sys.dm_exec_query_stats AS qs WITH (NOLOCK)\r\n",
                " CROSS APPLY (SELECT CONVERT(int, value) AS [DatabaseID] \r\n",
                "              FROM sys.dm_exec_plan_attributes(qs.plan_handle)\r\n",
                "              WHERE attribute = N'dbid') AS pa\r\n",
                " GROUP BY DatabaseID)\r\n",
                "SELECT ROW_NUMBER() OVER(ORDER BY [CPU_Time_Ms] DESC) AS [CPU Rank],\r\n",
                "       [Database Name], [CPU_Time_Ms] AS [CPU Time (ms)], \r\n",
                "       CAST([CPU_Time_Ms] * 1.0 / SUM([CPU_Time_Ms]) OVER() * 100.0 AS DECIMAL(5, 2)) AS [CPU Percent]\r\n",
                "FROM DB_CPU_Stats\r\n",
                "WHERE DatabaseID <> 32767 -- ResourceDB\r\n",
                "ORDER BY [CPU Rank] OPTION (RECOMPILE);"
            ],
            "metadata": {
                "azdata_cell_guid": "e4228690-4717-4025-81c1-bf21ae4bcd71"
            },
            "outputs": [],
            "execution_count": null
        },
        {
            "cell_type": "markdown",
            "source": [
                "Helps determine which database is using the most CPU resources on the instance  \n",
                "**Note:** This only reflects CPU usage from the currently cached query plans"
            ],
            "metadata": {
                "azdata_cell_guid": "97cfaad6-f7ba-41b0-8ce1-fb6b0cf625f2"
            },
            "attachments": {}
        },
        {
            "cell_type": "markdown",
            "source": [
                "## Get I/O utilization by database (IO Usage By Database)\n",
                "\n",
                "### <span style=\"color: rgb(0, 204, 153)\">Run the Code block below</span>\n",
                "\n",
                "1. Click the run icon below\n",
                "2. If ADS prompts you for a connection, enter the correct SQL Server and authentication account\n",
                "3. View the results of the query by scrolling down to the results set"
            ],
            "metadata": {
                "azdata_cell_guid": "bd525c96-58ee-4208-b37f-c14f03bf09ed"
            },
            "attachments": {}
        },
        {
            "cell_type": "code",
            "source": [
                "-- Get I/O utilization by database (IO Usage By Database)\r\n",
                "WITH Aggregate_IO_Statistics\r\n",
                "AS (SELECT DB_NAME(database_id) AS [Database Name],\r\n",
                "    CAST(SUM(num_of_bytes_read + num_of_bytes_written) / 1048576 AS DECIMAL(12, 2)) AS [ioTotalMB],\r\n",
                "    CAST(SUM(num_of_bytes_read ) / 1048576 AS DECIMAL(12, 2)) AS [ioReadMB],\r\n",
                "    CAST(SUM(num_of_bytes_written) / 1048576 AS DECIMAL(12, 2)) AS [ioWriteMB]\r\n",
                "    FROM sys.dm_io_virtual_file_stats(NULL, NULL) AS [DM_IO_STATS]\r\n",
                "    GROUP BY database_id)\r\n",
                "SELECT ROW_NUMBER() OVER (ORDER BY ioTotalMB DESC) AS [I/O Rank],\r\n",
                "        [Database Name], ioTotalMB AS [Total I/O (MB)],\r\n",
                "        CAST(ioTotalMB / SUM(ioTotalMB) OVER () * 100.0 AS DECIMAL(5, 2)) AS [Total I/O %],\r\n",
                "        ioReadMB AS [Read I/O (MB)], \r\n",
                "\t\tCAST(ioReadMB / SUM(ioReadMB) OVER () * 100.0 AS DECIMAL(5, 2)) AS [Read I/O %],\r\n",
                "        ioWriteMB AS [Write I/O (MB)], \r\n",
                "\t\tCAST(ioWriteMB / SUM(ioWriteMB) OVER () * 100.0 AS DECIMAL(5, 2)) AS [Write I/O %]\r\n",
                "FROM Aggregate_IO_Statistics\r\n",
                "ORDER BY [I/O Rank] OPTION (RECOMPILE);"
            ],
            "metadata": {
                "azdata_cell_guid": "dae895bf-35da-4b79-b1b5-366c82283902"
            },
            "outputs": [],
            "execution_count": null
        },
        {
            "cell_type": "markdown",
            "source": [
                "Helps determine which database is using the most I/O resources on the instance\n",
                "\n",
                "- These numbers are cumulative since the last service restart\n",
                "- They include all I/O activity, not just the nominal I/O workload"
            ],
            "metadata": {
                "azdata_cell_guid": "255bc859-1a38-40d4-826b-5912be19fccb"
            },
            "attachments": {}
        },
        {
            "cell_type": "markdown",
            "source": [
                "## Get total buffer usage by database for current instance (Total Buffer Usage by Database)\n",
                "\n",
                "### <span style=\"color: rgb(0, 204, 153)\">Run the Code block below</span>\n",
                "\n",
                "1. Click the run icon below\n",
                "2. If ADS prompts you for a connection, enter the correct SQL Server and authentication account\n",
                "3. View the results of the query by scrolling down to the results set"
            ],
            "metadata": {
                "azdata_cell_guid": "d2ddd459-701d-41bf-be3c-4fdbbb04581b"
            },
            "attachments": {}
        },
        {
            "cell_type": "code",
            "source": [
                "-- Get total buffer usage by database for current instance (Total Buffer Usage by Database)\r\n",
                "-- This make take some time to run on a busy instance\r\n",
                "WITH AggregateBufferPoolUsage\r\n",
                "AS\r\n",
                "(SELECT DB_NAME(database_id) AS [Database Name],\r\n",
                "CAST(COUNT(*) * 8/1024.0 AS DECIMAL (10,2))  AS [CachedSize]\r\n",
                "FROM sys.dm_os_buffer_descriptors WITH (NOLOCK)\r\n",
                "WHERE database_id <> 32767 -- ResourceDB\r\n",
                "GROUP BY DB_NAME(database_id))\r\n",
                "SELECT ROW_NUMBER() OVER(ORDER BY CachedSize DESC) AS [Buffer Pool Rank], [Database Name], CachedSize AS [Cached Size (MB)],\r\n",
                "       CAST(CachedSize / SUM(CachedSize) OVER() * 100.0 AS DECIMAL(5,2)) AS [Buffer Pool Percent]\r\n",
                "FROM AggregateBufferPoolUsage\r\n",
                "ORDER BY [Buffer Pool Rank] OPTION (RECOMPILE);"
            ],
            "metadata": {
                "azdata_cell_guid": "50e020a8-6b6c-4841-a3fc-151859ec2c1a"
            },
            "outputs": [],
            "execution_count": null
        },
        {
            "cell_type": "markdown",
            "source": [
                "Tells you how much memory (in the buffer pool) is being used by each database on the instance"
            ],
            "metadata": {
                "azdata_cell_guid": "384c943c-8194-4c34-85df-30b8d03ec010"
            },
            "attachments": {}
        },
        {
            "cell_type": "markdown",
            "source": [
                "## Get tempdb version store space usage by database (Version Store Space Usage)\n",
                "\n",
                "### <span style=\"color: rgb(0, 204, 153)\">Run the Code block below</span>\n",
                "\n",
                "1. Click the run icon below\n",
                "2. If ADS prompts you for a connection, enter the correct SQL Server and authentication account\n",
                "3. View the results of the query by scrolling down to the results set"
            ],
            "metadata": {
                "azdata_cell_guid": "af3ac613-06aa-4078-8f47-973bcf9e8055"
            },
            "attachments": {}
        },
        {
            "cell_type": "code",
            "source": [
                "-- Get tempdb version store space usage by database (Version Store Space Usage)\r\n",
                "SELECT DB_NAME(database_id) AS [Database Name],\r\n",
                "       reserved_page_count AS [Version Store Reserved Page Count], \r\n",
                "\t   reserved_space_kb/1024 AS [Version Store Reserved Space (MB)] \r\n",
                "FROM sys.dm_tran_version_store_space_usage WITH (NOLOCK) \r\n",
                "ORDER BY reserved_space_kb/1024 DESC OPTION (RECOMPILE);"
            ],
            "metadata": {
                "azdata_cell_guid": "d3470e17-4c91-4b84-97bd-ddeb003757b3"
            },
            "outputs": [],
            "execution_count": null
        },
        {
            "cell_type": "markdown",
            "source": [
                "[sys.dm\\_tran\\_version\\_store\\_space\\_usage (Transact-SQL)](https://bit.ly/2vh3Bmk)"
            ],
            "metadata": {
                "azdata_cell_guid": "dfe667e7-fe7e-4bb2-a529-cedb23a95c66"
            },
            "attachments": {}
        },
        {
            "cell_type": "markdown",
            "source": [
                "## Get top total logical reads queries for entire instance (Top Logical Reads Queries)\n",
                "\n",
                "### <span style=\"color: rgb(0, 204, 153)\">Run the Code block below</span>\n",
                "\n",
                "1. Click the run icon below\n",
                "2. If ADS prompts you for a connection, enter the correct SQL Server and authentication account\n",
                "3. View the results of the query by scrolling down to the results set"
            ],
            "metadata": {
                "azdata_cell_guid": "6a12abc7-3c5d-4fa2-852f-178e8332bb89"
            },
            "attachments": {}
        },
        {
            "cell_type": "code",
            "source": [
                "-- Get top total logical reads queries for entire instance (Top Logical Reads Queries)\r\n",
                "SELECT TOP(50) DB_NAME(t.[dbid]) AS [Database Name],\r\n",
                "REPLACE(REPLACE(LEFT(t.[text], 255), CHAR(10),''), CHAR(13),'') AS [Short Query Text], \r\n",
                "qs.total_logical_reads AS [Total Logical Reads],\r\n",
                "qs.min_logical_reads AS [Min Logical Reads],\r\n",
                "qs.total_logical_reads/qs.execution_count AS [Avg Logical Reads],\r\n",
                "qs.max_logical_reads AS [Max Logical Reads],   \r\n",
                "qs.min_worker_time AS [Min Worker Time],\r\n",
                "qs.total_worker_time/qs.execution_count AS [Avg Worker Time], \r\n",
                "qs.max_worker_time AS [Max Worker Time], \r\n",
                "qs.min_elapsed_time AS [Min Elapsed Time], \r\n",
                "qs.total_elapsed_time/qs.execution_count AS [Avg Elapsed Time], \r\n",
                "qs.max_elapsed_time AS [Max Elapsed Time],\r\n",
                "qs.execution_count AS [Execution Count], \r\n",
                "CASE WHEN CONVERT(nvarchar(max), qp.query_plan) COLLATE Latin1_General_BIN2 LIKE N'%<MissingIndexes>%' THEN 1 ELSE 0 END AS [Has Missing Index],\r\n",
                "qs.creation_time AS [Creation Time]\r\n",
                "--,t.[text] AS [Complete Query Text], qp.query_plan AS [Query Plan] -- uncomment out these columns if not copying results to Excel\r\n",
                "FROM sys.dm_exec_query_stats AS qs WITH (NOLOCK)\r\n",
                "CROSS APPLY sys.dm_exec_sql_text(plan_handle) AS t \r\n",
                "CROSS APPLY sys.dm_exec_query_plan(plan_handle) AS qp \r\n",
                "ORDER BY qs.total_logical_reads DESC OPTION (RECOMPILE);"
            ],
            "metadata": {
                "azdata_cell_guid": "2eadf8f6-18e3-4a83-afbe-9638461a5d91"
            },
            "outputs": [],
            "execution_count": null
        },
        {
            "cell_type": "markdown",
            "source": [
                "Helps you find the most expensive queries from a memory perspective across the entire instance\n",
                "\n",
                "- Can also help track down parameter sniffing issues"
            ],
            "metadata": {
                "azdata_cell_guid": "dc0d3465-84d6-4fab-81e9-5e64e9b5a1ad"
            },
            "attachments": {}
        },
        {
            "cell_type": "markdown",
            "source": [
                "## Get top average elapsed time queries for entire instance (Top Avg Elapsed Time Queries)\n",
                "\n",
                "### <span style=\"color: rgb(0, 204, 153)\">Run the Code block below</span>\n",
                "\n",
                "1. Click the run icon below\n",
                "2. If ADS prompts you for a connection, enter the correct SQL Server and authentication account\n",
                "3. View the results of the query by scrolling down to the results set"
            ],
            "metadata": {
                "azdata_cell_guid": "cd2d3d57-044f-42fb-bfad-312abe0fdcb6"
            },
            "attachments": {}
        },
        {
            "cell_type": "code",
            "source": [
                "-- Get top average elapsed time queries for entire instance (Top Avg Elapsed Time Queries)\r\n",
                "SELECT TOP(50) DB_NAME(t.[dbid]) AS [Database Name], \r\n",
                "REPLACE(REPLACE(LEFT(t.[text], 255), CHAR(10),''), CHAR(13),'') AS [Short Query Text],  \r\n",
                "qs.total_elapsed_time/qs.execution_count AS [Avg Elapsed Time],\r\n",
                "qs.min_elapsed_time, qs.max_elapsed_time, qs.last_elapsed_time,\r\n",
                "qs.execution_count AS [Execution Count],  \r\n",
                "qs.total_logical_reads/qs.execution_count AS [Avg Logical Reads], \r\n",
                "qs.total_physical_reads/qs.execution_count AS [Avg Physical Reads], \r\n",
                "qs.total_worker_time/qs.execution_count AS [Avg Worker Time],\r\n",
                "CASE WHEN CONVERT(nvarchar(max), qp.query_plan) COLLATE Latin1_General_BIN2 LIKE N'%<MissingIndexes>%' THEN 1 ELSE 0 END AS [Has Missing Index],\r\n",
                "qs.creation_time AS [Creation Time]\r\n",
                "--,t.[text] AS [Complete Query Text], qp.query_plan AS [Query Plan] -- uncomment out these columns if not copying results to Excel\r\n",
                "FROM sys.dm_exec_query_stats AS qs WITH (NOLOCK)\r\n",
                "CROSS APPLY sys.dm_exec_sql_text(plan_handle) AS t \r\n",
                "CROSS APPLY sys.dm_exec_query_plan(plan_handle) AS qp \r\n",
                "ORDER BY qs.total_elapsed_time/qs.execution_count DESC OPTION (RECOMPILE);"
            ],
            "metadata": {
                "azdata_cell_guid": "5e8d0cd0-de57-43ff-8f4c-75f401b6984f"
            },
            "outputs": [],
            "execution_count": null
        },
        {
            "cell_type": "markdown",
            "source": [
                "Helps you find the highest average elapsed time queries across the entire instance\n",
                "\n",
                "- Can also help track down parameter sniffing issues"
            ],
            "metadata": {
                "azdata_cell_guid": "3b9372ce-fa34-4875-ae36-a4c53d43c979"
            },
            "attachments": {}
        },
        {
            "cell_type": "markdown",
            "source": [
                "## Look at UDF execution statistics (UDF Stats by DB)\n",
                "\n",
                "### <span style=\"color: rgb(0, 204, 153)\">Run the Code block below</span>\n",
                "\n",
                "1. Click the run icon below\n",
                "2. If ADS prompts you for a connection, enter the correct SQL Server and authentication account\n",
                "3. View the results of the query by scrolling down to the results set"
            ],
            "metadata": {
                "azdata_cell_guid": "a3b76d23-5565-4685-806b-45ae47677c0b"
            },
            "attachments": {}
        },
        {
            "cell_type": "code",
            "source": [
                "-- Look at UDF execution statistics (UDF Stats by DB)\r\n",
                "SELECT TOP (25) DB_NAME(database_id) AS [Database Name], \r\n",
                "\t\t   OBJECT_NAME(object_id, database_id) AS [Function Name],\r\n",
                "\t\t   total_worker_time, execution_count, total_elapsed_time,  \r\n",
                "           total_elapsed_time/execution_count AS [avg_elapsed_time],  \r\n",
                "           last_elapsed_time, last_execution_time, cached_time, [type_desc] \r\n",
                "FROM sys.dm_exec_function_stats WITH (NOLOCK) \r\n",
                "ORDER BY total_worker_time DESC OPTION (RECOMPILE);"
            ],
            "metadata": {
                "azdata_cell_guid": "b07f1b73-afef-4171-9d7a-d3e5dc204e55"
            },
            "outputs": [],
            "execution_count": null
        },
        {
            "cell_type": "markdown",
            "source": [
                "[sys.dm\\_exec\\_function\\_stats (Transact-SQL)](https://bit.ly/2q1Q6BM)\n",
                "\n",
                "[Showplan Enhancements for UDFs](https://bit.ly/2LVqiQ1)"
            ],
            "metadata": {
                "azdata_cell_guid": "d21bdcdd-92ad-4727-8e85-3fb763943108"
            },
            "attachments": {}
        },
        {
            "cell_type": "markdown",
            "source": [
                "# Database specific queries\n",
                "\n",
                "> **Note**: Please switch to a user database that you are interested in!\n",
                "\n",
                "### <span style=\"color: rgb(0, 204, 153)\">Run the Code block below</span>\n",
                "\n",
                "1. Click the run icon below\n",
                "2. If ADS prompts you for a connection, enter the correct SQL Server and authentication account\n",
                "3. View the results of the query by scrolling down to the results set"
            ],
            "metadata": {
                "azdata_cell_guid": "5a6978cf-df5f-492c-b3ab-a52ca971b85a"
            },
            "attachments": {}
        },
        {
            "cell_type": "code",
            "source": [
                "-- **** Please switch to a user database that you are interested in! *****\r\n",
                "--USE YourDatabaseName; -- make sure to change to an actual database on your instance, not the master system database\r\n",
                "--GO"
            ],
            "metadata": {
                "azdata_cell_guid": "f97c4866-b165-441d-932b-153be64c7c2b"
            },
            "outputs": [],
            "execution_count": null
        },
        {
            "cell_type": "markdown",
            "source": [
                "## Individual File Sizes and space available for current database (File Sizes and Space)\n",
                "\n",
                "### <span style=\"color: rgb(0, 204, 153)\">Run the Code block below</span>\n",
                "\n",
                "1. Click the run icon below\n",
                "2. If ADS prompts you for a connection, enter the correct SQL Server and authentication account\n",
                "3. View the results of the query by scrolling down to the results set"
            ],
            "metadata": {
                "azdata_cell_guid": "97798b0c-c96d-43f0-bc03-80d46c2d226d"
            },
            "attachments": {}
        },
        {
            "cell_type": "code",
            "source": [
                "-- Individual File Sizes and space available for current database (File Sizes and Space)\r\n",
                "SELECT f.name AS [File Name] , f.physical_name AS [Physical Name], \r\n",
                "CAST((f.size/128.0) AS DECIMAL(15,2)) AS [Total Size in MB],\r\n",
                "CAST(f.size/128.0 - CAST(FILEPROPERTY(f.name, 'SpaceUsed') AS int)/128.0 AS DECIMAL(15,2)) \r\n",
                "AS [Available Space In MB],\r\n",
                "CAST((f.size/128.0) AS DECIMAL(15,2)) - \r\n",
                "CAST(f.size/128.0 - CAST(FILEPROPERTY(f.name, 'SpaceUsed') AS int)/128.0 AS DECIMAL(15,2)) AS [Used Space in MB],\r\n",
                "f.[file_id], fg.name AS [Filegroup Name],\r\n",
                "f.is_percent_growth, f.growth, fg.is_default, fg.is_read_only, \r\n",
                "fg.is_autogrow_all_files\r\n",
                "FROM sys.database_files AS f WITH (NOLOCK) \r\n",
                "LEFT OUTER JOIN sys.filegroups AS fg WITH (NOLOCK)\r\n",
                "ON f.data_space_id = fg.data_space_id\r\n",
                "ORDER BY f.[file_id] OPTION (RECOMPILE);"
            ],
            "metadata": {
                "azdata_cell_guid": "11ed84c1-6eb7-462d-9580-d9392564af86"
            },
            "outputs": [],
            "execution_count": null
        },
        {
            "cell_type": "markdown",
            "source": [
                "Look at how large and how full the files are and where they are located\n",
                "\n",
                "- Make sure the transaction log is not full!!\n",
                "- is\\_autogrow\\_all\\_files was new for SQL Server 2016. Equivalent to TF 1117 for user databases\n",
                "\n",
                "[SQL Server 2016: Changes in default behavior for autogrow and allocations for tempdb and user databases](https://bit.ly/2evRZSR)"
            ],
            "metadata": {
                "azdata_cell_guid": "87e3f3e3-ff09-4592-9a3a-e248f1211430"
            },
            "attachments": {}
        },
        {
            "cell_type": "markdown",
            "source": [
                "## Log space usage for current database (Log Space Usage)\n",
                "\n",
                "### <span style=\"color: rgb(0, 204, 153)\">Run the Code block below</span>\n",
                "\n",
                "1. Click the run icon below\n",
                "2. If ADS prompts you for a connection, enter the correct SQL Server and authentication account\n",
                "3. View the results of the query by scrolling down to the results set"
            ],
            "metadata": {
                "azdata_cell_guid": "ea57c1d0-b338-4f47-83cf-91f96614c3af"
            },
            "attachments": {}
        },
        {
            "cell_type": "code",
            "source": [
                "-- Log space usage for current database  (Log Space Usage)\r\n",
                "SELECT DB_NAME(lsu.database_id) AS [Database Name], db.recovery_model_desc AS [Recovery Model],\r\n",
                "\t\tCAST(lsu.total_log_size_in_bytes/1048576.0 AS DECIMAL(10, 2)) AS [Total Log Space (MB)],\r\n",
                "\t\tCAST(lsu.used_log_space_in_bytes/1048576.0 AS DECIMAL(10, 2)) AS [Used Log Space (MB)], \r\n",
                "\t\tCAST(lsu.used_log_space_in_percent AS DECIMAL(10, 2)) AS [Used Log Space %],\r\n",
                "\t\tCAST(lsu.log_space_in_bytes_since_last_backup/1048576.0 AS DECIMAL(10, 2)) AS [Used Log Space Since Last Backup (MB)],\r\n",
                "\t\tdb.log_reuse_wait_desc\t\t \r\n",
                "FROM sys.dm_db_log_space_usage AS lsu WITH (NOLOCK)\r\n",
                "INNER JOIN sys.databases AS db WITH (NOLOCK)\r\n",
                "ON lsu.database_id = db.database_id\r\n",
                "OPTION (RECOMPILE);"
            ],
            "metadata": {
                "azdata_cell_guid": "10bdc42b-f9e1-4b1c-aa25-627cf3531933"
            },
            "outputs": [],
            "execution_count": null
        },
        {
            "cell_type": "markdown",
            "source": [
                "Look at log file size and usage, along with the log reuse wait description for the current database\n",
                "\n",
                "[sys.dm\\_db\\_log\\_space\\_usage (Transact-SQL)](https://bit.ly/2H4MQw9)"
            ],
            "metadata": {
                "azdata_cell_guid": "7cdfeea8-342d-4fe9-b178-5f281a8c8b93"
            },
            "attachments": {}
        },
        {
            "cell_type": "markdown",
            "source": [
                "## Status of last VLF for current database (Last VLF Status)\n",
                "\n",
                "### <span style=\"color: rgb(0, 204, 153)\">Run the Code block below</span>\n",
                "\n",
                "1. Click the run icon below\n",
                "2. If ADS prompts you for a connection, enter the correct SQL Server and authentication account\n",
                "3. View the results of the query by scrolling down to the results set"
            ],
            "metadata": {
                "azdata_cell_guid": "520d9098-b30c-478d-be7c-d914222c0eaf"
            },
            "attachments": {}
        },
        {
            "cell_type": "code",
            "source": [
                "-- Status of last VLF for current database (Last VLF Status)\r\n",
                "SELECT TOP(1) DB_NAME(li.database_id) AS [Database Name], li.[file_id],\r\n",
                "              li.vlf_size_mb, li.vlf_sequence_number, li.vlf_active, li.vlf_status\r\n",
                "FROM sys.dm_db_log_info(DB_ID()) AS li \r\n",
                "ORDER BY vlf_sequence_number DESC OPTION (RECOMPILE);"
            ],
            "metadata": {
                "azdata_cell_guid": "0bd488bb-b5e1-4ffb-b596-91621a7e9df8"
            },
            "outputs": [],
            "execution_count": null
        },
        {
            "cell_type": "markdown",
            "source": [
                "Determine whether you will be able to shrink the transaction log file\n",
                "\n",
                "vlf\\_status Values\n",
                "\n",
                "- 0 is inactive\n",
                "- 1 is initialized but unused\n",
                "- 2 is active\n",
                "\n",
                "[sys.dm\\_db\\_log\\_info (Transact-SQL)](https://bit.ly/2EQUU1v)"
            ],
            "metadata": {
                "azdata_cell_guid": "913f0ea4-586d-439a-8d14-8dbbe3b60717"
            },
            "attachments": {}
        },
        {
            "cell_type": "markdown",
            "source": [
                "## Get database scoped configuration values for current database (Database-scoped Configurations)\n",
                "\n",
                "### <span style=\"color: rgb(0, 204, 153)\">Run the Code block below</span>\n",
                "\n",
                "1. Click the run icon below\n",
                "2. If ADS prompts you for a connection, enter the correct SQL Server and authentication account\n",
                "3. View the results of the query by scrolling down to the results set"
            ],
            "metadata": {
                "azdata_cell_guid": "006482c1-99e3-4f64-a502-0d91f5f6e585"
            },
            "attachments": {}
        },
        {
            "cell_type": "code",
            "source": [
                "-- Get database scoped configuration values for current database (Database-scoped Configurations)\r\n",
                "SELECT configuration_id, name, [value] AS [value_for_primary], value_for_secondary\r\n",
                "FROM sys.database_scoped_configurations WITH (NOLOCK) OPTION (RECOMPILE);"
            ],
            "metadata": {
                "azdata_cell_guid": "e874ca5e-0267-4649-98f4-8d63e5d20030"
            },
            "outputs": [],
            "execution_count": null
        },
        {
            "cell_type": "markdown",
            "source": [
                "This lets you see the value of these new properties for the current database\n",
                "\n",
                "Clear plan cache for current database:\n",
                "\n",
                "- `ALTER DATABASE SCOPED CONFIGURATION CLEAR PROCEDURE_CACHE;`\n",
                "\n",
                "### <span style=\"color: rgb(0, 204, 153)\">Run the Code block below</span>\n",
                "\n",
                "1. Click the run icon below\n",
                "2. If ADS prompts you for a connection, enter the correct SQL Server and authentication account\n",
                "3. View the results of the query by scrolling down to the results set"
            ],
            "metadata": {
                "azdata_cell_guid": "e2e2d8fa-edaa-42b3-bd18-6da68189f78d"
            },
            "attachments": {}
        },
        {
            "cell_type": "code",
            "source": [
                "ALTER DATABASE SCOPED CONFIGURATION CLEAR PROCEDURE_CACHE;"
            ],
            "metadata": {
                "azdata_cell_guid": "8e35ca5b-1c0e-4302-8576-3b6b28d77af4"
            },
            "outputs": [],
            "execution_count": null
        },
        {
            "cell_type": "markdown",
            "source": [
                "[ALTER DATABASE SCOPED CONFIGURATION (Transact-SQL)](https://bit.ly/2sOH7nb)"
            ],
            "metadata": {
                "azdata_cell_guid": "e912fadc-5180-458d-a3a1-67c5311a4324"
            },
            "attachments": {}
        },
        {
            "cell_type": "markdown",
            "source": [
                "## I/O Statistics by file for the current database (IO Stats By File)\n",
                "\n",
                "### <span style=\"color: rgb(0, 204, 153)\">Run the Code block below</span>\n",
                "\n",
                "1. Click the run icon below\n",
                "2. If ADS prompts you for a connection, enter the correct SQL Server and authentication account\n",
                "3. View the results of the query by scrolling down to the results set"
            ],
            "metadata": {
                "azdata_cell_guid": "ae39784a-448b-4b79-8b30-69acfcca41ae"
            },
            "attachments": {}
        },
        {
            "cell_type": "code",
            "source": [
                "-- I/O Statistics by file for the current database  (IO Stats By File)\r\n",
                "SELECT DB_NAME(DB_ID()) AS [Database Name], df.name AS [Logical Name], vfs.[file_id], df.type_desc,\r\n",
                "df.physical_name AS [Physical Name], CAST(vfs.size_on_disk_bytes/1048576.0 AS DECIMAL(10, 2)) AS [Size on Disk (MB)],\r\n",
                "vfs.num_of_reads, vfs.num_of_writes, vfs.io_stall_read_ms, vfs.io_stall_write_ms,\r\n",
                "CAST(100. * vfs.io_stall_read_ms/(vfs.io_stall_read_ms + vfs.io_stall_write_ms) AS DECIMAL(10,1)) AS [IO Stall Reads Pct],\r\n",
                "CAST(100. * vfs.io_stall_write_ms/(vfs.io_stall_write_ms + vfs.io_stall_read_ms) AS DECIMAL(10,1)) AS [IO Stall Writes Pct],\r\n",
                "(vfs.num_of_reads + vfs.num_of_writes) AS [Writes + Reads], \r\n",
                "CAST(vfs.num_of_bytes_read/1048576.0 AS DECIMAL(10, 2)) AS [MB Read], \r\n",
                "CAST(vfs.num_of_bytes_written/1048576.0 AS DECIMAL(10, 2)) AS [MB Written],\r\n",
                "CAST(100. * vfs.num_of_reads/(vfs.num_of_reads + vfs.num_of_writes) AS DECIMAL(10,1)) AS [# Reads Pct],\r\n",
                "CAST(100. * vfs.num_of_writes/(vfs.num_of_reads + vfs.num_of_writes) AS DECIMAL(10,1)) AS [# Write Pct],\r\n",
                "CAST(100. * vfs.num_of_bytes_read/(vfs.num_of_bytes_read + vfs.num_of_bytes_written) AS DECIMAL(10,1)) AS [Read Bytes Pct],\r\n",
                "CAST(100. * vfs.num_of_bytes_written/(vfs.num_of_bytes_read + vfs.num_of_bytes_written) AS DECIMAL(10,1)) AS [Written Bytes Pct]\r\n",
                "FROM sys.dm_io_virtual_file_stats(DB_ID(), NULL) AS vfs\r\n",
                "INNER JOIN sys.database_files AS df WITH (NOLOCK)\r\n",
                "ON vfs.[file_id]= df.[file_id] OPTION (RECOMPILE);"
            ],
            "metadata": {
                "azdata_cell_guid": "f980efa0-b023-4f4b-a28d-f497a6d3cb5e"
            },
            "outputs": [],
            "execution_count": null
        },
        {
            "cell_type": "markdown",
            "source": [
                "This helps you characterize your workload better from an I/O perspective for this database\n",
                "\n",
                "- It helps you determine whether you have an OLTP or DW/DSS type of workload"
            ],
            "metadata": {
                "azdata_cell_guid": "b5f3abd4-bdef-4288-a7da-35183cd53b1f"
            },
            "attachments": {}
        },
        {
            "cell_type": "markdown",
            "source": [
                "## Get most frequently executed queries for this database (Query Execution Counts)\n",
                "\n",
                "### <span style=\"color: rgb(0, 204, 153)\">Run the Code block below</span>\n",
                "\n",
                "1. Click the run icon below\n",
                "2. If ADS prompts you for a connection, enter the correct SQL Server and authentication account\n",
                "3. View the results of the query by scrolling down to the results set"
            ],
            "metadata": {
                "azdata_cell_guid": "4f9f7152-bee7-427f-ba86-7d33443e8a66"
            },
            "attachments": {}
        },
        {
            "cell_type": "code",
            "source": [
                "-- Get most frequently executed queries for this database (Query Execution Counts)\r\n",
                "SELECT TOP(50) LEFT(t.[text], 50) AS [Short Query Text], qs.execution_count AS [Execution Count],\r\n",
                "qs.total_logical_reads AS [Total Logical Reads],\r\n",
                "qs.total_logical_reads/qs.execution_count AS [Avg Logical Reads],\r\n",
                "qs.total_worker_time AS [Total Worker Time],\r\n",
                "qs.total_worker_time/qs.execution_count AS [Avg Worker Time], \r\n",
                "qs.total_elapsed_time AS [Total Elapsed Time],\r\n",
                "qs.total_elapsed_time/qs.execution_count AS [Avg Elapsed Time],\r\n",
                "CASE WHEN CONVERT(nvarchar(max), qp.query_plan) COLLATE Latin1_General_BIN2 LIKE N'%<MissingIndexes>%' THEN 1 ELSE 0 END AS [Has Missing Index],\r\n",
                "qs.creation_time AS [Creation Time]\r\n",
                "--,t.[text] AS [Complete Query Text], qp.query_plan AS [Query Plan] -- uncomment out these columns if not copying results to Excel\r\n",
                "FROM sys.dm_exec_query_stats AS qs WITH (NOLOCK)\r\n",
                "CROSS APPLY sys.dm_exec_sql_text(plan_handle) AS t \r\n",
                "CROSS APPLY sys.dm_exec_query_plan(plan_handle) AS qp \r\n",
                "WHERE t.dbid = DB_ID()\r\n",
                "ORDER BY qs.execution_count DESC OPTION (RECOMPILE);"
            ],
            "metadata": {
                "azdata_cell_guid": "d354fe71-6c16-4b74-a044-52f11854cfc9"
            },
            "outputs": [],
            "execution_count": null
        },
        {
            "cell_type": "markdown",
            "source": [
                "Tells you which cached queries are called the most often\n",
                "\n",
                "- This helps you characterize and baseline your workload\n",
                "- It also helps you find possible caching opportunities"
            ],
            "metadata": {
                "azdata_cell_guid": "a87103f3-488d-4548-a75f-654d863320ee"
            },
            "attachments": {}
        },
        {
            "cell_type": "markdown",
            "source": [
                "## Get lock waits for current database (Lock Waits)\n",
                "\n",
                "### <span style=\"color: rgb(0, 204, 153)\">Run the Code block below</span>\n",
                "\n",
                "1. Click the run icon below\n",
                "2. If ADS prompts you for a connection, enter the correct SQL Server and authentication account\n",
                "3. View the results of the query by scrolling down to the results set"
            ],
            "metadata": {
                "azdata_cell_guid": "4e881b05-be14-4ca8-9c09-edf3685bd0b3"
            },
            "attachments": {}
        },
        {
            "cell_type": "code",
            "source": [
                "-- Get lock waits for current database (Lock Waits)\r\n",
                "SELECT o.name AS [table_name], i.name AS [index_name], ios.index_id, ios.partition_number,\r\n",
                "\t\tSUM(ios.row_lock_wait_count) AS [total_row_lock_waits], \r\n",
                "\t\tSUM(ios.row_lock_wait_in_ms) AS [total_row_lock_wait_in_ms],\r\n",
                "\t\tSUM(ios.page_lock_wait_count) AS [total_page_lock_waits],\r\n",
                "\t\tSUM(ios.page_lock_wait_in_ms) AS [total_page_lock_wait_in_ms],\r\n",
                "\t\tSUM(ios.page_lock_wait_in_ms)+ SUM(row_lock_wait_in_ms) AS [total_lock_wait_in_ms]\r\n",
                "FROM sys.dm_db_index_operational_stats(DB_ID(), NULL, NULL, NULL) AS ios\r\n",
                "INNER JOIN sys.objects AS o WITH (NOLOCK)\r\n",
                "ON ios.[object_id] = o.[object_id]\r\n",
                "INNER JOIN sys.indexes AS i WITH (NOLOCK)\r\n",
                "ON ios.[object_id] = i.[object_id] \r\n",
                "AND ios.index_id = i.index_id\r\n",
                "WHERE o.[object_id] > 100\r\n",
                "GROUP BY o.name, i.name, ios.index_id, ios.partition_number\r\n",
                "HAVING SUM(ios.page_lock_wait_in_ms)+ SUM(row_lock_wait_in_ms) > 0\r\n",
                "ORDER BY total_lock_wait_in_ms DESC OPTION (RECOMPILE);"
            ],
            "metadata": {
                "azdata_cell_guid": "9e67fe14-5ebf-46a5-b8d2-c556cc15dfc9"
            },
            "outputs": [],
            "execution_count": null
        },
        {
            "cell_type": "markdown",
            "source": [
                "This query is helpful for troubleshooting blocking and deadlocking issues"
            ],
            "metadata": {
                "azdata_cell_guid": "7ba049ad-5821-4680-a6e5-f42a28deef45"
            },
            "attachments": {}
        },
        {
            "cell_type": "markdown",
            "source": [
                "## Look at UDF execution statistics (UDF Statistics)\n",
                "\n",
                "### <span style=\"color: rgb(0, 204, 153)\">Run the Code block below</span>\n",
                "\n",
                "1. Click the run icon below\n",
                "2. If ADS prompts you for a connection, enter the correct SQL Server and authentication account\n",
                "3. View the results of the query by scrolling down to the results set"
            ],
            "metadata": {
                "azdata_cell_guid": "98069eee-d7e1-4a45-a9aa-c28b3f5781e9"
            },
            "attachments": {}
        },
        {
            "cell_type": "code",
            "source": [
                "-- Look at UDF execution statistics (UDF Statistics)\r\n",
                "SELECT OBJECT_NAME(object_id) AS [Function Name], execution_count,\r\n",
                "\t   total_worker_time, total_logical_reads, total_physical_reads, total_elapsed_time, \r\n",
                "\t   total_elapsed_time/execution_count AS [avg_elapsed_time],\r\n",
                "\t   FORMAT(cached_time, 'yyyy-MM-dd HH:mm:ss', 'en-US') AS [Plan Cached Time]\r\n",
                "FROM sys.dm_exec_function_stats WITH (NOLOCK) \r\n",
                "WHERE database_id = DB_ID()\r\n",
                "ORDER BY total_worker_time DESC OPTION (RECOMPILE); "
            ],
            "metadata": {
                "azdata_cell_guid": "97547372-3790-4a53-aad0-7fd0e0f9f079"
            },
            "outputs": [],
            "execution_count": null
        },
        {
            "cell_type": "markdown",
            "source": [
                "New for SQL Server 2016\n",
                "\n",
                "- Helps you investigate scalar UDF performance issues\n",
                "- Does not return information for table valued functions\n",
                "\n",
                "[sys.dm\\_exec\\_function\\_stats (Transact-SQL)](https://bit.ly/2q1Q6BM)"
            ],
            "metadata": {
                "azdata_cell_guid": "545db8f1-7973-4cdb-96c2-dfe32946d1b9"
            },
            "attachments": {}
        },
        {
            "cell_type": "markdown",
            "source": [
                "## Determine which scalar UDFs are in-lineable (Inlineable UDFs)\n",
                "\n",
                "### <span style=\"color: rgb(0, 204, 153)\">Run the Code block below</span>\n",
                "\n",
                "1. Click the run icon below\n",
                "2. If ADS prompts you for a connection, enter the correct SQL Server and authentication account\n",
                "3. View the results of the query by scrolling down to the results set"
            ],
            "metadata": {
                "azdata_cell_guid": "bc22e911-4b9d-43ec-829d-1be1e13a6342"
            },
            "attachments": {}
        },
        {
            "cell_type": "code",
            "source": [
                "-- Determine which scalar UDFs are in-lineable (Inlineable UDFs)\r\n",
                "SELECT OBJECT_NAME(m.object_id) AS [Function Name], is_inlineable, inline_type\r\n",
                "FROM sys.sql_modules AS m WITH (NOLOCK) \r\n",
                "LEFT OUTER JOIN sys.dm_exec_function_stats AS efs WITH (NOLOCK)\r\n",
                "ON  m.object_id = efs.object_id\r\n",
                "WHERE efs.type_desc = N'SQL_SCALAR_FUNCTION'\r\n",
                "OPTION (RECOMPILE);"
            ],
            "metadata": {
                "azdata_cell_guid": "f3a4f881-7c14-486c-b27f-ea6f1db6c37a"
            },
            "outputs": [],
            "execution_count": null
        },
        {
            "cell_type": "markdown",
            "source": [
                "[Scalar UDF Inlining](https://bit.ly/2JU971M)\n",
                "\n",
                "[sys.sql\\_modules (Transact-SQL)](https://bit.ly/2Qt216S)"
            ],
            "metadata": {
                "azdata_cell_guid": "3b5588d8-3a2c-4e28-86e3-488c75c70c31"
            },
            "attachments": {}
        },
        {
            "cell_type": "markdown",
            "source": [
                "## Get QueryStore Options for this database (QueryStore Options)\n",
                "\n",
                "### <span style=\"color: rgb(0, 204, 153)\">Run the Code block below</span>\n",
                "\n",
                "1. Click the run icon below\n",
                "2. If ADS prompts you for a connection, enter the correct SQL Server and authentication account\n",
                "3. View the results of the query by scrolling down to the results set"
            ],
            "metadata": {
                "azdata_cell_guid": "0e31c5cf-b97a-42b8-a006-680683436122"
            },
            "attachments": {}
        },
        {
            "cell_type": "code",
            "source": [
                "-- Get QueryStore Options for this database (QueryStore Options)\r\n",
                "SELECT actual_state_desc, desired_state_desc, [interval_length_minutes],\r\n",
                "       current_storage_size_mb, [max_storage_size_mb], \r\n",
                "\t   query_capture_mode_desc, size_based_cleanup_mode_desc\r\n",
                "FROM sys.database_query_store_options WITH (NOLOCK) OPTION (RECOMPILE);"
            ],
            "metadata": {
                "azdata_cell_guid": "0bfcce56-8c06-4eb6-bc64-890e69c2de72"
            },
            "outputs": [],
            "execution_count": null
        },
        {
            "cell_type": "markdown",
            "source": [
                "New for SQL Server 2016\n",
                "\n",
                "- Requires that Query Store is enabled for this database\n",
                "- Make sure that the actual\\_state\\_desc is the same as desired\\_state\\_desc\n",
                "- Make sure that the current\\_storage\\_size\\_mb is less than the max\\_storage\\_size\\_mb\n",
                "\n",
                "[Tuning Workload Performance with Query Store](https://bit.ly/1kHSl7w)"
            ],
            "metadata": {
                "azdata_cell_guid": "a5b64cb8-15ab-4ab4-8c70-80de7003dd9b"
            },
            "attachments": {}
        },
        {
            "cell_type": "markdown",
            "source": [
                "## Get input buffer information for the current database (Input Buffer)\n",
                "\n",
                "### <span style=\"color: rgb(0, 204, 153)\">Run the Code block below</span>\n",
                "\n",
                "1. Click the run icon below\n",
                "2. If ADS prompts you for a connection, enter the correct SQL Server and authentication account\n",
                "3. View the results of the query by scrolling down to the results set"
            ],
            "metadata": {
                "azdata_cell_guid": "a3aa6c76-b24f-47d7-aec9-99eecb73d8b8"
            },
            "attachments": {}
        },
        {
            "cell_type": "code",
            "source": [
                "-- Get input buffer information for the current database (Input Buffer)\r\n",
                "SELECT es.session_id, DB_NAME(es.database_id) AS [Database Name],\r\n",
                "       es.login_time, es.cpu_time, es.logical_reads, es.memory_usage,\r\n",
                "       es.[status], ib.event_info AS [Input Buffer]\r\n",
                "FROM sys.dm_exec_sessions AS es WITH (NOLOCK)\r\n",
                "CROSS APPLY sys.dm_exec_input_buffer(es.session_id, NULL) AS ib\r\n",
                "WHERE es.database_id = DB_ID()\r\n",
                "AND es.session_id > 50\r\n",
                "AND es.session_id <> @@SPID OPTION (RECOMPILE);"
            ],
            "metadata": {
                "azdata_cell_guid": "88edc680-c527-47fc-8407-ac1b2ed1ddfe"
            },
            "outputs": [],
            "execution_count": null
        },
        {
            "cell_type": "markdown",
            "source": [
                "Gives you input buffer information from all non-system sessions for the current database\n",
                "\n",
                "- Replaces `DBCC INPUTBUFFER`\n",
                "\n",
                "[New DMF for retrieving input buffer in SQL Serve](https://bit.ly/2uHKMbz)r\n",
                "\n",
                "[sys.dm\\_exec\\_input\\_buffer (Transact-SQL)](https://bit.ly/2J5Hf9q)"
            ],
            "metadata": {
                "azdata_cell_guid": "38b6aa5e-0f39-472c-804a-c51161961d4e"
            },
            "attachments": {}
        },
        {
            "cell_type": "markdown",
            "source": [
                "## Get database automatic tuning options (Automatic Tuning Options)\n",
                "\n",
                "### <span style=\"color: rgb(0, 204, 153)\">Run the Code block below</span>\n",
                "\n",
                "1. Click the run icon below\n",
                "2. If ADS prompts you for a connection, enter the correct SQL Server and authentication account\n",
                "3. View the results of the query by scrolling down to the results set"
            ],
            "metadata": {
                "azdata_cell_guid": "6ede47c3-76da-4fb4-a239-7a5e0069cc08"
            },
            "attachments": {}
        },
        {
            "cell_type": "code",
            "source": [
                "-- Get database automatic tuning options (Automatic Tuning Options)\r\n",
                "SELECT [name], desired_state_desc, actual_state_desc, reason_desc\r\n",
                "FROM sys.database_automatic_tuning_options WITH (NOLOCK)\r\n",
                "OPTION (RECOMPILE);"
            ],
            "metadata": {
                "azdata_cell_guid": "8076eb89-cfd7-453f-9158-e9f1d56a7cef"
            },
            "outputs": [],
            "execution_count": null
        },
        {
            "cell_type": "markdown",
            "source": [
                "[sys.database\\_automatic\\_tuning\\_options (Transact-SQL)](https://bit.ly/2FHhLkL)"
            ],
            "metadata": {
                "azdata_cell_guid": "68868763-63db-4f96-ae74-6c1569af1f7b"
            },
            "attachments": {}
        },
        {
            "cell_type": "markdown",
            "source": [
                "## Look at recent Full backups for the current database (Recent Full Backups)\n",
                "\n",
                "### <span style=\"color: rgb(0, 204, 153)\">Run the Code block below</span>\n",
                "\n",
                "1. Click the run icon below\n",
                "2. If ADS prompts you for a connection, enter the correct SQL Server and authentication account\n",
                "3. View the results of the query by scrolling down to the results set"
            ],
            "metadata": {
                "azdata_cell_guid": "d25ec12b-3163-41f1-8c02-2a8ecb8ceccf"
            },
            "attachments": {}
        },
        {
            "cell_type": "code",
            "source": [
                "-- Look at recent Full backups for the current database (Recent Full Backups)\r\n",
                "SELECT TOP (30) bs.machine_name, bs.server_name, bs.database_name AS [Database Name], bs.recovery_model,\r\n",
                "CONVERT (BIGINT, bs.backup_size / 1048576 ) AS [Uncompressed Backup Size (MB)],\r\n",
                "CONVERT (BIGINT, bs.compressed_backup_size / 1048576 ) AS [Compressed Backup Size (MB)],\r\n",
                "CONVERT (NUMERIC (20,2), (CONVERT (FLOAT, bs.backup_size) /\r\n",
                "CONVERT (FLOAT, bs.compressed_backup_size))) AS [Compression Ratio], bs.has_backup_checksums, bs.is_copy_only, bs.encryptor_type,\r\n",
                "DATEDIFF (SECOND, bs.backup_start_date, bs.backup_finish_date) AS [Backup Elapsed Time (sec)],\r\n",
                "bs.backup_finish_date AS [Backup Finish Date], bmf.physical_device_name AS [Backup Location], bmf.physical_block_size\r\n",
                "FROM msdb.dbo.backupset AS bs WITH (NOLOCK)\r\n",
                "INNER JOIN msdb.dbo.backupmediafamily AS bmf WITH (NOLOCK)\r\n",
                "ON bs.media_set_id = bmf.media_set_id  \r\n",
                "WHERE bs.database_name = DB_NAME(DB_ID())\r\n",
                "AND bs.[type] = 'D' -- Change to L if you want Log backups\r\n",
                "ORDER BY bs.backup_finish_date DESC OPTION (RECOMPILE);"
            ],
            "metadata": {
                "azdata_cell_guid": "b8aa39a1-a5e8-47fb-845c-7219ae73665a"
            },
            "outputs": [],
            "execution_count": null
        },
        {
            "cell_type": "markdown",
            "source": [
                "Things to look at:\n",
                "\n",
                "- Are your backup sizes and times changing over time?\n",
                "- Are you using backup compression?\n",
                "- Are you using backup checksums?\n",
                "- Are you doing copy\\_only backups?\n",
                "- Are you doing encrypted backups?\n",
                "- Have you done any backup tuning with striped backups, or changing the parameters of the backup command?\n",
                "- Where are the backups going to?\n",
                "\n",
                "In SQL Server 2016, native SQL Server backup compression [actually works much better](https://bit.ly/28Rpb2x) with databases that are using TDE than in previous versions"
            ],
            "metadata": {
                "azdata_cell_guid": "d32c3c16-fa3c-4232-956c-ce841a1e9a3e"
            },
            "attachments": {}
        },
        {
            "cell_type": "markdown",
            "source": [
                "## Retrieve last database integrity check (DBCC CHECKDB)\n",
                "\n",
                "### <span style=\"color: rgb(0, 204, 153)\">Run the Code block below</span>\n",
                "\n",
                "1. Click the run icon below\n",
                "2. If ADS prompts you for a connection, enter the correct SQL Server and authentication account\n",
                "3. View the results of the query by scrolling down to the results set"
            ],
            "metadata": {
                "azdata_cell_guid": "ff6f4085-2967-4b9a-bea2-152e84a297ef"
            },
            "attachments": {}
        },
        {
            "cell_type": "code",
            "source": [
                "-- Retrieve last integrity check date\r\n",
                "DECLARE @SQLcmd nvarchar(MAX)\r\n",
                "    IF CAST((SERVERPROPERTY('productmajorversion')) AS smallint) < 12 --For SQL Server 2012 and below, use DBCC DBINFO to retrieve last good CheckDBstatus\r\n",
                "BEGIN\r\n",
                "        SET @SQLcmd =\r\n",
                "        'SET NOCOUNT ON\r\n",
                "        DECLARE @DatabaseName nvarchar(512)\r\n",
                "        DECLARE @SQLcmd nvarchar(MAX)\r\n",
                "        DECLARE @LastCheckDBdays smallint\r\n",
                "        SET @LastCheckDBdays = 7\r\n",
                "        --\r\n",
                "        --\r\n",
                "        IF OBJECT_ID(''tempdb.dbo.#Databases__'') IS NOT NULL\r\n",
                "            DROP TABLE #Databases__\r\n",
                "        --\r\n",
                "        IF OBJECT_ID(''tempdb.dbo.#LastDBCC__'') IS NOT NULL\r\n",
                "            DROP TABLE #LastDBCC__\r\n",
                "        --\r\n",
                "        IF OBJECT_ID(''tempdb.dbo.#DBinfoResults__'') IS NOT NULL\r\n",
                "            DROP TABLE #DBinfoResults__\r\n",
                "\r\n",
                "        --\r\n",
                "        CREATE TABLE #Databases__ (DatabaseName nvarchar(512) NULL,isProcessed BIT)\r\n",
                "        CREATE TABLE #DBinfoResults__ (ParentObject nvarchar(512),[Object] nvarchar(1000),[Field] nvarchar(512),[Value] nvarchar(1000))\r\n",
                "        CREATE TABLE #LastDBCC__ (DatabaseName nvarchar(512),LastGoodCheckDB datetime,CheckDBstatus nvarchar(8))\r\n",
                "        --\r\n",
                "            INSERT INTO #Databases__ (DatabaseName,isProcessed)\r\n",
                "            SELECT\r\n",
                "                [name],\r\n",
                "                0 AS isProcessed\r\n",
                "            FROM\r\n",
                "                    sys.databases\r\n",
                "            WHERE\r\n",
                "                    [name] NOT IN (''tempdb'')\r\n",
                "        --\r\n",
                "            WHILE EXISTS (SELECT TOP 1 DatabaseName FROM #Databases__ WHERE isProcessed = 0)\r\n",
                "                BEGIN\r\n",
                "                    SET @DatabaseName = (SELECT TOP 1 DatabaseName FROM #Databases__ WHERE isProcessed = 0)\r\n",
                "                    SET @SQLcmd = ''\r\n",
                "                        INSERT INTO #DBinfoResults__ ([ParentObject],[Object],[Field],[Value])\r\n",
                "                        EXEC(''DBCC DBINFO([''+@DatabaseName+'']) WITH TABLERESULTS'')''\r\n",
                "                -- PRINT @SQLcmd\r\n",
                "                EXEC (@SQLcmd)\r\n",
                "                    --\r\n",
                "                    INSERT INTO #LastDBCC__ (DatabaseName,LastGoodCheckDB,CheckDBstatus)\r\n",
                "                        SELECT @DatabaseName AS DatabaseName,[Value] AS LastGoodCheckDB, NULL AS CheckDBstatus\r\n",
                "                        FROM #DBinfoResults__ \r\n",
                "                        WHERE [Field] = ''dbi_dbccLastKnownGood''\r\n",
                "                    --\r\n",
                "                    TRUNCATE TABLE #DBinfoResults__\r\n",
                "\t\t\t\t\t--\r\n",
                "                    UPDATE #Databases__ SET isProcessed = 1 WHERE DatabaseName = @DatabaseName\r\n",
                "            END\r\n",
                "            --\r\n",
                "            -- Return results\r\n",
                "            --\r\n",
                "                SELECT\r\n",
                "                DatabaseName,\r\n",
                "                LastGoodCheckDB,\r\n",
                "                            CASE\r\n",
                "                                WHEN [LastGoodCheckDB] < DATEADD(DD,@LastCheckDBdays,CURRENT_TIMESTAMP) THEN ''CRITICAL''\r\n",
                "                                WHEN [LastGoodCheckDB] > DATEADD(DD,@LastCheckDBdays,CURRENT_TIMESTAMP) THEN ''GOOD''\r\n",
                "                            END AS CheckDBstatus \r\n",
                "                FROM\r\n",
                "                    #LastDBCC__\r\n",
                "            --\r\n",
                "            -- Cleanup\r\n",
                "            --\r\n",
                "                IF OBJECT_ID(''tempdb.dbo.#Databases__'') IS NOT NULL\r\n",
                "                    DROP TABLE #Databases__\r\n",
                "            --\r\n",
                "                IF OBJECT_ID(''tempdb.dbo.#DBinfoResults__'') IS NOT NULL\r\n",
                "                    DROP TABLE #DBinfoResults__\r\n",
                "            --\r\n",
                "                IF OBJECT_ID(''tempdb.dbo.#LastDBCC__'') IS NOT NULL\r\n",
                "                    DROP TABLE #LastDBCC__'\r\n",
                "          -- PRINT @SQLcmd\r\n",
                "    END\r\n",
                "ELSE\r\n",
                "    BEGIN\r\n",
                "        SET @SQLcmd = \r\n",
                "            'SET NOCOUNT ON\r\n",
                "            DECLARE @SQLcmd nvarchar(MAX)\r\n",
                "            DECLARE @LastCheckDBdays smallint\r\n",
                "            SET @LastCheckDBdays = 7\r\n",
                "            --\r\n",
                "            IF OBJECT_ID(''tempdb.dbo.#StatementResults'') IS NOT NULL\r\n",
                "                DROP TABLE #StatementResults\r\n",
                "            IF OBJECT_ID(''tempdb.dbo.#LastGoodCheckDBstatements'') IS NOT NULL\r\n",
                "                DROP TABLE #LastGoodCheckDBstatements\r\n",
                "                --\r\n",
                "                CREATE TABLE #StatementResults (DatabaseName nvarchar(128) NULL, LastDBCCtime sql_variant NULL)\r\n",
                "                --\r\n",
                "            SELECT\r\n",
                "                    ''INSERT INTO #StatementResults (DatabaseName, LastDBCCtime) SELECT ''''''+[name]+'''''' AS DatabaseName, DATABASEPROPERTYEX (''''''+[name]+'''''' , ''''LastGoodCheckDbTime'''')'' AS LastGoodCheckDBstatement\r\n",
                "                    ,0 AS isProcessed\r\n",
                "                INTO\r\n",
                "                    #LastGoodCheckDBstatements\r\n",
                "                FROM\r\n",
                "                    sys.databases\r\n",
                "                WHERE\r\n",
                "                    [name] NOT IN (''tempdb'')\r\n",
                "\r\n",
                "                    WHILE EXISTS(SELECT TOP 1 LastGoodCheckDBstatement FROM #LastGoodCheckDBstatements WHERE isProcessed = 0)\r\n",
                "            BEGIN\r\n",
                "                    SET @SQLcmd = (SELECT TOP 1 LastGoodCheckDBstatement FROM #LastGoodCheckDBstatements WHERE isProcessed = 0)\r\n",
                "                    EXEC sp_executeSQL @SQLCMD\r\n",
                "                --\r\n",
                "                UPDATE #LastGoodCheckDBstatements SET isProcessed = 1 WHERE LastGoodCheckDBstatement = @SQLcmd\r\n",
                "\r\n",
                "            END\t\r\n",
                "            --\r\n",
                "            -- Results\r\n",
                "            --\r\n",
                "                SELECT\r\n",
                "                    DatabaseName,\r\n",
                "                    LastDBCCtime AS LastGoodCheckDB,\r\n",
                "                        CASE\r\n",
                "                            WHEN LastDBCCtime <  DATEADD(DD,@LastCheckDBdays,CURRENT_TIMESTAMP) THEN ''CRITICAL''\r\n",
                "                            WHEN LastDBCCtime >  DATEADD(DD,@LastCheckDBdays,CURRENT_TIMESTAMP) THEN ''GOOD''\r\n",
                "                        END AS CheckDBstatus\r\n",
                "                FROM\r\n",
                "                    #StatementResults'\r\n",
                "    END\r\n",
                "            EXEC (@SQLcmd)\r\n",
                "            --PRINT @SQLcmd\r\n",
                ""
            ],
            "metadata": {
                "azdata_cell_guid": "42eefb99-5950-457c-a7cf-12c4b70f51ce"
            },
            "outputs": [],
            "execution_count": null
        }
    ]
}