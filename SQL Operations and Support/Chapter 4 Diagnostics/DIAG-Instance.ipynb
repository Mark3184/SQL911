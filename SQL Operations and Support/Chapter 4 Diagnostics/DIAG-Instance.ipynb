{
    "metadata": {
        "kernelspec": {
            "name": "SQL",
            "display_name": "SQL",
            "language": "sql"
        },
        "language_info": {
            "name": "sql",
            "version": ""
        },
        "extensions": {
            "azuredatastudio": {
                "version": 1,
                "views": []
            }
        }
    },
    "nbformat_minor": 2,
    "nbformat": 4,
    "cells": [
        {
            "cell_type": "markdown",
            "source": [
                "  ![CH4-ADS.png](.\\Media\\CH4-ADS.png)"
            ],
            "metadata": {
                "azdata_cell_guid": "8a4fe986-eb72-4be8-bab8-4dbd51627777",
                "extensions": {
                    "azuredatastudio": {
                        "views": []
                    }
                }
            },
            "attachments": {}
        },
        {
            "cell_type": "markdown",
            "source": [
                "# Instance-Level Queries\r\n",
                "\r\n",
                "For these queries, it doesn't matter which database you are connected to\r\n",
                "\r\n",
                "### <span style=\"color:rgb(0, 204, 153);\">Run the Code block below</span>\r\n",
                "\r\n",
                "1. Click the run icon below\r\n",
                "2. If ADS prompts you for a connection, enter the correct SQL Server and authentication account\r\n",
                "3. View the results of the query by scrolling down to the results set"
            ],
            "metadata": {
                "azdata_cell_guid": "5b6ac5cd-cee9-4578-9504-08b1fa55c308",
                "extensions": {
                    "azuredatastudio": {
                        "views": []
                    }
                }
            }
        },
        {
            "cell_type": "markdown",
            "source": [
                "## SQL and OS Version information for current instance (Version Info)"
            ],
            "metadata": {
                "azdata_cell_guid": "30d70523-a17f-4cca-83f4-44c25c6cc12d",
                "extensions": {
                    "azuredatastudio": {
                        "views": []
                    }
                }
            },
            "attachments": {}
        },
        {
            "cell_type": "code",
            "source": [
                "-- SQL and OS Version information for current instance (Version Info)\r\n",
                "SELECT @@SERVERNAME AS [Server Name], @@VERSION AS [SQL Server and OS Version Info];"
            ],
            "metadata": {
                "azdata_cell_guid": "56d600ed-93fd-4fff-8d3b-c0dfdf033fbf",
                "tags": [],
                "extensions": {
                    "azuredatastudio": {
                        "views": []
                    }
                }
            },
            "outputs": [],
            "execution_count": null
        },
        {
            "cell_type": "markdown",
            "source": [
                "Useful links related to the above query:\r\n",
                "* [SQL Server 2019 build versions](https://bit.ly/2qjKwOl)\r\n",
                "* [Performance and Stability Fixes in SQL Server 2019 CU Builds](https://bit.ly/3712NQQ)\r\n",
                "* [Download and install Azure Data Studio](https://bit.ly/2vgke1A)"
            ],
            "metadata": {
                "azdata_cell_guid": "c67f68fc-4b1a-41b5-968c-80ef608bf9b3",
                "extensions": {
                    "azuredatastudio": {
                        "views": []
                    }
                }
            }
        },
        {
            "cell_type": "markdown",
            "source": [
                "## Get socket, physical core and logical core count from the SQL Server Error log. (Core Counts)\r\n",
                "\r\n",
                "### <span style=\"color:rgb(0, 204, 153);\">Run the Code block below</span>\r\n",
                "\r\n",
                "1. Click the run icon below\r\n",
                "2. If ADS prompts you for a connection, enter the correct SQL Server and authentication account\r\n",
                "3. View the results of the query by scrolling down to the results set"
            ],
            "metadata": {
                "azdata_cell_guid": "77f88c89-ed5e-4e85-b862-3c0de145bc42",
                "extensions": {
                    "azuredatastudio": {
                        "views": []
                    }
                }
            },
            "attachments": {}
        },
        {
            "cell_type": "code",
            "source": [
                "-- Get socket, physical core and logical core count from the SQL Server Error log. (Core Counts)\r\n",
                "-- This query might take a few seconds depending on the size of your error log\r\n",
                "EXEC sys.xp_readerrorlog 0, 1, N'detected', N'socket';"
            ],
            "metadata": {
                "azdata_cell_guid": "671b21d0-7cd1-48df-b99b-2a0fbd896519",
                "tags": [],
                "extensions": {
                    "azuredatastudio": {
                        "views": []
                    }
                }
            },
            "outputs": [],
            "execution_count": null
        },
        {
            "cell_type": "markdown",
            "source": [
                "- This can help you determine the exact core counts used by SQL Server and whether HT is enabled or not\r\n",
                "- It can also help you confirm your SQL Server licensing model\r\n",
                "- Be on the lookout for this message \"using 40 logical processors based on SQL Server licensing\" (when you have more than 40 logical cores) which means grandfathered Server/CAL licensing\r\n",
                "- This query will return no results if your error log has been recycled since the instance was last started\r\n",
                ""
            ],
            "metadata": {
                "azdata_cell_guid": "2f2f4bdf-13cc-4e6d-afd8-41e66e7b662e",
                "extensions": {
                    "azuredatastudio": {
                        "views": []
                    }
                }
            }
        },
        {
            "cell_type": "markdown",
            "source": [
                "## Get selected server properties (Server Properties)\r\n",
                "\r\n",
                "### <span style=\"color:rgb(0, 204, 153);\">Run the Code block below</span>\r\n",
                "\r\n",
                "1. Click the run icon below\r\n",
                "2. If ADS prompts you for a connection, enter the correct SQL Server and authentication account\r\n",
                "3. View the results of the query by scrolling down to the results set"
            ],
            "metadata": {
                "azdata_cell_guid": "be88592b-4048-4079-95ae-5cdf4dc3d565",
                "extensions": {
                    "azuredatastudio": {
                        "views": []
                    }
                }
            },
            "attachments": {}
        },
        {
            "cell_type": "code",
            "source": [
                "-- Get selected server properties (Server Properties)\r\n",
                "SELECT SERVERPROPERTY('MachineName') AS [MachineName], \r\n",
                "SERVERPROPERTY('ServerName') AS [ServerName],  \r\n",
                "SERVERPROPERTY('InstanceName') AS [Instance], \r\n",
                "SERVERPROPERTY('IsClustered') AS [IsClustered], \r\n",
                "SERVERPROPERTY('ComputerNamePhysicalNetBIOS') AS [ComputerNamePhysicalNetBIOS], \r\n",
                "SERVERPROPERTY('Edition') AS [Edition], \r\n",
                "SERVERPROPERTY('ProductLevel') AS [ProductLevel],\t\t\t\t-- What servicing branch (RTM/SP/CU)\r\n",
                "SERVERPROPERTY('ProductUpdateLevel') AS [ProductUpdateLevel],\t-- Within a servicing branch, what CU# is applied\r\n",
                "SERVERPROPERTY('ProductVersion') AS [ProductVersion],\r\n",
                "SERVERPROPERTY('ProductMajorVersion') AS [ProductMajorVersion], \r\n",
                "SERVERPROPERTY('ProductMinorVersion') AS [ProductMinorVersion], \r\n",
                "SERVERPROPERTY('ProductBuild') AS [ProductBuild], \r\n",
                "SERVERPROPERTY('ProductBuildType') AS [ProductBuildType],\t\t\t  -- Is this a GDR or OD hotfix (NULL if on a CU build)\r\n",
                "SERVERPROPERTY('ProductUpdateReference') AS [ProductUpdateReference], -- KB article number that is applicable for this build\r\n",
                "SERVERPROPERTY('ProcessID') AS [ProcessID],\r\n",
                "SERVERPROPERTY('Collation') AS [Collation], \r\n",
                "SERVERPROPERTY('IsFullTextInstalled') AS [IsFullTextInstalled], \r\n",
                "SERVERPROPERTY('IsIntegratedSecurityOnly') AS [IsIntegratedSecurityOnly],\r\n",
                "SERVERPROPERTY('FilestreamConfiguredLevel') AS [FilestreamConfiguredLevel],\r\n",
                "SERVERPROPERTY('IsHadrEnabled') AS [IsHadrEnabled], \r\n",
                "SERVERPROPERTY('HadrManagerStatus') AS [HadrManagerStatus],\r\n",
                "SERVERPROPERTY('InstanceDefaultDataPath') AS [InstanceDefaultDataPath],\r\n",
                "SERVERPROPERTY('InstanceDefaultLogPath') AS [InstanceDefaultLogPath],\r\n",
                "SERVERPROPERTY('BuildClrVersion') AS [Build CLR Version],\r\n",
                "SERVERPROPERTY('IsXTPSupported') AS [IsXTPSupported],\r\n",
                "SERVERPROPERTY('IsPolybaseInstalled') AS [IsPolybaseInstalled],\t\t\t\t\r\n",
                "SERVERPROPERTY('IsAdvancedAnalyticsInstalled') AS [IsRServicesInstalled],\r\n",
                "SERVERPROPERTY('IsTempdbMetadataMemoryOptimized') AS [IsTempdbMetadataMemoryOptimized];\t"
            ],
            "metadata": {
                "azdata_cell_guid": "fd8bc7f4-b027-4ce3-9adc-a05d7feb7988",
                "tags": [],
                "extensions": {
                    "azuredatastudio": {
                        "views": []
                    }
                }
            },
            "outputs": [],
            "execution_count": null
        },
        {
            "cell_type": "markdown",
            "source": [
                "This gives you a lot of useful information about your instance of SQL Server,\r\n",
                "such as the ProcessID for SQL Server and your collation\r\n",
                "> **Note:** Some columns will be NULL on older SQL Server builds\r\n",
                "\r\n",
                "`SERVERPROPERTY('IsTempdbMetadataMemoryOptimized')` is a new option for SQL Server 2019\r\n",
                "\r\n",
                "[SERVERPROPERTY (Transact-SQL)](https://bit.ly/2eeaXeI)\r\n",
                ""
            ],
            "metadata": {
                "azdata_cell_guid": "43366523-0a80-4f61-87c4-17aa7c38371e",
                "extensions": {
                    "azuredatastudio": {
                        "views": []
                    }
                }
            }
        },
        {
            "cell_type": "markdown",
            "source": [
                "## Get instance-level configuration values for instance (Configuration Values)\r\n",
                "\r\n",
                "### <span style=\"color:rgb(0, 204, 153);\">Run the Code block below</span>\r\n",
                "\r\n",
                "1. Click the run icon below\r\n",
                "2. If ADS prompts you for a connection, enter the correct SQL Server and authentication account\r\n",
                "3. View the results of the query by scrolling down to the results set"
            ],
            "metadata": {
                "azdata_cell_guid": "6f4b2c84-abac-4e11-b736-8fc4b56cd4ed",
                "extensions": {
                    "azuredatastudio": {
                        "views": []
                    }
                }
            },
            "attachments": {}
        },
        {
            "cell_type": "code",
            "source": [
                "-- Get instance-level configuration values for instance (Configuration Values)\r\n",
                "SELECT name, value, value_in_use, minimum, maximum, [description], is_dynamic, is_advanced\r\n",
                "FROM sys.configurations WITH (NOLOCK)\r\n",
                "ORDER BY name OPTION (RECOMPILE);"
            ],
            "metadata": {
                "azdata_cell_guid": "09293db1-9a77-4c48-92f1-c7d41894f933",
                "tags": [],
                "extensions": {
                    "azuredatastudio": {
                        "views": []
                    }
                }
            },
            "outputs": [],
            "execution_count": null
        },
        {
            "cell_type": "markdown",
            "source": [
                "**Focus on these settings:**\r\n",
                "- automatic soft-NUMA disabled (should be 0 in most cases)\r\n",
                "- backup checksum default (should be 1)\r\n",
                "- backup compression default (should be 1 in most cases)\r\n",
                "- clr enabled (only enable if it is needed)\r\n",
                "- cost threshold for parallelism (depends on your workload)\r\n",
                "- lightweight pooling (should be zero)\r\n",
                "- max degree of parallelism (depends on your workload and hardware)\r\n",
                "- max server memory (MB) (set to an appropriate value, not the default)\r\n",
                "- optimize for ad hoc workloads (should be 1)\r\n",
                "- priority boost (should be zero)\r\n",
                "- remote admin connections (should be 1)\r\n",
                "- tempdb metadata memory-optimized (0 by default, some workloads may benefit by enabling)\r\n",
                "\r\n",
                "[sys.configurations (Transact-SQL)](https://bit.ly/2HsyDZI)"
            ],
            "metadata": {
                "azdata_cell_guid": "1b2643f1-a51f-4979-bfd5-a4aeb0f2c64e",
                "extensions": {
                    "azuredatastudio": {
                        "views": []
                    }
                }
            }
        },
        {
            "cell_type": "markdown",
            "source": [
                "## Returns a list of all global trace flags that are enabled (Global Trace Flags)\r\n",
                "\r\n",
                "### <span style=\"color:rgb(0, 204, 153);\">Run the Code block below</span>\r\n",
                "\r\n",
                "1. Click the run icon below\r\n",
                "2. If ADS prompts you for a connection, enter the correct SQL Server and authentication account\r\n",
                "3. View the results of the query by scrolling down to the results set"
            ],
            "metadata": {
                "azdata_cell_guid": "178870c8-dd17-4674-9695-e0db5a6888a8",
                "extensions": {
                    "azuredatastudio": {
                        "views": []
                    }
                }
            },
            "attachments": {}
        },
        {
            "cell_type": "code",
            "source": [
                "-- Returns a list of all global trace flags that are enabled (Global Trace Flags)\r\n",
                "DBCC TRACESTATUS (-1);"
            ],
            "metadata": {
                "azdata_cell_guid": "8826e766-feea-48b3-9c92-6e0dfac14752",
                "tags": [],
                "extensions": {
                    "azuredatastudio": {
                        "views": []
                    }
                }
            },
            "outputs": [],
            "execution_count": null
        },
        {
            "cell_type": "markdown",
            "source": [
                "If no global trace flags are enabled, no results will be returned.\r\n",
                "It is very useful to know what global trace flags are currently enabled as part of the diagnostic process.\r\n",
                "\r\n",
                "Common trace flags that should be enabled in most cases:\r\n",
                "\r\n",
                "- **TF 3226** - [Supresses logging of successful database backup messages to the SQL Server Error Log](https://bit.ly/38zDNAK )\r\n",
                "- **TF 6534** - [Enables use of native code to improve performance with spatial data](https://bit.ly/2HrQUpU)       \r\n",
                "- **TF 7745** - [Prevents Query Store data from being written to disk in case of a failover or shutdown command](https://bit.ly/2GU69Km)\r\n",
                "\r\n",
                "[DBCC TRACEON - Trace Flags (Transact-SQL)](https://bit.ly/2FuSvPg)"
            ],
            "metadata": {
                "azdata_cell_guid": "141c6882-a3ce-4ec9-a132-6b2c8143b336",
                "extensions": {
                    "azuredatastudio": {
                        "views": []
                    }
                }
            }
        },
        {
            "cell_type": "markdown",
            "source": [
                "## SQL Server Process Address space info (Process Memory)\r\n",
                "\r\n",
                "### <span style=\"color:rgb(0, 204, 153);\">Run the Code block below</span>\r\n",
                "\r\n",
                "1. Click the run icon below\r\n",
                "2. If ADS prompts you for a connection, enter the correct SQL Server and authentication account\r\n",
                "3. View the results of the query by scrolling down to the results set"
            ],
            "metadata": {
                "azdata_cell_guid": "dd724a46-dfcc-4dcc-8cd7-b22b2a746688",
                "extensions": {
                    "azuredatastudio": {
                        "views": []
                    }
                }
            },
            "attachments": {}
        },
        {
            "cell_type": "code",
            "source": [
                "-- SQL Server Process Address space info (Process Memory)\r\n",
                "-- (shows whether locked pages is enabled, among other things)\r\n",
                "SELECT physical_memory_in_use_kb/1024 AS [SQL Server Memory Usage (MB)],\r\n",
                "\t   locked_page_allocations_kb/1024 AS [SQL Server Locked Pages Allocation (MB)],\r\n",
                "       large_page_allocations_kb/1024 AS [SQL Server Large Pages Allocation (MB)], \r\n",
                "\t   page_fault_count, memory_utilization_percentage, available_commit_limit_kb, \r\n",
                "\t   process_physical_memory_low, process_virtual_memory_low\r\n",
                "FROM sys.dm_os_process_memory WITH (NOLOCK) OPTION (RECOMPILE);"
            ],
            "metadata": {
                "azdata_cell_guid": "110d67ad-134b-4e9b-8761-d43f68ccda2a",
                "tags": [],
                "extensions": {
                    "azuredatastudio": {
                        "views": []
                    }
                }
            },
            "outputs": [],
            "execution_count": null
        },
        {
            "cell_type": "markdown",
            "source": [
                "- You want to see 0 for process_physical_memory_low\r\n",
                "- You want to see 0 for process_virtual_memory_low\r\n",
                "\r\n",
                "This indicates that you are not under internal memory pressure.\r\n",
                "If locked_page_allocations_kb > 0, then LPIM is enabled\r\n",
                "\r\n",
                "[How to enable the \"locked pages\" feature in SQL Server 2012](https://bit.ly/2F5UjOA)\r\n",
                "\r\n",
                "[Memory Management Architecture Guide](https://bit.ly/2JKkadC)"
            ],
            "metadata": {
                "azdata_cell_guid": "3c643dfe-9727-4d52-9f78-c94088e05c2b",
                "extensions": {
                    "azuredatastudio": {
                        "views": []
                    }
                }
            }
        },
        {
            "cell_type": "markdown",
            "source": [
                "## SQL Server Services information (SQL Server Services Info)\r\n",
                "\r\n",
                "### <span style=\"color:rgb(0, 204, 153);\">Run the Code block below</span>\r\n",
                "\r\n",
                "1. Click the run icon below\r\n",
                "2. If ADS prompts you for a connection, enter the correct SQL Server and authentication account\r\n",
                "3. View the results of the query by scrolling down to the results set"
            ],
            "metadata": {
                "azdata_cell_guid": "813d193b-0730-4aaa-a1fa-2b1b272da7fb",
                "extensions": {
                    "azuredatastudio": {
                        "views": []
                    }
                }
            },
            "attachments": {}
        },
        {
            "cell_type": "code",
            "source": [
                "-- SQL Server Services information (SQL Server Services Info)\r\n",
                "SELECT servicename, process_id, startup_type_desc, status_desc, \r\n",
                "last_startup_time, service_account, is_clustered, cluster_nodename, [filename], \r\n",
                "instant_file_initialization_enabled\r\n",
                "FROM sys.dm_server_services WITH (NOLOCK) OPTION (RECOMPILE);"
            ],
            "metadata": {
                "azdata_cell_guid": "35356285-db3b-414b-9cb3-9441b692044a",
                "tags": [],
                "extensions": {
                    "azuredatastudio": {
                        "views": []
                    }
                }
            },
            "outputs": [],
            "execution_count": null
        },
        {
            "cell_type": "markdown",
            "source": [
                "- Tells you the account being used for the SQL Server Service and the SQL Agent Service\r\n",
                "- Shows the process_id, when they were last started, and their current status\r\n",
                "- Also shows whether you are running on a failover cluster instance, and what node you are running on\r\n",
                "- Also shows whether IFI is enabled\r\n",
                "\r\n",
                "[sys.dm_server_services (Transact-SQL)](https://bit.ly/2oKa1Un)"
            ],
            "metadata": {
                "azdata_cell_guid": "94a924e0-dffa-409e-ab52-033d687807ba",
                "extensions": {
                    "azuredatastudio": {
                        "views": []
                    }
                }
            }
        },
        {
            "cell_type": "markdown",
            "source": [
                "## Isolate top waits for server instance since last restart or wait statistics clear (Top Waits)\r\n",
                "\r\n",
                "### <span style=\"color:rgb(0, 204, 153);\">Run the Code block below</span>\r\n",
                "\r\n",
                "1. Click the run icon below\r\n",
                "2. If ADS prompts you for a connection, enter the correct SQL Server and authentication account\r\n",
                "3. View the results of the query by scrolling down to the results set"
            ],
            "metadata": {
                "azdata_cell_guid": "f2e7ad2d-e602-45e6-8f6c-209ef090da40",
                "extensions": {
                    "azuredatastudio": {
                        "views": []
                    }
                }
            },
            "attachments": {}
        },
        {
            "cell_type": "code",
            "source": [
                "-- Clear Wait Stats with this command\r\n",
                "-- DBCC SQLPERF('sys.dm_os_wait_stats', CLEAR);\r\n",
                "\r\n",
                "-- Isolate top waits for server instance since last restart or wait statistics clear (Top Waits)\r\n",
                "WITH [Waits] \r\n",
                "AS (SELECT wait_type, wait_time_ms/ 1000.0 AS [WaitS],\r\n",
                "          (wait_time_ms - signal_wait_time_ms) / 1000.0 AS [ResourceS],\r\n",
                "           signal_wait_time_ms / 1000.0 AS [SignalS],\r\n",
                "           waiting_tasks_count AS [WaitCount],\r\n",
                "           100.0 *  wait_time_ms / SUM (wait_time_ms) OVER() AS [Percentage],\r\n",
                "           ROW_NUMBER() OVER(ORDER BY wait_time_ms DESC) AS [RowNum]\r\n",
                "    FROM sys.dm_os_wait_stats WITH (NOLOCK)\r\n",
                "    WHERE [wait_type] NOT IN (\r\n",
                "        N'BROKER_EVENTHANDLER', N'BROKER_RECEIVE_WAITFOR', N'BROKER_TASK_STOP',\r\n",
                "\t\tN'BROKER_TO_FLUSH', N'BROKER_TRANSMITTER', N'CHECKPOINT_QUEUE',\r\n",
                "        N'CHKPT', N'CLR_AUTO_EVENT', N'CLR_MANUAL_EVENT', N'CLR_SEMAPHORE', N'CXCONSUMER',\r\n",
                "        N'DBMIRROR_DBM_EVENT', N'DBMIRROR_EVENTS_QUEUE', N'DBMIRROR_WORKER_QUEUE',\r\n",
                "\t\tN'DBMIRRORING_CMD', N'DIRTY_PAGE_POLL', N'DISPATCHER_QUEUE_SEMAPHORE',\r\n",
                "        N'EXECSYNC', N'FSAGENT', N'FT_IFTS_SCHEDULER_IDLE_WAIT', N'FT_IFTSHC_MUTEX',\r\n",
                "        N'HADR_CLUSAPI_CALL', N'HADR_FILESTREAM_IOMGR_IOCOMPLETION', N'HADR_LOGCAPTURE_WAIT', \r\n",
                "\t\tN'HADR_NOTIFICATION_DEQUEUE', N'HADR_TIMER_TASK', N'HADR_WORK_QUEUE',\r\n",
                "        N'KSOURCE_WAKEUP', N'LAZYWRITER_SLEEP', N'LOGMGR_QUEUE', \r\n",
                "\t\tN'MEMORY_ALLOCATION_EXT', N'ONDEMAND_TASK_QUEUE',\r\n",
                "\t\tN'PARALLEL_REDO_DRAIN_WORKER', N'PARALLEL_REDO_LOG_CACHE', N'PARALLEL_REDO_TRAN_LIST',\r\n",
                "\t\tN'PARALLEL_REDO_WORKER_SYNC', N'PARALLEL_REDO_WORKER_WAIT_WORK',\r\n",
                "\t\tN'PREEMPTIVE_HADR_LEASE_MECHANISM', N'PREEMPTIVE_SP_SERVER_DIAGNOSTICS',\r\n",
                "\t\tN'PREEMPTIVE_OS_LIBRARYOPS', N'PREEMPTIVE_OS_COMOPS', N'PREEMPTIVE_OS_CRYPTOPS',\r\n",
                "\t\tN'PREEMPTIVE_OS_PIPEOPS', N'PREEMPTIVE_OS_AUTHENTICATIONOPS',\r\n",
                "\t\tN'PREEMPTIVE_OS_GENERICOPS', N'PREEMPTIVE_OS_VERIFYTRUST',\r\n",
                "\t\tN'PREEMPTIVE_OS_FILEOPS', N'PREEMPTIVE_OS_DEVICEOPS', N'PREEMPTIVE_OS_QUERYREGISTRY',\r\n",
                "\t\tN'PREEMPTIVE_OS_WRITEFILE', N'PREEMPTIVE_OS_WRITEFILEGATHER',\r\n",
                "\t\tN'PREEMPTIVE_XE_CALLBACKEXECUTE', N'PREEMPTIVE_XE_DISPATCHER',\r\n",
                "\t\tN'PREEMPTIVE_XE_GETTARGETSTATE', N'PREEMPTIVE_XE_SESSIONCOMMIT',\r\n",
                "\t\tN'PREEMPTIVE_XE_TARGETINIT', N'PREEMPTIVE_XE_TARGETFINALIZE',\r\n",
                "        N'PWAIT_ALL_COMPONENTS_INITIALIZED', N'PWAIT_DIRECTLOGCONSUMER_GETNEXT',\r\n",
                "\t\tN'PWAIT_EXTENSIBILITY_CLEANUP_TASK',\r\n",
                "\t\tN'QDS_PERSIST_TASK_MAIN_LOOP_SLEEP', N'QDS_ASYNC_QUEUE',\r\n",
                "        N'QDS_CLEANUP_STALE_QUERIES_TASK_MAIN_LOOP_SLEEP', N'REQUEST_FOR_DEADLOCK_SEARCH',\r\n",
                "\t\tN'RESOURCE_QUEUE', N'SERVER_IDLE_CHECK', N'SLEEP_BPOOL_FLUSH', N'SLEEP_DBSTARTUP',\r\n",
                "\t\tN'SLEEP_DCOMSTARTUP', N'SLEEP_MASTERDBREADY', N'SLEEP_MASTERMDREADY',\r\n",
                "        N'SLEEP_MASTERUPGRADED', N'SLEEP_MSDBSTARTUP', N'SLEEP_SYSTEMTASK', N'SLEEP_TASK',\r\n",
                "        N'SLEEP_TEMPDBSTARTUP', N'SNI_HTTP_ACCEPT', N'SOS_WORK_DISPATCHER',\r\n",
                "\t\tN'SP_SERVER_DIAGNOSTICS_SLEEP',\r\n",
                "\t\tN'SQLTRACE_BUFFER_FLUSH', N'SQLTRACE_INCREMENTAL_FLUSH_SLEEP', N'SQLTRACE_WAIT_ENTRIES',\r\n",
                "\t\tN'STARTUP_DEPENDENCY_MANAGER',\r\n",
                "\t\tN'WAIT_FOR_RESULTS', N'WAITFOR', N'WAITFOR_TASKSHUTDOWN', N'WAIT_XTP_HOST_WAIT',\r\n",
                "\t\tN'WAIT_XTP_OFFLINE_CKPT_NEW_LOG', N'WAIT_XTP_CKPT_CLOSE', N'WAIT_XTP_RECOVERY',\r\n",
                "\t\tN'XE_BUFFERMGR_ALLPROCESSED_EVENT', N'XE_DISPATCHER_JOIN',\r\n",
                "        N'XE_DISPATCHER_WAIT', N'XE_LIVE_TARGET_TVF', N'XE_TIMER_EVENT')\r\n",
                "    AND waiting_tasks_count > 0)\r\n",
                "SELECT\r\n",
                "    MAX (W1.wait_type) AS [WaitType],\r\n",
                "\tCAST (MAX (W1.Percentage) AS DECIMAL (5,2)) AS [Wait Percentage],\r\n",
                "\tCAST ((MAX (W1.WaitS) / MAX (W1.WaitCount)) AS DECIMAL (16,4)) AS [AvgWait_Sec],\r\n",
                "    CAST ((MAX (W1.ResourceS) / MAX (W1.WaitCount)) AS DECIMAL (16,4)) AS [AvgRes_Sec],\r\n",
                "    CAST ((MAX (W1.SignalS) / MAX (W1.WaitCount)) AS DECIMAL (16,4)) AS [AvgSig_Sec], \r\n",
                "    CAST (MAX (W1.WaitS) AS DECIMAL (16,2)) AS [Wait_Sec],\r\n",
                "    CAST (MAX (W1.ResourceS) AS DECIMAL (16,2)) AS [Resource_Sec],\r\n",
                "    CAST (MAX (W1.SignalS) AS DECIMAL (16,2)) AS [Signal_Sec],\r\n",
                "    MAX (W1.WaitCount) AS [Wait Count],\r\n",
                "\tCAST (N'https://www.sqlskills.com/help/waits/' + W1.wait_type AS XML) AS [Help/Info URL]\r\n",
                "FROM Waits AS W1\r\n",
                "INNER JOIN Waits AS W2\r\n",
                "ON W2.RowNum <= W1.RowNum\r\n",
                "GROUP BY W1.RowNum, W1.wait_type\r\n",
                "HAVING SUM (W2.Percentage) - MAX (W1.Percentage) < 99 -- percentage threshold\r\n",
                "OPTION (RECOMPILE);"
            ],
            "metadata": {
                "azdata_cell_guid": "255074eb-647d-4852-b476-c63ceb56cc9d",
                "tags": [],
                "extensions": {
                    "azuredatastudio": {
                        "views": []
                    }
                }
            },
            "outputs": [],
            "execution_count": null
        },
        {
            "cell_type": "markdown",
            "source": [
                "Cumulative wait stats are not as useful on an idle instance that is not under load or performance pressure\r\n",
                "\r\n",
                "[SQL Server Wait Types Library](https://bit.ly/2ePzYO2)\r\n",
                "\r\n",
                "[The SQL Server Wait Type Repository](https://bit.ly/1afzfjC)\r\n",
                "\r\n",
                "[Wait statistics, or please tell me where it hurts](https://bit.ly/2wsQHQE)\r\n",
                "\r\n",
                "[SQL Server 2005 Performance Tuning using the Waits and Queues](https://bit.ly/1o2NFoF)\r\n",
                "\r\n",
                "[sys.dm_os_wait_stats (Transact-SQL)](https://bit.ly/2Hjq9Yl)\r\n",
                ""
            ],
            "metadata": {
                "azdata_cell_guid": "faf38e09-4c18-4c92-8e7c-01ea38fd08b6",
                "extensions": {
                    "azuredatastudio": {
                        "views": []
                    }
                }
            }
        },
        {
            "cell_type": "markdown",
            "source": [
                "## Get a count of SQL connections by IP address (Connection Counts by IP Address)\r\n",
                "\r\n",
                "### <span style=\"color:rgb(0, 204, 153);\">Run the Code block below</span>\r\n",
                "\r\n",
                "1. Click the run icon below\r\n",
                "2. If ADS prompts you for a connection, enter the correct SQL Server and authentication account\r\n",
                "3. View the results of the query by scrolling down to the results set"
            ],
            "metadata": {
                "azdata_cell_guid": "0299b6cd-25bd-4e92-be3d-1b0a26828a90",
                "extensions": {
                    "azuredatastudio": {
                        "views": []
                    }
                }
            },
            "attachments": {}
        },
        {
            "cell_type": "code",
            "source": [
                "-- Get a count of SQL connections by IP address (Connection Counts by IP Address)\r\n",
                "SELECT ec.client_net_address, es.[program_name], es.[host_name], es.login_name, \r\n",
                "COUNT(ec.session_id) AS [connection count] \r\n",
                "FROM sys.dm_exec_sessions AS es WITH (NOLOCK) \r\n",
                "INNER JOIN sys.dm_exec_connections AS ec WITH (NOLOCK) \r\n",
                "ON es.session_id = ec.session_id \r\n",
                "GROUP BY ec.client_net_address, es.[program_name], es.[host_name], es.login_name  \r\n",
                "ORDER BY ec.client_net_address, es.[program_name] OPTION (RECOMPILE);"
            ],
            "metadata": {
                "azdata_cell_guid": "db876f19-dd2b-4af0-bbfa-d5792482a144",
                "tags": [],
                "extensions": {
                    "azuredatastudio": {
                        "views": []
                    }
                }
            },
            "outputs": [],
            "execution_count": null
        },
        {
            "cell_type": "markdown",
            "source": [
                "This helps you figure where your database load is coming from and verifies connectivity from other machines\r\n",
                "\r\n",
                "[Solving Connectivity errors to SQL Server](https://bit.ly/2EgzoD0)"
            ],
            "metadata": {
                "azdata_cell_guid": "092aa409-ae8e-426c-b964-e536ee484fcc",
                "extensions": {
                    "azuredatastudio": {
                        "views": []
                    }
                }
            }
        },
        {
            "cell_type": "markdown",
            "source": [
                "## Get Average Task Counts (run multiple times) (Avg Task Counts)\r\n",
                "\r\n",
                "### <span style=\"color:rgb(0, 204, 153);\">Run the Code block below</span>\r\n",
                "\r\n",
                "1. Click the run icon below\r\n",
                "2. If ADS prompts you for a connection, enter the correct SQL Server and authentication account\r\n",
                "3. View the results of the query by scrolling down to the results set"
            ],
            "metadata": {
                "azdata_cell_guid": "ed4204b4-820a-4266-adc0-ae5fb48360a8",
                "extensions": {
                    "azuredatastudio": {
                        "views": []
                    }
                }
            },
            "attachments": {}
        },
        {
            "cell_type": "code",
            "source": [
                "-- Get Average Task Counts (run multiple times) (Avg Task Counts)\r\n",
                "SELECT AVG(current_tasks_count) AS [Avg Task Count], \r\n",
                "AVG(work_queue_count) AS [Avg Work Queue Count],\r\n",
                "AVG(runnable_tasks_count) AS [Avg Runnable Task Count],\r\n",
                "AVG(pending_disk_io_count) AS [Avg Pending DiskIO Count]\r\n",
                "FROM sys.dm_os_schedulers WITH (NOLOCK)\r\n",
                "WHERE scheduler_id < 255 OPTION (RECOMPILE);"
            ],
            "metadata": {
                "azdata_cell_guid": "63a39346-8685-4a6f-939f-51775204d0dd",
                "tags": [],
                "extensions": {
                    "azuredatastudio": {
                        "views": []
                    }
                }
            },
            "outputs": [],
            "execution_count": null
        },
        {
            "cell_type": "markdown",
            "source": [
                "Sustained values above 10 suggest further investigation in that area\r\n",
                "- High Avg Task Counts are often caused by blocking/deadlocking or other resource contention\r\n",
                "\r\n",
                "Sustained values above 1 suggest further investigation in that area\r\n",
                "- High Avg Runnable Task Counts are a good sign of CPU pressure\r\n",
                "- High Avg Pending DiskIO Counts are a sign of disk pressure\r\n",
                "\r\n",
                "[How to Do Some Very Basic SQL Server Monitoring](https://bit.ly/30IRla0)\r\n",
                ""
            ],
            "metadata": {
                "azdata_cell_guid": "4500bb2c-6025-45fe-ad05-a54cc9a86a68",
                "extensions": {
                    "azuredatastudio": {
                        "views": []
                    }
                }
            }
        },
        {
            "cell_type": "markdown",
            "source": [
                "## Detect blocking (run multiple times) (Detect Blocking)\r\n",
                "\r\n",
                "### <span style=\"color:rgb(0, 204, 153);\">Run the Code block below</span>\r\n",
                "\r\n",
                "1. Click the run icon below\r\n",
                "2. If ADS prompts you for a connection, enter the correct SQL Server and authentication account\r\n",
                "3. View the results of the query by scrolling down to the results set"
            ],
            "metadata": {
                "azdata_cell_guid": "76df2148-9a87-4642-9dfa-aae374ca8be1",
                "extensions": {
                    "azuredatastudio": {
                        "views": []
                    }
                }
            },
            "attachments": {}
        },
        {
            "cell_type": "code",
            "source": [
                "-- Detect blocking (run multiple times) (Detect Blocking)\r\n",
                "SELECT t1.resource_type AS [lock type], DB_NAME(resource_database_id) AS [database],\r\n",
                "t1.resource_associated_entity_id AS [blk object],t1.request_mode AS [lock req],  -- lock requested\r\n",
                "t1.request_session_id AS [waiter sid], t2.wait_duration_ms AS [wait time],       -- spid of waiter  \r\n",
                "(SELECT [text] FROM sys.dm_exec_requests AS r WITH (NOLOCK)                      -- get sql for waiter\r\n",
                "CROSS APPLY sys.dm_exec_sql_text(r.[sql_handle]) \r\n",
                "WHERE r.session_id = t1.request_session_id) AS [waiter_batch],\r\n",
                "(SELECT SUBSTRING(qt.[text],r.statement_start_offset/2, \r\n",
                "    (CASE WHEN r.statement_end_offset = -1 \r\n",
                "    THEN LEN(CONVERT(nvarchar(max), qt.[text])) * 2 \r\n",
                "    ELSE r.statement_end_offset END - r.statement_start_offset)/2) \r\n",
                "FROM sys.dm_exec_requests AS r WITH (NOLOCK)\r\n",
                "CROSS APPLY sys.dm_exec_sql_text(r.[sql_handle]) AS qt\r\n",
                "WHERE r.session_id = t1.request_session_id) AS [waiter_stmt],\t\t\t\t\t-- statement blocked\r\n",
                "t2.blocking_session_id AS [blocker sid],\t\t\t\t\t\t\t\t\t\t-- spid of blocker\r\n",
                "(SELECT [text] FROM sys.sysprocesses AS p\t\t\t\t\t\t\t\t\t\t-- get sql for blocker\r\n",
                "CROSS APPLY sys.dm_exec_sql_text(p.[sql_handle]) \r\n",
                "WHERE p.spid = t2.blocking_session_id) AS [blocker_batch]\r\n",
                "FROM sys.dm_tran_locks AS t1 WITH (NOLOCK)\r\n",
                "INNER JOIN sys.dm_os_waiting_tasks AS t2 WITH (NOLOCK)\r\n",
                "ON t1.lock_owner_address = t2.resource_address OPTION (RECOMPILE);"
            ],
            "metadata": {
                "azdata_cell_guid": "b9bd2930-e5bc-4415-9d89-4ccfc0be9334",
                "tags": [],
                "extensions": {
                    "azuredatastudio": {
                        "views": []
                    }
                }
            },
            "outputs": [],
            "execution_count": null
        },
        {
            "cell_type": "markdown",
            "source": [
                "Helps troubleshoot blocking and deadlocking issues\r\n",
                "- The results will change from second to second on a busy system\r\n",
                "- You should run this query multiple times when you see signs of blocking"
            ],
            "metadata": {
                "azdata_cell_guid": "15412a8a-2e65-4b59-a904-ca3012cf6528",
                "extensions": {
                    "azuredatastudio": {
                        "views": []
                    }
                }
            }
        },
        {
            "cell_type": "markdown",
            "source": [
                "## Get CPU Utilization History for last 256 minutes (in one minute intervals) (CPU Utilization History)\r\n",
                "\r\n",
                "### <span style=\"color:rgb(0, 204, 153);\">Run the Code block below</span>\r\n",
                "\r\n",
                "1. Click the run icon below\r\n",
                "2. If ADS prompts you for a connection, enter the correct SQL Server and authentication account\r\n",
                "3. View the results of the query by scrolling down to the results set"
            ],
            "metadata": {
                "azdata_cell_guid": "e99406d7-9d91-4cc8-8486-21421e4fcca5",
                "extensions": {
                    "azuredatastudio": {
                        "views": []
                    }
                }
            },
            "attachments": {}
        },
        {
            "cell_type": "code",
            "source": [
                "-- Get CPU Utilization History for last 256 minutes (in one minute intervals) (CPU Utilization History)\r\n",
                "DECLARE @ts_now bigint = (SELECT ms_ticks FROM sys.dm_os_sys_info WITH (NOLOCK)); \r\n",
                "\r\n",
                "SELECT TOP(256) SQLProcessUtilization AS [SQL Server Process CPU Utilization], \r\n",
                "               SystemIdle AS [System Idle Process], \r\n",
                "               100 - SystemIdle - SQLProcessUtilization AS [Other Process CPU Utilization], \r\n",
                "               DATEADD(ms, -1 * (@ts_now - [timestamp]), GETDATE()) AS [Event Time] \r\n",
                "FROM (SELECT record.value('(./Record/@id)[1]', 'int') AS record_id, \r\n",
                "              record.value('(./Record/SchedulerMonitorEvent/SystemHealth/SystemIdle)[1]', 'int') \r\n",
                "                      AS [SystemIdle], \r\n",
                "              record.value('(./Record/SchedulerMonitorEvent/SystemHealth/ProcessUtilization)[1]', 'int') \r\n",
                "                      AS [SQLProcessUtilization], [timestamp] \r\n",
                "         FROM (SELECT [timestamp], CONVERT(xml, record) AS [record] \r\n",
                "                      FROM sys.dm_os_ring_buffers WITH (NOLOCK)\r\n",
                "                      WHERE ring_buffer_type = N'RING_BUFFER_SCHEDULER_MONITOR' \r\n",
                "                      AND record LIKE N'%<SystemHealth>%') AS x) AS y \r\n",
                "ORDER BY record_id DESC OPTION (RECOMPILE);"
            ],
            "metadata": {
                "azdata_cell_guid": "b7187c90-75cd-4f2e-afaa-c5419f0f5c7d",
                "tags": [],
                "extensions": {
                    "azuredatastudio": {
                        "views": []
                    }
                }
            },
            "outputs": [],
            "execution_count": null
        },
        {
            "cell_type": "markdown",
            "source": [
                "Look at the trend over the entire period \r\n",
                "- Also look at high sustained 'Other Process' CPU Utilization values\r\n",
                "- Note: This query sometimes gives inaccurate results (negative values) on high core count (> 64 cores) systems"
            ],
            "metadata": {
                "azdata_cell_guid": "2b34bfb5-1daa-461c-9c6d-5c2cab0f3b70",
                "extensions": {
                    "azuredatastudio": {
                        "views": []
                    }
                }
            }
        },
        {
            "cell_type": "markdown",
            "source": [
                "## Get top total worker time queries for entire instance (Top Worker Time Queries)\r\n",
                "\r\n",
                "### <span style=\"color:rgb(0, 204, 153);\">Run the Code block below</span>\r\n",
                "\r\n",
                "1. Click the run icon below\r\n",
                "2. If ADS prompts you for a connection, enter the correct SQL Server and authentication account\r\n",
                "3. View the results of the query by scrolling down to the results set"
            ],
            "metadata": {
                "azdata_cell_guid": "1d29e3a6-eaa1-40b2-a10f-4f9ea9b3135c",
                "extensions": {
                    "azuredatastudio": {
                        "views": []
                    }
                }
            },
            "attachments": {}
        },
        {
            "cell_type": "code",
            "source": [
                "-- Get top total worker time queries for entire instance (Top Worker Time Queries)\r\n",
                "SELECT TOP(50) DB_NAME(t.[dbid]) AS [Database Name], \r\n",
                "REPLACE(REPLACE(LEFT(t.[text], 255), CHAR(10),''), CHAR(13),'') AS [Short Query Text],  \r\n",
                "qs.total_worker_time AS [Total Worker Time], qs.min_worker_time AS [Min Worker Time],\r\n",
                "qs.total_worker_time/qs.execution_count AS [Avg Worker Time], \r\n",
                "qs.max_worker_time AS [Max Worker Time], \r\n",
                "qs.min_elapsed_time AS [Min Elapsed Time], \r\n",
                "qs.total_elapsed_time/qs.execution_count AS [Avg Elapsed Time], \r\n",
                "qs.max_elapsed_time AS [Max Elapsed Time],\r\n",
                "qs.min_logical_reads AS [Min Logical Reads],\r\n",
                "qs.total_logical_reads/qs.execution_count AS [Avg Logical Reads],\r\n",
                "qs.max_logical_reads AS [Max Logical Reads], \r\n",
                "qs.execution_count AS [Execution Count],\r\n",
                "CASE WHEN CONVERT(nvarchar(max), qp.query_plan) COLLATE Latin1_General_BIN2 LIKE N'%<MissingIndexes>%' THEN 1 ELSE 0 END AS [Has Missing Index],\r\n",
                "qs.creation_time AS [Creation Time]\r\n",
                "--,t.[text] AS [Query Text], qp.query_plan AS [Query Plan] -- uncomment out these columns if not copying results to Excel\r\n",
                "FROM sys.dm_exec_query_stats AS qs WITH (NOLOCK)\r\n",
                "CROSS APPLY sys.dm_exec_sql_text(plan_handle) AS t \r\n",
                "CROSS APPLY sys.dm_exec_query_plan(plan_handle) AS qp \r\n",
                "ORDER BY qs.total_worker_time DESC OPTION (RECOMPILE);"
            ],
            "metadata": {
                "azdata_cell_guid": "b1710c68-1a92-43a8-92b3-bcb347c9f18e",
                "tags": [],
                "extensions": {
                    "azuredatastudio": {
                        "views": []
                    }
                }
            },
            "outputs": [],
            "execution_count": null
        },
        {
            "cell_type": "markdown",
            "source": [
                "Helps you find the most expensive queries from a CPU perspective across the entire instance\r\n",
                "- Can also help track down parameter sniffing issues"
            ],
            "metadata": {
                "azdata_cell_guid": "f64892d4-ed7d-4882-810f-4410b713b5bc",
                "extensions": {
                    "azuredatastudio": {
                        "views": []
                    }
                }
            }
        }
    ]
}