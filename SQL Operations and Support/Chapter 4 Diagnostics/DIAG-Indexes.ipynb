{
    "metadata": {
        "kernelspec": {
            "name": "SQL",
            "display_name": "SQL",
            "language": "sql"
        },
        "language_info": {
            "name": "sql",
            "version": ""
        },
        "extensions": {
            "azuredatastudio": {
                "version": 1,
                "views": []
            }
        }
    },
    "nbformat_minor": 2,
    "nbformat": 4,
    "cells": [
        {
            "cell_type": "markdown",
            "source": [
                "## Missing Indexes for all databases by Index Advantage (Query 32) (Missing Indexes All Databases)"
            ],
            "metadata": {
                "azdata_cell_guid": "ca0a7048-c7b5-4d30-991c-531567b01530"
            },
            "attachments": {}
        },
        {
            "cell_type": "code",
            "source": [
                "-- Missing Indexes for all databases by Index Advantage  (Query 32) (Missing Indexes All Databases)\r\n",
                "SELECT CONVERT(decimal(18,2), migs.user_seeks * migs.avg_total_user_cost * (migs.avg_user_impact * 0.01)) AS [index_advantage], \r\n",
                "FORMAT(migs.last_user_seek, 'yyyy-MM-dd HH:mm:ss') AS [last_user_seek], mid.[statement] AS [Database.Schema.Table], \r\n",
                "COUNT(1) OVER(PARTITION BY mid.[statement]) AS [missing_indexes_for_table], \r\n",
                "COUNT(1) OVER(PARTITION BY mid.[statement], mid.equality_columns) AS [similar_missing_indexes_for_table], \r\n",
                "mid.equality_columns, mid.inequality_columns, mid.included_columns, migs.user_seeks, \r\n",
                "CONVERT(decimal(18,2), migs.avg_total_user_cost) AS [avg_total_user_,cost], migs.avg_user_impact,\r\n",
                "REPLACE(REPLACE(LEFT(st.[text], 255), CHAR(10),''), CHAR(13),'') AS [Short Query Text]\r\n",
                "FROM sys.dm_db_missing_index_groups AS mig WITH (NOLOCK) \r\n",
                "INNER JOIN sys.dm_db_missing_index_group_stats_query AS migs WITH(NOLOCK) \r\n",
                "ON mig.index_group_handle = migs.group_handle \r\n",
                "CROSS APPLY sys.dm_exec_sql_text(migs.last_sql_handle) AS st \r\n",
                "INNER JOIN sys.dm_db_missing_index_details AS mid WITH (NOLOCK) \r\n",
                "ON mig.index_handle = mid.index_handle \r\n",
                "ORDER BY index_advantage DESC OPTION (RECOMPILE);"
            ],
            "metadata": {
                "azdata_cell_guid": "e3179b49-c346-400b-9d81-837617e1e99e"
            },
            "outputs": [],
            "execution_count": null
        },
        {
            "cell_type": "markdown",
            "source": [
                "Getting missing index information for all of the databases on the instance is very useful\n",
                "\n",
                "- Look at last user seek time, number of user seeks to help determine source and importance\n",
                "- Also look at avg\\_user\\_impact and avg\\_total\\_user\\_cost to help determine importance\n",
                "- SQL Server is overly eager to add included columns, so beware\n",
                "- Do not just blindly add indexes that show up from this query!!!\n",
                "\n",
                "Håkan Winther has given me some great suggestions for this query\n",
                "\n",
                "[SQL Server Index Design Guide](https://bit.ly/2qtZr4N)"
            ],
            "metadata": {
                "azdata_cell_guid": "96cdd322-d1c5-4362-b3c9-097d395199a8"
            },
            "attachments": {}
        },
        {
            "cell_type": "markdown",
            "source": [
                "## Possible Bad NC Indexes (writes \\> reads) (Query 64) (Bad NC Indexes)"
            ],
            "metadata": {
                "azdata_cell_guid": "7987b312-808a-49fd-94b9-376175aa235c"
            },
            "attachments": {}
        },
        {
            "cell_type": "code",
            "source": [
                "-- Possible Bad NC Indexes (writes > reads)  (Query 64) (Bad NC Indexes)\r\n",
                "SELECT SCHEMA_NAME(o.[schema_id]) AS [Schema Name], \r\n",
                "OBJECT_NAME(s.[object_id]) AS [Table Name],\r\n",
                "i.name AS [Index Name], i.index_id, \r\n",
                "i.is_disabled, i.is_hypothetical, i.has_filter, i.fill_factor,\r\n",
                "s.user_updates AS [Total Writes], s.user_seeks + s.user_scans + s.user_lookups AS [Total Reads],\r\n",
                "s.user_updates - (s.user_seeks + s.user_scans + s.user_lookups) AS [Difference]\r\n",
                "FROM sys.dm_db_index_usage_stats AS s WITH (NOLOCK)\r\n",
                "INNER JOIN sys.indexes AS i WITH (NOLOCK)\r\n",
                "ON s.[object_id] = i.[object_id]\r\n",
                "AND i.index_id = s.index_id\r\n",
                "INNER JOIN sys.objects AS o WITH (NOLOCK)\r\n",
                "ON i.[object_id] = o.[object_id]\r\n",
                "WHERE OBJECTPROPERTY(s.[object_id],'IsUserTable') = 1\r\n",
                "AND s.database_id = DB_ID()\r\n",
                "AND s.user_updates > (s.user_seeks + s.user_scans + s.user_lookups)\r\n",
                "AND i.index_id > 1 AND i.[type_desc] = N'NONCLUSTERED'\r\n",
                "AND i.is_primary_key = 0 AND i.is_unique_constraint = 0 AND i.is_unique = 0\r\n",
                "ORDER BY [Difference] DESC, [Total Writes] DESC, [Total Reads] ASC OPTION (RECOMPILE);"
            ],
            "metadata": {
                "azdata_cell_guid": "f6480746-8223-42b5-bbd6-0a4933530b9c"
            },
            "outputs": [],
            "execution_count": null
        },
        {
            "cell_type": "markdown",
            "source": [
                "Look for indexes with high numbers of writes and zero or very low numbers of reads\n",
                "\n",
                "- Consider your complete workload, and how long your instance has been running\n",
                "- Investigate further before dropping an index!"
            ],
            "metadata": {
                "azdata_cell_guid": "27ca543f-a685-4083-b3c1-02162947d16f"
            },
            "attachments": {}
        },
        {
            "cell_type": "markdown",
            "source": [
                "## Missing Indexes for current database by Index Advantage (Query 65) (Missing Indexes)"
            ],
            "metadata": {
                "azdata_cell_guid": "f0e9f44b-c73e-4157-a24b-bb94298d9cfb"
            },
            "attachments": {}
        },
        {
            "cell_type": "code",
            "source": [
                "-- Missing Indexes for current database by Index Advantage  (Query 65) (Missing Indexes)\r\n",
                "SELECT CONVERT(decimal(18,2), migs.user_seeks * migs.avg_total_user_cost * (migs.avg_user_impact * 0.01)) AS [index_advantage], \r\n",
                "FORMAT(migs.last_user_seek, 'yyyy-MM-dd HH:mm:ss') AS [last_user_seek], mid.[statement] AS [Database.Schema.Table], \r\n",
                "COUNT(1) OVER(PARTITION BY mid.[statement]) AS [missing_indexes_for_table], \r\n",
                "COUNT(1) OVER(PARTITION BY mid.[statement], mid.equality_columns) AS [similar_missing_indexes_for_table], \r\n",
                "mid.equality_columns, mid.inequality_columns, mid.included_columns, migs.user_seeks, \r\n",
                "CONVERT(decimal(18,2), migs.avg_total_user_cost) AS [avg_total_user_,cost], migs.avg_user_impact,\r\n",
                "REPLACE(REPLACE(LEFT(st.[text], 255), CHAR(10),''), CHAR(13),'') AS [Short Query Text],\r\n",
                "OBJECT_NAME(mid.[object_id]) AS [Table Name], p.rows AS [Table Rows]\r\n",
                "FROM sys.dm_db_missing_index_groups AS mig WITH (NOLOCK) \r\n",
                "INNER JOIN sys.dm_db_missing_index_group_stats_query AS migs WITH(NOLOCK) \r\n",
                "ON mig.index_group_handle = migs.group_handle \r\n",
                "CROSS APPLY sys.dm_exec_sql_text(migs.last_sql_handle) AS st \r\n",
                "INNER JOIN sys.dm_db_missing_index_details AS mid WITH (NOLOCK) \r\n",
                "ON mig.index_handle = mid.index_handle\r\n",
                "INNER JOIN sys.partitions AS p WITH (NOLOCK)\r\n",
                "ON p.[object_id] = mid.[object_id]\r\n",
                "WHERE mid.database_id = DB_ID()\r\n",
                "AND p.index_id < 2 \r\n",
                "ORDER BY index_advantage DESC OPTION (RECOMPILE);"
            ],
            "metadata": {
                "azdata_cell_guid": "10e0246d-362b-46d8-8d72-052c496d8b91"
            },
            "outputs": [],
            "execution_count": null
        },
        {
            "cell_type": "markdown",
            "source": [
                "Look at index advantage, last user seek time, number of user seeks to help determine source and importance\n",
                "\n",
                "- SQL Server is overly eager to add included columns, so beware\n",
                "- Do not just blindly add indexes that show up from this query!!!\n",
                "\n",
                "Håkan Winther has given me some great suggestions for this query"
            ],
            "metadata": {
                "azdata_cell_guid": "6fe322a4-414f-4232-beda-b312f0f306ae"
            },
            "attachments": {}
        },
        {
            "cell_type": "markdown",
            "source": [
                "## Find missing index warnings for cached plans in the current database (Query 66) (Missing Index Warnings)"
            ],
            "metadata": {
                "azdata_cell_guid": "1cb32c97-f9c3-414f-8fb3-9c78ae04c411"
            },
            "attachments": {}
        },
        {
            "cell_type": "code",
            "source": [
                "-- Find missing index warnings for cached plans in the current database  (Query 66) (Missing Index Warnings)\r\n",
                "-- Note: This query could take some time on a busy instance\r\n",
                "SELECT TOP(25) OBJECT_NAME(objectid) AS [ObjectName], \r\n",
                "               cp.objtype, cp.usecounts, cp.size_in_bytes, qp.query_plan\r\n",
                "FROM sys.dm_exec_cached_plans AS cp WITH (NOLOCK)\r\n",
                "CROSS APPLY sys.dm_exec_query_plan(cp.plan_handle) AS qp\r\n",
                "WHERE CAST(query_plan AS NVARCHAR(MAX)) LIKE N'%MissingIndex%'\r\n",
                "AND dbid = DB_ID()\r\n",
                "ORDER BY cp.usecounts DESC OPTION (RECOMPILE);"
            ],
            "metadata": {
                "azdata_cell_guid": "7c3e3892-c4f6-4139-be7a-bbdb50a5f203"
            },
            "outputs": [],
            "execution_count": null
        },
        {
            "cell_type": "markdown",
            "source": [
                "Helps you connect missing indexes to specific stored procedures or queries\n",
                "\n",
                "- This can help you decide whether to add them or not"
            ],
            "metadata": {
                "azdata_cell_guid": "2d3f91d8-8dbe-46e2-80ec-bb7bb00d15b9"
            },
            "attachments": {}
        },
        {
            "cell_type": "markdown",
            "source": [
                "## Breaks down buffers used by current database by object (table, index) in the buffer cache (Query 67) (Buffer Usage)"
            ],
            "metadata": {
                "azdata_cell_guid": "b20ff709-0bb2-4edd-b483-36a873075a98"
            },
            "attachments": {}
        },
        {
            "cell_type": "code",
            "source": [
                "-- Breaks down buffers used by current database by object (table, index) in the buffer cache  (Query 67) (Buffer Usage)\r\n",
                "-- Note: This query could take some time on a busy instance\r\n",
                "SELECT fg.name AS [Filegroup Name], SCHEMA_NAME(o.Schema_ID) AS [Schema Name],\r\n",
                "OBJECT_NAME(p.[object_id]) AS [Object Name], p.index_id, \r\n",
                "CAST(COUNT(*)/128.0 AS DECIMAL(10, 2)) AS [Buffer size(MB)],  \r\n",
                "COUNT(*) AS [BufferCount], p.[Rows] AS [Row Count],\r\n",
                "p.data_compression_desc AS [Compression Type]\r\n",
                "FROM sys.allocation_units AS a WITH (NOLOCK)\r\n",
                "INNER JOIN sys.dm_os_buffer_descriptors AS b WITH (NOLOCK)\r\n",
                "ON a.allocation_unit_id = b.allocation_unit_id\r\n",
                "INNER JOIN sys.partitions AS p WITH (NOLOCK)\r\n",
                "ON a.container_id = p.hobt_id\r\n",
                "INNER JOIN sys.objects AS o WITH (NOLOCK)\r\n",
                "ON p.object_id = o.object_id\r\n",
                "INNER JOIN sys.database_files AS f WITH (NOLOCK)\r\n",
                "ON b.file_id = f.file_id\r\n",
                "INNER JOIN sys.filegroups AS fg WITH (NOLOCK)\r\n",
                "ON f.data_space_id = fg.data_space_id\r\n",
                "WHERE b.database_id = CONVERT(int, DB_ID())\r\n",
                "AND p.[object_id] > 100\r\n",
                "AND OBJECT_NAME(p.[object_id]) NOT LIKE N'plan_%'\r\n",
                "AND OBJECT_NAME(p.[object_id]) NOT LIKE N'sys%'\r\n",
                "AND OBJECT_NAME(p.[object_id]) NOT LIKE N'xml_index_nodes%'\r\n",
                "GROUP BY fg.name, o.Schema_ID, p.[object_id], p.index_id, \r\n",
                "         p.data_compression_desc, p.[Rows]\r\n",
                "ORDER BY [BufferCount] DESC OPTION (RECOMPILE);"
            ],
            "metadata": {
                "azdata_cell_guid": "9175cf03-923c-440e-9e66-06ed4c7239e4"
            },
            "outputs": [],
            "execution_count": null
        },
        {
            "cell_type": "markdown",
            "source": [
                "Tells you what tables and indexes are using the most memory in the buffer cache\n",
                "\n",
                "- It can help identify possible candidates for data compression"
            ],
            "metadata": {
                "azdata_cell_guid": "0693a583-80fb-4de9-afa5-76659662f01e"
            },
            "attachments": {}
        },
        {
            "cell_type": "markdown",
            "source": [
                "## Get Table names, row counts, and compression status for clustered index or heap (Query 68) (Table Sizes)"
            ],
            "metadata": {
                "azdata_cell_guid": "0165b401-bd75-4182-b3b0-a607cbb8bce6"
            },
            "attachments": {}
        },
        {
            "cell_type": "code",
            "source": [
                "-- Get Table names, row counts, and compression status for clustered index or heap  (Query 68) (Table Sizes)\r\n",
                "SELECT SCHEMA_NAME(o.Schema_ID) AS [Schema Name], OBJECT_NAME(p.object_id) AS [ObjectName], \r\n",
                "SUM(p.Rows) AS [RowCount], p.data_compression_desc AS [Compression Type]\r\n",
                "FROM sys.partitions AS p WITH (NOLOCK)\r\n",
                "INNER JOIN sys.objects AS o WITH (NOLOCK)\r\n",
                "ON p.object_id = o.object_id\r\n",
                "WHERE index_id < 2 --ignore the partitions from the non-clustered index if any\r\n",
                "AND OBJECT_NAME(p.object_id) NOT LIKE N'sys%'\r\n",
                "AND OBJECT_NAME(p.object_id) NOT LIKE N'spt_%'\r\n",
                "AND OBJECT_NAME(p.object_id) NOT LIKE N'queue_%' \r\n",
                "AND OBJECT_NAME(p.object_id) NOT LIKE N'filestream_tombstone%' \r\n",
                "AND OBJECT_NAME(p.object_id) NOT LIKE N'fulltext%'\r\n",
                "AND OBJECT_NAME(p.object_id) NOT LIKE N'ifts_comp_fragment%'\r\n",
                "AND OBJECT_NAME(p.object_id) NOT LIKE N'filetable_updates%'\r\n",
                "AND OBJECT_NAME(p.object_id) NOT LIKE N'xml_index_nodes%'\r\n",
                "AND OBJECT_NAME(p.object_id) NOT LIKE N'sqlagent_job%'\r\n",
                "AND OBJECT_NAME(p.object_id) NOT LIKE N'plan_persist%'\r\n",
                "GROUP BY  SCHEMA_NAME(o.Schema_ID), p.object_id, data_compression_desc\r\n",
                "ORDER BY SUM(p.Rows) DESC OPTION (RECOMPILE);"
            ],
            "metadata": {
                "azdata_cell_guid": "af11f88f-c7cb-4d27-87bd-664095881578"
            },
            "outputs": [],
            "execution_count": null
        },
        {
            "cell_type": "markdown",
            "source": [
                "Gives you an idea of table sizes, and possible data compression opportunities"
            ],
            "metadata": {
                "azdata_cell_guid": "38faf8f0-9e76-49c4-b451-825b4914f396"
            },
            "attachments": {}
        },
        {
            "cell_type": "markdown",
            "source": [
                "## Get some key table properties (Query 69) (Table Properties)"
            ],
            "metadata": {
                "azdata_cell_guid": "280d2ecf-1804-486c-8148-54008afb9ec9"
            },
            "attachments": {}
        },
        {
            "cell_type": "code",
            "source": [
                "- Get some key table properties (Query 69) (Table Properties)\r\n",
                "SELECT OBJECT_NAME(t.[object_id]) AS [ObjectName], p.[rows] AS [Table Rows], p.index_id, \r\n",
                "       p.data_compression_desc AS [Index Data Compression],\r\n",
                "       t.create_date, t.lock_on_bulk_load, t.is_replicated, t.has_replication_filter, \r\n",
                "       t.is_tracked_by_cdc, t.lock_escalation_desc, t.is_filetable, \r\n",
                "\t   t.is_memory_optimized, t.durability_desc, \r\n",
                "\t   t.temporal_type_desc, t.is_remote_data_archive_enabled, t.is_external -- new for SQL Server 2016\r\n",
                "FROM sys.tables AS t WITH (NOLOCK)\r\n",
                "INNER JOIN sys.partitions AS p WITH (NOLOCK)\r\n",
                "ON t.[object_id] = p.[object_id]\r\n",
                "WHERE OBJECT_NAME(t.[object_id]) NOT LIKE N'sys%'\r\n",
                "ORDER BY OBJECT_NAME(t.[object_id]), p.index_id OPTION (RECOMPILE);"
            ],
            "metadata": {
                "azdata_cell_guid": "9799ee9f-c50b-4f6f-b3b1-e5c8e32bc43d"
            },
            "outputs": [],
            "execution_count": null
        },
        {
            "cell_type": "markdown",
            "source": [
                "Gives you some good information about your tables\n",
                "\n",
                "- is\\_memory\\_optimized and durability\\_desc were new in SQL Server 2014\n",
                "- temporal\\_type\\_desc, is\\_remote\\_data\\_archive\\_enabled, is\\_external were new in SQL Server 2016\n",
                "\n",
                "[sys.tables (Transact-SQL)](https://bit.ly/2Gk7998)"
            ],
            "metadata": {
                "azdata_cell_guid": "0496a628-a684-4ec0-955f-034db35935b1"
            },
            "attachments": {}
        },
        {
            "cell_type": "markdown",
            "source": [
                "## When were Statistics last updated on all indexes? (Query 70) (Statistics Update)"
            ],
            "metadata": {
                "azdata_cell_guid": "761102ad-188d-452b-b1d0-a546e7b40d69"
            },
            "attachments": {}
        },
        {
            "cell_type": "code",
            "source": [
                "-- When were Statistics last updated on all indexes?  (Query 70) (Statistics Update)\r\n",
                "SELECT SCHEMA_NAME(o.Schema_ID) + N'.' + o.[NAME] AS [Object Name], o.[type_desc] AS [Object Type],\r\n",
                "      i.[name] AS [Index Name], STATS_DATE(i.[object_id], i.index_id) AS [Statistics Date], \r\n",
                "      s.auto_created, s.no_recompute, s.user_created, s.is_incremental, s.is_temporary,\r\n",
                "\t  st.row_count, st.used_page_count\r\n",
                "FROM sys.objects AS o WITH (NOLOCK)\r\n",
                "INNER JOIN sys.indexes AS i WITH (NOLOCK)\r\n",
                "ON o.[object_id] = i.[object_id]\r\n",
                "INNER JOIN sys.stats AS s WITH (NOLOCK)\r\n",
                "ON i.[object_id] = s.[object_id] \r\n",
                "AND i.index_id = s.stats_id\r\n",
                "INNER JOIN sys.dm_db_partition_stats AS st WITH (NOLOCK)\r\n",
                "ON o.[object_id] = st.[object_id]\r\n",
                "AND i.[index_id] = st.[index_id]\r\n",
                "WHERE o.[type] IN ('U', 'V')\r\n",
                "AND st.row_count > 0\r\n",
                "ORDER BY STATS_DATE(i.[object_id], i.index_id) DESC OPTION (RECOMPILE);"
            ],
            "metadata": {
                "azdata_cell_guid": "eee271c6-d5b3-42dc-8e3d-2789d9931b3e"
            },
            "outputs": [],
            "execution_count": null
        },
        {
            "cell_type": "markdown",
            "source": [
                "Helps discover possible problems with out-of-date statistics\n",
                "\n",
                "- Also gives you an idea which indexes are the most active\n",
                "\n",
                "[sys.stats (Transact-SQL)](https://bit.ly/2GyAxrn)\n",
                "\n",
                "[UPDATEs to Statistics (Erin Stellato)](https://bit.ly/2vhrYQy)"
            ],
            "metadata": {
                "azdata_cell_guid": "ca378c34-d748-4698-9a3b-efaeefbf8970"
            },
            "attachments": {}
        },
        {
            "cell_type": "markdown",
            "source": [
                "## Look at most frequently modified indexes and statistics (Query 71) (Volatile Indexes)"
            ],
            "metadata": {
                "azdata_cell_guid": "f84ee099-db1e-4363-9fc0-3676a9a74c93"
            },
            "attachments": {}
        },
        {
            "cell_type": "code",
            "source": [
                "-- Look at most frequently modified indexes and statistics (Query 71) (Volatile Indexes)\r\n",
                "SELECT o.[name] AS [Object Name], o.[object_id], o.[type_desc], s.[name] AS [Statistics Name], \r\n",
                "       s.stats_id, s.no_recompute, s.auto_created, s.is_incremental, s.is_temporary,\r\n",
                "\t   sp.modification_counter, sp.[rows], sp.rows_sampled, sp.last_updated\r\n",
                "FROM sys.objects AS o WITH (NOLOCK)\r\n",
                "INNER JOIN sys.stats AS s WITH (NOLOCK)\r\n",
                "ON s.object_id = o.object_id\r\n",
                "CROSS APPLY sys.dm_db_stats_properties(s.object_id, s.stats_id) AS sp\r\n",
                "WHERE o.[type_desc] NOT IN (N'SYSTEM_TABLE', N'INTERNAL_TABLE')\r\n",
                "AND sp.modification_counter > 0\r\n",
                "ORDER BY sp.modification_counter DESC, o.name OPTION (RECOMPILE);"
            ],
            "metadata": {
                "azdata_cell_guid": "6de7ee5d-50b1-45b3-97f1-c31aafc7b4d8"
            },
            "outputs": [],
            "execution_count": null
        },
        {
            "cell_type": "markdown",
            "source": [
                "This helps you understand your workload and make better decisions about things like data compression and adding new indexes to a table"
            ],
            "metadata": {
                "azdata_cell_guid": "c673af9c-402f-44e8-bbe9-bbbf08da8b83"
            },
            "attachments": {}
        },
        {
            "cell_type": "markdown",
            "source": [
                "## Get fragmentation info for all indexes above a certain size in the current database (Query 72) (Index Fragmentation)"
            ],
            "metadata": {
                "azdata_cell_guid": "0fb03db0-6509-4be3-a5db-1b6a24a3a38a"
            },
            "attachments": {}
        },
        {
            "cell_type": "code",
            "source": [
                "-- Get fragmentation info for all indexes above a certain size in the current database  (Query 72) (Index Fragmentation)\r\n",
                "-- Note: This query could take some time on a very large database\r\n",
                "SELECT DB_NAME(ps.database_id) AS [Database Name], SCHEMA_NAME(o.[schema_id]) AS [Schema Name],\r\n",
                "OBJECT_NAME(ps.OBJECT_ID) AS [Object Name], i.[name] AS [Index Name], ps.index_id, \r\n",
                "ps.index_type_desc, ps.avg_fragmentation_in_percent, \r\n",
                "ps.fragment_count, ps.page_count, i.fill_factor, i.has_filter, \r\n",
                "i.filter_definition, i.[allow_page_locks]\r\n",
                "FROM sys.dm_db_index_physical_stats(DB_ID(),NULL, NULL, NULL , N'LIMITED') AS ps\r\n",
                "INNER JOIN sys.indexes AS i WITH (NOLOCK)\r\n",
                "ON ps.[object_id] = i.[object_id] \r\n",
                "AND ps.index_id = i.index_id\r\n",
                "INNER JOIN sys.objects AS o WITH (NOLOCK)\r\n",
                "ON i.[object_id] = o.[object_id]\r\n",
                "WHERE ps.database_id = DB_ID()\r\n",
                "AND ps.page_count > 2500\r\n",
                "ORDER BY ps.avg_fragmentation_in_percent DESC OPTION (RECOMPILE);"
            ],
            "metadata": {
                "azdata_cell_guid": "eeb1db11-1ae7-47ef-ae7b-29c7bf4b2268"
            },
            "outputs": [],
            "execution_count": null
        },
        {
            "cell_type": "markdown",
            "source": [
                "Helps determine whether you have framentation in your relational indexes and how effective your index maintenance strategy is."
            ],
            "metadata": {
                "azdata_cell_guid": "ce468c4b-b94b-49c6-bce8-d5d6ec1ba2b9"
            },
            "attachments": {}
        },
        {
            "cell_type": "markdown",
            "source": [
                "## Index Read/Write stats (all tables in current DB) ordered by Reads (Query 73) (Overall Index Usage - Reads)"
            ],
            "metadata": {
                "azdata_cell_guid": "9699135d-715d-47a4-a01d-b7f58f16fed8"
            },
            "attachments": {}
        },
        {
            "cell_type": "code",
            "source": [
                "--- Index Read/Write stats (all tables in current DB) ordered by Reads  (Query 73) (Overall Index Usage - Reads)\r\n",
                "SELECT OBJECT_NAME(i.[object_id]) AS [ObjectName], i.[name] AS [IndexName], i.index_id, \r\n",
                "       s.user_seeks, s.user_scans, s.user_lookups,\r\n",
                "\t   s.user_seeks + s.user_scans + s.user_lookups AS [Total Reads], \r\n",
                "\t   s.user_updates AS [Writes],  \r\n",
                "\t   i.[type_desc] AS [Index Type], i.fill_factor AS [Fill Factor], i.has_filter, i.filter_definition, \r\n",
                "\t   s.last_user_scan, s.last_user_lookup, s.last_user_seek\r\n",
                "FROM sys.indexes AS i WITH (NOLOCK)\r\n",
                "LEFT OUTER JOIN sys.dm_db_index_usage_stats AS s WITH (NOLOCK)\r\n",
                "ON i.[object_id] = s.[object_id]\r\n",
                "AND i.index_id = s.index_id\r\n",
                "AND s.database_id = DB_ID()\r\n",
                "WHERE OBJECTPROPERTY(i.[object_id],'IsUserTable') = 1\r\n",
                "ORDER BY s.user_seeks + s.user_scans + s.user_lookups DESC OPTION (RECOMPILE); -- Order by reads"
            ],
            "metadata": {
                "azdata_cell_guid": "84c9ce39-8d39-4d23-bc2f-d46d0556193a"
            },
            "outputs": [],
            "execution_count": null
        },
        {
            "cell_type": "markdown",
            "source": [
                "Show which indexes in the current database are most active for Reads"
            ],
            "metadata": {
                "azdata_cell_guid": "c8b52b73-da11-475c-a66a-c953b92c60e0"
            },
            "attachments": {}
        },
        {
            "cell_type": "markdown",
            "source": [
                "## Index Read/Write stats (all tables in current DB) ordered by Writes (Query 74) (Overall Index Usage - Writes)"
            ],
            "metadata": {
                "azdata_cell_guid": "6870c6b5-96b5-4b73-89a0-75b211013857"
            },
            "attachments": {}
        },
        {
            "cell_type": "code",
            "source": [
                "--- Index Read/Write stats (all tables in current DB) ordered by Writes  (Query 74) (Overall Index Usage - Writes)\r\n",
                "SELECT OBJECT_NAME(i.[object_id]) AS [ObjectName], i.[name] AS [IndexName], i.index_id,\r\n",
                "\t   s.user_updates AS [Writes], s.user_seeks + s.user_scans + s.user_lookups AS [Total Reads], \r\n",
                "\t   i.[type_desc] AS [Index Type], i.fill_factor AS [Fill Factor], i.has_filter, i.filter_definition,\r\n",
                "\t   s.last_system_update, s.last_user_update\r\n",
                "FROM sys.indexes AS i WITH (NOLOCK)\r\n",
                "LEFT OUTER JOIN sys.dm_db_index_usage_stats AS s WITH (NOLOCK)\r\n",
                "ON i.[object_id] = s.[object_id]\r\n",
                "AND i.index_id = s.index_id\r\n",
                "AND s.database_id = DB_ID()\r\n",
                "WHERE OBJECTPROPERTY(i.[object_id],'IsUserTable') = 1\r\n",
                "ORDER BY s.user_updates DESC OPTION (RECOMPILE);\t\t\t\t\t\t -- Order by writes"
            ],
            "metadata": {
                "azdata_cell_guid": "f67ac348-56ca-42fd-acfc-ccc1d1d2f227"
            },
            "outputs": [],
            "execution_count": null
        },
        {
            "cell_type": "markdown",
            "source": [
                "Show which indexes in the current database are most active for Writes"
            ],
            "metadata": {
                "azdata_cell_guid": "8ea20b09-335a-4453-9c31-6c88595ef43a"
            },
            "attachments": {}
        },
        {
            "cell_type": "markdown",
            "source": [
                "## Get in-memory OLTP index usage (Query 75) (XTP Index Usage)"
            ],
            "metadata": {
                "azdata_cell_guid": "f819af54-6545-4f41-ada3-7adcebc563b0"
            },
            "attachments": {}
        },
        {
            "cell_type": "code",
            "source": [
                "-- Get in-memory OLTP index usage (Query 75) (XTP Index Usage)\r\n",
                "SELECT OBJECT_NAME(i.[object_id]) AS [Object Name], i.index_id, i.[name] AS [Index Name],\r\n",
                "       i.[type_desc], xis.scans_started, xis.scans_retries, \r\n",
                "\t   xis.rows_touched, xis.rows_returned\r\n",
                "FROM sys.dm_db_xtp_index_stats AS xis WITH (NOLOCK)\r\n",
                "INNER JOIN sys.indexes AS i WITH (NOLOCK)\r\n",
                "ON i.[object_id] = xis.[object_id] \r\n",
                "AND i.index_id = xis.index_id \r\n",
                "ORDER BY OBJECT_NAME(i.[object_id]) OPTION (RECOMPILE);"
            ],
            "metadata": {
                "azdata_cell_guid": "04a0262f-d6f9-44a4-9cd3-364d5994b14f"
            },
            "outputs": [],
            "execution_count": null
        },
        {
            "cell_type": "markdown",
            "source": [
                "This gives you some index usage statistics for in-memory OLTP\n",
                "\n",
                "- Returns no data if you are not using in-memory OLTP\n",
                "\n",
                "[Guidelines for Using Indexes on Memory-Optimized Tables](https://bit.ly/2GCP8lF)"
            ],
            "metadata": {
                "azdata_cell_guid": "78391364-fe61-41c6-92ed-e9462abe1acb"
            },
            "attachments": {}
        },
        {
            "cell_type": "markdown",
            "source": [
                "## Look at Columnstore index physical statistics (Query 76) (Columnstore Index Physical Stat)"
            ],
            "metadata": {
                "azdata_cell_guid": "c64673a8-3c0c-4f0d-8af2-43aed91c03d8"
            },
            "attachments": {}
        },
        {
            "cell_type": "code",
            "source": [
                "-- Look at Columnstore index physical statistics (Query 76) (Columnstore Index Physical Stat)\r\n",
                "SELECT OBJECT_NAME(ps.object_id) AS [TableName],  \r\n",
                "\ti.[name] AS [IndexName], ps.index_id, ps.partition_number,\r\n",
                "\tps.delta_store_hobt_id, ps.state_desc, ps.total_rows, ps.size_in_bytes,\r\n",
                "\tps.trim_reason_desc, ps.generation, ps.transition_to_compressed_state_desc,\r\n",
                "\tps.has_vertipaq_optimization, ps.deleted_rows,\r\n",
                "\t100 * (ISNULL(ps.deleted_rows, 0))/ps.total_rows AS [Fragmentation]\r\n",
                "FROM sys.dm_db_column_store_row_group_physical_stats AS ps WITH (NOLOCK)\r\n",
                "INNER JOIN sys.indexes AS i WITH (NOLOCK)\r\n",
                "ON ps.object_id = i.object_id \r\n",
                "AND ps.index_id = i.index_id\r\n",
                "ORDER BY ps.object_id, ps.partition_number, ps.row_group_id OPTION (RECOMPILE);"
            ],
            "metadata": {
                "azdata_cell_guid": "c0a2ae13-11c4-496d-9a92-74505c8d8dc7"
            },
            "outputs": [],
            "execution_count": null
        },
        {
            "cell_type": "markdown",
            "source": [
                "[sys.dm\\_db\\_column\\_store\\_row\\_group\\_physical\\_stats (Transact-SQL)](https://bit.ly/2q276XQ)"
            ],
            "metadata": {
                "azdata_cell_guid": "04a38c93-059c-408b-9f3b-14052624c2d3"
            },
            "attachments": {}
        },
        {
            "cell_type": "markdown",
            "source": [
                "## Get any resumable index rebuild operation information (Query 82) (Resumable Index Rebuild)"
            ],
            "metadata": {
                "azdata_cell_guid": "ada0921b-13d4-45a2-8b03-91c90f3ed4fd"
            },
            "attachments": {}
        },
        {
            "cell_type": "code",
            "source": [
                "-- Get any resumable index rebuild operation information (Query 82) (Resumable Index Rebuild)\r\n",
                "SELECT OBJECT_NAME(iro.object_id) AS [Object Name], iro.index_id, iro.name AS [Index Name],\r\n",
                "       iro.sql_text, iro.last_max_dop_used, iro.partition_number, iro.state_desc, iro.start_time, iro.percent_complete\r\n",
                "FROM  sys.index_resumable_operations AS iro WITH (NOLOCK)\r\n",
                "OPTION (RECOMPILE);"
            ],
            "metadata": {
                "azdata_cell_guid": "8d327bdc-971c-421b-9dc8-0bdb00b2da0f"
            },
            "outputs": [],
            "execution_count": null
        },
        {
            "cell_type": "markdown",
            "source": [
                "[index\\_resumable\\_operations (Transact-SQL)](https://bit.ly/2pYSWqq)"
            ],
            "metadata": {
                "azdata_cell_guid": "55f0f26f-4b46-4d7c-816e-23d10024ef34"
            },
            "attachments": {}
        }
    ]
}