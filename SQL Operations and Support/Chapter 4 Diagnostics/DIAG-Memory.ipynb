{
    "metadata": {
        "kernelspec": {
            "name": "SQL",
            "display_name": "SQL",
            "language": "sql"
        },
        "language_info": {
            "name": "sql",
            "version": ""
        },
        "extensions": {
            "azuredatastudio": {
                "version": 1,
                "views": []
            }
        }
    },
    "nbformat_minor": 2,
    "nbformat": 4,
    "cells": [
        {
            "cell_type": "markdown",
            "source": [
                "![CH4-ADS.png](.\\Media\\CH4-ADS.png)\r\n",
                "\r\n",
                "## Get information on location, time and size of any memory dumps from SQL Server (Memory Dump Info)\r\n",
                "\r\n",
                "### <span style=\"color:rgb(0, 204, 153);\">Run the Code block below</span>\r\n",
                "\r\n",
                "1. Click the run icon below\r\n",
                "2. If ADS prompts you for a connection, enter the correct SQL Server and authentication account\r\n",
                "3. View the results of the query by scrolling down to the results set"
            ],
            "metadata": {
                "azdata_cell_guid": "cef9eefa-83b0-4b80-b8d4-0bb5731f9689"
            },
            "attachments": {}
        },
        {
            "cell_type": "code",
            "source": [
                "-- Get information on location, time and size of any memory dumps from SQL Server (Memory Dump Info)\r\n",
                "SELECT [filename], creation_time, size_in_bytes/1048576.0 AS [Size (MB)]\r\n",
                "FROM sys.dm_server_memory_dumps WITH (NOLOCK) \r\n",
                "ORDER BY creation_time DESC OPTION (RECOMPILE);"
            ],
            "metadata": {
                "azdata_cell_guid": "2f766f9a-3fa7-4c5f-a30f-7425be48ceb3"
            },
            "outputs": [],
            "execution_count": null
        },
        {
            "cell_type": "markdown",
            "source": [
                "This will not return any rows if you have not had any memory dumps (which is a good thing)\n",
                "\n",
                "[sys.dm\\_server\\_memory\\_dumps (Transact-SQL)](https://bit.ly/2elwWll)"
            ],
            "metadata": {
                "azdata_cell_guid": "9ae6d18e-c310-491f-a83c-2e701dbcad21"
            },
            "attachments": {}
        },
        {
            "cell_type": "markdown",
            "source": [
                "## Page Life Expectancy (PLE) value for each NUMA node in current instance (PLE by NUMA Node)\r\n",
                "\r\n",
                "### <span style=\"color:rgb(0, 204, 153);\">Run the Code block below</span>\r\n",
                "\r\n",
                "1. Click the run icon below\r\n",
                "2. If ADS prompts you for a connection, enter the correct SQL Server and authentication account\r\n",
                "3. View the results of the query by scrolling down to the results set"
            ],
            "metadata": {
                "azdata_cell_guid": "5d8642aa-031d-4dbd-9886-1663ec6edabe"
            },
            "attachments": {}
        },
        {
            "cell_type": "code",
            "source": [
                "-- Page Life Expectancy (PLE) value for each NUMA node in current instance (PLE by NUMA Node)\r\n",
                "SELECT @@SERVERNAME AS [Server Name], RTRIM([object_name]) AS [Object Name], \r\n",
                "       instance_name, cntr_value AS [Page Life Expectancy]\r\n",
                "FROM sys.dm_os_performance_counters WITH (NOLOCK)\r\n",
                "WHERE [object_name] LIKE N'%Buffer Node%' -- Handles named instances\r\n",
                "AND counter_name = N'Page life expectancy' OPTION (RECOMPILE);"
            ],
            "metadata": {
                "azdata_cell_guid": "2db2acbe-7742-4f96-bfcb-9d7fb33eee3c"
            },
            "outputs": [],
            "execution_count": null
        },
        {
            "cell_type": "markdown",
            "source": [
                "<span style=\"color: rgb(255, 255, 254); white-space: normal;\">PLE is a good measurement of internal memory pressure</span>\n",
                "\n",
                "- Higher PLE is better. Watch the trend over time, not the absolute value\n",
                "- This will only return one row for non-NUMA systems\n",
                "\n",
                "[Page Life Expectancy isn’t what you think…](https://bit.ly/2EgynLa)"
            ],
            "metadata": {
                "azdata_cell_guid": "ee74b25d-73b5-4452-9a53-83b38a075adb"
            },
            "attachments": {}
        },
        {
            "cell_type": "markdown",
            "source": [
                "## Memory Grants Pending value for current instance (Memory Grants Pending)\r\n",
                "\r\n",
                "### <span style=\"color:rgb(0, 204, 153);\">Run the Code block below</span>\r\n",
                "\r\n",
                "1. Click the run icon below\r\n",
                "2. If ADS prompts you for a connection, enter the correct SQL Server and authentication account\r\n",
                "3. View the results of the query by scrolling down to the results set"
            ],
            "metadata": {
                "azdata_cell_guid": "131ef0a0-1325-4852-a0e7-1aa219337ed7"
            },
            "attachments": {}
        },
        {
            "cell_type": "code",
            "source": [
                "-- Memory Grants Pending value for current instance (Memory Grants Pending)\r\n",
                "SELECT @@SERVERNAME AS [Server Name], RTRIM([object_name]) AS [Object Name], cntr_value AS [Memory Grants Pending]                                                                                                       \r\n",
                "FROM sys.dm_os_performance_counters WITH (NOLOCK)\r\n",
                "WHERE [object_name] LIKE N'%Memory Manager%' -- Handles named instances\r\n",
                "AND counter_name = N'Memory Grants Pending' OPTION (RECOMPILE);"
            ],
            "metadata": {
                "azdata_cell_guid": "f121f60e-d608-4506-8585-9eac9865099e"
            },
            "outputs": [],
            "execution_count": null
        },
        {
            "cell_type": "markdown",
            "source": [
                "Run multiple times, and run periodically if you suspect you are under memory pressure\n",
                "\n",
                "- Memory Grants Pending above zero for a sustained period is a very strong indicator of internal memory pressure"
            ],
            "metadata": {
                "azdata_cell_guid": "0fcbc76d-d9e2-46e9-8e0c-2766566265ff"
            },
            "attachments": {}
        },
        {
            "cell_type": "markdown",
            "source": [
                "## Memory Clerk Usage for instance (Memory Clerk Usage)\r\n",
                "\r\n",
                "### <span style=\"color:rgb(0, 204, 153);\">Run the Code block below</span>\r\n",
                "\r\n",
                "1. Click the run icon below\r\n",
                "2. If ADS prompts you for a connection, enter the correct SQL Server and authentication account\r\n",
                "3. View the results of the query by scrolling down to the results set"
            ],
            "metadata": {
                "azdata_cell_guid": "3807d86e-4bdf-4d3a-9e31-2fdab82f3f1c"
            },
            "attachments": {}
        },
        {
            "cell_type": "code",
            "source": [
                "-- Memory Clerk Usage for instance (Memory Clerk Usage)\r\n",
                "-- Look for high value for CACHESTORE_SQLCP (Ad-hoc query plans)\r\n",
                "SELECT TOP(10) mc.[type] AS [Memory Clerk Type], \r\n",
                "       CAST((SUM(mc.pages_kb)/1024.0) AS DECIMAL (15,2)) AS [Memory Usage (MB)] \r\n",
                "FROM sys.dm_os_memory_clerks AS mc WITH (NOLOCK)\r\n",
                "GROUP BY mc.[type]  \r\n",
                "ORDER BY SUM(mc.pages_kb) DESC OPTION (RECOMPILE);"
            ],
            "metadata": {
                "azdata_cell_guid": "fdbc0467-c329-4786-892c-4646e6e1fae4",
                "tags": []
            },
            "outputs": [],
            "execution_count": null
        },
        {
            "cell_type": "markdown",
            "source": [
                "**MEMORYCLERK\\_SQLBUFFERPOOL** was new for SQL Server 2012. It should be your highest consumer of memory\n",
                "\n",
                "**CACHESTORE\\_SQLCP** - SQL Plans\n",
                "\n",
                "- These are cached SQL statements or batches that aren't in stored procedures, functions and triggers\n",
                "- Watch out for high values for CACHESTORE\\_SQLCP\n",
                "- Enabling 'optimize for ad hoc workloads' at the instance level can help reduce this\n",
                "- Running DBCC FREESYSTEMCACHE ('SQL Plans') periodically may be required to better control this\n",
                "\n",
                "**CACHESTORE\\_OBJCP** - Object Plans\n",
                "\n",
                "- These are compiled plans for stored procedures, functions and triggers\n",
                "\n",
                "[sys.dm\\_os\\_memory\\_clerks (Transact-SQL)](https://bit.ly/2H31xDR)"
            ],
            "metadata": {
                "azdata_cell_guid": "788eb638-c508-44c7-9c69-d721ea51fb3b"
            },
            "attachments": {}
        }
    ]
}