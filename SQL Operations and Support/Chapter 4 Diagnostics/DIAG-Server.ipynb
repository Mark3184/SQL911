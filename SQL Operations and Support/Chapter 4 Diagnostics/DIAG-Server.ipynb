{
    "metadata": {
        "kernelspec": {
            "name": "SQL",
            "display_name": "SQL",
            "language": "sql"
        },
        "language_info": {
            "name": "sql",
            "version": ""
        },
        "extensions": {
            "azuredatastudio": {
                "version": 1,
                "views": []
            }
        }
    },
    "nbformat_minor": 2,
    "nbformat": 4,
    "cells": [
        {
            "cell_type": "markdown",
            "source": [
                "DIAG Server"
            ],
            "metadata": {
                "azdata_cell_guid": "906dd5b6-4c2a-4325-a1d6-59ac610559fe"
            },
            "attachments": {}
        },
        {
            "cell_type": "markdown",
            "source": [
                "## Host information (Query 11) (Host Info)"
            ],
            "metadata": {
                "azdata_cell_guid": "aa62c9c1-3462-4d80-aee0-9eac2261e71e"
            },
            "attachments": {}
        },
        {
            "cell_type": "code",
            "source": [
                "-- Host information (Query 11) (Host Info)\r\n",
                "SELECT host_platform, host_distribution, host_release, \r\n",
                "       host_service_pack_level, host_sku, os_language_version \r\n",
                "FROM sys.dm_os_host_info WITH (NOLOCK) OPTION (RECOMPILE); "
            ],
            "metadata": {
                "azdata_cell_guid": "e0dafcc2-c6b5-4f89-a1d4-c97ecea85aee"
            },
            "outputs": [],
            "execution_count": null
        },
        {
            "cell_type": "markdown",
            "source": [
                "[Hardware and Software Requirements for Installing SQL Server](https://bit.ly/2y3ka5L)"
            ],
            "metadata": {
                "azdata_cell_guid": "5c9f9d11-909c-408d-b78e-4266f4d1ea4e"
            },
            "attachments": {}
        },
        {
            "cell_type": "markdown",
            "source": [
                "## SQL Server NUMA Node information (Query 12) (SQL Server NUMA Info)"
            ],
            "metadata": {
                "azdata_cell_guid": "23c08709-e5a2-413e-894b-a6fa00427a45"
            },
            "attachments": {}
        },
        {
            "cell_type": "code",
            "source": [
                "-- SQL Server NUMA Node information  (Query 12) (SQL Server NUMA Info)\r\n",
                "SELECT node_id, node_state_desc, memory_node_id, processor_group, cpu_count, online_scheduler_count, \r\n",
                "       idle_scheduler_count, active_worker_count, avg_load_balance, resource_monitor_state\r\n",
                "FROM sys.dm_os_nodes WITH (NOLOCK) \r\n",
                "WHERE node_state_desc <> N'ONLINE DAC' OPTION (RECOMPILE);"
            ],
            "metadata": {
                "azdata_cell_guid": "a512acc2-10a5-427c-b173-084393443292"
            },
            "outputs": [],
            "execution_count": null
        },
        {
            "cell_type": "markdown",
            "source": [
                "Gives you some useful information about the composition and relative load on your NUMA nodes\n",
                "\n",
                "- You want to see an equal number of schedulers on each NUMA node\n",
                "- Watch out if SQL Server 2019 Standard Edition has been installed on a physical or virtual machine with more than four sockets or more than 24 physical cores\n",
                "\n",
                "[sys.dm\\_os\\_nodes (Transact-SQL)](https://bit.ly/2pn5Mw8)\n",
                "\n",
                "[How to Balance SQL Server Core Licenses Across NUMA Nodes](https://bit.ly/3i4TyVR)"
            ],
            "metadata": {
                "azdata_cell_guid": "683f5a28-e0f0-40f5-b5a5-7210e3cff54c"
            },
            "attachments": {}
        },
        {
            "cell_type": "markdown",
            "source": [
                "## Good basic information about OS memory amounts and state (Query 13) (System Memory)"
            ],
            "metadata": {
                "azdata_cell_guid": "6fb3889a-71aa-4d9e-968d-706e1b8bd07e"
            },
            "attachments": {}
        },
        {
            "cell_type": "code",
            "source": [
                "-- Good basic information about OS memory amounts and state  (Query 13) (System Memory)\r\n",
                "SELECT total_physical_memory_kb/1024 AS [Physical Memory (MB)], \r\n",
                "       available_physical_memory_kb/1024 AS [Available Memory (MB)], \r\n",
                "       total_page_file_kb/1024 AS [Page File Commit Limit (MB)],\r\n",
                "\t   total_page_file_kb/1024 - total_physical_memory_kb/1024 AS [Physical Page File Size (MB)],\r\n",
                "\t   available_page_file_kb/1024 AS [Available Page File (MB)], \r\n",
                "\t   system_cache_kb/1024 AS [System Cache (MB)],\r\n",
                "       system_memory_state_desc AS [System Memory State]\r\n",
                "FROM sys.dm_os_sys_memory WITH (NOLOCK) OPTION (RECOMPILE);"
            ],
            "metadata": {
                "azdata_cell_guid": "a5c20b4a-9165-434a-968a-164657d120a7"
            },
            "outputs": [],
            "execution_count": null
        },
        {
            "cell_type": "markdown",
            "source": [
                "You want to see \"Available physical memory is high\" for System Memory State. This indicates that you are not under external memory pressure\n",
                "\n",
                "Possible System Memory State values:\n",
                "\n",
                "- Available physical memory is high\n",
                "- Physical memory usage is steady\n",
                "- Available physical memory is low\n",
                "- Available physical memory is running low\n",
                "- Physical memory state is transitioning\n",
                "\n",
                "[sys.dm\\_os\\_sys\\_memory (Transact-SQL)](https://bit.ly/2pcV0xq)"
            ],
            "metadata": {
                "azdata_cell_guid": "94ee5496-bf41-4922-99b0-0c93540c3ad7"
            },
            "attachments": {}
        },
        {
            "cell_type": "markdown",
            "source": [
                "## Get information about your cluster nodes and their status (Query 14) (Cluster Node Properties)\n",
                "\n",
                "> Skip this query if you know you don't have a clustered instance."
            ],
            "metadata": {
                "azdata_cell_guid": "fbc8feb9-01ad-4e71-b795-2dfb05f78262"
            },
            "attachments": {}
        },
        {
            "cell_type": "code",
            "source": [
                "-- Get information about your cluster nodes and their status  (Query 14) (Cluster Node Properties)\r\n",
                "-- (if your database server is in a failover cluster)\r\n",
                "SELECT NodeName, status_description, is_current_owner\r\n",
                "FROM sys.dm_os_cluster_nodes WITH (NOLOCK) OPTION (RECOMPILE);"
            ],
            "metadata": {
                "azdata_cell_guid": "03426ef9-88c5-43ba-8e13-2cbcabe62817"
            },
            "outputs": [],
            "execution_count": null
        },
        {
            "cell_type": "markdown",
            "source": [
                "- Knowing which node owns the cluster resources is critical\n",
                "- Especially when you are installing Windows or SQL Server updates\n",
                "- You will see no results if your instance is not clustered"
            ],
            "metadata": {
                "azdata_cell_guid": "0884f461-e64a-4a47-b740-37d649924a66"
            },
            "attachments": {}
        },
        {
            "cell_type": "markdown",
            "source": [
                "## Hardware information from SQL Server 2019 (Query 17) (Hardware Info)"
            ],
            "metadata": {
                "azdata_cell_guid": "02ced7c9-d355-4154-95db-8bdeec679e06"
            },
            "attachments": {}
        },
        {
            "cell_type": "code",
            "source": [
                "-- Hardware information from SQL Server 2019  (Query 17) (Hardware Info)\r\n",
                "SELECT cpu_count AS [Logical CPU Count], scheduler_count, \r\n",
                "       (socket_count * cores_per_socket) AS [Physical Core Count], \r\n",
                "       socket_count AS [Socket Count], cores_per_socket, numa_node_count,\r\n",
                "       physical_memory_kb/1024 AS [Physical Memory (MB)], \r\n",
                "       max_workers_count AS [Max Workers Count], \r\n",
                "\t   affinity_type_desc AS [Affinity Type], \r\n",
                "       sqlserver_start_time AS [SQL Server Start Time],\r\n",
                "\t   DATEDIFF(hour, sqlserver_start_time, GETDATE()) AS [SQL Server Up Time (hrs)],\r\n",
                "\t   virtual_machine_type_desc AS [Virtual Machine Type], \r\n",
                "       softnuma_configuration_desc AS [Soft NUMA Configuration], \r\n",
                "\t   sql_memory_model_desc, \r\n",
                "\t   container_type_desc -- New in SQL Server 2019\r\n",
                "FROM sys.dm_os_sys_info WITH (NOLOCK) OPTION (RECOMPILE);"
            ],
            "metadata": {
                "azdata_cell_guid": "4b60d89e-a46c-4b0b-aba7-eff07610f8d1"
            },
            "outputs": [],
            "execution_count": null
        },
        {
            "cell_type": "markdown",
            "source": [
                "Gives you some good basic hardware information about your database server\n",
                "\n",
                "**Note:** virtual\\_machine\\_type\\_desc of HYPERVISOR does not automatically mean you are running SQL Server inside of a VM. It merely indicates that you have a hypervisor running on your host\n",
                "\n",
                "[sys.dm\\_os\\_sys\\_info (Transact-SQL)](https://bit.ly/2pczOYs)\n",
                "\n",
                "Soft NUMA configuration was a new column for SQL Server 2016\n",
                "\n",
                "- OFF = Soft-NUMA feature is OFF\n",
                "- ON = SQL Server automatically determines the NUMA node sizes for Soft-NUMA\n",
                "- MANUAL = Manually configured soft-NUMA\n",
                "\n",
                "[Configure SQL Server to Use Soft-NUMA (SQL Server)](https://bit.ly/2HTpKJt)\n",
                "\n",
                "sql\\_memory\\_model\\_desc values (Added in SQL Server 2016 SP1)\n",
                "\n",
                "- CONVENTIONAL\n",
                "- LOCK\\_PAGES\n",
                "- LARGE\\_PAGES"
            ],
            "metadata": {
                "azdata_cell_guid": "f528ae44-aa79-47ef-81c7-1231f4c1cb65"
            },
            "attachments": {}
        },
        {
            "cell_type": "markdown",
            "source": [
                "## Get System Manufacturer and model number from SQL Server Error log (Query 18) (System Manufacturer)"
            ],
            "metadata": {
                "azdata_cell_guid": "739316fc-0c0b-4e23-a572-72bc166b6cfb"
            },
            "attachments": {}
        },
        {
            "cell_type": "code",
            "source": [
                "-- Get System Manufacturer and model number from SQL Server Error log (Query 18) (System Manufacturer)\r\n",
                "EXEC sys.xp_readerrorlog 0, 1, N'Manufacturer';"
            ],
            "metadata": {
                "azdata_cell_guid": "22b01123-592c-44ae-a3e0-216208cc7346",
                "tags": []
            },
            "outputs": [],
            "execution_count": null
        },
        {
            "cell_type": "markdown",
            "source": [
                "This can help you determine the capabilities and capacities of your database server\n",
                "\n",
                "- Can also be used to confirm if you are running in a VM\n",
                "- This query might take a few seconds if you have not recycled your error log recently\n",
                "- This query will return no results if your error log has been recycled since the instance was started"
            ],
            "metadata": {
                "azdata_cell_guid": "a0cdde2a-fdbb-47ad-85af-6b9da2f63870"
            },
            "attachments": {}
        },
        {
            "cell_type": "markdown",
            "source": [
                "## Get BIOS date from Windows Registry (Query 19) (BIOS Date)"
            ],
            "metadata": {
                "azdata_cell_guid": "a2e9cbd1-6add-4881-a460-b570a64b80ab"
            },
            "attachments": {}
        },
        {
            "cell_type": "code",
            "source": [
                "-- Get BIOS date from Windows Registry (Query 19) (BIOS Date)\r\n",
                "EXEC sys.xp_instance_regread N'HKEY_LOCAL_MACHINE', N'HARDWARE\\DESCRIPTION\\System\\BIOS', N'BiosReleaseDate';"
            ],
            "metadata": {
                "azdata_cell_guid": "717f4ba9-2a29-42c1-bbc8-2f446f0966e8"
            },
            "outputs": [],
            "execution_count": null
        },
        {
            "cell_type": "markdown",
            "source": [
                "Helps you understand whether the main system BIOS is up to date, and the possible age of the hardware\n",
                "\n",
                "- Not as useful for virtualization\n",
                "- Does not work on Linux"
            ],
            "metadata": {
                "azdata_cell_guid": "39e0d41c-9505-4c39-af18-c18550b70876"
            },
            "attachments": {}
        },
        {
            "cell_type": "markdown",
            "source": [
                "## Get processor description from Windows Registry (Query 20) (Processor Description)"
            ],
            "metadata": {
                "azdata_cell_guid": "833ff6fc-cb3e-40f4-acbb-bddc00dc159e"
            },
            "attachments": {}
        },
        {
            "cell_type": "code",
            "source": [
                "-- Get processor description from Windows Registry  (Query 20) (Processor Description)\r\n",
                "EXEC sys.xp_instance_regread N'HKEY_LOCAL_MACHINE', N'HARDWARE\\DESCRIPTION\\System\\CentralProcessor\\0', N'ProcessorNameString';"
            ],
            "metadata": {
                "azdata_cell_guid": "6ace7a9b-5fc1-4ec9-bcc9-67b035c10fce",
                "tags": []
            },
            "outputs": [],
            "execution_count": null
        },
        {
            "cell_type": "markdown",
            "source": [
                "Gives you the model number and rated clock speed of your processor(s)\n",
                "\n",
                "- Your processors may be running at less than the rated clock speed due to the Windows Power Plan or hardware power management\n",
                "- Does not work on Linux\n",
                "\n",
                "You can use [CPU-Z](https://bit.ly/QhR6xF) to get your actual CPU core speed and a lot of other useful information\n",
                "\n",
                "You can learn more about processor selection for SQL Server by [following this link](https://bit.ly/2F3aVlP)"
            ],
            "metadata": {
                "azdata_cell_guid": "3cfd228a-7706-450e-b4ec-291849fbe45c"
            },
            "attachments": {}
        }
    ]
}