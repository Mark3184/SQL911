{
    "metadata": {
        "kernelspec": {
            "name": "SQL",
            "display_name": "SQL",
            "language": "sql"
        },
        "language_info": {
            "name": "sql",
            "version": ""
        },
        "extensions": {
            "azuredatastudio": {
                "version": 1,
                "views": []
            }
        }
    },
    "nbformat_minor": 2,
    "nbformat": 4,
    "cells": [
        {
            "cell_type": "markdown",
            "source": [
                "Get SQL Server Agent jobs and Category information (Query 9) (SQL Server Agent Jobs)"
            ],
            "metadata": {
                "azdata_cell_guid": "5b23b7c9-b4fc-446e-a3ad-280623aac5fa"
            },
            "attachments": {}
        },
        {
            "cell_type": "code",
            "source": [
                "-- Get SQL Server Agent jobs and Category information (Query 9) (SQL Server Agent Jobs)\r\n",
                "SELECT sj.name AS [Job Name], sj.[description] AS [Job Description], SUSER_SNAME(sj.owner_sid) AS [Job Owner],\r\n",
                "sj.date_created AS [Date Created], sj.[enabled] AS [Job Enabled], \r\n",
                "sj.notify_email_operator_id, sj.notify_level_email, sc.name AS [CategoryName],\r\n",
                "s.[enabled] AS [Sched Enabled], js.next_run_date, js.next_run_time\r\n",
                "FROM msdb.dbo.sysjobs AS sj WITH (NOLOCK)\r\n",
                "INNER JOIN msdb.dbo.syscategories AS sc WITH (NOLOCK)\r\n",
                "ON sj.category_id = sc.category_id\r\n",
                "LEFT OUTER JOIN msdb.dbo.sysjobschedules AS js WITH (NOLOCK)\r\n",
                "ON sj.job_id = js.job_id\r\n",
                "LEFT OUTER JOIN msdb.dbo.sysschedules AS s WITH (NOLOCK)\r\n",
                "ON js.schedule_id = s.schedule_id\r\n",
                "ORDER BY sj.name OPTION (RECOMPILE);"
            ],
            "metadata": {
                "azdata_cell_guid": "44d92ee5-5680-44b2-af17-5057ae3dedb5"
            },
            "outputs": [],
            "execution_count": null
        },
        {
            "cell_type": "markdown",
            "source": [
                "Gives you some basic information about your SQL Server Agent jobs, who owns them and how they are configured\n",
                "\n",
                "- Look for Agent jobs that are not owned by sa\n",
                "- Look for jobs that have a notify\\_email\\_operator\\_id set to 0 (meaning no operator)\n",
                "- Look for jobs that have a notify\\_level\\_email set to 0 (meaning no e-mail is ever sent)\n",
                "\n",
                "[MSDN sysjobs documentation](https://bit.ly/2paDEOP)\n",
                "\n",
                "[SQL Server Maintenance Solution- Ola Hallengren](https://bit.ly/1pgchQu)\n",
                "\n",
                "[You can use this script to add default schedules to the standard Ola Hallengren Maintenance Solution jobs](https://bit.ly/3ane0gN)"
            ],
            "metadata": {
                "azdata_cell_guid": "40ec667b-dae3-4f88-ab2e-1d449659ee71"
            },
            "attachments": {}
        },
        {
            "cell_type": "markdown",
            "source": [
                "<span style=\"font-size: 21px;\">Get SQL Server Agent Alert Information (Query 10) (SQL Server Agent Alerts)</span>"
            ],
            "metadata": {
                "azdata_cell_guid": "b6f97dc7-1ea1-4205-96a3-2ed91dd0d77a"
            },
            "attachments": {}
        },
        {
            "cell_type": "code",
            "source": [
                "-- Get SQL Server Agent Alert Information (Query 10) (SQL Server Agent Alerts)\r\n",
                "SELECT name, event_source, message_id, severity, [enabled], has_notification, \r\n",
                "       delay_between_responses, occurrence_count, last_occurrence_date, last_occurrence_time\r\n",
                "FROM msdb.dbo.sysalerts WITH (NOLOCK)\r\n",
                "ORDER BY name OPTION (RECOMPILE);"
            ],
            "metadata": {
                "azdata_cell_guid": "7bd5b25a-aa40-48a9-ad90-21b718b28651"
            },
            "outputs": [],
            "execution_count": null
        },
        {
            "cell_type": "markdown",
            "source": [
                "Gives you some basic information about your SQL Server Agent Alerts, which are different from SQL Server Agent jobs\n",
                "\n",
                "- Read more about Agent Alerts [here](https://bit.ly/2v5YR37)\n",
                "\n",
                "Check this out and maybe add another Agent Page or better yet, add this to an Azure Chapter.  Managing SQL Server Agent Jobs with Notebook Jobs in ADS [Managing SQL Server Agent jobs with Notebook Jobs in Azure Data Studio | Data Exposed: MVP Edition - YouTube](https://www.youtube.com/watch?v=wQU7zUYxUW8)"
            ],
            "metadata": {
                "azdata_cell_guid": "69230655-985c-4aa2-a33b-45e7485fb016"
            },
            "attachments": {}
        }
    ]
}