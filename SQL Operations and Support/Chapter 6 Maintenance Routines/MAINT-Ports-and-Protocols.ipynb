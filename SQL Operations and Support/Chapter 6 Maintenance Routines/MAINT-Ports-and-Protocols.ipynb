{
    "metadata": {
        "kernelspec": {
            "name": "SQL",
            "display_name": "SQL",
            "language": "sql"
        },
        "language_info": {
            "name": "sql",
            "version": ""
        }
    },
    "nbformat_minor": 2,
    "nbformat": 4,
    "cells": [
        {
            "cell_type": "markdown",
            "source": [
                "![CH6-ADS.png](.\\Media\\CH6-ADS.png)\n",
                "\n",
                "# <span style=\"color:#cc5500;\">SQL Server Ports and Protocols</span>\n",
                "\n",
                "Securing SQL Server is a big priority for DBA's and many times I get asked questions related to the ports that the various SQL Server features use so that our customers can apply for the appropriate firewall exception rules.  Many MCS consultants from other technologies frequently ask me for SQL Port information and SQL Books On-Line has good documentation on this, but it can be difficult to find what you are looking for if you are not a regular reader of SQL BOL.  I have consolidated all of the various bits of information into this single document so that the appropriate firewall exceptions can be requested.\n",
                "\n",
                "Firewalled systems help prevent unauthorized access to computer resources.  To access an instance of the SQL Server Database Engine through a firewall, you must configure the firewall on the computer running SQL Server to allow access.  Opening ports in your firewall can leave your server exposed to malicious attacks.  Make sure that you understand firewall systems before you open ports. For more information, see [Security Considerations - SQL Server | Microsoft Docs](https://docs.microsoft.com/en-us/sql/sql-server/install/security-considerations-for-a-sql-server-installation?redirectedfrom=MSDN&view=sql-server-ver15) \n",
                "\n",
                "Enable only those protocols that are needed.  For example, if TCP/IP is sufficient, there is no need to enable the Named Pipes protocol.  When SQL Server is installed, no Service Broker, HTTP, or Database Mirroring endpoints are created.  This is in line with the general policy of “off by default, enable when needed”."
            ],
            "metadata": {
                "azdata_cell_guid": "f8d6666e-0b6b-4af2-b335-ae95bb7b895a"
            },
            "attachments": {}
        }
    ]
}