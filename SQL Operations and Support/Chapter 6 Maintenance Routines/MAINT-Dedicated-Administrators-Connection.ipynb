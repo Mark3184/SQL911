{
    "metadata": {
        "kernelspec": {
            "name": "SQL",
            "display_name": "SQL",
            "language": "sql"
        },
        "language_info": {
            "name": "sql",
            "version": ""
        }
    },
    "nbformat_minor": 2,
    "nbformat": 4,
    "cells": [
        {
            "cell_type": "markdown",
            "source": [
                "![CH6-ADS.png](.\\Media\\CH6-ADS.png)\r\n",
                "\r\n",
                "# <span style=\"color:#cc5500;\">Dedicated Administrators Connection: The DAC</span>"
            ],
            "metadata": {
                "azdata_cell_guid": "13cf10cd-8364-4a13-be44-2fae663e8b29"
            }
        },
        {
            "cell_type": "markdown",
            "source": [
                "## <span style=\"color:#cc5500;\">What is the DAC?</span>\n",
                "\n",
                "The DAC is nothing more than the acronym associated with the Dedicated Administrators Connection.  The DAC was created as a special tool for DBA's to connect to SQL Server and run queries in cases of critical performance conditions and problems.  SQL Server reserves a thread for you to connect to an instance and run queries in an emergency.   The DAC and the Remote DAC are essentially the same with the difference being 'where' you connect.  The DAC is enabled locally by default, but since most DBA's do not install SQL Server Managment Studio on their servers, I will demonstrate using the Remote DAC from a management server.\n",
                "\n",
                "SQL Server provides a special diagnostic connection for administrators when standard connections to the server are not possible. This diagnostic connection allows an administrator to access SQL Server to execute diagnostic queries and troubleshoot problems even when SQL Server is not responding to standard connection requests.  \n",
                "\n",
                "This dedicated administrator connection (DAC) supports encryption and other security features of SQL Server.  The DAC only allows changing the user context to another admin user.  \n",
                "\n",
                "SQL Server makes every attempt to make DAC connect successfully, but under <u>extreme</u> situations it may not be successful.  \n",
                "\n",
                ""
            ],
            "metadata": {
                "azdata_cell_guid": "66e189ae-c081-4df7-88ee-9dc3f260e016"
            },
            "attachments": {}
        },
        {
            "cell_type": "markdown",
            "source": [
                "## <span style=\"color:#cc5500;\">Understand some restrictions of the DAC?</span>\n",
                "\n",
                "Because the DAC exists solely for diagnosing server problems in rare circumstances, there are some restrictions on the connection:\n",
                "\n",
                "- To guarantee that there are resources available for the connection, only one DAC is allowed per instance of SQL Server. If a DAC connection is already active, any new request to connect through the DAC is denied with error 17810.\n",
                "- To conserve resources, SQL Server Express does not listen on the DAC port unless started with a trace flag 7806.\n",
                "- The DAC initially attempts to connect to the default database associated with the login. After it is successfully connected, you can connect to the master database. If the default database is offline or otherwise not available, the connection will return error 4060\n",
                "- However, it will succeed if you override the default database to connect to the master database instead using the following command:   sqlcmd -A -d master\n",
                "- SQL Server prohibits running parallel queries or commands with the DAC. For example, error 3637 is generated if you execute either of the following statements with the DAC:\n",
                "    - RESTORE Database\n",
                "    - BACKUP Database\n",
                "- Only limited resources are guaranteed to be available with the DAC. Do not use the DAC to run resource-intensive queries (for example. a complex join on large table) or queries that may block. This helps prevent the DAC from compounding any existing server problems.\n",
                "- For more information about these restrictions, see this link: [Diagnostic Connection for Database Administrators - SQL Server | Microsoft Docs](https://docs.microsoft.com/en-us/sql/database-engine/configure-windows/diagnostic-connection-for-database-administrators?redirectedfrom=MSDN&view=sql-server-ver15#restrictions)"
            ],
            "metadata": {
                "azdata_cell_guid": "7262ec67-718c-42d1-9442-725500048e4a"
            },
            "attachments": {}
        },
        {
            "cell_type": "markdown",
            "source": [
                "## <span style=\"color:#cc5500;\">When to use the DAC and how do I connect?</span>\n",
                "\n",
                "Plain and simple, the DAC is for emergencies.\n",
                "\n",
                "The Remote DAC is very important.  If for some reason you can't RDP to your SQL Management Server, if you cannot connect, or you can use the Remote DAC.  Because it is a single-port, single-thread, low memory, reserved connection, and cannot make use of parallel operations, do not use the DAC for every day administrative functions like checking in on the status of your backup jobs or index rebuild status.\n",
                "\n",
                "The first thing to do is see if the DAC is enabled, if not, we will enable it.\n",
                "\n",
                "### <span style=\"color:rgb(0, 204, 153);\">Run the Code block below</span>\n",
                "\n",
                "1. Click the run icon below\n",
                "2. If ADS prompts you for a connection, enter the correct SQL Server and authentication account\n",
                "3. View the results of the query by scrolling down to the results set"
            ],
            "metadata": {
                "azdata_cell_guid": "1db1ee75-5f74-40d7-a46b-320a8e96c928"
            },
            "attachments": {}
        },
        {
            "cell_type": "code",
            "source": [
                "--  Check for any pending configurations before you start.  If value_in_use is set to 1, then it is enabled\r\n",
                "SELECT *\r\n",
                "FROM sys.configurations\r\n",
                "WHERE name = 'remote admin connections'\r\n",
                "GO"
            ],
            "metadata": {
                "azdata_cell_guid": "3e8dcd1b-1546-469c-8907-fb8171f4e217"
            },
            "outputs": [],
            "execution_count": null
        },
        {
            "cell_type": "code",
            "source": [
                "-- If it wasn't enable from the query results above, enable it now\r\n",
                "EXEC sp_configure 'remote admin connections', 1;\r\n",
                "GO\r\n",
                "RECONFIGURE"
            ],
            "metadata": {
                "azdata_cell_guid": "82e237d1-55a5-4538-87d7-6a804eb98989",
                "tags": []
            },
            "outputs": [],
            "execution_count": null
        },
        {
            "cell_type": "markdown",
            "source": [
                "## <span style=\"color:#cc5500;\">Make a DAC Connection with SSMS</span>\n",
                "\n",
                "There are two ways to connecto to the Remote DAC.  1) Through a New Query in SSMS and 2) from the Command Prompt\n",
                "\n",
                "If can connect to an installation of SQL Server Management Studio that has the ability to connect to your cripled SQL Server, then you can run your queries through the SSMS User Interface.  If so, you will likely find this a better experience than using a Command Prompt.\n",
                "\n",
                "In SSMS select File New Database Engine Query\n",
                "\n",
                "![CH6-NewAdminQuery.jpg](.\\Media\\CH6-NewAdminQuery.jpg)\n",
                "\n",
                "Then ender admin: in front of the fully qualified Instance name\n",
                "\n",
                "![CH6-AdminConnect.jpg](.\\Media\\CH6-AdminConnect.jpg)\n",
                "\n",
                "It should connect you to the Instance.  Notice that at the bottom of your Query window, you will see admin: displayed in your connection.  If you have difficulty making a connection with a New Query, you may need to temporarily enable the SQL Browser Service.  If you receive a warning that someone else is already connected with a DAC connection, you can run this query to see who it is."
            ],
            "metadata": {
                "azdata_cell_guid": "3f821c2c-02f6-4714-870f-8381dfbecdd2"
            },
            "attachments": {}
        },
        {
            "cell_type": "code",
            "source": [
                "SELECT\r\n",
                "    a.host_name,\r\n",
                "    a.original_login_name,\r\n",
                "    a.session_id,\r\n",
                "    a.[status]\r\n",
                "FROM sys.dm_exec_sessions as a \r\n",
                "JOIN sys.endpoints as b \r\n",
                "on a.endpoint_id = b.endpoint_id\r\n",
                "where b.name = 'dedicated admin connection'"
            ],
            "metadata": {
                "azdata_cell_guid": "210ad964-5f98-4038-a552-d5eb083f0637",
                "tags": []
            },
            "outputs": [],
            "execution_count": null
        },
        {
            "cell_type": "code",
            "source": [
                "--Now that you are connected in SSMS copy this query and paste it into your SSMS Admin Query\r\n",
                "\r\n",
                "EXEC xp_ReadErrorLog 0, 1, N'Error'"
            ],
            "metadata": {
                "azdata_cell_guid": "ae92e569-85cf-45bd-a72e-26f2b5bc1458",
                "tags": []
            },
            "outputs": [],
            "execution_count": null
        },
        {
            "cell_type": "markdown",
            "source": [
                "View your resuls in SSMS\r\n",
                "\r\n",
                "![CH6-Error.jpg](.\\Media\\CH6-Error.jpg)\r\n",
                ""
            ],
            "metadata": {
                "azdata_cell_guid": "a1975598-f16f-4c82-9c30-62ed09c94962"
            },
            "attachments": {}
        },
        {
            "cell_type": "code",
            "source": [
                "--Now that you are connected in SSMS copy this query and paste it into your SSMS Admin Query\r\n",
                "-- Get information on location, time and size of any memory dumps from SQL Server (Memory Dump Info)\r\n",
                "SELECT [filename], creation_time, size_in_bytes/1048576.0 AS [Size (MB)]\r\n",
                "FROM sys.dm_server_memory_dumps WITH (NOLOCK) \r\n",
                "ORDER BY creation_time DESC OPTION (RECOMPILE);"
            ],
            "metadata": {
                "azdata_cell_guid": "aba4128a-69d2-437f-a26f-66975535a4dd"
            },
            "outputs": [],
            "execution_count": null
        },
        {
            "cell_type": "markdown",
            "source": [
                "## <span style=\"color:#cc5500;\">Make a DAC Connection from a Command Prompt</span>\n",
                "\n",
                "What if, for some reason, you are not able to RDP to your jump box where SSMS is installed?  You are not out of options.  You can connect from the command prompt.   Command Line syntax for making SQLCMD connections to your SQL instance is as follows:\n",
                "\n",
                "Syntax - \"sqlcmd\" followed by paramteters.  -S is the Severname (your fully qualified Instance), -U user name if using a SQL  account, -P your password, -d is the database (prefer master) -A means to make an Dedicated Admin Connection\n",
                "\n",
                "Using a SQL Account:  \n",
                "\n",
                "- sqlcmd -S KEVINWARRENSB2\\\\VIPER -U sa -P MyHardP@ssw0rd -d master -A\n",
                "\n",
                "Using a DOMAIN Account:\n",
                "\n",
                "- sqlcmd -S KEVINWARRENSB2\\\\VIPER -d master -A\n",
                "\n",
                "If you do not see your Command Prompt Terminal (by default at the bottom of your screen) from your menu bar, select View \\> Terminal\n",
                "\n",
                "Enter your connection command\n",
                "\n",
                "![CH6-CMDConnect.jpg](.\\Media\\CH6-CMDConnect.jpg)\n",
                "\n",
                "It should connect you to that instance.  You will know you are connected if you do not get an error and you are presented with the 1\\>   prompting you to enter your next Command\n",
                "\n",
                "Let's enter our first SQL statement to check on the health of this instance.  Say, for example you are having an emergency with your SQL Server and you want to look at your transaction log space."
            ],
            "metadata": {
                "azdata_cell_guid": "9cd06c56-9920-475a-ad03-85b1dd09adee"
            },
            "attachments": {}
        },
        {
            "cell_type": "code",
            "source": [
                "-- Don't run this command in this code block.  I've pasted it in here to make it easier for you to copy the statement\r\n",
                "-- Copy this command and paste it into your command terminal with your DAC connection\r\n",
                "-- Remember to add a GO below your statement, if not the command will not run until you add the GO and then hit enter on your keyboard\r\n",
                "DBCC SQLPERF(LOGSPACE);  \r\n",
                "GO"
            ],
            "metadata": {
                "azdata_cell_guid": "f2cacdbd-5efc-40b4-8a6a-b15515f9feaa",
                "tags": []
            },
            "outputs": [],
            "execution_count": null
        },
        {
            "cell_type": "markdown",
            "source": [
                "![CH6-LogSpace.jpg](.\\Media\\CH6-LogSpace.jpg)\n",
                "\n",
                "## <span style=\"color:#cc5500;\">What is next?</span>\n",
                "\n",
                "What is next is really up to you!  Making a DAC connection is one of those things that you don't do often.\n",
                "\n",
                "- Return to this notebook for a refresher\n",
                "- Practice makes perfect.  Unless you practice making a DAC connection, you may lose valuable time in an emergency.  Rehearse often\n",
                "- Take some time, to create a set of emergency query's that you can pull out in an emergency and save them somewhere easily accessible.  (many of those emergency query's are already provided in other chapters of this notebook)\n",
                "- Remember the restrictions I posted above.  You don't want to use the DAC to run an extremely resource consuming query and only make the situation worse.\n",
                "\n",
                "Here's a link that shows the SQLCMD utility and command: [sqlcmd Utility - SQL Server | Microsoft Docs](https://docs.microsoft.com/en-us/sql/tools/sqlcmd-utility?view=sql-server-ver15)"
            ],
            "metadata": {
                "azdata_cell_guid": "0e1a5f6e-d7cc-44d3-ad8c-e3c8d6dba255"
            },
            "attachments": {}
        }
    ]
}