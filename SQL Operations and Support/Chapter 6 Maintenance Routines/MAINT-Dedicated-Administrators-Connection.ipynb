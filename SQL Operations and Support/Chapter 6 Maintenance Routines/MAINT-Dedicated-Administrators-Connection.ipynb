{
    "metadata": {
        "kernelspec": {
            "name": "SQL",
            "display_name": "SQL",
            "language": "sql"
        },
        "language_info": {
            "name": "sql",
            "version": ""
        }
    },
    "nbformat_minor": 2,
    "nbformat": 4,
    "cells": [
        {
            "cell_type": "markdown",
            "source": [
                "![CH6-ADS.png](.\\Media\\CH6-ADS.png)\r\n",
                "\r\n",
                "# <span style=\"color:#cc5500;\">Dedicated Administrators Connection: The DAC</span>"
            ],
            "metadata": {
                "azdata_cell_guid": "13cf10cd-8364-4a13-be44-2fae663e8b29"
            }
        }
    ]
}