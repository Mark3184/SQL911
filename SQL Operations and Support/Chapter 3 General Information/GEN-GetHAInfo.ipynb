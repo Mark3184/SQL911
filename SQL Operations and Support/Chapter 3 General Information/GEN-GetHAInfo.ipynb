{
    "metadata": {
        "kernelspec": {
            "name": "SQL",
            "display_name": "SQL",
            "language": "sql"
        },
        "language_info": {
            "name": "sql",
            "version": ""
        },
        "extensions": {
            "azuredatastudio": {
                "version": 1,
                "views": []
            }
        }
    },
    "nbformat_minor": 2,
    "nbformat": 4,
    "cells": [
        {
            "cell_type": "markdown",
            "source": [
                "![CH3-ADS.png](.\\Media\\CH3-ADS.png)\n",
                "\n",
                "# <span style=\"color:rgb(204, 85, 0);\">Get High Availablity Information</span>\n",
                "\n",
                "## <span style=\"font-size:14px;\">The primary purpose of this notebook is to show if high availability like Windows Server Failover Clustering or Always On Availibility Groups has been configured.&nbsp; &nbsp;This notebook provides just a quick look into HA.&nbsp; There is an entire section of this book dedicated to High Availability.</span>\n",
                "\n",
                "### <span style=\"color:rgb(0, 204, 153);\">Run the Code block below</span>\n",
                "\n",
                "1. Click the run icon below\n",
                "2. If ADS prompts you for a connection, enter the correct SQL Server and authentication account\n",
                "3. View the results of the query by scrolling down to the results set"
            ],
            "metadata": {
                "azdata_cell_guid": "b3446297-8515-4084-a3d4-69c8e188cf37"
            },
            "attachments": {}
        },
        {
            "cell_type": "code",
            "source": [
                "SET NOCOUNT ON;\r\n",
                "SET ANSI_WARNINGS ON;\r\n",
                "SET QUOTED_IDENTIFIER ON;\r\n",
                "\r\n",
                "DECLARE @sqlcmd NVARCHAR(max), @params NVARCHAR(600)\r\n",
                "DECLARE @sqlmajorver int, @sqlminorver int, @sqlbuild int, @clustered bit\r\n",
                "DECLARE @ptochecks bit\r\n",
                "\r\n",
                "SET @ptochecks = 1 --(1 = ON; 0 = OFF)\r\n",
                "\r\n",
                "SELECT @sqlmajorver = CONVERT(int, (@@microsoftversion / 0x1000000) & 0xff);\r\n",
                "SELECT @sqlminorver = CONVERT(int, (@@microsoftversion / 0x10000) & 0xff);\r\n",
                "SELECT @sqlbuild = CONVERT(int, @@microsoftversion & 0xffff);\r\n",
                "SELECT @clustered = CONVERT(bit,ISNULL(SERVERPROPERTY('IsClustered'),0))\r\n",
                "\r\n",
                "IF @clustered = 1\r\n",
                "BEGIN\r\n",
                "\tIF @sqlmajorver < 11\r\n",
                "\t\tBEGIN\r\n",
                "\t\t\tEXEC ('SELECT ''Information'' AS [Category], ''Cluster'' AS [Information], NodeName AS node_name FROM sys.dm_os_cluster_nodes (NOLOCK)')\r\n",
                "\t\tEND\r\n",
                "\tELSE\r\n",
                "\t\tBEGIN\r\n",
                "\t\t\tEXEC ('SELECT ''Information'' AS [Category], ''Cluster'' AS [Information], NodeName AS node_name, status_description, is_current_owner FROM sys.dm_os_cluster_nodes (NOLOCK)')\r\n",
                "\t\tEND\r\n",
                "\tSELECT 'Information' AS [Category], 'Cluster' AS [Information], DriveName AS cluster_shared_drives FROM sys.dm_io_cluster_shared_drives (NOLOCK)\r\n",
                "END\r\n",
                "ELSE\r\n",
                "BEGIN\r\n",
                "\tSELECT 'Information' AS [Category], 'Cluster' AS [Information], 'NOT_CLUSTERED' AS [Status]\r\n",
                "END;\r\n",
                "\r\n",
                "IF @sqlmajorver > 10\r\n",
                "BEGIN\r\n",
                "\tDECLARE @IsHadrEnabled tinyint, @HadrManagerStatus tinyint\r\n",
                "\tSELECT @IsHadrEnabled = CASE WHEN SERVERPROPERTY('EngineEdition') = 8 THEN 1 ELSE CONVERT(tinyint, SERVERPROPERTY('IsHadrEnabled')) END;\r\n",
                "\tSELECT @HadrManagerStatus = CASE WHEN SERVERPROPERTY('EngineEdition') = 8 THEN 1 ELSE CONVERT(tinyint, SERVERPROPERTY('HadrManagerStatus')) END;\r\n",
                "\t\r\n",
                "\tSELECT 'Information' AS [Category], 'AlwaysOn_AG' AS [Information], \r\n",
                "\t\tCASE @IsHadrEnabled WHEN 0 THEN 'Disabled'\r\n",
                "\t\t\tWHEN 1 THEN 'Enabled' END AS [AlwaysOn_Availability_Groups],\r\n",
                "\t\tCASE WHEN @IsHadrEnabled = 1 THEN\r\n",
                "\t\t\tCASE @HadrManagerStatus WHEN 0 THEN '[Not started, pending communication]'\r\n",
                "\t\t\t\tWHEN 1 THEN '[Started and running]'\r\n",
                "\t\t\t\tWHEN 2 THEN '[Not started and failed]'\r\n",
                "\t\t\tEND\r\n",
                "\t\tEND AS [Status];\r\n",
                "\t\r\n",
                "\tIF @IsHadrEnabled = 1\r\n",
                "\tBEGIN\t\r\n",
                "\t\tIF EXISTS (SELECT 1 FROM sys.dm_hadr_cluster) \r\n",
                "\t\tSELECT 'Information' AS [Category], 'AlwaysOn_Cluster' AS [Information], cluster_name, quorum_type_desc, quorum_state_desc \r\n",
                "\t\tFROM sys.dm_hadr_cluster;\r\n",
                "\r\n",
                "\t\tIF EXISTS (SELECT 1 FROM sys.dm_hadr_cluster_members) \r\n",
                "\t\tSELECT 'Information' AS [Category], 'AlwaysOn_Cluster_Members' AS [Information], member_name, member_type_desc, member_state_desc, number_of_quorum_votes \r\n",
                "\t\tFROM sys.dm_hadr_cluster_members;\r\n",
                "\t\t\r\n",
                "\t\tIF EXISTS (SELECT 1 FROM sys.dm_hadr_cluster_networks) \r\n",
                "\t\tSELECT 'Information' AS [Category], 'AlwaysOn_Cluster_Networks' AS [Information], member_name, network_subnet_ip, network_subnet_ipv4_mask, is_public, is_ipv4 \r\n",
                "\t\tFROM sys.dm_hadr_cluster_networks;\r\n",
                "\tEND;\r\n",
                "\t\r\n",
                "\tIF @ptochecks = 1 AND @IsHadrEnabled = 1\r\n",
                "\tBEGIN\r\n",
                "\t\t-- Note: If low_water_mark_for_ghosts number is not increasing over time, it implies that ghost cleanup might not happen.\r\n",
                "\t\tSET @sqlcmd = 'SELECT ''Information'' AS [Category], ''AlwaysOn_Replicas'' AS [Information], database_id, group_id, replica_id, group_database_id, is_local, synchronization_state_desc, \r\n",
                "\tis_commit_participant, synchronization_health_desc, database_state_desc, is_suspended, suspend_reason_desc, last_sent_time, last_received_time, last_hardened_time, \r\n",
                "\tlast_redone_time, log_send_queue_size, log_send_rate, redo_queue_size, redo_rate, filestream_send_rate, last_commit_time, \r\n",
                "\tlow_water_mark_for_ghosts' + CASE WHEN @sqlmajorver > 12 THEN ', secondary_lag_seconds' ELSE '' END + ' \r\n",
                "FROM sys.dm_hadr_database_replica_states'\r\n",
                "\t\tEXECUTE sp_executesql @sqlcmd\r\n",
                "\r\n",
                "\t\tSELECT 'Information' AS [Category], 'AlwaysOn_Replica_Cluster' AS [Information], replica_id, group_database_id, database_name, is_failover_ready, is_pending_secondary_suspend, \r\n",
                "\t\t\tis_database_joined, recovery_lsn, truncation_lsn \r\n",
                "\t\tFROM sys.dm_hadr_database_replica_cluster_states;\r\n",
                "\tEND\r\n",
                "END"
            ],
            "metadata": {
                "azdata_cell_guid": "491b7de4-dc7c-45db-9882-8680fdf4d87a"
            },
            "outputs": [],
            "execution_count": null
        }
    ]
}