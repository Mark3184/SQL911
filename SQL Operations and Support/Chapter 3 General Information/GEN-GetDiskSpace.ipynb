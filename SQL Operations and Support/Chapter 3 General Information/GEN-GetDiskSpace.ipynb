{
    "metadata": {
        "kernelspec": {
            "name": "SQL",
            "display_name": "SQL",
            "language": "sql"
        },
        "language_info": {
            "name": "sql",
            "version": ""
        },
        "extensions": {
            "azuredatastudio": {
                "version": 1,
                "views": []
            }
        }
    },
    "nbformat_minor": 2,
    "nbformat": 4,
    "cells": [
        {
            "cell_type": "markdown",
            "source": [
                "Here's my 5th section on Disk Space"
            ],
            "metadata": {
                "azdata_cell_guid": "2155bb88-cebc-42bf-aa26-dab1c3b3efff"
            },
            "attachments": {}
        },
        {
            "cell_type": "code",
            "source": [
                "SET NOCOUNT ON;\r\n",
                "SET ANSI_WARNINGS ON;\r\n",
                "SET QUOTED_IDENTIFIER ON;\r\n",
                "\r\n",
                "DECLARE @sqlmajorver int\r\n",
                "DECLARE @ErrorMessage NVARCHAR(4000)\r\n",
                "\r\n",
                "SELECT @sqlmajorver = CONVERT(int, (@@microsoftversion / 0x1000000) & 0xff);\r\n",
                "\r\n",
                "IF @sqlmajorver > 9\r\n",
                "BEGIN\r\n",
                "\tSELECT DISTINCT 'Information' AS [Category], 'Disk_Space' AS [Information], vs.logical_volume_name,\r\n",
                "\t\tvs.volume_mount_point, vs.file_system_type, CONVERT(int,vs.total_bytes/1048576.0) AS TotalSpace_MB,\r\n",
                "\t\tCONVERT(int,vs.available_bytes/1048576.0) AS FreeSpace_MB, vs.is_compressed\r\n",
                "\tFROM sys.master_files mf\r\n",
                "\tCROSS APPLY sys.dm_os_volume_stats(mf.database_id, mf.[file_id]) vs\r\n",
                "\tORDER BY FreeSpace_MB ASC\r\n",
                "END;"
            ],
            "metadata": {
                "azdata_cell_guid": "d59cc263-c192-4730-b04b-d95a71612fff"
            },
            "outputs": [],
            "execution_count": null
        }
    ]
}