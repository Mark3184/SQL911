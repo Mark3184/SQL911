{
    "metadata": {
        "kernelspec": {
            "name": "SQL",
            "display_name": "SQL",
            "language": "sql"
        },
        "language_info": {
            "name": "sql",
            "version": ""
        },
        "extensions": {
            "azuredatastudio": {
                "version": 1,
                "views": []
            }
        }
    },
    "nbformat_minor": 2,
    "nbformat": 4,
    "cells": [
        {
            "cell_type": "markdown",
            "source": [
                "Get Buffer Pool Consumers"
            ],
            "metadata": {
                "azdata_cell_guid": "439042cb-8105-4890-b235-c2411f142995"
            },
            "attachments": {}
        },
        {
            "cell_type": "code",
            "source": [
                "SET NOCOUNT ON;\r\n",
                "SET ANSI_WARNINGS ON;\r\n",
                "SET QUOTED_IDENTIFIER ON;\r\n",
                "\r\n",
                "DECLARE @sqlcmd NVARCHAR(max), @params NVARCHAR(600)\r\n",
                "DECLARE @sqlmajorver int\r\n",
                "\r\n",
                "SELECT @sqlmajorver = CONVERT(int, (@@microsoftversion / 0x1000000) & 0xff);\r\n",
                "\r\n",
                "-- Note: in case of NUMA architecture, more than one entry per database is expected\r\n",
                "\r\n",
                "SET @sqlcmd = 'SELECT ''Memory_checks'' AS [Category], ''Buffer_Pool_Consumers'' AS [Information], \r\n",
                "numa_node, COUNT_BIG(DISTINCT page_id)*8/1024 AS total_pages_MB, \r\n",
                "CASE database_id WHEN 32767 THEN ''ResourceDB'' ELSE DB_NAME(database_id) END AS database_name,\r\n",
                "SUM(CONVERT(BIGINT,row_count))/COUNT_BIG(DISTINCT page_id) AS avg_row_count_per_page, \r\n",
                "SUM(CONVERT(BIGINT, free_space_in_bytes))/COUNT_BIG(DISTINCT page_id) AS avg_free_space_bytes_per_page\r\n",
                "' + CASE WHEN @sqlmajorver >= 12 THEN ',is_in_bpool_extension' ELSE '' END + '\r\n",
                "' + CASE WHEN @sqlmajorver = 10 THEN ',numa_node' ELSE '' END + '\r\n",
                "' + CASE WHEN @sqlmajorver >= 11 THEN ',AVG(read_microsec) AS avg_read_microsec' ELSE '' END + '\r\n",
                "FROM sys.dm_os_buffer_descriptors\r\n",
                "--WHERE bd.page_type IN (''DATA_PAGE'', ''INDEX_PAGE'')\r\n",
                "GROUP BY database_id' + CASE WHEN @sqlmajorver >= 10 THEN ', numa_node' ELSE '' END + CASE WHEN @sqlmajorver >= 12 THEN ', is_in_bpool_extension' ELSE '' END + '\r\n",
                "ORDER BY total_pages_MB DESC;'\r\n",
                "EXECUTE sp_executesql @sqlcmd;\r\n",
                ""
            ],
            "metadata": {
                "azdata_cell_guid": "209a1ee5-36d3-4af2-8a3e-631e7754a9ba"
            },
            "outputs": [
                {
                    "output_type": "display_data",
                    "data": {
                        "text/html": "Commands completed successfully."
                    },
                    "metadata": {}
                },
                {
                    "output_type": "display_data",
                    "data": {
                        "text/html": "Total execution time: 00:00:00.030"
                    },
                    "metadata": {}
                },
                {
                    "output_type": "execute_result",
                    "execution_count": 2,
                    "data": {
                        "application/vnd.dataresource+json": {
                            "schema": {
                                "fields": [
                                    {
                                        "name": "Category"
                                    },
                                    {
                                        "name": "Information"
                                    },
                                    {
                                        "name": "numa_node"
                                    },
                                    {
                                        "name": "total_pages_MB"
                                    },
                                    {
                                        "name": "database_name"
                                    },
                                    {
                                        "name": "avg_row_count_per_page"
                                    },
                                    {
                                        "name": "avg_free_space_bytes_per_page"
                                    },
                                    {
                                        "name": "is_in_bpool_extension"
                                    },
                                    {
                                        "name": "avg_read_microsec"
                                    }
                                ]
                            },
                            "data": [
                                {
                                    "0": "Memory_checks",
                                    "1": "Buffer_Pool_Consumers",
                                    "2": "0",
                                    "3": "22",
                                    "4": "ResourceDB",
                                    "5": "20",
                                    "6": "2666",
                                    "7": "NULL",
                                    "8": "731"
                                },
                                {
                                    "0": "Memory_checks",
                                    "1": "Buffer_Pool_Consumers",
                                    "2": "0",
                                    "3": "4",
                                    "4": "SSISDB",
                                    "5": "36",
                                    "6": "3837",
                                    "7": "NULL",
                                    "8": "1573"
                                },
                                {
                                    "0": "Memory_checks",
                                    "1": "Buffer_Pool_Consumers",
                                    "2": "0",
                                    "3": "3",
                                    "4": "master",
                                    "5": "41",
                                    "6": "3713",
                                    "7": "NULL",
                                    "8": "668"
                                },
                                {
                                    "0": "Memory_checks",
                                    "1": "Buffer_Pool_Consumers",
                                    "2": "0",
                                    "3": "2",
                                    "4": "msdb",
                                    "5": "53",
                                    "6": "4024",
                                    "7": "NULL",
                                    "8": "637"
                                },
                                {
                                    "0": "Memory_checks",
                                    "1": "Buffer_Pool_Consumers",
                                    "2": "0",
                                    "3": "2",
                                    "4": "HappyScoopers_Demo",
                                    "5": "40",
                                    "6": "3159",
                                    "7": "NULL",
                                    "8": "890"
                                },
                                {
                                    "0": "Memory_checks",
                                    "1": "Buffer_Pool_Consumers",
                                    "2": "0",
                                    "3": "2",
                                    "4": "HappyScoopers_DW",
                                    "5": "36",
                                    "6": "2979",
                                    "7": "NULL",
                                    "8": "3436"
                                },
                                {
                                    "0": "Memory_checks",
                                    "1": "Buffer_Pool_Consumers",
                                    "2": "0",
                                    "3": "2",
                                    "4": "ns_lots_of_vlfs",
                                    "5": "47",
                                    "6": "3330",
                                    "7": "NULL",
                                    "8": "642"
                                },
                                {
                                    "0": "Memory_checks",
                                    "1": "Buffer_Pool_Consumers",
                                    "2": "0",
                                    "3": "2",
                                    "4": "my_bloated_db",
                                    "5": "48",
                                    "6": "3254",
                                    "7": "NULL",
                                    "8": "581"
                                },
                                {
                                    "0": "Memory_checks",
                                    "1": "Buffer_Pool_Consumers",
                                    "2": "0",
                                    "3": "2",
                                    "4": "car_crash",
                                    "5": "40",
                                    "6": "2913",
                                    "7": "NULL",
                                    "8": "1822"
                                },
                                {
                                    "0": "Memory_checks",
                                    "1": "Buffer_Pool_Consumers",
                                    "2": "0",
                                    "3": "1",
                                    "4": "tempdb",
                                    "5": "77",
                                    "6": "3920",
                                    "7": "NULL",
                                    "8": "1016"
                                },
                                {
                                    "0": "Memory_checks",
                                    "1": "Buffer_Pool_Consumers",
                                    "2": "0",
                                    "3": "0",
                                    "4": "model",
                                    "5": "22",
                                    "6": "3439",
                                    "7": "NULL",
                                    "8": "8356"
                                }
                            ]
                        },
                        "text/html": "<table><tr><th>Category</th><th>Information</th><th>numa_node</th><th>total_pages_MB</th><th>database_name</th><th>avg_row_count_per_page</th><th>avg_free_space_bytes_per_page</th><th>is_in_bpool_extension</th><th>avg_read_microsec</th></tr><tr><td>Memory_checks</td><td>Buffer_Pool_Consumers</td><td>0</td><td>22</td><td>ResourceDB</td><td>20</td><td>2666</td><td>NULL</td><td>731</td></tr><tr><td>Memory_checks</td><td>Buffer_Pool_Consumers</td><td>0</td><td>4</td><td>SSISDB</td><td>36</td><td>3837</td><td>NULL</td><td>1573</td></tr><tr><td>Memory_checks</td><td>Buffer_Pool_Consumers</td><td>0</td><td>3</td><td>master</td><td>41</td><td>3713</td><td>NULL</td><td>668</td></tr><tr><td>Memory_checks</td><td>Buffer_Pool_Consumers</td><td>0</td><td>2</td><td>msdb</td><td>53</td><td>4024</td><td>NULL</td><td>637</td></tr><tr><td>Memory_checks</td><td>Buffer_Pool_Consumers</td><td>0</td><td>2</td><td>HappyScoopers_Demo</td><td>40</td><td>3159</td><td>NULL</td><td>890</td></tr><tr><td>Memory_checks</td><td>Buffer_Pool_Consumers</td><td>0</td><td>2</td><td>HappyScoopers_DW</td><td>36</td><td>2979</td><td>NULL</td><td>3436</td></tr><tr><td>Memory_checks</td><td>Buffer_Pool_Consumers</td><td>0</td><td>2</td><td>ns_lots_of_vlfs</td><td>47</td><td>3330</td><td>NULL</td><td>642</td></tr><tr><td>Memory_checks</td><td>Buffer_Pool_Consumers</td><td>0</td><td>2</td><td>my_bloated_db</td><td>48</td><td>3254</td><td>NULL</td><td>581</td></tr><tr><td>Memory_checks</td><td>Buffer_Pool_Consumers</td><td>0</td><td>2</td><td>car_crash</td><td>40</td><td>2913</td><td>NULL</td><td>1822</td></tr><tr><td>Memory_checks</td><td>Buffer_Pool_Consumers</td><td>0</td><td>1</td><td>tempdb</td><td>77</td><td>3920</td><td>NULL</td><td>1016</td></tr><tr><td>Memory_checks</td><td>Buffer_Pool_Consumers</td><td>0</td><td>0</td><td>model</td><td>22</td><td>3439</td><td>NULL</td><td>8356</td></tr></table>"
                    },
                    "metadata": {}
                }
            ],
            "execution_count": 2
        }
    ]
}