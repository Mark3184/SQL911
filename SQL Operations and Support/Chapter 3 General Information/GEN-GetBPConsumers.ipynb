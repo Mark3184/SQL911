{
    "metadata": {
        "kernelspec": {
            "name": "SQL",
            "display_name": "SQL",
            "language": "sql"
        },
        "language_info": {
            "name": "sql",
            "version": ""
        },
        "extensions": {
            "azuredatastudio": {
                "version": 1,
                "views": []
            }
        }
    },
    "nbformat_minor": 2,
    "nbformat": 4,
    "cells": [
        {
            "cell_type": "markdown",
            "source": [
                "![CH3-ADS.png](./Media/CH3-ADS.png)"
            ],
            "metadata": {
                "azdata_cell_guid": "439042cb-8105-4890-b235-c2411f142995"
            },
            "attachments": {}
        },
        {
            "cell_type": "markdown",
            "source": [
                "# <span style=\"color: rgb(204, 85, 0);\">Gather Buffer Pool Consumers</span>\n",
                "\n",
                "The purpose of this notebook is to query the sys.dm\\_os\\_buffer\\_descriptors dynamic management view.  It returns information about all the data pages that are currently in the SQL Server buffer pool. The output of this view can be used to determine the distribution of database pages in the buffer pool according to database, object, or type. In SQL Server, this dynamic management view also returns information about the data pages in the buffer pool extension file. For more information, see Buffer Pool Extension, read this excellent doc on the [Buffer pool extension - SQL Server | Microsoft Docs](https://docs.microsoft.com/en-us/sql/database-engine/configure-windows/buffer-pool-extension?view=sql-server-ver15)\n",
                "\n",
                "When a data page is read from disk, the page is copied into the SQL Server buffer pool and cached for reuse. Each cached data page has one buffer descriptor. Buffer descriptors uniquely identify each data page that is currently cached in an instance of SQL Server. sys.dm\\_os\\_buffer\\_descriptors returns cached pages for all user and system databases. This includes pages that are associated with the Resource database.\n",
                "\n",
                "  \n",
                "\n",
                "| Column name | Data type | Description |\n",
                "| --- | --- | --- |\n",
                "| database\\_id | int | ID of database associated with the page in the buffer pool. Is nullable. |\n",
                "| file\\_id | int | ID of the file that stores the persisted image of the page. Is nullable. |\n",
                "| page\\_id | int | ID of the page within the file. Is nullable. |\n",
                "| page\\_level | int | Index level of the page. Is nullable. |\n",
                "| allocation\\_unit\\_id | bigint | ID of the allocation unit of the page. This value can be used to join sys.allocation\\_units. Is nullable. |\n",
                "| page\\_type | nvarchar(60) | Type of the page, such as: Data page or Index page. Is nullable. |\n",
                "| row\\_count | int | Number of rows on the page. Is nullable. |\n",
                "| free\\_space\\_in\\_bytes | int | Amount of available free space, in bytes, on the page. Is nullable. |\n",
                "| is\\_modified | bit | 1 = Page has been modified after it was read from the disk. Is nullable. |\n",
                "| numa\\_node | int | Nonuniform Memory Access node for the buffer. Is nullable. |\n",
                "| read\\_microsec | bigint | The actual time (in microseconds) required to read the page into the buffer. This number is reset when the buffer is reused. Is nullable. |\n",
                "| is\\_in\\_bpool\\_extension | bit | 1 = Page is in buffer pool extension. Is nullable. |\n",
                "| pdw\\_node\\_id | int | Applies to: Azure Synapse Analytics, Analytics Platform System (PDW)<br><br>The identifier for the node that this distribution is on. |\n",
                "\n",
                "### <span style=\"color: rgb(0, 204, 153)\">Run the Code block below</span>\n",
                "\n",
                "1. Click the run icon below\n",
                "2. If ADS prompts you for a connection, enter the correct SQL Server and authentication account\n",
                "3. View the results of the query by scrolling down to the results set"
            ],
            "metadata": {
                "azdata_cell_guid": "9e8a0cf1-94c8-4502-8e1a-ce17d59912a3"
            },
            "attachments": {}
        },
        {
            "cell_type": "code",
            "source": [
                "SET NOCOUNT ON;\r\n",
                "SET ANSI_WARNINGS ON;\r\n",
                "SET QUOTED_IDENTIFIER ON;\r\n",
                "\r\n",
                "DECLARE @sqlcmd NVARCHAR(max), @params NVARCHAR(600)\r\n",
                "DECLARE @sqlmajorver int\r\n",
                "\r\n",
                "SELECT @sqlmajorver = CONVERT(int, (@@microsoftversion / 0x1000000) & 0xff);\r\n",
                "\r\n",
                "-- Note: in case of NUMA architecture, more than one entry per database is expected\r\n",
                "\r\n",
                "SET @sqlcmd = 'SELECT ''Memory_checks'' AS [Category], ''Buffer_Pool_Consumers'' AS [Information], \r\n",
                "numa_node, COUNT_BIG(DISTINCT page_id)*8/1024 AS total_pages_MB, \r\n",
                "CASE database_id WHEN 32767 THEN ''ResourceDB'' ELSE DB_NAME(database_id) END AS database_name,\r\n",
                "SUM(CONVERT(BIGINT,row_count))/COUNT_BIG(DISTINCT page_id) AS avg_row_count_per_page, \r\n",
                "SUM(CONVERT(BIGINT, free_space_in_bytes))/COUNT_BIG(DISTINCT page_id) AS avg_free_space_bytes_per_page\r\n",
                "' + CASE WHEN @sqlmajorver >= 12 THEN ',is_in_bpool_extension' ELSE '' END + '\r\n",
                "' + CASE WHEN @sqlmajorver = 10 THEN ',numa_node' ELSE '' END + '\r\n",
                "' + CASE WHEN @sqlmajorver >= 11 THEN ',AVG(read_microsec) AS avg_read_microsec' ELSE '' END + '\r\n",
                "FROM sys.dm_os_buffer_descriptors\r\n",
                "--WHERE bd.page_type IN (''DATA_PAGE'', ''INDEX_PAGE'')\r\n",
                "GROUP BY database_id' + CASE WHEN @sqlmajorver >= 10 THEN ', numa_node' ELSE '' END + CASE WHEN @sqlmajorver >= 12 THEN ', is_in_bpool_extension' ELSE '' END + '\r\n",
                "ORDER BY total_pages_MB DESC;'\r\n",
                "EXECUTE sp_executesql @sqlcmd;\r\n",
                ""
            ],
            "metadata": {
                "azdata_cell_guid": "209a1ee5-36d3-4af2-8a3e-631e7754a9ba"
            },
            "outputs": [],
            "execution_count": null
        }
    ]
}