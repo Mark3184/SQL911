{
    "metadata": {
        "kernelspec": {
            "name": "SQL",
            "display_name": "SQL",
            "language": "sql"
        },
        "language_info": {
            "name": "sql",
            "version": ""
        },
        "extensions": {
            "azuredatastudio": {
                "version": 1,
                "views": []
            }
        }
    },
    "nbformat_minor": 2,
    "nbformat": 4,
    "cells": [
        {
            "cell_type": "markdown",
            "source": [
                "Backups Since Last Full"
            ],
            "metadata": {
                "azdata_cell_guid": "4905b175-4e5d-4e4f-9958-aafb4faecf8b"
            },
            "attachments": {}
        },
        {
            "cell_type": "code",
            "source": [
                "SET NOCOUNT ON;\r\n",
                "SET ANSI_WARNINGS ON;\r\n",
                "SET QUOTED_IDENTIFIER ON;\r\n",
                "SET DATEFORMAT mdy;\r\n",
                "\r\n",
                "DECLARE @sqlcmd NVARCHAR(max), @params NVARCHAR(600)\r\n",
                "DECLARE @sqlmajorver int\r\n",
                "\r\n",
                "SELECT @sqlmajorver = CONVERT(int, (@@microsoftversion / 0x1000000) & 0xff);\r\n",
                "\r\n",
                "IF @sqlmajorver > 10\r\n",
                "BEGIN\r\n",
                "\tSET @sqlcmd = N'SELECT ''Information'' AS [Category], ''Backups_since_last_Full'' AS [Information], \r\n",
                "[database_name] AS [Database_Name], CASE WHEN type = ''D'' THEN ''Database''\r\n",
                "\tWHEN type = ''I'' THEN ''Diff_Database''\r\n",
                "\tWHEN type = ''L'' THEN ''Log''\r\n",
                "\tWHEN type = ''F'' THEN ''File''\r\n",
                "\tWHEN type = ''G'' THEN ''Diff_file''\r\n",
                "\tWHEN type = ''P'' THEN ''Partial''\r\n",
                "\tWHEN type = ''Q'' THEN ''Diff_partial''\r\n",
                "\tELSE NULL END AS [bck_type],\r\n",
                "[backup_start_date], [backup_finish_date],\r\n",
                "CONVERT(decimal(20,2),backup_size/1024.00/1024.00) AS [backup_size_MB],\r\n",
                "CONVERT(decimal(20,2),compressed_backup_size/1024.00/1024.00) AS [compressed_backup_size_MB],\r\n",
                "[recovery_model], [user_name],\r\n",
                "database_backup_lsn AS [full_base_lsn], [differential_base_lsn], [expiration_date], \r\n",
                "[is_password_protected], [has_backup_checksums], [is_readonly], is_copy_only, [has_incomplete_metadata] AS [Tail_log]\r\n",
                "FROM msdb.dbo.backupset bck1 (NOLOCK)\r\n",
                "WHERE is_copy_only = 0 -- No COPY_ONLY backups\r\n",
                "AND backup_start_date >= (SELECT MAX(backup_start_date) FROM msdb.dbo.backupset bck2 (NOLOCK) WHERE bck2.type IN (''D'',''F'',''P'') AND is_copy_only = 0 AND bck1.database_name = bck2.database_name)\r\n",
                "ORDER BY database_name, backup_start_date DESC'\r\n",
                "END\r\n",
                "ELSE \r\n",
                "BEGIN\r\n",
                "\tSET @sqlcmd = N'SELECT ''Information'' AS [Category], ''Backups_since_last_Full'' AS [Information], \r\n",
                "[database_name] AS [Database_Name], CASE WHEN type = ''D'' THEN ''Database''\r\n",
                "\tWHEN type = ''I'' THEN ''Diff_Database''\r\n",
                "\tWHEN type = ''L'' THEN ''Log''\r\n",
                "\tWHEN type = ''F'' THEN ''File''\r\n",
                "\tWHEN type = ''G'' THEN ''Diff_file''\r\n",
                "\tWHEN type = ''P'' THEN ''Partial''\r\n",
                "\tWHEN type = ''Q'' THEN ''Diff_partial''\r\n",
                "\tELSE NULL END AS [bck_type],\r\n",
                "[backup_start_date], [backup_finish_date], \r\n",
                "CONVERT(decimal(20,2),backup_size/1024.00/1024.00) AS [backup_size_MB],\r\n",
                "''NA'' AS [compressed_backup_size_MB], \r\n",
                "[recovery_model], [user_name],\r\n",
                "database_backup_lsn AS [full_base_lsn], [differential_base_lsn], [expiration_date], \r\n",
                "[is_password_protected], [has_backup_checksums], [is_readonly], is_copy_only, [has_incomplete_metadata] AS [Tail_log]\r\n",
                "FROM msdb.dbo.backupset bck1 (NOLOCK)\r\n",
                "WHERE is_copy_only = 0 -- No COPY_ONLY backups\r\n",
                "AND backup_start_date >= (SELECT MAX(backup_start_date) FROM msdb.dbo.backupset bck2 (NOLOCK) WHERE bck2.type IN (''D'',''F'',''P'') AND is_copy_only = 0 AND bck1.database_name = bck2.database_name)\r\n",
                "ORDER BY database_name, backup_start_date DESC'\r\n",
                "END;\r\n",
                "\r\n",
                "EXECUTE sp_executesql @sqlcmd;"
            ],
            "metadata": {
                "azdata_cell_guid": "3b899108-8db0-4405-8869-f188f20d2a74"
            },
            "outputs": [],
            "execution_count": null
        }
    ]
}