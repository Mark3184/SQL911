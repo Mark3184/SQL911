{
    "metadata": {
        "kernelspec": {
            "name": "SQL",
            "display_name": "SQL",
            "language": "sql"
        },
        "language_info": {
            "name": "sql",
            "version": ""
        },
        "extensions": {
            "azuredatastudio": {
                "version": 1,
                "views": []
            }
        }
    },
    "nbformat_minor": 2,
    "nbformat": 4,
    "cells": [
        {
            "cell_type": "markdown",
            "source": [
                "Get Memory Allocations from their Memory Clerks"
            ],
            "metadata": {
                "azdata_cell_guid": "41017961-0a37-4087-bb3f-80c9d63fbc8f"
            },
            "attachments": {}
        },
        {
            "cell_type": "code",
            "source": [
                "SET NOCOUNT ON;\r\n",
                "SET ANSI_WARNINGS ON;\r\n",
                "SET QUOTED_IDENTIFIER ON;\r\n",
                "\r\n",
                "DECLARE @sqlcmd NVARCHAR(max), @params NVARCHAR(600)\r\n",
                "DECLARE @sqlmajorver int, @xtp bit\r\n",
                "\r\n",
                "SELECT @sqlmajorver = CONVERT(int, (@@microsoftversion / 0x1000000) & 0xff);\r\n",
                "\r\n",
                "SET @sqlcmd = N'SELECT ''Memory_checks'' AS [Category], [type] AS Alloc_Type, \r\n",
                "' + CASE WHEN @sqlmajorver < 11 THEN 'SUM(single_pages_kb + multi_pages_kb + virtual_memory_committed_kb + shared_memory_committed_kb + awe_allocated_kb) AS Alloc_Mem_KB'\r\n",
                "\tELSE 'SUM(pages_kb + virtual_memory_committed_kb + shared_memory_committed_kb + awe_allocated_kb) AS Alloc_Mem_KB' END + '\r\n",
                "FROM sys.dm_os_memory_clerks \r\n",
                "WHERE type IN (''CACHESTORE_COLUMNSTOREOBJECTPOOL'',''CACHESTORE_CLRPROC'',''CACHESTORE_OBJCP'',''CACHESTORE_PHDR'',''CACHESTORE_SQLCP'',''CACHESTORE_TEMPTABLES'',\r\n",
                "''MEMORYCLERK_SQLBUFFERPOOL'',''MEMORYCLERK_SQLCLR'',''MEMORYCLERK_SQLGENERAL'',''MEMORYCLERK_SQLLOGPOOL'',''MEMORYCLERK_SQLOPTIMIZER'',\r\n",
                "''MEMORYCLERK_SQLQUERYCOMPILE'',''MEMORYCLERK_SQLQUERYEXEC'',''MEMORYCLERK_SQLQUERYPLAN'',''MEMORYCLERK_SQLSTORENG'',''MEMORYCLERK_XTP'',\r\n",
                "''OBJECTSTORE_LOCK_MANAGER'',''OBJECTSTORE_SNI_PACKET'',''USERSTORE_DBMETADATA'',''USERSTORE_OBJPERM'')\r\n",
                "GROUP BY [type]\r\n",
                "UNION ALL\r\n",
                "SELECT ''Memory_checks'' AS [Category], ''Others'' AS Alloc_Type, \r\n",
                "' + CASE WHEN @sqlmajorver < 11 THEN 'SUM(single_pages_kb + multi_pages_kb + virtual_memory_committed_kb + shared_memory_committed_kb) AS Alloc_Mem_KB'\r\n",
                "\tELSE 'SUM(pages_kb + virtual_memory_committed_kb + shared_memory_committed_kb) AS Alloc_Mem_KB' END + '\r\n",
                "FROM sys.dm_os_memory_clerks \r\n",
                "WHERE type NOT IN (''CACHESTORE_COLUMNSTOREOBJECTPOOL'',''CACHESTORE_CLRPROC'',''CACHESTORE_OBJCP'',''CACHESTORE_PHDR'',''CACHESTORE_SQLCP'',''CACHESTORE_TEMPTABLES'',\r\n",
                "''MEMORYCLERK_SQLBUFFERPOOL'',''MEMORYCLERK_SQLCLR'',''MEMORYCLERK_SQLGENERAL'',''MEMORYCLERK_SQLLOGPOOL'',''MEMORYCLERK_SQLOPTIMIZER'',\r\n",
                "''MEMORYCLERK_SQLQUERYCOMPILE'',''MEMORYCLERK_SQLQUERYEXEC'',''MEMORYCLERK_SQLQUERYPLAN'',''MEMORYCLERK_SQLSTORENG'',''MEMORYCLERK_XTP'',\r\n",
                "''OBJECTSTORE_LOCK_MANAGER'',''OBJECTSTORE_SNI_PACKET'',''USERSTORE_DBMETADATA'',''USERSTORE_OBJPERM'')\r\n",
                "ORDER BY Alloc_Mem_KB DESC'\r\n",
                "EXECUTE sp_executesql @sqlcmd;\r\n",
                "\r\n",
                "IF @sqlmajorver >= 12\r\n",
                "BEGIN\r\n",
                "\tSET @sqlcmd = N'SELECT @xtpOUT = COUNT(*) FROM sys.dm_db_xtp_memory_consumers';\r\n",
                "\tSET @params = N'@xtpOUT int OUTPUT';\r\n",
                "\tEXECUTE sp_executesql @sqlcmd, @params, @xtpOUT = @xtp OUTPUT;\r\n",
                "\t\r\n",
                "\tIF @xtp > 0\r\n",
                "\tBEGIN\r\n",
                "\t\tSET @sqlcmd = N'SELECT ''Memory_checks'' AS [Category], ''InMemory_Consumers'' AS Alloc_Type, \r\n",
                "OBJECT_NAME([object_id]) AS [Object_Name], memory_consumer_type_desc, [object_id], index_id, \r\n",
                "allocated_bytes/(1024*1024) AS Allocated_MB, used_bytes/(1024*1024) AS Used_MB, \r\n",
                "CASE WHEN used_bytes IS NULL THEN ''used_bytes_is_varheap_only'' ELSE '''' END AS [Comment]\r\n",
                "FROM sys.dm_db_xtp_memory_consumers\r\n",
                "WHERE [object_id] > 0\r\n",
                "ORDER BY Allocated_MB DESC' -- Only user objects; system objects are negative numbers\r\n",
                "\t\tEXECUTE sp_executesql @sqlcmd;\r\n",
                "\r\n",
                "\t\tSET @sqlcmd = N'SELECT ''Memory_checks'' AS [Category], ''InMemory_Alloc'' AS Alloc_Type, \r\n",
                "SUM(allocated_bytes)/(1024*1024) AS total_allocated_MB, SUM(used_bytes)/(1024*1024) AS total_used_MB\r\n",
                "FROM sys.dm_db_xtp_memory_consumers\r\n",
                "ORDER BY total_allocated_MB DESC'\r\n",
                "\t\tEXECUTE sp_executesql @sqlcmd;\r\n",
                "\tEND;\r\n",
                "END;"
            ],
            "metadata": {
                "azdata_cell_guid": "3edafec7-cdfb-4806-b658-129cdec4bb08"
            },
            "outputs": [
                {
                    "output_type": "display_data",
                    "data": {
                        "text/html": "Commands completed successfully."
                    },
                    "metadata": {}
                },
                {
                    "output_type": "display_data",
                    "data": {
                        "text/html": "Total execution time: 00:00:00.021"
                    },
                    "metadata": {}
                },
                {
                    "output_type": "execute_result",
                    "metadata": {},
                    "execution_count": 1,
                    "data": {
                        "application/vnd.dataresource+json": {
                            "schema": {
                                "fields": [
                                    {
                                        "name": "Category"
                                    },
                                    {
                                        "name": "Alloc_Type"
                                    },
                                    {
                                        "name": "Alloc_Mem_KB"
                                    }
                                ]
                            },
                            "data": [
                                {
                                    "0": "Memory_checks",
                                    "1": "MEMORYCLERK_SQLBUFFERPOOL",
                                    "2": "99080"
                                },
                                {
                                    "0": "Memory_checks",
                                    "1": "Others",
                                    "2": "97988"
                                },
                                {
                                    "0": "Memory_checks",
                                    "1": "OBJECTSTORE_LOCK_MANAGER",
                                    "2": "66368"
                                },
                                {
                                    "0": "Memory_checks",
                                    "1": "MEMORYCLERK_SQLSTORENG",
                                    "2": "54040"
                                },
                                {
                                    "0": "Memory_checks",
                                    "1": "MEMORYCLERK_SQLCLR",
                                    "2": "30712"
                                },
                                {
                                    "0": "Memory_checks",
                                    "1": "MEMORYCLERK_SQLGENERAL",
                                    "2": "17192"
                                },
                                {
                                    "0": "Memory_checks",
                                    "1": "MEMORYCLERK_SQLQUERYPLAN",
                                    "2": "4480"
                                },
                                {
                                    "0": "Memory_checks",
                                    "1": "CACHESTORE_SQLCP",
                                    "2": "3520"
                                },
                                {
                                    "0": "Memory_checks",
                                    "1": "MEMORYCLERK_SQLLOGPOOL",
                                    "2": "2672"
                                },
                                {
                                    "0": "Memory_checks",
                                    "1": "CACHESTORE_PHDR",
                                    "2": "2472"
                                },
                                {
                                    "0": "Memory_checks",
                                    "1": "MEMORYCLERK_XTP",
                                    "2": "2256"
                                },
                                {
                                    "0": "Memory_checks",
                                    "1": "USERSTORE_OBJPERM",
                                    "2": "1232"
                                },
                                {
                                    "0": "Memory_checks",
                                    "1": "MEMORYCLERK_SQLOPTIMIZER",
                                    "2": "1024"
                                },
                                {
                                    "0": "Memory_checks",
                                    "1": "MEMORYCLERK_SQLQUERYEXEC",
                                    "2": "616"
                                },
                                {
                                    "0": "Memory_checks",
                                    "1": "USERSTORE_DBMETADATA",
                                    "2": "416"
                                },
                                {
                                    "0": "Memory_checks",
                                    "1": "OBJECTSTORE_SNI_PACKET",
                                    "2": "336"
                                },
                                {
                                    "0": "Memory_checks",
                                    "1": "CACHESTORE_TEMPTABLES",
                                    "2": "72"
                                },
                                {
                                    "0": "Memory_checks",
                                    "1": "CACHESTORE_COLUMNSTOREOBJECTPOOL",
                                    "2": "64"
                                },
                                {
                                    "0": "Memory_checks",
                                    "1": "CACHESTORE_OBJCP",
                                    "2": "8"
                                },
                                {
                                    "0": "Memory_checks",
                                    "1": "MEMORYCLERK_SQLQUERYCOMPILE",
                                    "2": "0"
                                }
                            ]
                        },
                        "text/html": [
                            "<table>",
                            "<tr><th>Category</th><th>Alloc_Type</th><th>Alloc_Mem_KB</th></tr>",
                            "<tr><td>Memory_checks</td><td>MEMORYCLERK_SQLBUFFERPOOL</td><td>99080</td></tr>",
                            "<tr><td>Memory_checks</td><td>Others</td><td>97988</td></tr>",
                            "<tr><td>Memory_checks</td><td>OBJECTSTORE_LOCK_MANAGER</td><td>66368</td></tr>",
                            "<tr><td>Memory_checks</td><td>MEMORYCLERK_SQLSTORENG</td><td>54040</td></tr>",
                            "<tr><td>Memory_checks</td><td>MEMORYCLERK_SQLCLR</td><td>30712</td></tr>",
                            "<tr><td>Memory_checks</td><td>MEMORYCLERK_SQLGENERAL</td><td>17192</td></tr>",
                            "<tr><td>Memory_checks</td><td>MEMORYCLERK_SQLQUERYPLAN</td><td>4480</td></tr>",
                            "<tr><td>Memory_checks</td><td>CACHESTORE_SQLCP</td><td>3520</td></tr>",
                            "<tr><td>Memory_checks</td><td>MEMORYCLERK_SQLLOGPOOL</td><td>2672</td></tr>",
                            "<tr><td>Memory_checks</td><td>CACHESTORE_PHDR</td><td>2472</td></tr>",
                            "<tr><td>Memory_checks</td><td>MEMORYCLERK_XTP</td><td>2256</td></tr>",
                            "<tr><td>Memory_checks</td><td>USERSTORE_OBJPERM</td><td>1232</td></tr>",
                            "<tr><td>Memory_checks</td><td>MEMORYCLERK_SQLOPTIMIZER</td><td>1024</td></tr>",
                            "<tr><td>Memory_checks</td><td>MEMORYCLERK_SQLQUERYEXEC</td><td>616</td></tr>",
                            "<tr><td>Memory_checks</td><td>USERSTORE_DBMETADATA</td><td>416</td></tr>",
                            "<tr><td>Memory_checks</td><td>OBJECTSTORE_SNI_PACKET</td><td>336</td></tr>",
                            "<tr><td>Memory_checks</td><td>CACHESTORE_TEMPTABLES</td><td>72</td></tr>",
                            "<tr><td>Memory_checks</td><td>CACHESTORE_COLUMNSTOREOBJECTPOOL</td><td>64</td></tr>",
                            "<tr><td>Memory_checks</td><td>CACHESTORE_OBJCP</td><td>8</td></tr>",
                            "<tr><td>Memory_checks</td><td>MEMORYCLERK_SQLQUERYCOMPILE</td><td>0</td></tr>",
                            "</table>"
                        ]
                    }
                }
            ],
            "execution_count": 1
        }
    ]
}