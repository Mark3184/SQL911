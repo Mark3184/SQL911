{
    "metadata": {
        "kernelspec": {
            "name": "SQL",
            "display_name": "SQL",
            "language": "sql"
        },
        "language_info": {
            "name": "sql",
            "version": ""
        },
        "extensions": {
            "azuredatastudio": {
                "version": 1,
                "views": []
            }
        }
    },
    "nbformat_minor": 2,
    "nbformat": 4,
    "cells": [
        {
            "cell_type": "markdown",
            "source": [
                "![CH3-ADS.png](.\\Media\\CH3-ADS.png)\n",
                "\n",
                "# <span style=\"color:rgb(204, 85, 0);\">Get Memory Allocations</span>\n",
                "\n",
                "<span style=\"font-size:14px;\">This notebook will display a list of memory allocations by 'type' in descending order.</span>\n",
                "\n",
                "The SQL Server memory manager consists of a three-layer hierarchy. At the bottom of the hierarchy are memory nodes. The middle level consists of memory clerks, memory caches, and memory pools. The top layer consists of memory objects. These objects are used to allocate memory in an instance of SQL Server.  \n",
                "\n",
                "Memory nodes provide the interface and the implementation for low-level allocators. Inside SQL Server, only memory clerks have access to memory nodes. Memory clerks access memory node interfaces to allocate memory. Memory nodes also track the memory allocated by using the clerk for diagnostics. Every component that allocates a significant amount of memory must create its own memory clerk and allocate all its memory by using the clerk interfaces. Frequently, components create their corresponding clerks at the time SQL Server is started.  \n",
                "\n",
                "These Memory Clerks or Cache Stores are used for obects in SQL Server like the Service Broker, Query Plans, Temporary Tables, Backups, Compression, and so many more.  You can read more about these allocations here: [sys.dm\\_os\\_memory\\_clerks (Transact-SQL) - SQL Server | Microsoft Docs](https://docs.microsoft.com/en-us/sql/relational-databases/system-dynamic-management-views/sys-dm-os-memory-clerks-transact-sql?view=sql-server-ver15)\n",
                "\n",
                "### <span style=\"color:rgb(0, 204, 153);\">Run the Code block below</span>\n",
                "\n",
                "1. Click the run icon below\n",
                "2. If ADS prompts you for a connection, enter the correct SQL Server and authentication account\n",
                "3. View the results of the query by scrolling down to the results set"
            ],
            "metadata": {
                "azdata_cell_guid": "41017961-0a37-4087-bb3f-80c9d63fbc8f"
            },
            "attachments": {}
        },
        {
            "cell_type": "code",
            "source": [
                "SET NOCOUNT ON;\r\n",
                "SET ANSI_WARNINGS ON;\r\n",
                "SET QUOTED_IDENTIFIER ON;\r\n",
                "\r\n",
                "DECLARE @sqlcmd NVARCHAR(max), @params NVARCHAR(600)\r\n",
                "DECLARE @sqlmajorver int, @xtp bit\r\n",
                "\r\n",
                "SELECT @sqlmajorver = CONVERT(int, (@@microsoftversion / 0x1000000) & 0xff);\r\n",
                "\r\n",
                "SET @sqlcmd = N'SELECT ''Memory_checks'' AS [Category], [type] AS Alloc_Type, \r\n",
                "' + CASE WHEN @sqlmajorver < 11 THEN 'SUM(single_pages_kb + multi_pages_kb + virtual_memory_committed_kb + shared_memory_committed_kb + awe_allocated_kb) AS Alloc_Mem_KB'\r\n",
                "\tELSE 'SUM(pages_kb + virtual_memory_committed_kb + shared_memory_committed_kb + awe_allocated_kb) AS Alloc_Mem_KB' END + '\r\n",
                "FROM sys.dm_os_memory_clerks \r\n",
                "WHERE type IN (''CACHESTORE_COLUMNSTOREOBJECTPOOL'',''CACHESTORE_CLRPROC'',''CACHESTORE_OBJCP'',''CACHESTORE_PHDR'',''CACHESTORE_SQLCP'',''CACHESTORE_TEMPTABLES'',\r\n",
                "''MEMORYCLERK_SQLBUFFERPOOL'',''MEMORYCLERK_SQLCLR'',''MEMORYCLERK_SQLGENERAL'',''MEMORYCLERK_SQLLOGPOOL'',''MEMORYCLERK_SQLOPTIMIZER'',\r\n",
                "''MEMORYCLERK_SQLQUERYCOMPILE'',''MEMORYCLERK_SQLQUERYEXEC'',''MEMORYCLERK_SQLQUERYPLAN'',''MEMORYCLERK_SQLSTORENG'',''MEMORYCLERK_XTP'',\r\n",
                "''OBJECTSTORE_LOCK_MANAGER'',''OBJECTSTORE_SNI_PACKET'',''USERSTORE_DBMETADATA'',''USERSTORE_OBJPERM'')\r\n",
                "GROUP BY [type]\r\n",
                "UNION ALL\r\n",
                "SELECT ''Memory_checks'' AS [Category], ''Others'' AS Alloc_Type, \r\n",
                "' + CASE WHEN @sqlmajorver < 11 THEN 'SUM(single_pages_kb + multi_pages_kb + virtual_memory_committed_kb + shared_memory_committed_kb) AS Alloc_Mem_KB'\r\n",
                "\tELSE 'SUM(pages_kb + virtual_memory_committed_kb + shared_memory_committed_kb) AS Alloc_Mem_KB' END + '\r\n",
                "FROM sys.dm_os_memory_clerks \r\n",
                "WHERE type NOT IN (''CACHESTORE_COLUMNSTOREOBJECTPOOL'',''CACHESTORE_CLRPROC'',''CACHESTORE_OBJCP'',''CACHESTORE_PHDR'',''CACHESTORE_SQLCP'',''CACHESTORE_TEMPTABLES'',\r\n",
                "''MEMORYCLERK_SQLBUFFERPOOL'',''MEMORYCLERK_SQLCLR'',''MEMORYCLERK_SQLGENERAL'',''MEMORYCLERK_SQLLOGPOOL'',''MEMORYCLERK_SQLOPTIMIZER'',\r\n",
                "''MEMORYCLERK_SQLQUERYCOMPILE'',''MEMORYCLERK_SQLQUERYEXEC'',''MEMORYCLERK_SQLQUERYPLAN'',''MEMORYCLERK_SQLSTORENG'',''MEMORYCLERK_XTP'',\r\n",
                "''OBJECTSTORE_LOCK_MANAGER'',''OBJECTSTORE_SNI_PACKET'',''USERSTORE_DBMETADATA'',''USERSTORE_OBJPERM'')\r\n",
                "ORDER BY Alloc_Mem_KB DESC'\r\n",
                "EXECUTE sp_executesql @sqlcmd;\r\n",
                "\r\n",
                "IF @sqlmajorver >= 12\r\n",
                "BEGIN\r\n",
                "\tSET @sqlcmd = N'SELECT @xtpOUT = COUNT(*) FROM sys.dm_db_xtp_memory_consumers';\r\n",
                "\tSET @params = N'@xtpOUT int OUTPUT';\r\n",
                "\tEXECUTE sp_executesql @sqlcmd, @params, @xtpOUT = @xtp OUTPUT;\r\n",
                "\t\r\n",
                "\tIF @xtp > 0\r\n",
                "\tBEGIN\r\n",
                "\t\tSET @sqlcmd = N'SELECT ''Memory_checks'' AS [Category], ''InMemory_Consumers'' AS Alloc_Type, \r\n",
                "OBJECT_NAME([object_id]) AS [Object_Name], memory_consumer_type_desc, [object_id], index_id, \r\n",
                "allocated_bytes/(1024*1024) AS Allocated_MB, used_bytes/(1024*1024) AS Used_MB, \r\n",
                "CASE WHEN used_bytes IS NULL THEN ''used_bytes_is_varheap_only'' ELSE '''' END AS [Comment]\r\n",
                "FROM sys.dm_db_xtp_memory_consumers\r\n",
                "WHERE [object_id] > 0\r\n",
                "ORDER BY Allocated_MB DESC' -- Only user objects; system objects are negative numbers\r\n",
                "\t\tEXECUTE sp_executesql @sqlcmd;\r\n",
                "\r\n",
                "\t\tSET @sqlcmd = N'SELECT ''Memory_checks'' AS [Category], ''InMemory_Alloc'' AS Alloc_Type, \r\n",
                "SUM(allocated_bytes)/(1024*1024) AS total_allocated_MB, SUM(used_bytes)/(1024*1024) AS total_used_MB\r\n",
                "FROM sys.dm_db_xtp_memory_consumers\r\n",
                "ORDER BY total_allocated_MB DESC'\r\n",
                "\t\tEXECUTE sp_executesql @sqlcmd;\r\n",
                "\tEND;\r\n",
                "END;"
            ],
            "metadata": {
                "azdata_cell_guid": "3edafec7-cdfb-4806-b658-129cdec4bb08"
            },
            "outputs": [],
            "execution_count": null
        }
    ]
}