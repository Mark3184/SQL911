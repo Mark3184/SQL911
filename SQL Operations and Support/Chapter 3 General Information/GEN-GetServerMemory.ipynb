{
    "metadata": {
        "kernelspec": {
            "name": "SQL",
            "display_name": "SQL",
            "language": "sql"
        },
        "language_info": {
            "name": "sql",
            "version": ""
        },
        "extensions": {
            "azuredatastudio": {
                "version": 1,
                "views": []
            }
        }
    },
    "nbformat_minor": 2,
    "nbformat": 4,
    "cells": [
        {
            "cell_type": "markdown",
            "source": [
                "Get Memory"
            ],
            "metadata": {
                "azdata_cell_guid": "d16a66e0-dc4d-43bd-ac43-9635ad1ad3de"
            },
            "attachments": {}
        },
        {
            "cell_type": "code",
            "source": [
                "SET NOCOUNT ON;\r\n",
                "SET ANSI_WARNINGS ON;\r\n",
                "SET QUOTED_IDENTIFIER ON;\r\n",
                "SET DATEFORMAT mdy;\r\n",
                "\r\n",
                "DECLARE @sqlcmd NVARCHAR(max), @params NVARCHAR(600)\r\n",
                "DECLARE @sqlmajorver int, @sqlminorver int, @sqlbuild int\r\n",
                "DECLARE @ErrorMessage NVARCHAR(4000)\r\n",
                "DECLARE @masterpid int\r\n",
                "DECLARE @permstbl TABLE ([name] sysname);\r\n",
                "DECLARE @maxservermem bigint, @minservermem bigint, @systemmem bigint, @systemfreemem bigint, @numa int, @numa_nodes_afinned tinyint\r\n",
                "DECLARE @commit_target bigint -- Includes stolen and reserved memory in the memory manager\r\n",
                "DECLARE @committed bigint -- Does not include reserved memory in the memory manager\r\n",
                "DECLARE @mwthreads_count int, @xtp int, @clustered bit, @arch smallint, @osver VARCHAR(5), @ostype VARCHAR(10), @SystemManufacturer VARCHAR(128)\r\n",
                "\r\n",
                "SELECT @sqlmajorver = CONVERT(int, (@@microsoftversion / 0x1000000) & 0xff);\r\n",
                "SELECT @masterpid = principal_id FROM master.sys.database_principals (NOLOCK) WHERE sid = SUSER_SID()\r\n",
                "\r\n",
                "INSERT INTO @permstbl\r\n",
                "SELECT a.name\r\n",
                "FROM master.sys.all_objects a (NOLOCK) INNER JOIN master.sys.database_permissions b (NOLOCK) ON a.[OBJECT_ID] = b.major_id\r\n",
                "WHERE a.type IN ('P', 'X') AND b.grantee_principal_id <>0\r\n",
                "AND b.grantee_principal_id <>2\r\n",
                "AND b.grantee_principal_id = @masterpid;\r\n",
                "\r\n",
                "IF @sqlmajorver >= 14\r\n",
                "BEGIN\r\n",
                "\tSET @sqlcmd = N'SELECT @ostypeOUT = host_platform, @archOUT = CASE WHEN @@VERSION LIKE ''%<X64>%'' THEN 64 WHEN @@VERSION LIKE ''%<IA64>%'' THEN 128 ELSE 32 END FROM sys.dm_os_host_info (NOLOCK)';\r\n",
                "\tSET @params = N'@ostypeOUT VARCHAR(10) OUTPUT, @archOUT smallint OUTPUT';\r\n",
                "\tEXECUTE sp_executesql @sqlcmd, @params, @ostypeOUT=@ostype OUTPUT, @archOUT=@arch OUTPUT;\r\n",
                "END\r\n",
                "ELSE\r\n",
                "BEGIN\r\n",
                "    DECLARE @sysinfo TABLE (id int, \r\n",
                "        [Name] NVARCHAR(256), \r\n",
                "        Internal_Value bigint, \r\n",
                "        Character_Value NVARCHAR(256));\r\n",
                "        \r\n",
                "    INSERT INTO @sysinfo\r\n",
                "    EXEC xp_msver;\r\n",
                "\r\n",
                "    SELECT @arch = CASE WHEN RTRIM(Character_Value) LIKE '%x64%' OR RTRIM(Character_Value) LIKE '%AMD64%' THEN 64\r\n",
                "        WHEN RTRIM(Character_Value) LIKE '%x86%' OR RTRIM(Character_Value) LIKE '%32%' THEN 32\r\n",
                "        WHEN RTRIM(Character_Value) LIKE '%IA64%' THEN 128 END\r\n",
                "    FROM @sysinfo\r\n",
                "    WHERE [Name] LIKE 'Platform%';\r\n",
                "\r\n",
                "\tSET @ostype = 'Windows'\r\n",
                "END;\r\n",
                "\r\n",
                "IF @sqlmajorver = 9\r\n",
                "BEGIN\r\n",
                "\tSET @sqlcmd = N'SELECT @systemmemOUT = t1.record.value(''(./Record/MemoryRecord/TotalPhysicalMemory)[1]'', ''bigint'')/1024, \r\n",
                "\t@systemfreememOUT = t1.record.value(''(./Record/MemoryRecord/AvailablePhysicalMemory)[1]'', ''bigint'')/1024\r\n",
                "FROM (SELECT MAX([TIMESTAMP]) AS [TIMESTAMP], CONVERT(xml, record) AS record \r\n",
                "\tFROM sys.dm_os_ring_buffers (NOLOCK)\r\n",
                "\tWHERE ring_buffer_type = N''RING_BUFFER_RESOURCE_MONITOR''\r\n",
                "\t\tAND record LIKE ''%RESOURCE_MEMPHYSICAL%''\r\n",
                "\tGROUP BY record) AS t1';\r\n",
                "END\r\n",
                "ELSE\r\n",
                "BEGIN\r\n",
                "\tSET @sqlcmd = N'SELECT @systemmemOUT = total_physical_memory_kb/1024, @systemfreememOUT = available_physical_memory_kb/1024 FROM sys.dm_os_sys_memory';\r\n",
                "END\r\n",
                "\r\n",
                "SET @params = N'@systemmemOUT bigint OUTPUT, @systemfreememOUT bigint OUTPUT';\r\n",
                "\r\n",
                "EXECUTE sp_executesql @sqlcmd, @params, @systemmemOUT=@systemmem OUTPUT, @systemfreememOUT=@systemfreemem OUTPUT;\r\n",
                "\r\n",
                "IF @sqlmajorver >= 9 AND @sqlmajorver < 11\r\n",
                "BEGIN\r\n",
                "\tSET @sqlcmd = N'SELECT @commit_targetOUT=bpool_commit_target*8, @committedOUT=bpool_committed*8 FROM sys.dm_os_sys_info (NOLOCK)'\r\n",
                "END\r\n",
                "ELSE IF @sqlmajorver >= 11\r\n",
                "BEGIN\r\n",
                "\tSET @sqlcmd = N'SELECT @commit_targetOUT=committed_target_kb, @committedOUT=committed_kb FROM sys.dm_os_sys_info (NOLOCK)'\r\n",
                "END\r\n",
                "\r\n",
                "SET @params = N'@commit_targetOUT bigint OUTPUT, @committedOUT bigint OUTPUT';\r\n",
                "\r\n",
                "EXECUTE sp_executesql @sqlcmd, @params, @commit_targetOUT=@commit_target OUTPUT, @committedOUT=@committed OUTPUT;\r\n",
                "\r\n",
                "SELECT @minservermem = CONVERT(int, [value]) FROM sys.configurations (NOLOCK) WHERE [Name] = 'min server memory (MB)';\r\n",
                "SELECT @maxservermem = CONVERT(int, [value]) FROM sys.configurations (NOLOCK) WHERE [Name] = 'max server memory (MB)';\r\n",
                "SELECT @mwthreads_count = max_workers_count FROM sys.dm_os_sys_info;\r\n",
                "SELECT @numa_nodes_afinned = COUNT (DISTINCT parent_node_id) FROM sys.dm_os_schedulers WHERE scheduler_id < 255 AND parent_node_id < 64 AND is_online = 1;\r\n",
                "SELECT @numa = COUNT(DISTINCT parent_node_id) FROM sys.dm_os_schedulers WHERE scheduler_id < 255 AND parent_node_id < 64;\r\n",
                "SELECT @clustered = CONVERT(bit,ISNULL(SERVERPROPERTY('IsClustered'),0));\r\n",
                "\r\n",
                "DECLARE @machineinfo TABLE ([Value] NVARCHAR(256), [Data] NVARCHAR(256))\r\n",
                "\r\n",
                "IF @ostype = 'Windows'\r\n",
                "BEGIN\r\n",
                "\tINSERT INTO @machineinfo\r\n",
                "\tEXEC xp_instance_regread 'HKEY_LOCAL_MACHINE','HARDWARE\\DESCRIPTION\\System\\BIOS','SystemManufacturer';\r\n",
                "END;\r\n",
                "\r\n",
                "SELECT @SystemManufacturer = [Data] FROM @machineinfo WHERE [Value] = 'SystemManufacturer';\r\n",
                "\r\n",
                "SELECT 'Memory_checks' AS [Category], 'Memory_issues_MaxServerMem' AS [Check],\r\n",
                "\tCASE WHEN @maxservermem = 2147483647 THEN 'WARNING: MaxMem setting is default. Please revise memory settings'\r\n",
                "\t\tWHEN @maxservermem > @systemmem THEN 'WARNING: MaxMem setting exceeds available system memory'\r\n",
                "\t\tWHEN SERVERPROPERTY('EditionID') IN (284895786, 1293598313) AND @maxservermem > 67108864 THEN 'WARNING: MaxMem setting exceeds Web and Business Intelligence Edition limits'\r\n",
                "\t\tWHEN SERVERPROPERTY('EditionID') = -1534726760 AND @maxservermem > 134217728 THEN 'WARNING: MaxMem setting exceeds Standard Edition limits'\r\n",
                "\t\tWHEN SERVERPROPERTY('EngineEdition') = 4 AND @maxservermem > 1443840 THEN 'WARNING: MaxMem setting exceeds Express Edition limits'\r\n",
                "\t\tWHEN @numa > 1 AND (@maxservermem/@numa) * @numa_nodes_afinned > (@systemmem/@numa) * @numa_nodes_afinned THEN 'WARNING: Current MaxMem setting will leverage node foreign memory. Maximum value for MaxMem setting on this configuration is ' + CONVERT(NVARCHAR,(@systemmem/@numa) * @numa_nodes_afinned) + ' for a single instance'\r\n",
                "\t\tELSE 'OK'\r\n",
                "\tEND AS [Deviation], @maxservermem AS [sql_max_mem_MB];\r\n",
                "\r\n",
                "SELECT 'Memory_checks' AS [Category], 'Memory_issues_MinServerMem' AS [Check],\r\n",
                "\tCASE WHEN @minservermem = 0 AND (LOWER(@SystemManufacturer) = 'microsoft' OR LOWER(@SystemManufacturer) = 'vmware') THEN 'WARNING: Min Server Mem setting is not set in a VM, allowing memory pressure on the Host to attempt to deallocate memory on a guest SQL Server'\r\n",
                "\t\tWHEN @minservermem = 0 AND @clustered = 1 THEN 'INFORMATION: Min Server Mem setting is default in a clustered instance. Leverage Min Server Mem for the purpose of limiting memory concurrency between instances'\r\n",
                "\t\tWHEN @minservermem = @maxservermem THEN 'WARNING: Min Server Mem setting is equal to Max Server Mem. This will not allow dynamic memory. Please revise memory settings'\r\n",
                "\t\tWHEN @numa > 1 AND (@minservermem/@numa) * @numa_nodes_afinned > (@systemmem/@numa) * @numa_nodes_afinned THEN 'WARNING: Current MinMem setting will leverage node foreign memory'\r\n",
                "\t\tELSE 'OK'\r\n",
                "\tEND AS [Deviation], @minservermem AS [sql_min_mem_MB];\r\n",
                "\r\n",
                "SELECT 'Memory_checks' AS [Category], 'Memory_issues_FreeMem' AS [Check],\r\n",
                "\tCASE WHEN (@systemfreemem*100)/@systemmem <= 5 THEN 'WARNING: Less than 5 percent of Free Memory available. Please revise memory settings'\r\n",
                "\t\t/* 64 is the default LowMemThreshold for windows on a system with 8GB of mem or more*/\r\n",
                "\t\tWHEN @systemfreemem <= 64*3 THEN 'WARNING: System Free Memory is dangerously low. Please revise memory settings'\r\n",
                "\t\tELSE '[OK]'\r\n",
                "\tEND AS [Deviation], @systemmem AS system_total_physical_memory_MB, @systemfreemem AS system_available_physical_memory_MB;\r\n",
                "\r\n",
                "SELECT 'Memory_checks' AS [Category], 'Memory_issues_CommitedMem' AS [Check],\r\n",
                "\tCASE WHEN @commit_target > @committed AND @sqlmajorver >= 11 THEN 'INFORMATION: Memory manager will try to obtain additional memory'\r\n",
                "\t\tWHEN @commit_target < @committed AND @sqlmajorver >= 11  THEN 'INFORMATION: Memory manager will try to shrink the amount of memory committed'\r\n",
                "\t\tWHEN @commit_target > @committed AND @sqlmajorver < 11 THEN 'INFORMATION: Buffer Pool will try to obtain additional memory'\r\n",
                "\t\tWHEN @commit_target < @committed AND @sqlmajorver < 11  THEN 'INFORMATION: Buffer Pool will try to shrink'\r\n",
                "\t\tELSE 'OK'\r\n",
                "\tEND AS [Deviation], @commit_target/1024 AS sql_commit_target_MB, @committed/1024 AS sql_commited_MB;\r\n",
                "\r\n",
                "SELECT 'Memory_checks' AS [Category], 'Memory_reference' AS [Check],\r\n",
                "\tCASE WHEN @arch IS NULL THEN '[WARNING: Could not determine architecture needed for check]'\r\n",
                "\t\tWHEN (@systemmem <= 2048 AND @maxservermem > @systemmem-512-(@mwthreads_count*(CASE WHEN @arch = 64 THEN 2 WHEN @arch = 128 THEN 4 WHEN @arch = 32 THEN 0.5 END))- CASE WHEN @arch = 32 THEN 256 ELSE 0 END) OR\r\n",
                "\t\t(@systemmem BETWEEN 2049 AND 4096 AND @maxservermem > @systemmem-819-(@mwthreads_count*(CASE WHEN @arch = 64 THEN 2 WHEN @arch = 128 THEN 4 WHEN @arch = 32 THEN 0.5 END))- CASE WHEN @arch = 32 THEN 256 ELSE 0 END) OR\r\n",
                "\t\t(@systemmem BETWEEN 4097 AND 8192 AND @maxservermem > @systemmem-1228-(@mwthreads_count*(CASE WHEN @arch = 64 THEN 2 WHEN @arch = 128 THEN 4 WHEN @arch = 32 THEN 0.5 END))- CASE WHEN @arch = 32 THEN 256 ELSE 0 END) OR\r\n",
                "\t\t(@systemmem BETWEEN 8193 AND 12288 AND @maxservermem > @systemmem-2048-(@mwthreads_count*(CASE WHEN @arch = 64 THEN 2 WHEN @arch = 128 THEN 4 WHEN @arch = 32 THEN 0.5 END))- CASE WHEN @arch = 32 THEN 256 ELSE 0 END) OR\r\n",
                "\t\t(@systemmem BETWEEN 12289 AND 24576 AND @maxservermem > @systemmem-2560-(@mwthreads_count*(CASE WHEN @arch = 64 THEN 2 WHEN @arch = 128 THEN 4 WHEN @arch = 32 THEN 0.5 END))- CASE WHEN @arch = 32 THEN 256 ELSE 0 END) OR\r\n",
                "\t\t(@systemmem BETWEEN 24577 AND 32768 AND @maxservermem > @systemmem-3072-(@mwthreads_count*(CASE WHEN @arch = 64 THEN 2 WHEN @arch = 128 THEN 4 WHEN @arch = 32 THEN 0.5 END))- CASE WHEN @arch = 32 THEN 256 ELSE 0 END) OR\r\n",
                "\t\t(@systemmem > 32768 AND SERVERPROPERTY('EditionID') IN (284895786, 1293598313) AND @maxservermem > CAST(0.5 * (((@systemmem-4096-(@mwthreads_count*(CASE WHEN @arch = 64 THEN 2 WHEN @arch = 128 THEN 4 WHEN @arch = 32 THEN 0.5 END)- CASE WHEN @arch = 32 THEN 256 ELSE 0 END)) + 65536) - ABS((@systemmem-4096-(@mwthreads_count*(CASE WHEN @arch = 64 THEN 2 WHEN @arch = 128 THEN 4 WHEN @arch = 32 THEN 0.5 END)- CASE WHEN @arch = 32 THEN 256 ELSE 0 END)) - 65536)) AS int)) OR -- Find min of max mem for machine or max mem for Web and Business Intelligence SKU\r\n",
                "\t\t(@systemmem > 32768 AND SERVERPROPERTY('EditionID') = -1534726760 AND @maxservermem > CAST(0.5 * (((@systemmem-4096-(@mwthreads_count*(CASE WHEN @arch = 64 THEN 2 WHEN @arch = 128 THEN 4 WHEN @arch = 32 THEN 0.5 END)- CASE WHEN @arch = 32 THEN 256 ELSE 0 END)) + 131072) - ABS((@systemmem-4096-(@mwthreads_count*(CASE WHEN @arch = 64 THEN 2 WHEN @arch = 128 THEN 4 WHEN @arch = 32 THEN 0.5 END)- CASE WHEN @arch = 32 THEN 256 ELSE 0 END)) - 131072)) AS int)) OR -- Find min of max mem for machine or max mem for Standard SKU\r\n",
                "\t\t(@systemmem > 32768 AND SERVERPROPERTY('EngineEdition') IN (3,8) AND @maxservermem > @systemmem-4096-(@mwthreads_count*(CASE WHEN @arch = 64 THEN 2 WHEN @arch = 128 THEN 4 WHEN @arch = 32 THEN 0.5 END)- CASE WHEN @arch = 32 THEN 256 ELSE 0 END)) THEN 'WARNING: Not at the recommended MaxMem setting for this server memory configuration, with a single instance' -- Enterprise Edition or Managed Instance\r\n",
                "\t\tELSE 'OK'\r\n",
                "\tEND AS [Deviation],\t\t\r\n",
                "\tCASE WHEN @systemmem <= 2048 THEN @systemmem-512-(@mwthreads_count*(CASE WHEN @arch = 64 THEN 2 WHEN @arch = 128 THEN 4 WHEN @arch = 32 THEN 0.5 END)- CASE WHEN @arch = 32 THEN 256 ELSE 0 END)\r\n",
                "\t\tWHEN @systemmem BETWEEN 2049 AND 4096 THEN @systemmem-819-(@mwthreads_count*(CASE WHEN @arch = 64 THEN 2 WHEN @arch = 128 THEN 4 WHEN @arch = 32 THEN 0.5 END)- CASE WHEN @arch = 32 THEN 256 ELSE 0 END)\r\n",
                "\t\tWHEN @systemmem BETWEEN 4097 AND 8192 THEN @systemmem-1228-(@mwthreads_count*(CASE WHEN @arch = 64 THEN 2 WHEN @arch = 128 THEN 4 WHEN @arch = 32 THEN 0.5 END)- CASE WHEN @arch = 32 THEN 256 ELSE 0 END)\r\n",
                "\t\tWHEN @systemmem BETWEEN 8193 AND 12288 THEN @systemmem-2048-(@mwthreads_count*(CASE WHEN @arch = 64 THEN 2 WHEN @arch = 128 THEN 4 WHEN @arch = 32 THEN 0.5 END)- CASE WHEN @arch = 32 THEN 256 ELSE 0 END)\r\n",
                "\t\tWHEN @systemmem BETWEEN 12289 AND 24576 THEN @systemmem-2560-(@mwthreads_count*(CASE WHEN @arch = 64 THEN 2 WHEN @arch = 128 THEN 4 WHEN @arch = 32 THEN 0.5 END)- CASE WHEN @arch = 32 THEN 256 ELSE 0 END)\r\n",
                "\t\tWHEN @systemmem BETWEEN 24577 AND 32768 THEN @systemmem-3072-(@mwthreads_count*(CASE WHEN @arch = 64 THEN 2 WHEN @arch = 128 THEN 4 WHEN @arch = 32 THEN 0.5 END)- CASE WHEN @arch = 32 THEN 256 ELSE 0 END)\r\n",
                "\t\tWHEN @systemmem > 32768 AND SERVERPROPERTY('EditionID') IN (284895786, 1293598313) THEN CAST(0.5 * (((@systemmem-4096-(@mwthreads_count*(CASE WHEN @arch = 64 THEN 2 WHEN @arch = 128 THEN 4 WHEN @arch = 32 THEN 0.5 END)- CASE WHEN @arch = 32 THEN 256 ELSE 0 END)) + 65536) - ABS((@systemmem-4096-(@mwthreads_count*(CASE WHEN @arch = 64 THEN 2 WHEN @arch = 128 THEN 4 WHEN @arch = 32 THEN 0.5 END)- CASE WHEN @arch = 32 THEN 256 ELSE 0 END)) - 65536)) AS int) -- Find min of max mem for machine or max mem for Web and Business Intelligence SKU\r\n",
                "\t\tWHEN @systemmem > 32768 AND SERVERPROPERTY('EditionID') = -1534726760 THEN CAST(0.5 * (((@systemmem-4096-(@mwthreads_count*(CASE WHEN @arch = 64 THEN 2 WHEN @arch = 128 THEN 4 WHEN @arch = 32 THEN 0.5 END)- CASE WHEN @arch = 32 THEN 256 ELSE 0 END)) + 131072) - ABS((@systemmem-4096-(@mwthreads_count*(CASE WHEN @arch = 64 THEN 2 WHEN @arch = 128 THEN 4 WHEN @arch = 32 THEN 0.5 END)- CASE WHEN @arch = 32 THEN 256 ELSE 0 END)) - 131072)) AS int) -- Find min of max mem for machine or max mem for Standard SKU\r\n",
                "\t\tWHEN @systemmem > 32768 AND SERVERPROPERTY('EngineEdition') IN (3,8) THEN @systemmem-4096-(@mwthreads_count*(CASE WHEN @arch = 64 THEN 2 WHEN @arch = 128 THEN 4 WHEN @arch = 32 THEN 0.5 END)- CASE WHEN @arch = 32 THEN 256 ELSE 0 END) -- Enterprise Edition or Managed Instance\r\n",
                "\tEND AS [Recommended_MaxMem_MB_SingleInstance],\r\n",
                "\tCASE WHEN @systemmem <= 2048 THEN 512\r\n",
                "\t\tWHEN @systemmem BETWEEN 2049 AND 4096 THEN 819\r\n",
                "\t\tWHEN @systemmem BETWEEN 4097 AND 8192 THEN 1228\r\n",
                "\t\tWHEN @systemmem BETWEEN 8193 AND 12288 THEN 2048\r\n",
                "\t\tWHEN @systemmem BETWEEN 12289 AND 24576 THEN 2560\r\n",
                "\t\tWHEN @systemmem BETWEEN 24577 AND 32768 THEN 3072\r\n",
                "\t\tWHEN @systemmem > 32768 THEN 4096\r\n",
                "\tEND AS [Mem_MB_for_OS],\r\n",
                "\tCASE WHEN @systemmem <= 2048 THEN @mwthreads_count*(CASE WHEN @arch = 64 THEN 2 WHEN @arch = 128 THEN 4 WHEN @arch = 32 THEN 0.5 END)\r\n",
                "\t\tWHEN @systemmem BETWEEN 2049 AND 4096 THEN @mwthreads_count*(CASE WHEN @arch = 64 THEN 2 WHEN @arch = 128 THEN 4 WHEN @arch = 32 THEN 0.5 END)\r\n",
                "\t\tWHEN @systemmem BETWEEN 4097 AND 8192 THEN @mwthreads_count*(CASE WHEN @arch = 64 THEN 2 WHEN @arch = 128 THEN 4 WHEN @arch = 32 THEN 0.5 END)\r\n",
                "\t\tWHEN @systemmem BETWEEN 8193 AND 12288 THEN @mwthreads_count*(CASE WHEN @arch = 64 THEN 2 WHEN @arch = 128 THEN 4 WHEN @arch = 32 THEN 0.5 END)\r\n",
                "\t\tWHEN @systemmem BETWEEN 12289 AND 24576 THEN @mwthreads_count*(CASE WHEN @arch = 64 THEN 2 WHEN @arch = 128 THEN 4 WHEN @arch = 32 THEN 0.5 END)\r\n",
                "\t\tWHEN @systemmem BETWEEN 24577 AND 32768 THEN @mwthreads_count*(CASE WHEN @arch = 64 THEN 2 WHEN @arch = 128 THEN 4 WHEN @arch = 32 THEN 0.5 END)\r\n",
                "\t\tWHEN @systemmem > 32768 THEN @mwthreads_count*(CASE WHEN @arch = 64 THEN 2 WHEN @arch = 128 THEN 4 WHEN @arch = 32 THEN 0.5 END)\r\n",
                "\tEND AS [Potential_threads_mem_MB],\r\n",
                "\t@mwthreads_count AS [Configured_workers];\r\n",
                "\r\n",
                "IF @sqlmajorver = 9\r\n",
                "BEGIN\r\n",
                "\tSELECT 'Memory_checks' AS [Category], 'Memory_Summary' AS [Information], \r\n",
                "\t\t@maxservermem AS sql_max_mem_MB, @minservermem AS sql_min_mem_MB,\r\n",
                "\t\t@commit_target/1024 AS sql_commit_target_MB, --BPool in SQL 2005 to 2008R2\r\n",
                "\t\t@committed/1024 AS sql_commited_MB, --BPool in SQL 2005 to 2008R2\r\n",
                "\t\t@systemmem AS system_total_physical_memory_MB, \r\n",
                "\t\t@systemfreemem AS system_available_physical_memory_MB\r\n",
                "END\r\n",
                "ELSE\r\n",
                "BEGIN\r\n",
                "\tSET @sqlcmd = N'SELECT ''Memory_checks'' AS [Category], ''Memory_Summary'' AS [Information], \r\n",
                "\t@maxservermemIN AS sql_max_mem_MB, @minservermemIN AS sql_min_mem_MB, \r\n",
                "\t@commit_targetIN/1024 AS sql_commit_target_MB, --BPool in SQL 2005 to 2008R2\r\n",
                "\t@committedIN/1024 AS sql_commited_MB, --BPool in SQL 2005 to 2008R2\r\n",
                "\tphysical_memory_in_use_kb/1024 AS sql_physical_memory_in_use_MB, \r\n",
                "\tlarge_page_allocations_kb/1024 AS sql_large_page_allocations_MB, \r\n",
                "\tlocked_page_allocations_kb/1024 AS sql_locked_page_allocations_MB,\t\r\n",
                "\t@systemmemIN AS system_total_physical_memory_MB, \r\n",
                "\t@systemfreememIN AS system_available_physical_memory_MB, \r\n",
                "\ttotal_virtual_address_space_kb/1024 AS sql_total_VAS_MB, \r\n",
                "\tvirtual_address_space_reserved_kb/1024 AS sql_VAS_reserved_MB, \r\n",
                "\tvirtual_address_space_committed_kb/1024 AS sql_VAS_committed_MB, \r\n",
                "\tvirtual_address_space_available_kb/1024 AS sql_VAS_available_MB,\r\n",
                "\tpage_fault_count AS sql_page_fault_count,\r\n",
                "\tmemory_utilization_percentage AS sql_memory_utilization_percentage, \r\n",
                "\tprocess_physical_memory_low AS sql_process_physical_memory_low, \r\n",
                "\tprocess_virtual_memory_low AS sql_process_virtual_memory_low\t\r\n",
                "FROM sys.dm_os_process_memory (NOLOCK)'\r\n",
                "\tSET @params = N'@maxservermemIN bigint, @minservermemIN bigint, @systemmemIN bigint, @systemfreememIN bigint, @commit_targetIN bigint, @committedIN bigint';\r\n",
                "\tEXECUTE sp_executesql @sqlcmd, @params, @maxservermemIN=@maxservermem, @minservermemIN=@minservermem,@systemmemIN=@systemmem, @systemfreememIN=@systemfreemem, @commit_targetIN=@commit_target, @committedIN=@committed\r\n",
                "END;\r\n",
                "\r\n",
                "IF @numa > 1 AND @sqlmajorver > 10\r\n",
                "BEGIN\r\n",
                "\tEXEC ('SELECT ''Memory_checks'' AS [Category], ''NUMA_Memory_Distribution'' AS [Information], memory_node_id, virtual_address_space_reserved_kb, virtual_address_space_committed_kb, locked_page_allocations_kb, pages_kb, foreign_committed_kb, shared_memory_reserved_kb, shared_memory_committed_kb, processor_group FROM sys.dm_os_memory_nodes;')\r\n",
                "END\r\n",
                "ELSE IF @numa > 1 AND @sqlmajorver = 10\r\n",
                "BEGIN\r\n",
                "\tEXEC ('SELECT ''Memory_checks'' AS [Category], ''NUMA_Memory_Distribution'' AS [Information], memory_node_id, virtual_address_space_reserved_kb, virtual_address_space_committed_kb, locked_page_allocations_kb, single_pages_kb, multi_pages_kb, shared_memory_reserved_kb, shared_memory_committed_kb, processor_group FROM sys.dm_os_memory_nodes;')\r\n",
                "END;"
            ],
            "metadata": {
                "azdata_cell_guid": "40c05e68-e700-4c22-a28b-ca963fd31b97"
            },
            "outputs": [
                {
                    "output_type": "display_data",
                    "data": {
                        "text/html": "Commands completed successfully."
                    },
                    "metadata": {}
                },
                {
                    "output_type": "display_data",
                    "data": {
                        "text/html": "Total execution time: 00:00:00.128"
                    },
                    "metadata": {}
                },
                {
                    "output_type": "execute_result",
                    "metadata": {},
                    "execution_count": 1,
                    "data": {
                        "application/vnd.dataresource+json": {
                            "schema": {
                                "fields": [
                                    {
                                        "name": "Category"
                                    },
                                    {
                                        "name": "Check"
                                    },
                                    {
                                        "name": "Deviation"
                                    },
                                    {
                                        "name": "sql_max_mem_MB"
                                    }
                                ]
                            },
                            "data": [
                                {
                                    "0": "Memory_checks",
                                    "1": "Memory_issues_MaxServerMem",
                                    "2": "WARNING: MaxMem setting is default. Please revise memory settings",
                                    "3": "2147483647"
                                }
                            ]
                        },
                        "text/html": [
                            "<table>",
                            "<tr><th>Category</th><th>Check</th><th>Deviation</th><th>sql_max_mem_MB</th></tr>",
                            "<tr><td>Memory_checks</td><td>Memory_issues_MaxServerMem</td><td>WARNING: MaxMem setting is default. Please revise memory settings</td><td>2147483647</td></tr>",
                            "</table>"
                        ]
                    }
                },
                {
                    "output_type": "execute_result",
                    "metadata": {},
                    "execution_count": 1,
                    "data": {
                        "application/vnd.dataresource+json": {
                            "schema": {
                                "fields": [
                                    {
                                        "name": "Category"
                                    },
                                    {
                                        "name": "Check"
                                    },
                                    {
                                        "name": "Deviation"
                                    },
                                    {
                                        "name": "sql_min_mem_MB"
                                    }
                                ]
                            },
                            "data": [
                                {
                                    "0": "Memory_checks",
                                    "1": "Memory_issues_MinServerMem",
                                    "2": "OK",
                                    "3": "0"
                                }
                            ]
                        },
                        "text/html": [
                            "<table>",
                            "<tr><th>Category</th><th>Check</th><th>Deviation</th><th>sql_min_mem_MB</th></tr>",
                            "<tr><td>Memory_checks</td><td>Memory_issues_MinServerMem</td><td>OK</td><td>0</td></tr>",
                            "</table>"
                        ]
                    }
                },
                {
                    "output_type": "execute_result",
                    "metadata": {},
                    "execution_count": 1,
                    "data": {
                        "application/vnd.dataresource+json": {
                            "schema": {
                                "fields": [
                                    {
                                        "name": "Category"
                                    },
                                    {
                                        "name": "Check"
                                    },
                                    {
                                        "name": "Deviation"
                                    },
                                    {
                                        "name": "system_total_physical_memory_MB"
                                    },
                                    {
                                        "name": "system_available_physical_memory_MB"
                                    }
                                ]
                            },
                            "data": [
                                {
                                    "0": "Memory_checks",
                                    "1": "Memory_issues_FreeMem",
                                    "2": "[OK]",
                                    "3": "16301",
                                    "4": "2546"
                                }
                            ]
                        },
                        "text/html": [
                            "<table>",
                            "<tr><th>Category</th><th>Check</th><th>Deviation</th><th>system_total_physical_memory_MB</th><th>system_available_physical_memory_MB</th></tr>",
                            "<tr><td>Memory_checks</td><td>Memory_issues_FreeMem</td><td>[OK]</td><td>16301</td><td>2546</td></tr>",
                            "</table>"
                        ]
                    }
                },
                {
                    "output_type": "execute_result",
                    "metadata": {},
                    "execution_count": 1,
                    "data": {
                        "application/vnd.dataresource+json": {
                            "schema": {
                                "fields": [
                                    {
                                        "name": "Category"
                                    },
                                    {
                                        "name": "Check"
                                    },
                                    {
                                        "name": "Deviation"
                                    },
                                    {
                                        "name": "sql_commit_target_MB"
                                    },
                                    {
                                        "name": "sql_commited_MB"
                                    }
                                ]
                            },
                            "data": [
                                {
                                    "0": "Memory_checks",
                                    "1": "Memory_issues_CommitedMem",
                                    "2": "INFORMATION: Memory manager will try to obtain additional memory",
                                    "3": "2239",
                                    "4": "508"
                                }
                            ]
                        },
                        "text/html": [
                            "<table>",
                            "<tr><th>Category</th><th>Check</th><th>Deviation</th><th>sql_commit_target_MB</th><th>sql_commited_MB</th></tr>",
                            "<tr><td>Memory_checks</td><td>Memory_issues_CommitedMem</td><td>INFORMATION: Memory manager will try to obtain additional memory</td><td>2239</td><td>508</td></tr>",
                            "</table>"
                        ]
                    }
                },
                {
                    "output_type": "execute_result",
                    "metadata": {},
                    "execution_count": 1,
                    "data": {
                        "application/vnd.dataresource+json": {
                            "schema": {
                                "fields": [
                                    {
                                        "name": "Category"
                                    },
                                    {
                                        "name": "Check"
                                    },
                                    {
                                        "name": "Deviation"
                                    },
                                    {
                                        "name": "Recommended_MaxMem_MB_SingleInstance"
                                    },
                                    {
                                        "name": "Mem_MB_for_OS"
                                    },
                                    {
                                        "name": "Potential_threads_mem_MB"
                                    },
                                    {
                                        "name": "Configured_workers"
                                    }
                                ]
                            },
                            "data": [
                                {
                                    "0": "Memory_checks",
                                    "1": "Memory_reference",
                                    "2": "WARNING: Not at the recommended MaxMem setting for this server memory configuration, with a single instance",
                                    "3": "12589.0",
                                    "4": "2560",
                                    "5": "1152.0",
                                    "6": "576"
                                }
                            ]
                        },
                        "text/html": [
                            "<table>",
                            "<tr><th>Category</th><th>Check</th><th>Deviation</th><th>Recommended_MaxMem_MB_SingleInstance</th><th>Mem_MB_for_OS</th><th>Potential_threads_mem_MB</th><th>Configured_workers</th></tr>",
                            "<tr><td>Memory_checks</td><td>Memory_reference</td><td>WARNING: Not at the recommended MaxMem setting for this server memory configuration, with a single instance</td><td>12589.0</td><td>2560</td><td>1152.0</td><td>576</td></tr>",
                            "</table>"
                        ]
                    }
                },
                {
                    "output_type": "execute_result",
                    "metadata": {},
                    "execution_count": 1,
                    "data": {
                        "application/vnd.dataresource+json": {
                            "schema": {
                                "fields": [
                                    {
                                        "name": "Category"
                                    },
                                    {
                                        "name": "Information"
                                    },
                                    {
                                        "name": "sql_max_mem_MB"
                                    },
                                    {
                                        "name": "sql_min_mem_MB"
                                    },
                                    {
                                        "name": "sql_commit_target_MB"
                                    },
                                    {
                                        "name": "sql_commited_MB"
                                    },
                                    {
                                        "name": "sql_physical_memory_in_use_MB"
                                    },
                                    {
                                        "name": "sql_large_page_allocations_MB"
                                    },
                                    {
                                        "name": "sql_locked_page_allocations_MB"
                                    },
                                    {
                                        "name": "system_total_physical_memory_MB"
                                    },
                                    {
                                        "name": "system_available_physical_memory_MB"
                                    },
                                    {
                                        "name": "sql_total_VAS_MB"
                                    },
                                    {
                                        "name": "sql_VAS_reserved_MB"
                                    },
                                    {
                                        "name": "sql_VAS_committed_MB"
                                    },
                                    {
                                        "name": "sql_VAS_available_MB"
                                    },
                                    {
                                        "name": "sql_page_fault_count"
                                    },
                                    {
                                        "name": "sql_memory_utilization_percentage"
                                    },
                                    {
                                        "name": "sql_process_physical_memory_low"
                                    },
                                    {
                                        "name": "sql_process_virtual_memory_low"
                                    }
                                ]
                            },
                            "data": [
                                {
                                    "0": "Memory_checks",
                                    "1": "Memory_Summary",
                                    "2": "2147483647",
                                    "3": "0",
                                    "4": "2239",
                                    "5": "508",
                                    "6": "342",
                                    "7": "0",
                                    "8": "0",
                                    "9": "16301",
                                    "10": "2546",
                                    "11": "134217727",
                                    "12": "41919",
                                    "13": "748",
                                    "14": "134175808",
                                    "15": "3756643",
                                    "16": "67",
                                    "17": "0",
                                    "18": "0"
                                }
                            ]
                        },
                        "text/html": [
                            "<table>",
                            "<tr><th>Category</th><th>Information</th><th>sql_max_mem_MB</th><th>sql_min_mem_MB</th><th>sql_commit_target_MB</th><th>sql_commited_MB</th><th>sql_physical_memory_in_use_MB</th><th>sql_large_page_allocations_MB</th><th>sql_locked_page_allocations_MB</th><th>system_total_physical_memory_MB</th><th>system_available_physical_memory_MB</th><th>sql_total_VAS_MB</th><th>sql_VAS_reserved_MB</th><th>sql_VAS_committed_MB</th><th>sql_VAS_available_MB</th><th>sql_page_fault_count</th><th>sql_memory_utilization_percentage</th><th>sql_process_physical_memory_low</th><th>sql_process_virtual_memory_low</th></tr>",
                            "<tr><td>Memory_checks</td><td>Memory_Summary</td><td>2147483647</td><td>0</td><td>2239</td><td>508</td><td>342</td><td>0</td><td>0</td><td>16301</td><td>2546</td><td>134217727</td><td>41919</td><td>748</td><td>134175808</td><td>3756643</td><td>67</td><td>0</td><td>0</td></tr>",
                            "</table>"
                        ]
                    }
                }
            ],
            "execution_count": 1
        }
    ]
}