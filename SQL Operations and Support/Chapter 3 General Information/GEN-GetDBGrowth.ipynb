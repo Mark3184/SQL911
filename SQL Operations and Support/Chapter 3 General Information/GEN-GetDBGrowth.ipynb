{
    "metadata": {
        "kernelspec": {
            "name": "SQL",
            "display_name": "SQL",
            "language": "sql"
        },
        "language_info": {
            "name": "sql",
            "version": ""
        },
        "extensions": {
            "azuredatastudio": {
                "version": 1,
                "views": []
            }
        }
    },
    "nbformat_minor": 2,
    "nbformat": 4,
    "cells": [
        {
            "cell_type": "markdown",
            "source": [
                "![CH3-ADS.png](.\\Media\\CH3-ADS.png)\n",
                "\n",
                "# <span style=\"color:rgb(204, 85, 0);\">Get Database Growth</span>\n",
                "\n",
                "## <span style=\"font-size:14px;\">The primary purpose is to query the database growth of all databases on this instance for the last 72 hours</span>\n",
                "\n",
                "### <span style=\"color:rgb(0, 204, 153);\">Run the Code block below</span>\n",
                "\n",
                "1. Click the run icon below\n",
                "2. If ADS prompts you for a connection, enter the correct SQL Server and authentication account\n",
                "3. View the results of the query by scrolling down to the results set"
            ],
            "metadata": {
                "azdata_cell_guid": "5aef2dc3-0e0a-41c1-af16-482d70d3eee5"
            },
            "attachments": {}
        },
        {
            "cell_type": "code",
            "source": [
                "SET NOCOUNT ON;\r\n",
                "SET ANSI_WARNINGS ON;\r\n",
                "SET QUOTED_IDENTIFIER ON;\r\n",
                "\r\n",
                "DECLARE @sqlcmd NVARCHAR(max), @params NVARCHAR(600)\r\n",
                "DECLARE @sqlmajorver int, @sqlminorver int, @sqlbuild int\r\n",
                "DECLARE @ErrorMessage NVARCHAR(4000)\r\n",
                "DECLARE @ostype VARCHAR(10)\r\n",
                "\r\n",
                "SELECT @sqlmajorver = CONVERT(int, (@@microsoftversion / 0x1000000) & 0xff);\r\n",
                "SELECT @sqlminorver = CONVERT(int, (@@microsoftversion / 0x10000) & 0xff);\r\n",
                "SELECT @sqlbuild = CONVERT(int, @@microsoftversion & 0xffff);\r\n",
                "\r\n",
                "IF (@sqlmajorver >= 11) OR (@sqlmajorver = 10 AND @sqlminorver = 50 AND @sqlbuild >= 2500)\r\n",
                "BEGIN\r\n",
                "\tSET @sqlcmd = N'SELECT @ostypeOUT = ''Windows'' FROM sys.dm_os_windows_info (NOLOCK)';\r\n",
                "\tSET @params = N'@ostypeOUT VARCHAR(10) OUTPUT';\r\n",
                "\tEXECUTE sp_executesql @sqlcmd, @params, @ostypeOUT=@ostype OUTPUT;\r\n",
                "END\r\n",
                "ELSE\r\n",
                "BEGIN\r\n",
                "\tSET @ostype = 'Windows'\r\n",
                "END;\r\n",
                "\r\n",
                "IF EXISTS (SELECT TOP 1 id FROM sys.traces WHERE is_default = 1)\r\n",
                "BEGIN\r\n",
                "\tDECLARE @tracefilename VARCHAR(500)\r\n",
                "\tIF @ostype = 'Windows'\r\n",
                "\tSELECT @tracefilename = LEFT([path],LEN([path]) - PATINDEX('%\\%', REVERSE([path]))) + '\\log.trc' FROM sys.traces WHERE is_default = 1;\r\n",
                "\t\r\n",
                "\tIF @ostype <> 'Windows'\r\n",
                "\tSELECT @tracefilename = LEFT([path],LEN([path]) - PATINDEX('%/%', REVERSE([path]))) + '/log.trc' FROM sys.traces WHERE is_default = 1;\r\n",
                "\r\n",
                "\tWITH AutoGrow_CTE (databaseid, [filename], Growth, Duration, StartTime, EndTime)\r\n",
                "\tAS\r\n",
                "\t(\r\n",
                "\tSELECT databaseid, [filename], SUM(IntegerData*8) AS Growth, Duration, StartTime, EndTime--, CASE WHEN EventClass =\r\n",
                "\tFROM sys.fn_trace_gettable(@tracefilename, default)\r\n",
                "\tWHERE EventClass >= 92 AND EventClass <= 95 AND DATEDIFF(hh,StartTime,GETDATE()) < 72 -- Last 24h\r\n",
                "\tGROUP BY databaseid, [filename], IntegerData, Duration, StartTime, EndTime\r\n",
                "\t)\r\n",
                "\tSELECT 'Information' AS [Category], 'Recorded_Autogrows_Lst72H' AS [Information], DB_NAME(database_id) AS Database_Name, \r\n",
                "\t\tmf.name AS logical_file_name, mf.size*8 / 1024 AS size_MB, mf.type_desc,\r\n",
                "\t\tag.Growth AS [growth_KB], CASE WHEN is_percent_growth = 1 THEN 'Pct' ELSE 'MB' END AS growth_type,\r\n",
                "\t\tDuration/1000 AS Growth_Duration_ms, ag.StartTime, ag.EndTime\r\n",
                "\tFROM sys.master_files mf\r\n",
                "\tLEFT OUTER JOIN AutoGrow_CTE ag ON mf.database_id=ag.databaseid AND mf.name=ag.[filename]\r\n",
                "\tWHERE ag.Growth > 0 --Only where growth occurred\r\n",
                "\tGROUP BY database_id, mf.name, mf.size, ag.Growth, ag.Duration, ag.StartTime, ag.EndTime, is_percent_growth, mf.growth, mf.type_desc\r\n",
                "\tORDER BY Database_Name, logical_file_name, ag.StartTime;\r\n",
                "END\r\n",
                "ELSE\r\n",
                "BEGIN\r\n",
                "\tSELECT 'Information' AS [Category], 'Recorded_Autogrows_Lst72H' AS [Information], 'WARNING: Could not gather information on autogrow times' AS [Comment]\r\n",
                "END;"
            ],
            "metadata": {
                "azdata_cell_guid": "6bdcd292-9114-4d83-9f47-d29af923b75e"
            },
            "outputs": [],
            "execution_count": null
        }
    ]
}