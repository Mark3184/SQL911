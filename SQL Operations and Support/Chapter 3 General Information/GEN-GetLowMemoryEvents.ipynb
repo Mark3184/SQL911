{
    "metadata": {
        "kernelspec": {
            "name": "SQL",
            "display_name": "SQL",
            "language": "sql"
        },
        "language_info": {
            "name": "sql",
            "version": ""
        },
        "extensions": {
            "azuredatastudio": {
                "version": 1,
                "views": []
            }
        }
    },
    "nbformat_minor": 2,
    "nbformat": 4,
    "cells": [
        {
            "cell_type": "markdown",
            "source": [
                "![CH3-ADS.png](.\\Media\\CH3-ADS.png)\n",
                "\n",
                "# <span style=\"color:rgb(204, 85, 0);\">Get Low Memory Events</span>\n",
                "\n",
                "## <span style=\"font-size: 14px;\">This Query is from the Windows Internals book by David Solomon and Mark Russinovich:</span>\n",
                "\n",
                "<span style=\"font-size: 14px;\">\"The default level of available memory that signals a low-memory-resource notification event is approximately 32 MB per 4 GB,&nbsp;</span> to a maximum of 64 MB. The default level that signals a high-memory-resource notification event is three times the default low-memory value.\" \n",
                "\n",
                "### <span style=\"color:rgb(0, 204, 153);\">Run the Code block below</span>\n",
                "\n",
                "1. Click the run icon below\n",
                "2. If ADS prompts you for a connection, enter the correct SQL Server and authentication account\n",
                "3. View the results of the query by scrolling down to the results set"
            ],
            "metadata": {
                "azdata_cell_guid": "0b25ec34-8c4b-4cb2-89dc-8c79e39ec421"
            },
            "attachments": {}
        },
        {
            "cell_type": "code",
            "source": [
                "\r\n",
                "SET NOCOUNT ON;\r\n",
                "SET ANSI_WARNINGS ON;\r\n",
                "SET QUOTED_IDENTIFIER ON;\r\n",
                "SET DATEFORMAT mdy;\r\n",
                "\r\n",
                "DECLARE @masterpid int, @RegKey NVARCHAR(255), @LowMemoryThreshold int, @systemmem bigint\r\n",
                "DECLARE @permstbl TABLE ([name] sysname);\r\n",
                "\r\n",
                "DECLARE @sqlcmd NVARCHAR(max), @params NVARCHAR(600)\r\n",
                "DECLARE @sqlmajorver int\r\n",
                "DECLARE @ErrorMessage NVARCHAR(4000)\r\n",
                "\r\n",
                "SELECT @sqlmajorver = CONVERT(int, (@@microsoftversion / 0x1000000) & 0xff);\r\n",
                "\r\n",
                "SELECT @masterpid = principal_id FROM master.sys.database_principals (NOLOCK) WHERE sid = SUSER_SID()\r\n",
                "\r\n",
                "INSERT INTO @permstbl\r\n",
                "SELECT a.name\r\n",
                "FROM master.sys.all_objects a (NOLOCK) INNER JOIN master.sys.database_permissions b (NOLOCK) ON a.[OBJECT_ID] = b.major_id\r\n",
                "WHERE a.type IN ('P', 'X') AND b.grantee_principal_id <>0\r\n",
                "AND b.grantee_principal_id <>2\r\n",
                "AND b.grantee_principal_id = @masterpid;\r\n",
                "\r\n",
                "IF @sqlmajorver = 9\r\n",
                "BEGIN\r\n",
                "\tSET @sqlcmd = N'SELECT @systemmemOUT = t1.record.value(''(./Record/MemoryRecord/TotalPhysicalMemory)[1]'', ''bigint'')/1024\r\n",
                "FROM (SELECT MAX([TIMESTAMP]) AS [TIMESTAMP], CONVERT(xml, record) AS record \r\n",
                "\tFROM sys.dm_os_ring_buffers (NOLOCK)\r\n",
                "\tWHERE ring_buffer_type = N''RING_BUFFER_RESOURCE_MONITOR''\r\n",
                "\t\tAND record LIKE ''%RESOURCE_MEMPHYSICAL%''\r\n",
                "\tGROUP BY record) AS t1';\r\n",
                "END\r\n",
                "ELSE\r\n",
                "BEGIN\r\n",
                "\tSET @sqlcmd = N'SELECT @systemmemOUT = total_physical_memory_kb/1024 FROM sys.dm_os_sys_memory';\r\n",
                "END\r\n",
                "\r\n",
                "SET @params = N'@systemmemOUT bigint OUTPUT';\r\n",
                "\r\n",
                "EXECUTE sp_executesql @sqlcmd, @params, @systemmemOUT=@systemmem OUTPUT;\r\n",
                "\r\n",
                "IF (ISNULL(IS_SRVROLEMEMBER(N'sysadmin'), 0) = 1) OR ((SELECT COUNT([name]) FROM @permstbl WHERE [name] = 'xp_regread') = 1)\r\n",
                "BEGIN\r\n",
                "\tBEGIN TRY\r\n",
                "\t\tSELECT @RegKey = N'System\\CurrentControlSet\\Control\\SessionManager\\MemoryManagement'\r\n",
                "\t\tEXEC master.sys.xp_regread N'HKEY_LOCAL_MACHINE', @RegKey, N'LowMemoryThreshold', @LowMemoryThreshold OUTPUT, NO_OUTPUT\r\n",
                "\t\t\r\n",
                "\t\tIF @LowMemoryThreshold IS NULL\r\n",
                "\t\tSELECT @LowMemoryThreshold = CASE WHEN @systemmem <= 4096 THEN 32 ELSE 64 END\r\n",
                "\tEND TRY\r\n",
                "\tBEGIN CATCH\r\n",
                "\t\tSELECT ERROR_NUMBER() AS ErrorNumber, ERROR_MESSAGE() AS ErrorMessage;\r\n",
                "\t\tSELECT @ErrorMessage = 'Server Memory subsection - Error raised in TRY block. ' + ERROR_MESSAGE()\r\n",
                "\t\tRAISERROR (@ErrorMessage, 16, 1);\r\n",
                "\tEND CATCH\r\n",
                "END\r\n",
                "ELSE\r\n",
                "BEGIN\r\n",
                "\tRAISERROR('WARNING: Missing permissions for full \"Instance info\" checks. Bypassing LowMemoryThreshold check', 16, 1, N'sysadmin')\r\n",
                "\t--RETURN\r\n",
                "END;\r\n",
                "\r\n",
                "IF @LowMemoryThreshold IS NOT NULL\r\n",
                "SELECT 'Memory_checks' AS [Category], 'Memory_RM_Tresholds' AS [Information], @LowMemoryThreshold AS [MEMPHYSICAL_LOW_Threshold], @LowMemoryThreshold * 3 AS [MEMPHYSICAL_HIGH_Threshold]\r\n",
                "\r\n",
                "SELECT 'Memory_checks' AS [Category], 'Memory_RM_Notifications' AS [Information], \r\n",
                "CASE WHEN x.[TIMESTAMP] BETWEEN -2147483648 AND 2147483647 AND si.ms_ticks BETWEEN -2147483648 AND 2147483647 THEN DATEADD(ms, x.[TIMESTAMP] - si.ms_ticks, GETDATE()) \r\n",
                "    ELSE DATEADD(s, ([TIMESTAMP]/1000) - (si.ms_ticks/1000), GETDATE()) END AS Event_Time,\r\n",
                "    record.value('(./Record/ResourceMonitor/Notification)[1]', 'VARCHAR(max)') AS [Notification],\r\n",
                "    record.value('(./Record/MemoryRecord/TotalPhysicalMemory)[1]', 'bigint')/1024 AS [Total_Physical_Mem_MB],\r\n",
                "    record.value('(./Record/MemoryRecord/AvailablePhysicalMemory)[1]', 'bigint')/1024 AS [Avail_Physical_Mem_MB],\r\n",
                "    record.value('(./Record/MemoryRecord/AvailableVirtualAddressSpace)[1]', 'bigint')/1024 AS [Avail_VAS_MB],\r\n",
                "    record.value('(./Record/MemoryRecord/TotalPageFile)[1]', 'bigint')/1024 AS [Total_Pagefile_MB],\r\n",
                "    record.value('(./Record/MemoryRecord/AvailablePageFile)[1]', 'bigint')/1024 AS [Avail_Pagefile_MB]\r\n",
                "FROM (SELECT [TIMESTAMP], CONVERT(xml, record) AS record \r\n",
                "            FROM sys.dm_os_ring_buffers (NOLOCK)\r\n",
                "            WHERE ring_buffer_type = N'RING_BUFFER_RESOURCE_MONITOR') AS x\r\n",
                "CROSS JOIN sys.dm_os_sys_info si (NOLOCK)\r\n",
                "--WHERE CASE WHEN x.[timestamp] BETWEEN -2147483648 AND 2147483648 THEN DATEADD(ms, x.[timestamp] - si.ms_ticks, GETDATE()) \r\n",
                "--\tELSE DATEADD(s, (x.[timestamp]/1000) - (si.ms_ticks/1000), GETDATE()) END >= DATEADD(hh, -12, GETDATE())\r\n",
                "ORDER BY 2 DESC;"
            ],
            "metadata": {
                "azdata_cell_guid": "61fe15d9-0989-43d2-8ad7-4b2be331d5a0"
            },
            "outputs": [],
            "execution_count": null
        }
    ]
}