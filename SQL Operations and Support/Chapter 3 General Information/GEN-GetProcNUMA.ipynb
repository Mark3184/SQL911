{
    "metadata": {
        "kernelspec": {
            "name": "SQL",
            "display_name": "SQL",
            "language": "sql"
        },
        "language_info": {
            "name": "sql",
            "version": ""
        },
        "extensions": {
            "azuredatastudio": {
                "version": 1,
                "views": []
            }
        }
    },
    "nbformat_minor": 2,
    "nbformat": 4,
    "cells": [
        {
            "cell_type": "markdown",
            "source": [
                "Get Processor Affinity"
            ],
            "metadata": {
                "azdata_cell_guid": "5b3e4a7c-8ee4-4a7b-9d89-558f2d49b576"
            },
            "attachments": {}
        },
        {
            "cell_type": "code",
            "source": [
                "SET NOCOUNT ON;\r\n",
                "SET ANSI_WARNINGS ON;\r\n",
                "SET QUOTED_IDENTIFIER ON;\r\n",
                "\r\n",
                "DECLARE @cpucount int, @numa int, @affined_cpus int, @affinitymask NVARCHAR(64), @affinity64mask NVARCHAR(1024)--, @cpuover32 int\r\n",
                "DECLARE @i int, @cpuaffin VARCHAR(300), @cpuaffin_fixed VARCHAR(300)\r\n",
                "\r\n",
                "SELECT @numa = COUNT(DISTINCT parent_node_id) FROM sys.dm_os_schedulers WHERE scheduler_id < 255 AND parent_node_id < 64;\r\n",
                "SELECT @cpucount = COUNT(cpu_id) FROM sys.dm_os_schedulers WHERE scheduler_id < 255 AND parent_node_id < 64\r\n",
                "\r\n",
                ";WITH bits AS \r\n",
                "(SELECT 7 AS N, 128 AS E UNION ALL SELECT 6, 64 UNION ALL \r\n",
                "SELECT 5, 32 UNION ALL SELECT 4, 16 UNION ALL SELECT 3, 8 UNION ALL \r\n",
                "SELECT 2, 4 UNION ALL SELECT 1, 2 UNION ALL SELECT 0, 1), \r\n",
                "bytes AS \r\n",
                "(SELECT 1 M UNION ALL SELECT 2 UNION ALL SELECT 3 UNION ALL \r\n",
                "SELECT 4 UNION ALL SELECT 5 UNION ALL SELECT 6 UNION ALL \r\n",
                "SELECT 7 UNION ALL SELECT 8 UNION ALL SELECT 9)\r\n",
                "-- CPU Affinity is shown highest to lowest CPU ID\r\n",
                "SELECT @affinitymask = CASE WHEN [value] = 0 THEN REPLICATE('1', @cpucount)\r\n",
                "\tELSE RIGHT((SELECT ((CONVERT(tinyint, SUBSTRING(CONVERT(binary(9), [value]), M, 1)) & E) / E) AS [text()] \r\n",
                "\t\tFROM bits CROSS JOIN bytes\r\n",
                "\t\tORDER BY M, N DESC\r\n",
                "\t\tFOR XML PATH('')), @cpucount) END\r\n",
                "FROM sys.configurations (NOLOCK)\r\n",
                "WHERE name = 'affinity mask';\r\n",
                "\r\n",
                "IF @cpucount > 32\r\n",
                "BEGIN\r\n",
                "\t;WITH bits AS \r\n",
                "\t(SELECT 7 AS N, 128 AS E UNION ALL SELECT 6, 64 UNION ALL \r\n",
                "\tSELECT 5, 32 UNION ALL SELECT 4, 16 UNION ALL SELECT 3, 8 UNION ALL \r\n",
                "\tSELECT 2, 4 UNION ALL SELECT 1, 2 UNION ALL SELECT 0, 1), \r\n",
                "\tbytes AS \r\n",
                "\t(SELECT 1 M UNION ALL SELECT 2 UNION ALL SELECT 3 UNION ALL \r\n",
                "\tSELECT 4 UNION ALL SELECT 5 UNION ALL SELECT 6 UNION ALL \r\n",
                "\tSELECT 7 UNION ALL SELECT 8 UNION ALL SELECT 9)\r\n",
                "\t-- CPU Affinity is shown highest to lowest CPU ID\r\n",
                "\tSELECT @affinity64mask = CASE WHEN [value] = 0 THEN REPLICATE('1', @cpucount)\r\n",
                "\t\tELSE RIGHT((SELECT ((CONVERT(tinyint, SUBSTRING(CONVERT(binary(9), [value]), M, 1)) & E) / E) AS [text()] \r\n",
                "\t\t\tFROM bits CROSS JOIN bytes\r\n",
                "\t\t\tORDER BY M, N DESC\r\n",
                "\t\t\tFOR XML PATH('')), @cpucount) END\r\n",
                "\tFROM sys.configurations (NOLOCK)\r\n",
                "\tWHERE name = 'affinity64 mask';\r\n",
                "END;\r\n",
                "\r\n",
                "/*\r\n",
                "IF @cpucount > 32\r\n",
                "SELECT @cpuover32 = ABS(LEN(@affinity64mask) - (@cpucount-32))\r\n",
                "\r\n",
                "SELECT @cpuaffin = CASE WHEN @cpucount > 32 THEN REVERSE(LEFT(REVERSE(@affinity64mask),@cpuover32)) + RIGHT(@affinitymask,32) ELSE RIGHT(@affinitymask,@cpucount) END\r\n",
                "*/\r\n",
                "\r\n",
                "SELECT @cpuaffin = CASE WHEN @cpucount > 32 THEN @affinity64mask ELSE @affinitymask END\r\n",
                "\r\n",
                "SET @cpuaffin_fixed = @cpuaffin\r\n",
                "SET @i = CEILING(@cpucount*1.00/@numa) + 1\r\n",
                "WHILE @i < @cpucount + @numa\r\n",
                "BEGIN\r\n",
                "\tIF (@cpucount + @numa) - @i >= CEILING(@cpucount*1.00/@numa)\r\n",
                "\tBEGIN\r\n",
                "\t\tSELECT @cpuaffin_fixed = STUFF(@cpuaffin_fixed, @i, 1, '_' + SUBSTRING(@cpuaffin_fixed, @i, 1))\r\n",
                "\tEND\r\n",
                "\tELSE\r\n",
                "\tBEGIN\r\n",
                "\t\tSELECT @cpuaffin_fixed = STUFF(@cpuaffin_fixed, @i, CEILING(@cpucount*1.00/@numa), SUBSTRING(@cpuaffin_fixed, @i, CEILING(@cpucount*1.00/@numa)))\r\n",
                "\tEND\r\n",
                "\r\n",
                "\tSET @i = @i + CEILING(@cpucount*1.00/@numa) + 1\r\n",
                "END;\r\n",
                "\r\n",
                "IF @numa > 1\r\n",
                "BEGIN\r\n",
                "\tWITH ncpuCTE (ncpus) AS (SELECT COUNT(cpu_id) AS ncpus from sys.dm_os_schedulers WHERE is_online = 1 AND scheduler_id < 255 AND parent_node_id < 64 GROUP BY parent_node_id, is_online HAVING COUNT(cpu_id) = 1),\r\n",
                "\tcpuCTE (node, afin) AS (SELECT DISTINCT(parent_node_id), is_online FROM sys.dm_os_schedulers WHERE scheduler_id < 255 AND parent_node_id < 64 GROUP BY parent_node_id, is_online)\r\n",
                "\tSELECT 'Processor_checks' AS [Category], 'Affinity_NUMA' AS [Check],\r\n",
                "\t\tCASE WHEN (SELECT COUNT(*) FROM ncpuCTE) > 0 THEN 'WARNING: Current NUMA configuration is not recommended. At least one node has a single assigned CPU' \r\n",
                "\t\t\tWHEN (SELECT COUNT(DISTINCT(node)) FROM cpuCTE WHERE afin = 0 AND node NOT IN (SELECT DISTINCT(node) FROM cpuCTE WHERE afin = 1)) > 0 THEN 'WARNING: Current NUMA configuration is not recommended. At least one node does not have assigned CPUs' \r\n",
                "\t\t\tELSE 'OK' END AS [Deviation]\r\n",
                "\tFROM sys.dm_os_sys_info (NOLOCK) \r\n",
                "\tOPTION (RECOMPILE);\r\n",
                "\t\r\n",
                "\tSELECT 'Processor_checks' AS [Category], 'Affinity_NUMA' AS [Information], cpu_count AS [Logical_CPU_Count], \r\n",
                "\t\t(SELECT COUNT(DISTINCT parent_node_id) FROM sys.dm_os_schedulers WHERE scheduler_id < 255 AND parent_node_id < 64) AS [NUMA_Nodes],\r\n",
                "\t\t-- Processor Affinity is shown highest to lowest CPU ID\r\n",
                "\t\t@cpuaffin_fixed AS Affinity_Mask_Bitmask\r\n",
                "\tFROM sys.dm_os_sys_info (NOLOCK) \r\n",
                "\tOPTION (RECOMPILE);\r\n",
                "END\r\n",
                "ELSE\r\n",
                "BEGIN\r\n",
                "\tSELECT 'Processor_checks' AS [Category], 'Affinity_NUMA' AS [Check], 'Not NUMA' AS [Deviation]\r\n",
                "\tFROM sys.dm_os_sys_info (NOLOCK)\r\n",
                "\tOPTION (RECOMPILE);\r\n",
                "END;"
            ],
            "metadata": {
                "azdata_cell_guid": "f58492de-ed8f-4805-97cf-0ed11d6022d5"
            },
            "outputs": [
                {
                    "output_type": "display_data",
                    "data": {
                        "text/html": "Commands completed successfully."
                    },
                    "metadata": {}
                },
                {
                    "output_type": "display_data",
                    "data": {
                        "text/html": "Total execution time: 00:00:00.086"
                    },
                    "metadata": {}
                },
                {
                    "output_type": "execute_result",
                    "metadata": {},
                    "execution_count": 1,
                    "data": {
                        "application/vnd.dataresource+json": {
                            "schema": {
                                "fields": [
                                    {
                                        "name": "Category"
                                    },
                                    {
                                        "name": "Check"
                                    },
                                    {
                                        "name": "Deviation"
                                    }
                                ]
                            },
                            "data": [
                                {
                                    "0": "Processor_checks",
                                    "1": "Affinity_NUMA",
                                    "2": "Not NUMA"
                                }
                            ]
                        },
                        "text/html": [
                            "<table>",
                            "<tr><th>Category</th><th>Check</th><th>Deviation</th></tr>",
                            "<tr><td>Processor_checks</td><td>Affinity_NUMA</td><td>Not NUMA</td></tr>",
                            "</table>"
                        ]
                    }
                }
            ],
            "execution_count": 1
        }
    ]
}