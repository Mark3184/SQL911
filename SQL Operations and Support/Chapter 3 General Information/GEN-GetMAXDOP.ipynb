{
    "metadata": {
        "kernelspec": {
            "name": "SQL",
            "display_name": "SQL",
            "language": "sql"
        },
        "language_info": {
            "name": "sql",
            "version": ""
        },
        "extensions": {
            "azuredatastudio": {
                "version": 1,
                "views": []
            }
        }
    },
    "nbformat_minor": 2,
    "nbformat": 4,
    "cells": [
        {
            "cell_type": "markdown",
            "source": [
                "Get MAXDOP"
            ],
            "metadata": {
                "azdata_cell_guid": "d6fc060c-554a-4954-82fe-032a5c5931a0"
            },
            "attachments": {}
        },
        {
            "cell_type": "code",
            "source": [
                "SET NOCOUNT ON;\r\n",
                "SET ANSI_WARNINGS ON;\r\n",
                "SET QUOTED_IDENTIFIER ON;\r\n",
                "\r\n",
                "DECLARE @cpucount int, @numa int, @affined_cpus int, @affinitymask NVARCHAR(64), @affinity64mask NVARCHAR(1024)--, @cpuover32 int\r\n",
                "DECLARE @i int, @cpuaffin VARCHAR(300), @cpuaffin_fixed VARCHAR(1024), @sqlmajorver int\r\n",
                "\r\n",
                "SELECT @numa = COUNT(DISTINCT parent_node_id) FROM sys.dm_os_schedulers WHERE scheduler_id < 255 AND parent_node_id < 64;\r\n",
                "-- SELECT @numa = numa_node_count FROM sys.dm_os_sys_info;\r\n",
                "SELECT @cpucount = COUNT(cpu_id) FROM sys.dm_os_schedulers WHERE scheduler_id < 255 AND parent_node_id < 64\r\n",
                "-- SELECT @cpucount = cpu_count FROM sys.dm_os_sys_info;\r\n",
                "SELECT @sqlmajorver = CONVERT(int, (@@microsoftversion / 0x1000000) & 0xff);\r\n",
                "\r\n",
                ";WITH bits AS \r\n",
                "(SELECT 7 AS N, 128 AS E UNION ALL SELECT 6, 64 UNION ALL \r\n",
                "SELECT 5, 32 UNION ALL SELECT 4, 16 UNION ALL SELECT 3, 8 UNION ALL \r\n",
                "SELECT 2, 4 UNION ALL SELECT 1, 2 UNION ALL SELECT 0, 1), \r\n",
                "bytes AS \r\n",
                "(SELECT 1 M UNION ALL SELECT 2 UNION ALL SELECT 3 UNION ALL \r\n",
                "SELECT 4 UNION ALL SELECT 5 UNION ALL SELECT 6 UNION ALL \r\n",
                "SELECT 7 UNION ALL SELECT 8 UNION ALL SELECT 9)\r\n",
                "-- CPU Affinity is shown highest to lowest CPU ID\r\n",
                "SELECT @affinitymask = CASE WHEN [value] = 0 THEN REPLICATE('1', @cpucount)\r\n",
                "\tELSE RIGHT((SELECT ((CONVERT(tinyint, SUBSTRING(CONVERT(binary(9), [value]), M, 1)) & E) / E) AS [text()] \r\n",
                "\t\tFROM bits CROSS JOIN bytes\r\n",
                "\t\tORDER BY M, N DESC\r\n",
                "\t\tFOR XML PATH('')), @cpucount) END\r\n",
                "FROM sys.configurations (NOLOCK)\r\n",
                "WHERE name = 'affinity mask';\r\n",
                "\r\n",
                "IF @cpucount > 32\r\n",
                "BEGIN\r\n",
                "\t;WITH bits AS \r\n",
                "\t(SELECT 7 AS N, 128 AS E UNION ALL SELECT 6, 64 UNION ALL \r\n",
                "\tSELECT 5, 32 UNION ALL SELECT 4, 16 UNION ALL SELECT 3, 8 UNION ALL \r\n",
                "\tSELECT 2, 4 UNION ALL SELECT 1, 2 UNION ALL SELECT 0, 1), \r\n",
                "\tbytes AS \r\n",
                "\t(SELECT 1 M UNION ALL SELECT 2 UNION ALL SELECT 3 UNION ALL \r\n",
                "\tSELECT 4 UNION ALL SELECT 5 UNION ALL SELECT 6 UNION ALL \r\n",
                "\tSELECT 7 UNION ALL SELECT 8 UNION ALL SELECT 9)\r\n",
                "\t-- CPU Affinity is shown highest to lowest CPU ID\r\n",
                "\tSELECT @affinity64mask = CASE WHEN [value] = 0 THEN REPLICATE('1', @cpucount)\r\n",
                "\t\tELSE RIGHT((SELECT ((CONVERT(tinyint, SUBSTRING(CONVERT(binary(9), [value]), M, 1)) & E) / E) AS [text()] \r\n",
                "\t\t\tFROM bits CROSS JOIN bytes\r\n",
                "\t\t\tORDER BY M, N DESC\r\n",
                "\t\t\tFOR XML PATH('')), @cpucount) END\r\n",
                "\tFROM sys.configurations (NOLOCK)\r\n",
                "\tWHERE name = 'affinity64 mask';\r\n",
                "END;\r\n",
                "\r\n",
                "/*\r\n",
                "IF @cpucount > 32\r\n",
                "SELECT @cpuover32 = ABS(LEN(@affinity64mask) - (@cpucount-32))\r\n",
                "\r\n",
                "SELECT @cpuaffin = CASE WHEN @cpucount > 32 THEN REVERSE(LEFT(REVERSE(@affinity64mask),@cpuover32)) + RIGHT(@affinitymask,32) ELSE RIGHT(@affinitymask,@cpucount) END\r\n",
                "*/\r\n",
                "\r\n",
                "SELECT @cpuaffin = CASE WHEN @cpucount > 32 THEN @affinity64mask ELSE @affinitymask END\r\n",
                "\r\n",
                "SET @cpuaffin_fixed = @cpuaffin\r\n",
                "SET @i = CEILING(@cpucount*1.00/@numa) + 1\r\n",
                "WHILE @i < @cpucount + @numa\r\n",
                "BEGIN\r\n",
                "\tIF (@cpucount + @numa) - @i >= CEILING(@cpucount*1.00/@numa)\r\n",
                "\tBEGIN\r\n",
                "\t\tSELECT @cpuaffin_fixed = STUFF(@cpuaffin_fixed, @i, 1, '_' + SUBSTRING(@cpuaffin_fixed, @i, 1))\r\n",
                "\tEND\r\n",
                "\tELSE\r\n",
                "\tBEGIN\r\n",
                "\t\tSELECT @cpuaffin_fixed = STUFF(@cpuaffin_fixed, @i, CEILING(@cpucount*1.00/@numa), SUBSTRING(@cpuaffin_fixed, @i, CEILING(@cpucount*1.00/@numa)))\r\n",
                "\tEND\r\n",
                "\r\n",
                "\tSET @i = @i + CEILING(@cpucount*1.00/@numa) + 1\r\n",
                "END;\r\n",
                "\r\n",
                "-- MaxDOP should be between 8 and 15. This is handled specifically on NUMA scenarios below.\r\n",
                "SELECT @affined_cpus = COUNT(cpu_id) FROM sys.dm_os_schedulers WHERE is_online = 1 AND scheduler_id < 255 AND parent_node_id < 64;\r\n",
                "\r\n",
                "SELECT 'Processor_checks' AS [Category], 'Parallelism_MaxDOP' AS [Check],\r\n",
                "\tCASE WHEN [value] > @affined_cpus THEN 'WARNING: MaxDOP setting exceeds available processor count (affinity)'\r\n",
                "\t\tWHEN @numa = 1 AND @affined_cpus <= 8 AND [value] > 0 AND [value] <> @affined_cpus THEN 'WARNING: MaxDOP setting is not recommended for current processor count (affinity)'\r\n",
                "\t\tWHEN @numa = 1 AND @affined_cpus > 8 AND ([value] = 0 OR [value] > 8) THEN 'WARNING: MaxDOP setting is not recommended for current processor count (affinity)'\r\n",
                "\t\tWHEN @sqlmajorver >= 13 AND @numa > 1 AND CEILING(@cpucount*1.00/@numa) <= 15 AND ([value] = 0 OR [value] > CEILING(@cpucount*1.00/@numa)) THEN 'WARNING: MaxDOP setting is not recommended for current NUMA node to processor count (affinity) ratio'\r\n",
                "\t\tWHEN @sqlmajorver >= 13 AND @numa > 1 AND CEILING(@cpucount*1.00/@numa) > 15 AND ([value] = 0 OR [value] > CEILING(@cpucount*1.00/@numa/2)) THEN 'WARNING: MaxDOP setting is not recommended for current NUMA node to processor count (affinity) ratio'\r\n",
                "\t\tWHEN @sqlmajorver < 13 AND @numa > 1 AND CEILING(@cpucount*1.00/@numa) < 8 AND ([value] = 0 OR [value] > CEILING(@cpucount*1.00/@numa)) THEN 'WARNING: MaxDOP setting is not recommended for current NUMA node to processor count (affinity) ratio'\r\n",
                "\t\tWHEN @sqlmajorver < 13 AND @numa > 1 AND CEILING(@cpucount*1.00/@numa) >= 8 AND ([value] = 0 OR [value] > 8 OR [value] > CEILING(@cpucount*1.00/@numa)) THEN 'WARNING: MaxDOP setting is not recommended for current NUMA node to processor count (affinity) ratio'\r\n",
                "\t\tELSE 'OK'\r\n",
                "\tEND AS [Deviation]\r\n",
                "FROM sys.configurations (NOLOCK) WHERE name = 'max degree of parallelism';\t\r\n",
                "\r\n",
                "SELECT 'Processor_checks' AS [Category], 'Parallelism_MaxDOP' AS [Information], \r\n",
                "\tCASE \r\n",
                "\t\t-- If not NUMA, and up to 8 @affined_cpus then MaxDOP up to 8\r\n",
                "\t\tWHEN @numa = 1 AND @affined_cpus <= 8 THEN @affined_cpus\r\n",
                "\t\t-- If not NUMA, and more than 8 @affined_cpus then MaxDOP 8 \r\n",
                "\t\tWHEN @numa = 1 AND @affined_cpus > 8 THEN 8\r\n",
                "\t\t-- If SQL 2016 or higher and has NUMA and # logical CPUs per NUMA up to 15, then MaxDOP is set as # logical CPUs per NUMA, up to 15 \r\n",
                "\t\tWHEN @sqlmajorver >= 13 AND @numa > 1 AND CEILING(@cpucount*1.00/@numa) <= 15 THEN CEILING((@cpucount*1.00)/@numa)\r\n",
                "\t\t-- If SQL 2016 or higher and has NUMA and # logical CPUs per NUMA > 15, then MaxDOP is set as 1/2 of # logical CPUs per NUMA\r\n",
                "\t\tWHEN @sqlmajorver >= 13 AND @numa > 1 AND CEILING(@cpucount*1.00/@numa) > 15 THEN \r\n",
                "\t\t\tCASE WHEN CEILING(@cpucount*1.00/@numa/2) > 16 THEN 16 ELSE CEILING(@cpucount*1.00/@numa/2) END\r\n",
                "\t\t-- If up to SQL 2016 and has NUMA and # logical CPUs per NUMA up to 8, then MaxDOP is set as # logical CPUs per NUMA \r\n",
                "\t\tWHEN @sqlmajorver < 13 AND @numa > 1 AND CEILING(@cpucount*1.00/@numa) < 8 THEN CEILING(@cpucount*1.00/@numa)\r\n",
                "\t\t-- If up to SQL 2016 and has NUMA and # logical CPUs per NUMA > 8, then MaxDOP 8\r\n",
                "\t\tWHEN @sqlmajorver < 13 AND @numa > 1 AND CEILING(@cpucount*1.00/@numa) >= 8 THEN 8\r\n",
                "\t\tELSE 0\r\n",
                "\tEND AS [Recommended_MaxDOP],\r\n",
                "\t[value] AS [Current_MaxDOP], @cpucount AS [Available_Processors], @affined_cpus AS [Affined_Processors], \r\n",
                "\t-- Processor Affinity is shown highest to lowest CPU ID\r\n",
                "\t@cpuaffin_fixed AS Affinity_Mask_Bitmask\r\n",
                "FROM sys.configurations (NOLOCK) WHERE name = 'max degree of parallelism';"
            ],
            "metadata": {
                "azdata_cell_guid": "8fbc52a8-c989-4ef9-99c0-9f76b175f2e4"
            },
            "outputs": [
                {
                    "output_type": "display_data",
                    "data": {
                        "text/html": "Commands completed successfully."
                    },
                    "metadata": {}
                },
                {
                    "output_type": "display_data",
                    "data": {
                        "text/html": "Total execution time: 00:00:00.058"
                    },
                    "metadata": {}
                },
                {
                    "output_type": "execute_result",
                    "metadata": {},
                    "execution_count": 1,
                    "data": {
                        "application/vnd.dataresource+json": {
                            "schema": {
                                "fields": [
                                    {
                                        "name": "Category"
                                    },
                                    {
                                        "name": "Check"
                                    },
                                    {
                                        "name": "Deviation"
                                    }
                                ]
                            },
                            "data": [
                                {
                                    "0": "Processor_checks",
                                    "1": "Parallelism_MaxDOP",
                                    "2": "OK"
                                }
                            ]
                        },
                        "text/html": [
                            "<table>",
                            "<tr><th>Category</th><th>Check</th><th>Deviation</th></tr>",
                            "<tr><td>Processor_checks</td><td>Parallelism_MaxDOP</td><td>OK</td></tr>",
                            "</table>"
                        ]
                    }
                },
                {
                    "output_type": "execute_result",
                    "metadata": {},
                    "execution_count": 1,
                    "data": {
                        "application/vnd.dataresource+json": {
                            "schema": {
                                "fields": [
                                    {
                                        "name": "Category"
                                    },
                                    {
                                        "name": "Information"
                                    },
                                    {
                                        "name": "Recommended_MaxDOP"
                                    },
                                    {
                                        "name": "Current_MaxDOP"
                                    },
                                    {
                                        "name": "Available_Processors"
                                    },
                                    {
                                        "name": "Affined_Processors"
                                    },
                                    {
                                        "name": "Affinity_Mask_Bitmask"
                                    }
                                ]
                            },
                            "data": [
                                {
                                    "0": "Processor_checks",
                                    "1": "Parallelism_MaxDOP",
                                    "2": "8",
                                    "3": "0",
                                    "4": "8",
                                    "5": "8",
                                    "6": "11111111"
                                }
                            ]
                        },
                        "text/html": [
                            "<table>",
                            "<tr><th>Category</th><th>Information</th><th>Recommended_MaxDOP</th><th>Current_MaxDOP</th><th>Available_Processors</th><th>Affined_Processors</th><th>Affinity_Mask_Bitmask</th></tr>",
                            "<tr><td>Processor_checks</td><td>Parallelism_MaxDOP</td><td>8</td><td>0</td><td>8</td><td>8</td><td>11111111</td></tr>",
                            "</table>"
                        ]
                    }
                }
            ],
            "execution_count": 1
        }
    ]
}