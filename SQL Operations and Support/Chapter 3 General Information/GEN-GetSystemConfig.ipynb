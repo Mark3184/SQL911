{
    "metadata": {
        "kernelspec": {
            "name": "SQL",
            "display_name": "SQL",
            "language": "sql"
        },
        "language_info": {
            "name": "sql",
            "version": ""
        },
        "extensions": {
            "azuredatastudio": {
                "version": 1,
                "views": []
            }
        }
    },
    "nbformat_minor": 2,
    "nbformat": 4,
    "cells": [
        {
            "cell_type": "markdown",
            "source": [
                "![CH3-ADS.png](.\\Media\\CH3-ADS.png)\n",
                "\n",
                "# <span style=\"color:rgb(204, 85, 0);\">Get System Confuration Information</span>\n",
                "\n",
                "<span style=\"font-size:14px;\">This notebook queries t</span>he sys.configurations catalog view.  This view can be used to determine the config\\_value (the value column), the run\\_value (the value\\_in\\_use column), and whether the configuration option is dynamic (does not require a server engine restart or the is\\_dynamic column).\n",
                "\n",
                "If the value equals the change for the configuration option you made but the value\\_in\\_use is not the same, either the RECONFIGURE command was not run or has failed, or the server engine must be restarted.  There are configuration options where the value and value\\_in\\_use may not be the same and this is expected behavior. For example:\n",
                "\n",
                "- \"max server memory (MB)\" - The default configured value of 0 shows up as value\\_in\\_use = 2147483647\n",
                "- \"min server memory (MB)\" - The default configured value of 0 may show up as value\\_in\\_use = 8 (32bit) or 16 (64bit). In some cases, the value\\_in\\_use is 0. In this situation, the \"true\" value\\_in\\_use is 8 (32bit) or 16 (64bit).\n",
                "\n",
                "The is\\_dynamic column can be used to determine if the configuration option requires a restart. is\\_dynamic=1 means that when the RECONFIGURE(T-SQL) commnad is executed, the new value will take effect \"immediately\" (in some cases the server engine may not evaluate the new value immediately but will do so in the normal course of its execution). is\\_dynamic=0 means the the changed configuration value will not take effect until the server is restarted even though the RECONFIGURE(T-SQL) command was executed.  \n",
                "\n",
                "For a configuration option that is not dynamic there is no way to tell if the RECONFIGURE(T-SQL) command has been run to perform the first step of installing the configuration change. Before you restart SQL Server to install a configuration change, run the RECONFIGURE(T-SQL) command to ensure all configuration changes will take effect after a SQL Server restart.  \n",
                "\n",
                "<span style=\"color: rgb(0, 204, 153);\">Run the Code block below</span>\n",
                "\n",
                "1. Click the run icon below\n",
                "2. If ADS prompts you for a connection, enter the correct SQL Server and authentication account\n",
                "3. View the results of the query by scrolling down to the results set"
            ],
            "metadata": {
                "azdata_cell_guid": "161cba2f-40fd-4d57-84d4-8c4dd5bc7489"
            },
            "attachments": {}
        },
        {
            "cell_type": "code",
            "source": [
                "SET NOCOUNT ON;\r\n",
                "SET ANSI_WARNINGS ON;\r\n",
                "SET QUOTED_IDENTIFIER ON;\r\n",
                "\r\n",
                "SELECT 'Information' AS [Category], 'All_System_Configurations' AS [Information],\r\n",
                "\tname AS [Name],\r\n",
                "\tconfiguration_id AS [Number],\r\n",
                "\tminimum AS [Minimum],\r\n",
                "\tmaximum AS [Maximum],\r\n",
                "\tis_dynamic AS [Dynamic],\r\n",
                "\tis_advanced AS [Advanced],\r\n",
                "\tvalue AS [ConfigValue],\r\n",
                "\tvalue_in_use AS [RunValue],\r\n",
                "\tdescription AS [Description]\r\n",
                "FROM sys.configurations (NOLOCK)\r\n",
                "ORDER BY name OPTION (RECOMPILE);"
            ],
            "metadata": {
                "azdata_cell_guid": "7606324c-0fbb-4f2d-9870-b84f9268df56"
            },
            "outputs": [],
            "execution_count": null
        }
    ]
}