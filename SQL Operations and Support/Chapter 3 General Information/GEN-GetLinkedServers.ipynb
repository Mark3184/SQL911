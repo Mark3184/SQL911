{
    "metadata": {
        "kernelspec": {
            "name": "SQL",
            "display_name": "SQL",
            "language": "sql"
        },
        "language_info": {
            "name": "sql",
            "version": ""
        },
        "extensions": {
            "azuredatastudio": {
                "version": 1,
                "views": []
            }
        }
    },
    "nbformat_minor": 2,
    "nbformat": 4,
    "cells": [
        {
            "cell_type": "markdown",
            "source": [
                "Get Linked Server Info"
            ],
            "metadata": {
                "azdata_cell_guid": "909bdeab-ca8c-4f5b-a53e-448195e42843"
            },
            "attachments": {}
        },
        {
            "cell_type": "code",
            "source": [
                "SET NOCOUNT ON;\r\n",
                "SET ANSI_WARNINGS ON;\r\n",
                "SET QUOTED_IDENTIFIER ON;\r\n",
                "\r\n",
                "DECLARE @sqlcmd NVARCHAR(max), @params NVARCHAR(600)\r\n",
                "DECLARE @sqlmajorver int\r\n",
                "\r\n",
                "SELECT @sqlmajorver = CONVERT(int, (@@microsoftversion / 0x1000000) & 0xff);\r\n",
                "\r\n",
                "IF (SELECT COUNT(*) FROM sys.servers AS s INNER JOIN sys.linked_logins AS l (NOLOCK) ON s.server_id = l.server_id INNER JOIN sys.server_principals AS p (NOLOCK) ON p.principal_id = l.local_principal_id WHERE s.is_linked = 1) > 0\r\n",
                "BEGIN\r\n",
                "\tSET @sqlcmd = 'SELECT ''Information'' AS [Category], ''Linked_servers'' AS [Information], s.name, s.product, \r\n",
                "\ts.provider, s.data_source, s.location, s.provider_string, s.catalog, s.connect_timeout, \r\n",
                "\ts.query_timeout, s.is_linked, s.is_remote_login_enabled, s.is_rpc_out_enabled, \r\n",
                "\ts.is_data_access_enabled, s.is_collation_compatible, s.uses_remote_collation, s.collation_name, \r\n",
                "\ts.lazy_schema_validation, s.is_system, s.is_publisher, s.is_subscriber, s.is_distributor, \r\n",
                "\ts.is_nonsql_subscriber' + CASE WHEN @sqlmajorver > 9 THEN ', s.is_remote_proc_transaction_promotion_enabled' ELSE '' END + ',\r\n",
                "\ts.modify_date, CASE WHEN l.local_principal_id = 0 THEN ''local or wildcard'' ELSE p.name END AS [local_principal], \r\n",
                "\tCASE WHEN l.uses_self_credential = 0 THEN ''use own credentials'' ELSE ''use supplied username and pwd'' END AS uses_self_credential, \r\n",
                "\tl.remote_name, l.modify_date AS [linked_login_modify_date]\r\n",
                "FROM sys.servers AS s (NOLOCK)\r\n",
                "INNER JOIN sys.linked_logins AS l (NOLOCK) ON s.server_id = l.server_id\r\n",
                "INNER JOIN sys.server_principals AS p (NOLOCK) ON p.principal_id = l.local_principal_id\r\n",
                "WHERE s.is_linked = 1'\r\n",
                "\tEXECUTE sp_executesql @sqlcmd\r\n",
                "END\r\n",
                "ELSE\r\n",
                "BEGIN\r\n",
                "\tSELECT 'Information' AS [Category], 'Linked_servers' AS [Information], 'None' AS [Status]\r\n",
                "END;"
            ],
            "metadata": {
                "azdata_cell_guid": "c36b0fd3-cf05-4a96-8506-45df223ed77b"
            },
            "outputs": [],
            "execution_count": null
        }
    ]
}