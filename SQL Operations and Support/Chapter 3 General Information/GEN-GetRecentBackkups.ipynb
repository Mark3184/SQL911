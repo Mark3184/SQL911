{
    "metadata": {
        "kernelspec": {
            "name": "SQL",
            "display_name": "SQL",
            "language": "sql"
        },
        "language_info": {
            "name": "sql",
            "version": ""
        },
        "extensions": {
            "azuredatastudio": {
                "version": 1,
                "views": []
            }
        }
    },
    "nbformat_minor": 2,
    "nbformat": 4,
    "cells": [
        {
            "cell_type": "markdown",
            "source": [
                "Backups Since Last Full"
            ],
            "metadata": {
                "azdata_cell_guid": "4905b175-4e5d-4e4f-9958-aafb4faecf8b"
            },
            "attachments": {}
        },
        {
            "cell_type": "code",
            "source": [
                "SET NOCOUNT ON;\r\n",
                "SET ANSI_WARNINGS ON;\r\n",
                "SET QUOTED_IDENTIFIER ON;\r\n",
                "SET DATEFORMAT mdy;\r\n",
                "\r\n",
                "DECLARE @sqlcmd NVARCHAR(max), @params NVARCHAR(600)\r\n",
                "DECLARE @sqlmajorver int\r\n",
                "\r\n",
                "SELECT @sqlmajorver = CONVERT(int, (@@microsoftversion / 0x1000000) & 0xff);\r\n",
                "\r\n",
                "IF @sqlmajorver > 10\r\n",
                "BEGIN\r\n",
                "\tSET @sqlcmd = N'SELECT ''Information'' AS [Category], ''Backups_since_last_Full'' AS [Information], \r\n",
                "[database_name] AS [Database_Name], CASE WHEN type = ''D'' THEN ''Database''\r\n",
                "\tWHEN type = ''I'' THEN ''Diff_Database''\r\n",
                "\tWHEN type = ''L'' THEN ''Log''\r\n",
                "\tWHEN type = ''F'' THEN ''File''\r\n",
                "\tWHEN type = ''G'' THEN ''Diff_file''\r\n",
                "\tWHEN type = ''P'' THEN ''Partial''\r\n",
                "\tWHEN type = ''Q'' THEN ''Diff_partial''\r\n",
                "\tELSE NULL END AS [bck_type],\r\n",
                "[backup_start_date], [backup_finish_date],\r\n",
                "CONVERT(decimal(20,2),backup_size/1024.00/1024.00) AS [backup_size_MB],\r\n",
                "CONVERT(decimal(20,2),compressed_backup_size/1024.00/1024.00) AS [compressed_backup_size_MB],\r\n",
                "[recovery_model], [user_name],\r\n",
                "database_backup_lsn AS [full_base_lsn], [differential_base_lsn], [expiration_date], \r\n",
                "[is_password_protected], [has_backup_checksums], [is_readonly], is_copy_only, [has_incomplete_metadata] AS [Tail_log]\r\n",
                "FROM msdb.dbo.backupset bck1 (NOLOCK)\r\n",
                "WHERE is_copy_only = 0 -- No COPY_ONLY backups\r\n",
                "AND backup_start_date >= (SELECT MAX(backup_start_date) FROM msdb.dbo.backupset bck2 (NOLOCK) WHERE bck2.type IN (''D'',''F'',''P'') AND is_copy_only = 0 AND bck1.database_name = bck2.database_name)\r\n",
                "ORDER BY database_name, backup_start_date DESC'\r\n",
                "END\r\n",
                "ELSE \r\n",
                "BEGIN\r\n",
                "\tSET @sqlcmd = N'SELECT ''Information'' AS [Category], ''Backups_since_last_Full'' AS [Information], \r\n",
                "[database_name] AS [Database_Name], CASE WHEN type = ''D'' THEN ''Database''\r\n",
                "\tWHEN type = ''I'' THEN ''Diff_Database''\r\n",
                "\tWHEN type = ''L'' THEN ''Log''\r\n",
                "\tWHEN type = ''F'' THEN ''File''\r\n",
                "\tWHEN type = ''G'' THEN ''Diff_file''\r\n",
                "\tWHEN type = ''P'' THEN ''Partial''\r\n",
                "\tWHEN type = ''Q'' THEN ''Diff_partial''\r\n",
                "\tELSE NULL END AS [bck_type],\r\n",
                "[backup_start_date], [backup_finish_date], \r\n",
                "CONVERT(decimal(20,2),backup_size/1024.00/1024.00) AS [backup_size_MB],\r\n",
                "''NA'' AS [compressed_backup_size_MB], \r\n",
                "[recovery_model], [user_name],\r\n",
                "database_backup_lsn AS [full_base_lsn], [differential_base_lsn], [expiration_date], \r\n",
                "[is_password_protected], [has_backup_checksums], [is_readonly], is_copy_only, [has_incomplete_metadata] AS [Tail_log]\r\n",
                "FROM msdb.dbo.backupset bck1 (NOLOCK)\r\n",
                "WHERE is_copy_only = 0 -- No COPY_ONLY backups\r\n",
                "AND backup_start_date >= (SELECT MAX(backup_start_date) FROM msdb.dbo.backupset bck2 (NOLOCK) WHERE bck2.type IN (''D'',''F'',''P'') AND is_copy_only = 0 AND bck1.database_name = bck2.database_name)\r\n",
                "ORDER BY database_name, backup_start_date DESC'\r\n",
                "END;\r\n",
                "\r\n",
                "EXECUTE sp_executesql @sqlcmd;"
            ],
            "metadata": {
                "azdata_cell_guid": "3b899108-8db0-4405-8869-f188f20d2a74"
            },
            "outputs": [
                {
                    "output_type": "display_data",
                    "data": {
                        "text/html": "Commands completed successfully."
                    },
                    "metadata": {}
                },
                {
                    "output_type": "display_data",
                    "data": {
                        "text/html": "Total execution time: 00:00:00.047"
                    },
                    "metadata": {}
                },
                {
                    "output_type": "execute_result",
                    "metadata": {},
                    "execution_count": 1,
                    "data": {
                        "application/vnd.dataresource+json": {
                            "schema": {
                                "fields": [
                                    {
                                        "name": "Category"
                                    },
                                    {
                                        "name": "Information"
                                    },
                                    {
                                        "name": "Database_Name"
                                    },
                                    {
                                        "name": "bck_type"
                                    },
                                    {
                                        "name": "backup_start_date"
                                    },
                                    {
                                        "name": "backup_finish_date"
                                    },
                                    {
                                        "name": "backup_size_MB"
                                    },
                                    {
                                        "name": "compressed_backup_size_MB"
                                    },
                                    {
                                        "name": "recovery_model"
                                    },
                                    {
                                        "name": "user_name"
                                    },
                                    {
                                        "name": "full_base_lsn"
                                    },
                                    {
                                        "name": "differential_base_lsn"
                                    },
                                    {
                                        "name": "expiration_date"
                                    },
                                    {
                                        "name": "is_password_protected"
                                    },
                                    {
                                        "name": "has_backup_checksums"
                                    },
                                    {
                                        "name": "is_readonly"
                                    },
                                    {
                                        "name": "is_copy_only"
                                    },
                                    {
                                        "name": "Tail_log"
                                    }
                                ]
                            },
                            "data": [
                                {
                                    "0": "Information",
                                    "1": "Backups_since_last_Full",
                                    "2": "car_crash",
                                    "3": "Database",
                                    "4": "2020-07-03 13:10:43.000",
                                    "5": "2020-07-03 13:10:44.000",
                                    "6": "124.27",
                                    "7": "124.27",
                                    "8": "SIMPLE",
                                    "9": "PC7\\jmiller",
                                    "10": "329000006492000001",
                                    "11": "NULL",
                                    "12": "NULL",
                                    "13": "0",
                                    "14": "0",
                                    "15": "0",
                                    "16": "0",
                                    "17": "0"
                                },
                                {
                                    "0": "Information",
                                    "1": "Backups_since_last_Full",
                                    "2": "ns_lots_of_vlfs",
                                    "3": "Database",
                                    "4": "2020-07-20 14:45:17.000",
                                    "5": "2020-07-20 14:45:17.000",
                                    "6": "2.96",
                                    "7": "2.96",
                                    "8": "FULL",
                                    "9": "NORTHAMERICA\\kewarren",
                                    "10": "0",
                                    "11": "NULL",
                                    "12": "NULL",
                                    "13": "0",
                                    "14": "0",
                                    "15": "0",
                                    "16": "0",
                                    "17": "0"
                                },
                                {
                                    "0": "Information",
                                    "1": "Backups_since_last_Full",
                                    "2": "SSISDB",
                                    "3": "Database",
                                    "4": "2019-06-15 02:50:12.000",
                                    "5": "2019-06-15 02:50:12.000",
                                    "6": "5.09",
                                    "7": "5.09",
                                    "8": "FULL",
                                    "9": "sa",
                                    "10": "0",
                                    "11": "NULL",
                                    "12": "NULL",
                                    "13": "0",
                                    "14": "0",
                                    "15": "0",
                                    "16": "0",
                                    "17": "0"
                                }
                            ]
                        },
                        "text/html": [
                            "<table>",
                            "<tr><th>Category</th><th>Information</th><th>Database_Name</th><th>bck_type</th><th>backup_start_date</th><th>backup_finish_date</th><th>backup_size_MB</th><th>compressed_backup_size_MB</th><th>recovery_model</th><th>user_name</th><th>full_base_lsn</th><th>differential_base_lsn</th><th>expiration_date</th><th>is_password_protected</th><th>has_backup_checksums</th><th>is_readonly</th><th>is_copy_only</th><th>Tail_log</th></tr>",
                            "<tr><td>Information</td><td>Backups_since_last_Full</td><td>car_crash</td><td>Database</td><td>2020-07-03 13:10:43.000</td><td>2020-07-03 13:10:44.000</td><td>124.27</td><td>124.27</td><td>SIMPLE</td><td>PC7\\jmiller</td><td>329000006492000001</td><td>NULL</td><td>NULL</td><td>0</td><td>0</td><td>0</td><td>0</td><td>0</td></tr>",
                            "<tr><td>Information</td><td>Backups_since_last_Full</td><td>ns_lots_of_vlfs</td><td>Database</td><td>2020-07-20 14:45:17.000</td><td>2020-07-20 14:45:17.000</td><td>2.96</td><td>2.96</td><td>FULL</td><td>NORTHAMERICA\\kewarren</td><td>0</td><td>NULL</td><td>NULL</td><td>0</td><td>0</td><td>0</td><td>0</td><td>0</td></tr>",
                            "<tr><td>Information</td><td>Backups_since_last_Full</td><td>SSISDB</td><td>Database</td><td>2019-06-15 02:50:12.000</td><td>2019-06-15 02:50:12.000</td><td>5.09</td><td>5.09</td><td>FULL</td><td>sa</td><td>0</td><td>NULL</td><td>NULL</td><td>0</td><td>0</td><td>0</td><td>0</td><td>0</td></tr>",
                            "</table>"
                        ]
                    }
                }
            ],
            "execution_count": 1
        }
    ]
}