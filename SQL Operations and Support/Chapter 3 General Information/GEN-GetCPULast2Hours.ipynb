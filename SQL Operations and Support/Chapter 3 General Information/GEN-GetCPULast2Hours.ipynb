{
    "metadata": {
        "kernelspec": {
            "name": "SQL",
            "display_name": "SQL",
            "language": "sql"
        },
        "language_info": {
            "name": "sql",
            "version": ""
        },
        "extensions": {
            "azuredatastudio": {
                "version": 1,
                "views": []
            }
        }
    },
    "nbformat_minor": 2,
    "nbformat": 4,
    "cells": [
        {
            "cell_type": "markdown",
            "source": [
                "![CH3-ADS.png](./Media/CH3-ADS.png)"
            ],
            "metadata": {
                "azdata_cell_guid": "8a16550e-f7b2-4875-bd07-bf90bad97dc7"
            },
            "attachments": {}
        },
        {
            "cell_type": "markdown",
            "source": [
                "# <span style=\"color: rgb(204, 85, 0);\">Get CPU for the last 2 hours</span>\n",
                "\n",
                "## <span style=\"font-size: 14px;\">The primary purpose is to query your system to gather CPU utilization for the last 20 hours and break it down into 10 minute segments for the result set.&nbsp; It will also warn you if average total CPU usage is exceeding 80%</span>  \n",
                "\n",
                "### <span style=\"color: rgb(0, 204, 153)\">Run the Code block below</span>\n",
                "\n",
                "1. Click the run icon below\n",
                "2. If ADS prompts you for a connection, enter the correct SQL Server and authentication account\n",
                "3. View the results of the query by scrolling down to the results set"
            ],
            "metadata": {
                "azdata_cell_guid": "277c9799-977f-467d-82c2-ecca4cb56ba6"
            },
            "attachments": {}
        },
        {
            "cell_type": "code",
            "source": [
                "SET NOCOUNT ON;\r\n",
                "SET ANSI_WARNINGS ON;\r\n",
                "SET QUOTED_IDENTIFIER ON;\r\n",
                "SET DATEFORMAT mdy;\r\n",
                "\r\n",
                "DECLARE @ts_now bigint\r\n",
                "DECLARE @tblAggCPU TABLE (SQLProc tinyint, SysIdle tinyint, OtherProc tinyint, Minutes tinyint)\r\n",
                "SELECT @ts_now = ms_ticks FROM sys.dm_os_sys_info (NOLOCK);\r\n",
                "\r\n",
                "WITH cteCPU (record_id, SystemIdle, SQLProcessUtilization, [timestamp]) AS (SELECT \r\n",
                "        record.value('(./Record/@id)[1]', 'int') AS record_id,\r\n",
                "        record.value('(./Record/SchedulerMonitorEvent/SystemHealth/SystemIdle)[1]', 'int') AS SystemIdle,\r\n",
                "        record.value('(./Record/SchedulerMonitorEvent/SystemHealth/ProcessUtilization)[1]', 'int') AS SQLProcessUtilization,\r\n",
                "        [TIMESTAMP] FROM (SELECT [TIMESTAMP], CONVERT(xml, record) AS record \r\n",
                "            FROM sys.dm_os_ring_buffers (NOLOCK)\r\n",
                "            WHERE ring_buffer_type = N'RING_BUFFER_SCHEDULER_MONITOR'\r\n",
                "            AND record LIKE '%<SystemHealth>%') AS x\r\n",
                "    )\r\n",
                "INSERT INTO @tblAggCPU\r\n",
                "    SELECT AVG(SQLProcessUtilization), AVG(SystemIdle), CASE WHEN AVG(SystemIdle) + AVG(SQLProcessUtilization) < 100 THEN 100 - AVG(SystemIdle) - AVG(SQLProcessUtilization) ELSE 0 END, 10 \r\n",
                "    FROM cteCPU \r\n",
                "    WHERE DATEADD(ms, -1 * (@ts_now - [timestamp]), GETDATE()) > DATEADD(mi, -10, GETDATE())\r\n",
                "UNION ALL \r\n",
                "    SELECT AVG(SQLProcessUtilization), AVG(SystemIdle), CASE WHEN AVG(SystemIdle) + AVG(SQLProcessUtilization) < 100 THEN 100 - AVG(SystemIdle) - AVG(SQLProcessUtilization) ELSE 0 END, 20\r\n",
                "    FROM cteCPU \r\n",
                "    WHERE DATEADD(ms, -1 * (@ts_now - [timestamp]), GETDATE()) <= DATEADD(mi, -10, GETDATE()) AND \r\n",
                "        DATEADD(ms, -1 * (@ts_now - [timestamp]), GETDATE()) > DATEADD(mi, -20, GETDATE())\r\n",
                "UNION ALL \r\n",
                "    SELECT AVG(SQLProcessUtilization), AVG(SystemIdle), CASE WHEN AVG(SystemIdle) + AVG(SQLProcessUtilization) < 100 THEN 100 - AVG(SystemIdle) - AVG(SQLProcessUtilization) ELSE 0 END, 30\r\n",
                "    FROM cteCPU \r\n",
                "    WHERE DATEADD(ms, -1 * (@ts_now - [timestamp]), GETDATE()) <= DATEADD(mi, -20, GETDATE()) AND \r\n",
                "        DATEADD(ms, -1 * (@ts_now - [timestamp]), GETDATE()) > DATEADD(mi, -30, GETDATE())\r\n",
                "UNION ALL \r\n",
                "    SELECT AVG(SQLProcessUtilization), AVG(SystemIdle), CASE WHEN AVG(SystemIdle) + AVG(SQLProcessUtilization) < 100 THEN 100 - AVG(SystemIdle) - AVG(SQLProcessUtilization) ELSE 0 END, 40\r\n",
                "    FROM cteCPU \r\n",
                "    WHERE DATEADD(ms, -1 * (@ts_now - [timestamp]), GETDATE()) <= DATEADD(mi, -30, GETDATE()) AND \r\n",
                "        DATEADD(ms, -1 * (@ts_now - [timestamp]), GETDATE()) > DATEADD(mi, -40, GETDATE())\r\n",
                "UNION ALL \r\n",
                "    SELECT AVG(SQLProcessUtilization), AVG(SystemIdle), CASE WHEN AVG(SystemIdle) + AVG(SQLProcessUtilization) < 100 THEN 100 - AVG(SystemIdle) - AVG(SQLProcessUtilization) ELSE 0 END, 50\r\n",
                "    FROM cteCPU \r\n",
                "    WHERE DATEADD(ms, -1 * (@ts_now - [timestamp]), GETDATE()) <= DATEADD(mi, -40, GETDATE()) AND \r\n",
                "        DATEADD(ms, -1 * (@ts_now - [timestamp]), GETDATE()) > DATEADD(mi, -50, GETDATE())\r\n",
                "UNION ALL \r\n",
                "    SELECT AVG(SQLProcessUtilization), AVG(SystemIdle), CASE WHEN AVG(SystemIdle) + AVG(SQLProcessUtilization) < 100 THEN 100 - AVG(SystemIdle) - AVG(SQLProcessUtilization) ELSE 0 END, 60\r\n",
                "    FROM cteCPU \r\n",
                "    WHERE DATEADD(ms, -1 * (@ts_now - [timestamp]), GETDATE()) <= DATEADD(mi, -50, GETDATE()) AND \r\n",
                "        DATEADD(ms, -1 * (@ts_now - [timestamp]), GETDATE()) > DATEADD(mi, -60, GETDATE())\r\n",
                "UNION ALL \r\n",
                "    SELECT AVG(SQLProcessUtilization), AVG(SystemIdle), CASE WHEN AVG(SystemIdle) + AVG(SQLProcessUtilization) < 100 THEN 100 - AVG(SystemIdle) - AVG(SQLProcessUtilization) ELSE 0 END, 70\r\n",
                "    FROM cteCPU \r\n",
                "    WHERE DATEADD(ms, -1 * (@ts_now - [timestamp]), GETDATE()) <= DATEADD(mi, -60, GETDATE()) AND \r\n",
                "        DATEADD(ms, -1 * (@ts_now - [timestamp]), GETDATE()) > DATEADD(mi, -70, GETDATE())\r\n",
                "UNION ALL \r\n",
                "    SELECT AVG(SQLProcessUtilization), AVG(SystemIdle), CASE WHEN AVG(SystemIdle) + AVG(SQLProcessUtilization) < 100 THEN 100 - AVG(SystemIdle) - AVG(SQLProcessUtilization) ELSE 0 END, 80\r\n",
                "    FROM cteCPU \r\n",
                "    WHERE DATEADD(ms, -1 * (@ts_now - [timestamp]), GETDATE()) <= DATEADD(mi, -70, GETDATE()) AND \r\n",
                "        DATEADD(ms, -1 * (@ts_now - [timestamp]), GETDATE()) > DATEADD(mi, -80, GETDATE())\r\n",
                "UNION ALL \r\n",
                "    SELECT AVG(SQLProcessUtilization), AVG(SystemIdle), CASE WHEN AVG(SystemIdle) + AVG(SQLProcessUtilization) < 100 THEN 100 - AVG(SystemIdle) - AVG(SQLProcessUtilization) ELSE 0 END, 90\r\n",
                "    FROM cteCPU \r\n",
                "    WHERE DATEADD(ms, -1 * (@ts_now - [timestamp]), GETDATE()) <= DATEADD(mi, -80, GETDATE()) AND \r\n",
                "        DATEADD(ms, -1 * (@ts_now - [timestamp]), GETDATE()) > DATEADD(mi, -90, GETDATE())\r\n",
                "UNION ALL \r\n",
                "    SELECT AVG(SQLProcessUtilization), AVG(SystemIdle), CASE WHEN AVG(SystemIdle) + AVG(SQLProcessUtilization) < 100 THEN 100 - AVG(SystemIdle) - AVG(SQLProcessUtilization) ELSE 0 END, 100\r\n",
                "    FROM cteCPU \r\n",
                "    WHERE DATEADD(ms, -1 * (@ts_now - [timestamp]), GETDATE()) <= DATEADD(mi, -90, GETDATE()) AND \r\n",
                "        DATEADD(ms, -1 * (@ts_now - [timestamp]), GETDATE()) > DATEADD(mi, -100, GETDATE())\r\n",
                "UNION ALL \r\n",
                "    SELECT AVG(SQLProcessUtilization), AVG(SystemIdle), CASE WHEN AVG(SystemIdle) + AVG(SQLProcessUtilization) < 100 THEN 100 - AVG(SystemIdle) - AVG(SQLProcessUtilization) ELSE 0 END, 110\r\n",
                "    FROM cteCPU \r\n",
                "    WHERE DATEADD(ms, -1 * (@ts_now - [timestamp]), GETDATE()) <= DATEADD(mi, -100, GETDATE()) AND \r\n",
                "        DATEADD(ms, -1 * (@ts_now - [timestamp]), GETDATE()) > DATEADD(mi, -110, GETDATE())\r\n",
                "UNION ALL \r\n",
                "    SELECT AVG(SQLProcessUtilization), AVG(SystemIdle), CASE WHEN AVG(SystemIdle) + AVG(SQLProcessUtilization) < 100 THEN 100 - AVG(SystemIdle) - AVG(SQLProcessUtilization) ELSE 0 END, 120\r\n",
                "    FROM cteCPU \r\n",
                "    WHERE DATEADD(ms, -1 * (@ts_now - [timestamp]), GETDATE()) <= DATEADD(mi, -110, GETDATE()) AND \r\n",
                "        DATEADD(ms, -1 * (@ts_now - [timestamp]), GETDATE()) > DATEADD(mi, -120, GETDATE())\r\n",
                "\r\n",
                "IF (SELECT COUNT(SysIdle) FROM @tblAggCPU WHERE SysIdle < 30) > 0\r\n",
                "BEGIN\r\n",
                "    SELECT 'Processor_checks' AS [Category], 'Processor_Usage_last_2h' AS [Check], 'WARNING: Detected CPU usage over 70 pct' AS [Deviation];\r\n",
                "END\r\n",
                "ELSE IF (SELECT COUNT(SysIdle) FROM @tblAggCPU WHERE SysIdle < 10) > 0\r\n",
                "BEGIN\r\n",
                "    SELECT 'Processor_checks' AS [Category], 'Processor_Usage_last_2h' AS [Check], 'WARNING: Detected CPU usage over 90 pct' AS [Deviation];\r\n",
                "END\r\n",
                "ELSE\r\n",
                "BEGIN\r\n",
                "    SELECT 'Processor_checks' AS [Category], 'Processor_Usage_last_2h' AS [Check], 'OK' AS [Deviation];\r\n",
                "END;\r\n",
                "\r\n",
                "SELECT 'Processor_checks' AS [Category], 'Agg_Processor_Usage_last_2h' AS [Information], SQLProc AS [SQL_Process_Utilization], SysIdle AS [System_Idle], OtherProc AS [Other_Process_Utilization], Minutes AS [Time_Slice_Last_x_min]\r\n",
                "FROM @tblAggCPU;"
            ],
            "metadata": {
                "azdata_cell_guid": "e85d0848-6df4-464a-9d42-1bf49637c7ff"
            },
            "outputs": [],
            "execution_count": null
        }
    ]
}