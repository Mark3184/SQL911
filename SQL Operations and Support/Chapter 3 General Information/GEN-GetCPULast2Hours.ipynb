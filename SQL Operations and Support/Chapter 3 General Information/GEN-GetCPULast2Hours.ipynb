{
    "metadata": {
        "kernelspec": {
            "name": "SQL",
            "display_name": "SQL",
            "language": "sql"
        },
        "language_info": {
            "name": "sql",
            "version": ""
        },
        "extensions": {
            "azuredatastudio": {
                "version": 1,
                "views": []
            }
        }
    },
    "nbformat_minor": 2,
    "nbformat": 4,
    "cells": [
        {
            "cell_type": "markdown",
            "source": [
                "Get Processor Utilization Rate for last 2 hours"
            ],
            "metadata": {
                "azdata_cell_guid": "8a16550e-f7b2-4875-bd07-bf90bad97dc7"
            },
            "attachments": {}
        },
        {
            "cell_type": "code",
            "source": [
                "SET NOCOUNT ON;\r\n",
                "SET ANSI_WARNINGS ON;\r\n",
                "SET QUOTED_IDENTIFIER ON;\r\n",
                "SET DATEFORMAT mdy;\r\n",
                "\r\n",
                "DECLARE @ts_now bigint\r\n",
                "DECLARE @tblAggCPU TABLE (SQLProc tinyint, SysIdle tinyint, OtherProc tinyint, Minutes tinyint)\r\n",
                "SELECT @ts_now = ms_ticks FROM sys.dm_os_sys_info (NOLOCK);\r\n",
                "\r\n",
                "WITH cteCPU (record_id, SystemIdle, SQLProcessUtilization, [timestamp]) AS (SELECT \r\n",
                "        record.value('(./Record/@id)[1]', 'int') AS record_id,\r\n",
                "        record.value('(./Record/SchedulerMonitorEvent/SystemHealth/SystemIdle)[1]', 'int') AS SystemIdle,\r\n",
                "        record.value('(./Record/SchedulerMonitorEvent/SystemHealth/ProcessUtilization)[1]', 'int') AS SQLProcessUtilization,\r\n",
                "        [TIMESTAMP] FROM (SELECT [TIMESTAMP], CONVERT(xml, record) AS record \r\n",
                "            FROM sys.dm_os_ring_buffers (NOLOCK)\r\n",
                "            WHERE ring_buffer_type = N'RING_BUFFER_SCHEDULER_MONITOR'\r\n",
                "            AND record LIKE '%<SystemHealth>%') AS x\r\n",
                "    )\r\n",
                "INSERT INTO @tblAggCPU\r\n",
                "    SELECT AVG(SQLProcessUtilization), AVG(SystemIdle), CASE WHEN AVG(SystemIdle) + AVG(SQLProcessUtilization) < 100 THEN 100 - AVG(SystemIdle) - AVG(SQLProcessUtilization) ELSE 0 END, 10 \r\n",
                "    FROM cteCPU \r\n",
                "    WHERE DATEADD(ms, -1 * (@ts_now - [timestamp]), GETDATE()) > DATEADD(mi, -10, GETDATE())\r\n",
                "UNION ALL \r\n",
                "    SELECT AVG(SQLProcessUtilization), AVG(SystemIdle), CASE WHEN AVG(SystemIdle) + AVG(SQLProcessUtilization) < 100 THEN 100 - AVG(SystemIdle) - AVG(SQLProcessUtilization) ELSE 0 END, 20\r\n",
                "    FROM cteCPU \r\n",
                "    WHERE DATEADD(ms, -1 * (@ts_now - [timestamp]), GETDATE()) <= DATEADD(mi, -10, GETDATE()) AND \r\n",
                "        DATEADD(ms, -1 * (@ts_now - [timestamp]), GETDATE()) > DATEADD(mi, -20, GETDATE())\r\n",
                "UNION ALL \r\n",
                "    SELECT AVG(SQLProcessUtilization), AVG(SystemIdle), CASE WHEN AVG(SystemIdle) + AVG(SQLProcessUtilization) < 100 THEN 100 - AVG(SystemIdle) - AVG(SQLProcessUtilization) ELSE 0 END, 30\r\n",
                "    FROM cteCPU \r\n",
                "    WHERE DATEADD(ms, -1 * (@ts_now - [timestamp]), GETDATE()) <= DATEADD(mi, -20, GETDATE()) AND \r\n",
                "        DATEADD(ms, -1 * (@ts_now - [timestamp]), GETDATE()) > DATEADD(mi, -30, GETDATE())\r\n",
                "UNION ALL \r\n",
                "    SELECT AVG(SQLProcessUtilization), AVG(SystemIdle), CASE WHEN AVG(SystemIdle) + AVG(SQLProcessUtilization) < 100 THEN 100 - AVG(SystemIdle) - AVG(SQLProcessUtilization) ELSE 0 END, 40\r\n",
                "    FROM cteCPU \r\n",
                "    WHERE DATEADD(ms, -1 * (@ts_now - [timestamp]), GETDATE()) <= DATEADD(mi, -30, GETDATE()) AND \r\n",
                "        DATEADD(ms, -1 * (@ts_now - [timestamp]), GETDATE()) > DATEADD(mi, -40, GETDATE())\r\n",
                "UNION ALL \r\n",
                "    SELECT AVG(SQLProcessUtilization), AVG(SystemIdle), CASE WHEN AVG(SystemIdle) + AVG(SQLProcessUtilization) < 100 THEN 100 - AVG(SystemIdle) - AVG(SQLProcessUtilization) ELSE 0 END, 50\r\n",
                "    FROM cteCPU \r\n",
                "    WHERE DATEADD(ms, -1 * (@ts_now - [timestamp]), GETDATE()) <= DATEADD(mi, -40, GETDATE()) AND \r\n",
                "        DATEADD(ms, -1 * (@ts_now - [timestamp]), GETDATE()) > DATEADD(mi, -50, GETDATE())\r\n",
                "UNION ALL \r\n",
                "    SELECT AVG(SQLProcessUtilization), AVG(SystemIdle), CASE WHEN AVG(SystemIdle) + AVG(SQLProcessUtilization) < 100 THEN 100 - AVG(SystemIdle) - AVG(SQLProcessUtilization) ELSE 0 END, 60\r\n",
                "    FROM cteCPU \r\n",
                "    WHERE DATEADD(ms, -1 * (@ts_now - [timestamp]), GETDATE()) <= DATEADD(mi, -50, GETDATE()) AND \r\n",
                "        DATEADD(ms, -1 * (@ts_now - [timestamp]), GETDATE()) > DATEADD(mi, -60, GETDATE())\r\n",
                "UNION ALL \r\n",
                "    SELECT AVG(SQLProcessUtilization), AVG(SystemIdle), CASE WHEN AVG(SystemIdle) + AVG(SQLProcessUtilization) < 100 THEN 100 - AVG(SystemIdle) - AVG(SQLProcessUtilization) ELSE 0 END, 70\r\n",
                "    FROM cteCPU \r\n",
                "    WHERE DATEADD(ms, -1 * (@ts_now - [timestamp]), GETDATE()) <= DATEADD(mi, -60, GETDATE()) AND \r\n",
                "        DATEADD(ms, -1 * (@ts_now - [timestamp]), GETDATE()) > DATEADD(mi, -70, GETDATE())\r\n",
                "UNION ALL \r\n",
                "    SELECT AVG(SQLProcessUtilization), AVG(SystemIdle), CASE WHEN AVG(SystemIdle) + AVG(SQLProcessUtilization) < 100 THEN 100 - AVG(SystemIdle) - AVG(SQLProcessUtilization) ELSE 0 END, 80\r\n",
                "    FROM cteCPU \r\n",
                "    WHERE DATEADD(ms, -1 * (@ts_now - [timestamp]), GETDATE()) <= DATEADD(mi, -70, GETDATE()) AND \r\n",
                "        DATEADD(ms, -1 * (@ts_now - [timestamp]), GETDATE()) > DATEADD(mi, -80, GETDATE())\r\n",
                "UNION ALL \r\n",
                "    SELECT AVG(SQLProcessUtilization), AVG(SystemIdle), CASE WHEN AVG(SystemIdle) + AVG(SQLProcessUtilization) < 100 THEN 100 - AVG(SystemIdle) - AVG(SQLProcessUtilization) ELSE 0 END, 90\r\n",
                "    FROM cteCPU \r\n",
                "    WHERE DATEADD(ms, -1 * (@ts_now - [timestamp]), GETDATE()) <= DATEADD(mi, -80, GETDATE()) AND \r\n",
                "        DATEADD(ms, -1 * (@ts_now - [timestamp]), GETDATE()) > DATEADD(mi, -90, GETDATE())\r\n",
                "UNION ALL \r\n",
                "    SELECT AVG(SQLProcessUtilization), AVG(SystemIdle), CASE WHEN AVG(SystemIdle) + AVG(SQLProcessUtilization) < 100 THEN 100 - AVG(SystemIdle) - AVG(SQLProcessUtilization) ELSE 0 END, 100\r\n",
                "    FROM cteCPU \r\n",
                "    WHERE DATEADD(ms, -1 * (@ts_now - [timestamp]), GETDATE()) <= DATEADD(mi, -90, GETDATE()) AND \r\n",
                "        DATEADD(ms, -1 * (@ts_now - [timestamp]), GETDATE()) > DATEADD(mi, -100, GETDATE())\r\n",
                "UNION ALL \r\n",
                "    SELECT AVG(SQLProcessUtilization), AVG(SystemIdle), CASE WHEN AVG(SystemIdle) + AVG(SQLProcessUtilization) < 100 THEN 100 - AVG(SystemIdle) - AVG(SQLProcessUtilization) ELSE 0 END, 110\r\n",
                "    FROM cteCPU \r\n",
                "    WHERE DATEADD(ms, -1 * (@ts_now - [timestamp]), GETDATE()) <= DATEADD(mi, -100, GETDATE()) AND \r\n",
                "        DATEADD(ms, -1 * (@ts_now - [timestamp]), GETDATE()) > DATEADD(mi, -110, GETDATE())\r\n",
                "UNION ALL \r\n",
                "    SELECT AVG(SQLProcessUtilization), AVG(SystemIdle), CASE WHEN AVG(SystemIdle) + AVG(SQLProcessUtilization) < 100 THEN 100 - AVG(SystemIdle) - AVG(SQLProcessUtilization) ELSE 0 END, 120\r\n",
                "    FROM cteCPU \r\n",
                "    WHERE DATEADD(ms, -1 * (@ts_now - [timestamp]), GETDATE()) <= DATEADD(mi, -110, GETDATE()) AND \r\n",
                "        DATEADD(ms, -1 * (@ts_now - [timestamp]), GETDATE()) > DATEADD(mi, -120, GETDATE())\r\n",
                "\r\n",
                "IF (SELECT COUNT(SysIdle) FROM @tblAggCPU WHERE SysIdle < 30) > 0\r\n",
                "BEGIN\r\n",
                "    SELECT 'Processor_checks' AS [Category], 'Processor_Usage_last_2h' AS [Check], 'WARNING: Detected CPU usage over 70 pct' AS [Deviation];\r\n",
                "END\r\n",
                "ELSE IF (SELECT COUNT(SysIdle) FROM @tblAggCPU WHERE SysIdle < 10) > 0\r\n",
                "BEGIN\r\n",
                "    SELECT 'Processor_checks' AS [Category], 'Processor_Usage_last_2h' AS [Check], 'WARNING: Detected CPU usage over 90 pct' AS [Deviation];\r\n",
                "END\r\n",
                "ELSE\r\n",
                "BEGIN\r\n",
                "    SELECT 'Processor_checks' AS [Category], 'Processor_Usage_last_2h' AS [Check], 'OK' AS [Deviation];\r\n",
                "END;\r\n",
                "\r\n",
                "SELECT 'Processor_checks' AS [Category], 'Agg_Processor_Usage_last_2h' AS [Information], SQLProc AS [SQL_Process_Utilization], SysIdle AS [System_Idle], OtherProc AS [Other_Process_Utilization], Minutes AS [Time_Slice_Last_x_min]\r\n",
                "FROM @tblAggCPU;"
            ],
            "metadata": {
                "azdata_cell_guid": "e85d0848-6df4-464a-9d42-1bf49637c7ff"
            },
            "outputs": [
                {
                    "output_type": "display_data",
                    "data": {
                        "text/html": "Commands completed successfully."
                    },
                    "metadata": {}
                },
                {
                    "output_type": "display_data",
                    "data": {
                        "text/html": "Total execution time: 00:00:00.183"
                    },
                    "metadata": {}
                },
                {
                    "output_type": "execute_result",
                    "metadata": {},
                    "execution_count": 2,
                    "data": {
                        "application/vnd.dataresource+json": {
                            "schema": {
                                "fields": [
                                    {
                                        "name": "Category"
                                    },
                                    {
                                        "name": "Check"
                                    },
                                    {
                                        "name": "Deviation"
                                    }
                                ]
                            },
                            "data": [
                                {
                                    "0": "Processor_checks",
                                    "1": "Processor_Usage_last_2h",
                                    "2": "OK"
                                }
                            ]
                        },
                        "text/html": [
                            "<table>",
                            "<tr><th>Category</th><th>Check</th><th>Deviation</th></tr>",
                            "<tr><td>Processor_checks</td><td>Processor_Usage_last_2h</td><td>OK</td></tr>",
                            "</table>"
                        ]
                    }
                },
                {
                    "output_type": "execute_result",
                    "metadata": {},
                    "execution_count": 2,
                    "data": {
                        "application/vnd.dataresource+json": {
                            "schema": {
                                "fields": [
                                    {
                                        "name": "Category"
                                    },
                                    {
                                        "name": "Information"
                                    },
                                    {
                                        "name": "SQL_Process_Utilization"
                                    },
                                    {
                                        "name": "System_Idle"
                                    },
                                    {
                                        "name": "Other_Process_Utilization"
                                    },
                                    {
                                        "name": "Time_Slice_Last_x_min"
                                    }
                                ]
                            },
                            "data": [
                                {
                                    "0": "Processor_checks",
                                    "1": "Agg_Processor_Usage_last_2h",
                                    "2": "0",
                                    "3": "86",
                                    "4": "14",
                                    "5": "10"
                                },
                                {
                                    "0": "Processor_checks",
                                    "1": "Agg_Processor_Usage_last_2h",
                                    "2": "0",
                                    "3": "86",
                                    "4": "14",
                                    "5": "20"
                                },
                                {
                                    "0": "Processor_checks",
                                    "1": "Agg_Processor_Usage_last_2h",
                                    "2": "0",
                                    "3": "87",
                                    "4": "13",
                                    "5": "30"
                                },
                                {
                                    "0": "Processor_checks",
                                    "1": "Agg_Processor_Usage_last_2h",
                                    "2": "0",
                                    "3": "92",
                                    "4": "8",
                                    "5": "40"
                                },
                                {
                                    "0": "Processor_checks",
                                    "1": "Agg_Processor_Usage_last_2h",
                                    "2": "0",
                                    "3": "86",
                                    "4": "14",
                                    "5": "50"
                                },
                                {
                                    "0": "Processor_checks",
                                    "1": "Agg_Processor_Usage_last_2h",
                                    "2": "0",
                                    "3": "85",
                                    "4": "15",
                                    "5": "60"
                                },
                                {
                                    "0": "Processor_checks",
                                    "1": "Agg_Processor_Usage_last_2h",
                                    "2": "0",
                                    "3": "88",
                                    "4": "12",
                                    "5": "70"
                                },
                                {
                                    "0": "Processor_checks",
                                    "1": "Agg_Processor_Usage_last_2h",
                                    "2": "0",
                                    "3": "89",
                                    "4": "11",
                                    "5": "80"
                                },
                                {
                                    "0": "Processor_checks",
                                    "1": "Agg_Processor_Usage_last_2h",
                                    "2": "0",
                                    "3": "87",
                                    "4": "13",
                                    "5": "90"
                                },
                                {
                                    "0": "Processor_checks",
                                    "1": "Agg_Processor_Usage_last_2h",
                                    "2": "0",
                                    "3": "88",
                                    "4": "12",
                                    "5": "100"
                                },
                                {
                                    "0": "Processor_checks",
                                    "1": "Agg_Processor_Usage_last_2h",
                                    "2": "0",
                                    "3": "89",
                                    "4": "11",
                                    "5": "110"
                                },
                                {
                                    "0": "Processor_checks",
                                    "1": "Agg_Processor_Usage_last_2h",
                                    "2": "0",
                                    "3": "86",
                                    "4": "14",
                                    "5": "120"
                                }
                            ]
                        },
                        "text/html": [
                            "<table>",
                            "<tr><th>Category</th><th>Information</th><th>SQL_Process_Utilization</th><th>System_Idle</th><th>Other_Process_Utilization</th><th>Time_Slice_Last_x_min</th></tr>",
                            "<tr><td>Processor_checks</td><td>Agg_Processor_Usage_last_2h</td><td>0</td><td>86</td><td>14</td><td>10</td></tr>",
                            "<tr><td>Processor_checks</td><td>Agg_Processor_Usage_last_2h</td><td>0</td><td>86</td><td>14</td><td>20</td></tr>",
                            "<tr><td>Processor_checks</td><td>Agg_Processor_Usage_last_2h</td><td>0</td><td>87</td><td>13</td><td>30</td></tr>",
                            "<tr><td>Processor_checks</td><td>Agg_Processor_Usage_last_2h</td><td>0</td><td>92</td><td>8</td><td>40</td></tr>",
                            "<tr><td>Processor_checks</td><td>Agg_Processor_Usage_last_2h</td><td>0</td><td>86</td><td>14</td><td>50</td></tr>",
                            "<tr><td>Processor_checks</td><td>Agg_Processor_Usage_last_2h</td><td>0</td><td>85</td><td>15</td><td>60</td></tr>",
                            "<tr><td>Processor_checks</td><td>Agg_Processor_Usage_last_2h</td><td>0</td><td>88</td><td>12</td><td>70</td></tr>",
                            "<tr><td>Processor_checks</td><td>Agg_Processor_Usage_last_2h</td><td>0</td><td>89</td><td>11</td><td>80</td></tr>",
                            "<tr><td>Processor_checks</td><td>Agg_Processor_Usage_last_2h</td><td>0</td><td>87</td><td>13</td><td>90</td></tr>",
                            "<tr><td>Processor_checks</td><td>Agg_Processor_Usage_last_2h</td><td>0</td><td>88</td><td>12</td><td>100</td></tr>",
                            "<tr><td>Processor_checks</td><td>Agg_Processor_Usage_last_2h</td><td>0</td><td>89</td><td>11</td><td>110</td></tr>",
                            "<tr><td>Processor_checks</td><td>Agg_Processor_Usage_last_2h</td><td>0</td><td>86</td><td>14</td><td>120</td></tr>",
                            "</table>"
                        ]
                    }
                }
            ],
            "execution_count": 2
        }
    ]
}