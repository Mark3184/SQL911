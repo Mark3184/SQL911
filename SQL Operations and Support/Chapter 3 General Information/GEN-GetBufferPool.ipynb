{
    "metadata": {
        "kernelspec": {
            "name": "SQL",
            "display_name": "SQL",
            "language": "sql"
        },
        "language_info": {
            "name": "sql",
            "version": ""
        },
        "extensions": {
            "azuredatastudio": {
                "version": 1,
                "views": []
            }
        }
    },
    "nbformat_minor": 2,
    "nbformat": 4,
    "cells": [
        {
            "cell_type": "markdown",
            "source": [
                "Get Buffer Pool Extension Stuff\n",
                "\n",
                "  \n",
                "\n",
                "I think I can add more relavent stuff to this."
            ],
            "metadata": {
                "azdata_cell_guid": "ff645c44-4952-4cd2-8f07-0e8de77c73da"
            },
            "attachments": {}
        },
        {
            "cell_type": "code",
            "source": [
                "SET NOCOUNT ON;\r\n",
                "SET ANSI_WARNINGS ON;\r\n",
                "SET QUOTED_IDENTIFIER ON;\r\n",
                "\r\n",
                "DECLARE @sqlmajorver int\r\n",
                "\r\n",
                "SELECT @sqlmajorver = CONVERT(int, (@@microsoftversion / 0x1000000) & 0xff);\r\n",
                "\r\n",
                "IF @sqlmajorver > 11\r\n",
                "BEGIN\r\n",
                "\tSELECT 'Information' AS [Category], 'BP_Extension' AS [Information], \r\n",
                "\t\tCASE WHEN state = 0 THEN 'BP_Extension_Disabled' \r\n",
                "\t\t\tWHEN state = 1 THEN 'BP_Extension_is_Disabling'\r\n",
                "\t\t\tWHEN state = 3 THEN 'BP_Extension_is_Enabling'\r\n",
                "\t\t\tWHEN state = 5 THEN 'BP_Extension_Enabled'\r\n",
                "\t\tEND AS state, \r\n",
                "\t\t[path], current_size_in_kb\r\n",
                "\tFROM sys.dm_os_buffer_pool_extension_configuration\r\n",
                "END\r\n",
                "ELSE\r\n",
                "BEGIN\r\n",
                "\tSELECT 'Information' AS [Category], 'BP_Extension' AS [Information], 'NA' AS state\r\n",
                "END;"
            ],
            "metadata": {
                "azdata_cell_guid": "f21506f7-560e-43ff-a5a5-60c50234c931"
            },
            "outputs": [],
            "execution_count": null
        }
    ]
}