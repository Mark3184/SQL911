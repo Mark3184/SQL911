{
    "metadata": {
        "kernelspec": {
            "name": "SQL",
            "display_name": "SQL",
            "language": "sql"
        },
        "language_info": {
            "name": "sql",
            "version": ""
        },
        "extensions": {
            "azuredatastudio": {
                "version": 1,
                "views": []
            }
        }
    },
    "nbformat_minor": 2,
    "nbformat": 4,
    "cells": [
        {
            "cell_type": "markdown",
            "source": [
                "![CH3-ADS.png](.\\Media\\CH3-ADS.png)\n",
                "\n",
                "# <span style=\"color:rgb(204, 85, 0);\">Get CPU and Socket Information</span>\n",
                "\n",
                "<span style=\"font-size:14px;\">This notebook displays information about the CPU's, Sockets, and NUMA nodes on this SQL Server.</span>\n",
                "\n",
                "### <span style=\"color:rgb(0, 204, 153);\">Run the Code block below</span>\n",
                "\n",
                "1. Click the run icon below\n",
                "2. If ADS prompts you for a connection, enter the correct SQL Server and authentication account\n",
                "3. View the results of the query by scrolling down to the results set"
            ],
            "metadata": {
                "azdata_cell_guid": "7abe18cd-7f86-457a-923f-dad49f1ac3f1"
            },
            "attachments": {}
        },
        {
            "cell_type": "code",
            "source": [
                "SET NOCOUNT ON;\r\n",
                "SET ANSI_WARNINGS ON;\r\n",
                "SET QUOTED_IDENTIFIER ON;\r\n",
                "\r\n",
                "DECLARE @cpucount int, @numa int, @affined_cpus int, @affinitymask NVARCHAR(64), @affinity64mask NVARCHAR(1024)--, @cpuover32 int\r\n",
                "DECLARE @i int, @cpuaffin VARCHAR(300), @cpuaffin_fixed VARCHAR(300), @ostype VARCHAR(10), @SystemManufacturer VARCHAR(128)\r\n",
                "DECLARE @sqlcmd NVARCHAR(max), @params NVARCHAR(600)\r\n",
                "DECLARE @sqlmajorver int, @sqlminorver int, @sqlbuild int\r\n",
                "DECLARE @ErrorMessage NVARCHAR(4000)\r\n",
                "DECLARE @machineinfo TABLE ([Value] NVARCHAR(256), [Data] NVARCHAR(256))\r\n",
                "\r\n",
                "SELECT @sqlmajorver = CONVERT(int, (@@microsoftversion / 0x1000000) & 0xff);\r\n",
                "SELECT @sqlminorver = CONVERT(int, (@@microsoftversion / 0x10000) & 0xff);\r\n",
                "SELECT @sqlbuild = CONVERT(int, @@microsoftversion & 0xffff);\r\n",
                "\r\n",
                "SELECT @numa = COUNT(DISTINCT parent_node_id) FROM sys.dm_os_schedulers WHERE scheduler_id < 255 AND parent_node_id < 64;\r\n",
                "SELECT @cpucount = COUNT(cpu_id) FROM sys.dm_os_schedulers WHERE scheduler_id < 255 AND parent_node_id < 64;\r\n",
                "\r\n",
                "IF (@sqlmajorver >= 11 AND @sqlmajorver < 14) OR (@sqlmajorver = 10 AND @sqlminorver = 50 AND @sqlbuild >= 2500)\r\n",
                "BEGIN\r\n",
                "\tSET @ostype = 'Windows'\r\n",
                "END\r\n",
                "ELSE IF @sqlmajorver >= 14\r\n",
                "BEGIN\r\n",
                "\tSET @sqlcmd = N'SELECT @ostypeOUT = host_platform FROM sys.dm_os_host_info (NOLOCK)';\r\n",
                "\tSET @params = N'@ostypeOUT VARCHAR(10) OUTPUT';\r\n",
                "\tEXECUTE sp_executesql @sqlcmd, @params, @ostypeOUT=@ostype OUTPUT;\r\n",
                "END\r\n",
                "\r\n",
                "IF @ostype = 'Windows'\r\n",
                "BEGIN\r\n",
                "\tINSERT INTO @machineinfo\r\n",
                "\tEXEC xp_instance_regread 'HKEY_LOCAL_MACHINE','HARDWARE\\DESCRIPTION\\System\\BIOS','SystemManufacturer';\r\n",
                "\tINSERT INTO @machineinfo\r\n",
                "\tEXEC xp_instance_regread 'HKEY_LOCAL_MACHINE','HARDWARE\\DESCRIPTION\\System\\BIOS','BIOSVendor';\r\n",
                "\tINSERT INTO @machineinfo\r\n",
                "\tEXEC xp_instance_regread 'HKEY_LOCAL_MACHINE','HARDWARE\\DESCRIPTION\\System\\CentralProcessor\\0','ProcessorNameString';\r\n",
                "END;\r\n",
                "\r\n",
                "SELECT @SystemManufacturer = [Data] FROM @machineinfo WHERE [Value] = 'SystemManufacturer';\r\n",
                "\r\n",
                ";WITH bits AS \r\n",
                "(SELECT 7 AS N, 128 AS E UNION ALL SELECT 6, 64 UNION ALL \r\n",
                "SELECT 5, 32 UNION ALL SELECT 4, 16 UNION ALL SELECT 3, 8 UNION ALL \r\n",
                "SELECT 2, 4 UNION ALL SELECT 1, 2 UNION ALL SELECT 0, 1), \r\n",
                "bytes AS \r\n",
                "(SELECT 1 M UNION ALL SELECT 2 UNION ALL SELECT 3 UNION ALL \r\n",
                "SELECT 4 UNION ALL SELECT 5 UNION ALL SELECT 6 UNION ALL \r\n",
                "SELECT 7 UNION ALL SELECT 8 UNION ALL SELECT 9)\r\n",
                "-- CPU Affinity is shown highest to lowest CPU ID\r\n",
                "SELECT @affinitymask = CASE WHEN [value] = 0 THEN REPLICATE('1', @cpucount)\r\n",
                "\tELSE RIGHT((SELECT ((CONVERT(tinyint, SUBSTRING(CONVERT(binary(9), [value]), M, 1)) & E) / E) AS [text()] \r\n",
                "\t\tFROM bits CROSS JOIN bytes\r\n",
                "\t\tORDER BY M, N DESC\r\n",
                "\t\tFOR XML PATH('')), @cpucount) END\r\n",
                "FROM sys.configurations (NOLOCK)\r\n",
                "WHERE name = 'affinity mask';\r\n",
                "\r\n",
                "IF @cpucount > 32\r\n",
                "BEGIN\r\n",
                "\t;WITH bits AS \r\n",
                "\t(SELECT 7 AS N, 128 AS E UNION ALL SELECT 6, 64 UNION ALL \r\n",
                "\tSELECT 5, 32 UNION ALL SELECT 4, 16 UNION ALL SELECT 3, 8 UNION ALL \r\n",
                "\tSELECT 2, 4 UNION ALL SELECT 1, 2 UNION ALL SELECT 0, 1), \r\n",
                "\tbytes AS \r\n",
                "\t(SELECT 1 M UNION ALL SELECT 2 UNION ALL SELECT 3 UNION ALL \r\n",
                "\tSELECT 4 UNION ALL SELECT 5 UNION ALL SELECT 6 UNION ALL \r\n",
                "\tSELECT 7 UNION ALL SELECT 8 UNION ALL SELECT 9)\r\n",
                "\t-- CPU Affinity is shown highest to lowest CPU ID\r\n",
                "\tSELECT @affinity64mask = CASE WHEN [value] = 0 THEN REPLICATE('1', @cpucount)\r\n",
                "\t\tELSE RIGHT((SELECT ((CONVERT(tinyint, SUBSTRING(CONVERT(binary(9), [value]), M, 1)) & E) / E) AS [text()] \r\n",
                "\t\t\tFROM bits CROSS JOIN bytes\r\n",
                "\t\t\tORDER BY M, N DESC\r\n",
                "\t\t\tFOR XML PATH('')), @cpucount) END\r\n",
                "\tFROM sys.configurations (NOLOCK)\r\n",
                "\tWHERE name = 'affinity64 mask';\r\n",
                "END;\r\n",
                "\r\n",
                "/*\r\n",
                "IF @cpucount > 32\r\n",
                "SELECT @cpuover32 = ABS(LEN(@affinity64mask) - (@cpucount-32))\r\n",
                "\r\n",
                "SELECT @cpuaffin = CASE WHEN @cpucount > 32 THEN REVERSE(LEFT(REVERSE(@affinity64mask),@cpuover32)) + RIGHT(@affinitymask,32) ELSE RIGHT(@affinitymask,@cpucount) END\r\n",
                "*/\r\n",
                "\r\n",
                "SELECT @cpuaffin = CASE WHEN @cpucount > 32 THEN @affinity64mask ELSE @affinitymask END\r\n",
                "SELECT @affined_cpus = COUNT(cpu_id) FROM sys.dm_os_schedulers WHERE is_online = 1 AND scheduler_id < 255 AND parent_node_id < 64;\r\n",
                "\r\n",
                "SET @cpuaffin_fixed = @cpuaffin\r\n",
                "SET @i = CEILING(@cpucount*1.00/@numa) + 1\r\n",
                "WHILE @i < @cpucount + @numa\r\n",
                "BEGIN\r\n",
                "\tIF (@cpucount + @numa) - @i >= CEILING(@cpucount*1.00/@numa)\r\n",
                "\tBEGIN\r\n",
                "\t\tSELECT @cpuaffin_fixed = STUFF(@cpuaffin_fixed, @i, 1, '_' + SUBSTRING(@cpuaffin_fixed, @i, 1))\r\n",
                "\tEND\r\n",
                "\tELSE\r\n",
                "\tBEGIN\r\n",
                "\t\tSELECT @cpuaffin_fixed = STUFF(@cpuaffin_fixed, @i, CEILING(@cpucount*1.00/@numa), SUBSTRING(@cpuaffin_fixed, @i, CEILING(@cpucount*1.00/@numa)))\r\n",
                "\tEND\r\n",
                "\r\n",
                "\tSET @i = @i + CEILING(@cpucount*1.00/@numa) + 1\r\n",
                "END;\r\n",
                "\r\n",
                "SELECT 'Processor_checks' AS [Category], 'Processor_Summary' AS [Information], cpu_count AS [Logical_CPU_Count], hyperthread_ratio AS [Cores2Socket_Ratio],\r\n",
                "\tcpu_count/hyperthread_ratio AS [CPU_Sockets], \r\n",
                "\tCASE WHEN @numa > 1 THEN (SELECT COUNT(DISTINCT parent_node_id) FROM sys.dm_os_schedulers WHERE scheduler_id < 255 AND parent_node_id < 64) ELSE 0 END AS [NUMA_Nodes],\r\n",
                "\t@affined_cpus AS [Affined_Processors], \r\n",
                "\t-- Processor Affinity is shown highest to lowest Processor ID\r\n",
                "\t@cpuaffin_fixed AS Affinity_Mask_Bitmask\r\n",
                "FROM sys.dm_os_sys_info (NOLOCK)\r\n",
                "OPTION (RECOMPILE);"
            ],
            "metadata": {
                "azdata_cell_guid": "ca599c6a-bf78-43c4-b765-6e989fce9be3"
            },
            "outputs": [
                {
                    "output_type": "display_data",
                    "data": {
                        "text/html": "Commands completed successfully."
                    },
                    "metadata": {}
                },
                {
                    "output_type": "display_data",
                    "data": {
                        "text/html": "Total execution time: 00:00:00.045"
                    },
                    "metadata": {}
                },
                {
                    "output_type": "execute_result",
                    "metadata": {},
                    "execution_count": 1,
                    "data": {
                        "application/vnd.dataresource+json": {
                            "schema": {
                                "fields": [
                                    {
                                        "name": "Category"
                                    },
                                    {
                                        "name": "Information"
                                    },
                                    {
                                        "name": "Logical_CPU_Count"
                                    },
                                    {
                                        "name": "Cores2Socket_Ratio"
                                    },
                                    {
                                        "name": "CPU_Sockets"
                                    },
                                    {
                                        "name": "NUMA_Nodes"
                                    },
                                    {
                                        "name": "Affined_Processors"
                                    },
                                    {
                                        "name": "Affinity_Mask_Bitmask"
                                    }
                                ]
                            },
                            "data": [
                                {
                                    "0": "Processor_checks",
                                    "1": "Processor_Summary",
                                    "2": "8",
                                    "3": "8",
                                    "4": "1",
                                    "5": "0",
                                    "6": "8",
                                    "7": "11111111"
                                }
                            ]
                        },
                        "text/html": [
                            "<table>",
                            "<tr><th>Category</th><th>Information</th><th>Logical_CPU_Count</th><th>Cores2Socket_Ratio</th><th>CPU_Sockets</th><th>NUMA_Nodes</th><th>Affined_Processors</th><th>Affinity_Mask_Bitmask</th></tr>",
                            "<tr><td>Processor_checks</td><td>Processor_Summary</td><td>8</td><td>8</td><td>1</td><td>0</td><td>8</td><td>11111111</td></tr>",
                            "</table>"
                        ]
                    }
                }
            ],
            "execution_count": 1
        }
    ]
}