{
    "metadata": {
        "kernelspec": {
            "name": "SQL",
            "display_name": "SQL",
            "language": "sql"
        },
        "language_info": {
            "name": "sql",
            "version": ""
        },
        "extensions": {
            "azuredatastudio": {
                "version": 1,
                "views": []
            }
        }
    },
    "nbformat_minor": 2,
    "nbformat": 4,
    "cells": [
        {
            "cell_type": "markdown",
            "source": [
                "![CH3-ADS.png](.\\Media\\CH3-ADS.png)\n",
                "\n",
                "# <span style=\"color:rgb(204, 85, 0);\">Get SQL Logon Triggers</span>\n",
                "\n",
                "## <span style=\"font-size:14px;\">The primary purpose of this notebook is to return a list of Logon Triggers if any have been configured.</span>\n",
                "\n",
                "### <span style=\"color:rgb(0, 204, 153);\">Run the Code block below</span>\n",
                "\n",
                "1. Click the run icon below\n",
                "2. If ADS prompts you for a connection, enter the correct SQL Server and authentication account\n",
                "3. View the results of the query by scrolling down to the results set"
            ],
            "metadata": {
                "azdata_cell_guid": "5cdb9565-8020-4c4f-9c6d-33c4f34cdde0"
            },
            "attachments": {}
        },
        {
            "cell_type": "code",
            "source": [
                "\r\n",
                "SET NOCOUNT ON;\r\n",
                "SET ANSI_WARNINGS ON;\r\n",
                "SET QUOTED_IDENTIFIER ON;\r\n",
                "\r\n",
                "IF (SELECT COUNT([name]) FROM sys.server_triggers WHERE is_disabled = 0 AND is_ms_shipped = 0) > 0\r\n",
                "BEGIN\r\n",
                "\tSELECT 'Information' AS [Category], 'Logon_Triggers' AS [Information], name AS [Trigger_Name], type_desc AS [Trigger_Type],create_date, modify_date\r\n",
                "\tFROM sys.server_triggers WHERE is_disabled = 0 AND is_ms_shipped = 0\r\n",
                "\tORDER BY name;\r\n",
                "END\r\n",
                "ELSE\r\n",
                "BEGIN\r\n",
                "\tSELECT 'Information' AS [Category], 'Logon_Triggers' AS [Information], 'NA' AS [Comment]\r\n",
                "END;"
            ],
            "metadata": {
                "azdata_cell_guid": "0a6d6546-de81-4f13-9d72-b22223a64c47"
            },
            "outputs": [],
            "execution_count": null
        }
    ]
}